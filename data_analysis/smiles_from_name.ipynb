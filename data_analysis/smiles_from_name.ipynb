{
 "cells": [
  {
   "cell_type": "code",
   "execution_count": 1,
   "id": "93ea7169",
   "metadata": {},
   "outputs": [],
   "source": [
    "import pandas as pd\n",
    "import pubchempy as pcp\n",
    "from tqdm import tqdm\n",
    "# Function to retrieve the canonical SMILES of a compound given its name\n",
    "def get_canonical_smiles(compound_name):\n",
    "    try:\n",
    "        # Query PubChem database for compounds with the provided name\n",
    "        results = pcp.get_compounds(compound_name, 'name')\n",
    "        if results:\n",
    "            compound = results[0]  # Take the first result (if available)\n",
    "            print(compound)\n",
    "            return compound.canonical_smiles  # Return the canonical SMILES of the compound\n",
    "        else:\n",
    "            return 'Null'  # If no results found, return 'Null'\n",
    "    except Exception as e:\n",
    "        print('Error:', e)  # Print error if any exception occurs\n",
    "        return 'Null'  # Return 'Null' in case of error"
   ]
  },
  {
   "cell_type": "code",
   "execution_count": 3,
   "id": "e0fb3f74",
   "metadata": {},
   "outputs": [],
   "source": [
    "plant_content = pd.read_excel('../data/plant_raw.xlsx', sheet_name='Sheet1')"
   ]
  },
  {
   "cell_type": "code",
   "execution_count": 4,
   "id": "8bc05d1b",
   "metadata": {},
   "outputs": [],
   "source": [
    "# Extract the 'name' column, which contains the compound names\n",
    "compound_names = plant_content['Volatile_compounds']"
   ]
  },
  {
   "cell_type": "code",
   "execution_count": 5,
   "id": "583e0f20",
   "metadata": {},
   "outputs": [
    {
     "data": {
      "text/plain": [
       "0                       6,10,14-Trimethylpentadecan-2-one\n",
       "1                                       Diacetone alcohol\n",
       "2                                              1-Pentanol\n",
       "3                                             Tetracosane\n",
       "4                                               Tricosane\n",
       "                              ...                        \n",
       "4594               6,6-Dimethylbicyclo[3.1.1]heptan-2-one\n",
       "4595    4a, trans-4b,cis-8a, trans-10a-Perhydro-cis-2,...\n",
       "4596            3,5,5-Trimethylbicyclo[2.2.1]heptan-2-one\n",
       "4597                                         Pinocamphone\n",
       "4598                                     cis-Pinonic acid\n",
       "Name: Volatile_compounds, Length: 4599, dtype: object"
      ]
     },
     "execution_count": 5,
     "metadata": {},
     "output_type": "execute_result"
    }
   ],
   "source": [
    "compound_names"
   ]
  },
  {
   "cell_type": "code",
   "execution_count": 6,
   "id": "8d4ba262",
   "metadata": {},
   "outputs": [],
   "source": [
    "plant = []"
   ]
  },
  {
   "cell_type": "code",
   "execution_count": 8,
   "id": "8b06df15",
   "metadata": {
    "scrolled": true
   },
   "outputs": [
    {
     "name": "stderr",
     "output_type": "stream",
     "text": [
      "Processing compounds:   0%|                                                         | 1/4599 [00:02<3:01:27,  2.37s/it]"
     ]
    },
    {
     "name": "stdout",
     "output_type": "stream",
     "text": [
      "Compound(10408)\n"
     ]
    },
    {
     "name": "stderr",
     "output_type": "stream",
     "text": [
      "\r",
      "Processing compounds:   0%|                                                         | 2/4599 [00:04<2:42:31,  2.12s/it]"
     ]
    },
    {
     "name": "stdout",
     "output_type": "stream",
     "text": [
      "Compound(31256)\n"
     ]
    },
    {
     "name": "stderr",
     "output_type": "stream",
     "text": [
      "\r",
      "Processing compounds:   0%|                                                         | 3/4599 [00:05<2:25:50,  1.90s/it]"
     ]
    },
    {
     "name": "stdout",
     "output_type": "stream",
     "text": [
      "Compound(6276)\n"
     ]
    },
    {
     "name": "stderr",
     "output_type": "stream",
     "text": [
      "\r",
      "Processing compounds:   0%|                                                         | 4/4599 [00:07<2:16:37,  1.78s/it]"
     ]
    },
    {
     "name": "stdout",
     "output_type": "stream",
     "text": [
      "Compound(12592)\n"
     ]
    },
    {
     "name": "stderr",
     "output_type": "stream",
     "text": [
      "\r",
      "Processing compounds:   0%|                                                         | 5/4599 [00:08<2:02:57,  1.61s/it]"
     ]
    },
    {
     "name": "stdout",
     "output_type": "stream",
     "text": [
      "Compound(12534)\n"
     ]
    },
    {
     "name": "stderr",
     "output_type": "stream",
     "text": [
      "\r",
      "Processing compounds:   0%|                                                         | 6/4599 [00:10<2:02:19,  1.60s/it]"
     ]
    },
    {
     "name": "stdout",
     "output_type": "stream",
     "text": [
      "Compound(5319706)\n"
     ]
    },
    {
     "name": "stderr",
     "output_type": "stream",
     "text": [
      "\r",
      "Processing compounds:   0%|                                                         | 7/4599 [00:11<1:51:04,  1.45s/it]"
     ]
    },
    {
     "name": "stdout",
     "output_type": "stream",
     "text": [
      "Compound(985)\n"
     ]
    },
    {
     "name": "stderr",
     "output_type": "stream",
     "text": [
      "\r",
      "Processing compounds:   0%|                                                         | 8/4599 [00:13<1:53:15,  1.48s/it]"
     ]
    },
    {
     "name": "stdout",
     "output_type": "stream",
     "text": [
      "Compound(8181)\n"
     ]
    },
    {
     "name": "stderr",
     "output_type": "stream",
     "text": [
      "\r",
      "Processing compounds:   0%|                                                         | 9/4599 [00:14<1:44:55,  1.37s/it]"
     ]
    },
    {
     "name": "stdout",
     "output_type": "stream",
     "text": [
      "Compound(11552)\n"
     ]
    },
    {
     "name": "stderr",
     "output_type": "stream",
     "text": [
      "\r",
      "Processing compounds:   0%|                                                        | 10/4599 [00:15<1:44:26,  1.37s/it]"
     ]
    },
    {
     "name": "stdout",
     "output_type": "stream",
     "text": [
      "Compound(12407)\n"
     ]
    },
    {
     "name": "stderr",
     "output_type": "stream",
     "text": [
      "\r",
      "Processing compounds:   0%|▏                                                       | 11/4599 [00:17<1:46:57,  1.40s/it]"
     ]
    },
    {
     "name": "stdout",
     "output_type": "stream",
     "text": [
      "Compound(7284)\n"
     ]
    },
    {
     "name": "stderr",
     "output_type": "stream",
     "text": [
      "\r",
      "Processing compounds:   0%|▏                                                       | 12/4599 [00:19<2:09:08,  1.69s/it]"
     ]
    },
    {
     "name": "stdout",
     "output_type": "stream",
     "text": [
      "Compound(5280435)\n"
     ]
    },
    {
     "name": "stderr",
     "output_type": "stream",
     "text": [
      "\r",
      "Processing compounds:   0%|▏                                                       | 13/4599 [00:20<1:58:53,  1.56s/it]"
     ]
    },
    {
     "name": "stdout",
     "output_type": "stream",
     "text": [
      "Compound(11636)\n"
     ]
    },
    {
     "name": "stderr",
     "output_type": "stream",
     "text": [
      "\r",
      "Processing compounds:   0%|▏                                                       | 14/4599 [00:21<1:52:47,  1.48s/it]"
     ]
    },
    {
     "name": "stdout",
     "output_type": "stream",
     "text": [
      "Compound(10446)\n"
     ]
    },
    {
     "name": "stderr",
     "output_type": "stream",
     "text": [
      "\r",
      "Processing compounds:   0%|▏                                                       | 15/4599 [00:23<1:45:46,  1.38s/it]"
     ]
    },
    {
     "name": "stdout",
     "output_type": "stream",
     "text": [
      "Compound(1616260)\n"
     ]
    },
    {
     "name": "stderr",
     "output_type": "stream",
     "text": [
      "\r",
      "Processing compounds:   0%|▏                                                       | 16/4599 [00:25<2:05:06,  1.64s/it]"
     ]
    },
    {
     "name": "stdout",
     "output_type": "stream",
     "text": [
      "Compound(5281515)\n"
     ]
    },
    {
     "name": "stderr",
     "output_type": "stream",
     "text": [
      "\r",
      "Processing compounds:   0%|▏                                                       | 17/4599 [00:26<1:55:37,  1.51s/it]"
     ]
    },
    {
     "name": "stdout",
     "output_type": "stream",
     "text": [
      "Compound(1742210)\n"
     ]
    },
    {
     "name": "stderr",
     "output_type": "stream",
     "text": [
      "\r",
      "Processing compounds:   0%|▏                                                       | 18/4599 [00:27<1:50:43,  1.45s/it]"
     ]
    },
    {
     "name": "stdout",
     "output_type": "stream",
     "text": [
      "Compound(5362889)\n"
     ]
    },
    {
     "name": "stderr",
     "output_type": "stream",
     "text": [
      "\r",
      "Processing compounds:   0%|▏                                                       | 19/4599 [00:29<1:49:07,  1.43s/it]"
     ]
    },
    {
     "name": "stdout",
     "output_type": "stream",
     "text": [
      "Compound(91746670)\n"
     ]
    },
    {
     "name": "stderr",
     "output_type": "stream",
     "text": [
      "\r",
      "Processing compounds:   0%|▏                                                       | 20/4599 [00:30<1:47:00,  1.40s/it]"
     ]
    },
    {
     "name": "stdout",
     "output_type": "stream",
     "text": [
      "Compound(5281520)\n"
     ]
    },
    {
     "name": "stderr",
     "output_type": "stream",
     "text": [
      "\r",
      "Processing compounds:   0%|▎                                                       | 21/4599 [00:32<1:54:23,  1.50s/it]"
     ]
    },
    {
     "name": "stdout",
     "output_type": "stream",
     "text": [
      "Compound(518472)\n"
     ]
    },
    {
     "name": "stderr",
     "output_type": "stream",
     "text": [
      "\r",
      "Processing compounds:   0%|▎                                                       | 22/4599 [00:33<1:44:49,  1.37s/it]"
     ]
    },
    {
     "name": "stdout",
     "output_type": "stream",
     "text": [
      "Compound(86597)\n"
     ]
    },
    {
     "name": "stderr",
     "output_type": "stream",
     "text": [
      "\r",
      "Processing compounds:   1%|▎                                                       | 23/4599 [00:34<1:42:24,  1.34s/it]"
     ]
    },
    {
     "name": "stdout",
     "output_type": "stream",
     "text": [
      "Compound(527032)\n"
     ]
    },
    {
     "name": "stderr",
     "output_type": "stream",
     "text": [
      "\r",
      "Processing compounds:   1%|▎                                                       | 24/4599 [00:37<2:04:32,  1.63s/it]"
     ]
    },
    {
     "name": "stdout",
     "output_type": "stream",
     "text": [
      "Compound(10704181)\n"
     ]
    },
    {
     "name": "stderr",
     "output_type": "stream",
     "text": [
      "\r",
      "Processing compounds:   1%|▎                                                       | 25/4599 [00:38<1:53:58,  1.50s/it]"
     ]
    },
    {
     "name": "stdout",
     "output_type": "stream",
     "text": [
      "Compound(62566)\n"
     ]
    },
    {
     "name": "stderr",
     "output_type": "stream",
     "text": [
      "\r",
      "Processing compounds:   1%|▎                                                       | 26/4599 [00:40<2:05:07,  1.64s/it]"
     ]
    },
    {
     "name": "stdout",
     "output_type": "stream",
     "text": [
      "Compound(19725)\n"
     ]
    },
    {
     "name": "stderr",
     "output_type": "stream",
     "text": [
      "\r",
      "Processing compounds:   1%|▎                                                       | 27/4599 [00:41<2:01:08,  1.59s/it]"
     ]
    },
    {
     "name": "stdout",
     "output_type": "stream",
     "text": [
      "Compound(14525)\n"
     ]
    },
    {
     "name": "stderr",
     "output_type": "stream",
     "text": [
      "\r",
      "Processing compounds:   1%|▎                                                       | 28/4599 [00:43<1:56:15,  1.53s/it]"
     ]
    },
    {
     "name": "stdout",
     "output_type": "stream",
     "text": [
      "Compound(90806)\n"
     ]
    },
    {
     "name": "stderr",
     "output_type": "stream",
     "text": [
      "\r",
      "Processing compounds:   1%|▎                                                       | 29/4599 [00:44<1:49:39,  1.44s/it]"
     ]
    },
    {
     "name": "stdout",
     "output_type": "stream",
     "text": [
      "Compound(441005)\n"
     ]
    },
    {
     "name": "stderr",
     "output_type": "stream",
     "text": [
      "\r",
      "Processing compounds:   1%|▎                                                       | 30/4599 [00:46<2:10:19,  1.71s/it]"
     ]
    },
    {
     "name": "stdout",
     "output_type": "stream",
     "text": [
      "Compound(8294)\n"
     ]
    },
    {
     "name": "stderr",
     "output_type": "stream",
     "text": [
      "\r",
      "Processing compounds:   1%|▍                                                       | 31/4599 [00:47<1:56:19,  1.53s/it]"
     ]
    },
    {
     "name": "stdout",
     "output_type": "stream",
     "text": [
      "Compound(6549)\n"
     ]
    },
    {
     "name": "stderr",
     "output_type": "stream",
     "text": [
      "\r",
      "Processing compounds:   1%|▍                                                       | 32/4599 [00:48<1:46:21,  1.40s/it]"
     ]
    },
    {
     "name": "stdout",
     "output_type": "stream",
     "text": [
      "Compound(30247)\n"
     ]
    },
    {
     "name": "stderr",
     "output_type": "stream",
     "text": [
      "\r",
      "Processing compounds:   1%|▍                                                       | 33/4599 [00:50<1:46:10,  1.40s/it]"
     ]
    },
    {
     "name": "stdout",
     "output_type": "stream",
     "text": [
      "Compound(17100)\n"
     ]
    },
    {
     "name": "stderr",
     "output_type": "stream",
     "text": [
      "\r",
      "Processing compounds:   1%|▍                                                       | 34/4599 [00:51<1:37:35,  1.28s/it]"
     ]
    },
    {
     "name": "stdout",
     "output_type": "stream",
     "text": [
      "Compound(1549026)\n"
     ]
    },
    {
     "name": "stderr",
     "output_type": "stream",
     "text": [
      "\r",
      "Processing compounds:   1%|▍                                                       | 35/4599 [00:52<1:35:50,  1.26s/it]"
     ]
    },
    {
     "name": "stdout",
     "output_type": "stream",
     "text": [
      "Compound(2758)\n"
     ]
    },
    {
     "name": "stderr",
     "output_type": "stream",
     "text": [
      "\r",
      "Processing compounds:   1%|▍                                                       | 36/4599 [00:53<1:34:52,  1.25s/it]"
     ]
    },
    {
     "name": "stdout",
     "output_type": "stream",
     "text": [
      "Compound(1549025)\n"
     ]
    },
    {
     "name": "stderr",
     "output_type": "stream",
     "text": [
      "\r",
      "Processing compounds:   1%|▍                                                       | 37/4599 [00:55<1:49:46,  1.44s/it]"
     ]
    },
    {
     "name": "stdout",
     "output_type": "stream",
     "text": [
      "Compound(64685)\n"
     ]
    },
    {
     "name": "stderr",
     "output_type": "stream",
     "text": [
      "\r",
      "Processing compounds:   1%|▍                                                       | 38/4599 [00:57<1:53:36,  1.49s/it]"
     ]
    },
    {
     "name": "stdout",
     "output_type": "stream",
     "text": [
      "Compound(160799)\n"
     ]
    },
    {
     "name": "stderr",
     "output_type": "stream",
     "text": [
      "\r",
      "Processing compounds:   1%|▍                                                       | 39/4599 [00:58<1:55:37,  1.52s/it]"
     ]
    },
    {
     "name": "stdout",
     "output_type": "stream",
     "text": [
      "Compound(643820)\n"
     ]
    },
    {
     "name": "stderr",
     "output_type": "stream",
     "text": [
      "\r",
      "Processing compounds:   1%|▍                                                       | 40/4599 [00:59<1:45:53,  1.39s/it]"
     ]
    },
    {
     "name": "stdout",
     "output_type": "stream",
     "text": [
      "Compound(11230)\n"
     ]
    },
    {
     "name": "stderr",
     "output_type": "stream",
     "text": [
      "\r",
      "Processing compounds:   1%|▍                                                       | 41/4599 [01:00<1:38:29,  1.30s/it]"
     ]
    },
    {
     "name": "stdout",
     "output_type": "stream",
     "text": [
      "Compound(31253)\n"
     ]
    },
    {
     "name": "stderr",
     "output_type": "stream",
     "text": [
      "\r",
      "Processing compounds:   1%|▌                                                       | 42/4599 [01:02<1:35:02,  1.25s/it]"
     ]
    },
    {
     "name": "stdout",
     "output_type": "stream",
     "text": [
      "Compound(22311)\n"
     ]
    },
    {
     "name": "stderr",
     "output_type": "stream",
     "text": [
      "\r",
      "Processing compounds:   1%|▌                                                       | 43/4599 [01:04<1:56:36,  1.54s/it]"
     ]
    },
    {
     "name": "stdout",
     "output_type": "stream",
     "text": [
      "Compound(2537)\n"
     ]
    },
    {
     "name": "stderr",
     "output_type": "stream",
     "text": [
      "\r",
      "Processing compounds:   1%|▌                                                       | 44/4599 [01:05<1:49:36,  1.44s/it]"
     ]
    },
    {
     "name": "stdout",
     "output_type": "stream",
     "text": [
      "Compound(5464156)\n"
     ]
    },
    {
     "name": "stderr",
     "output_type": "stream",
     "text": [
      "\r",
      "Processing compounds:   1%|▌                                                       | 45/4599 [01:07<1:59:21,  1.57s/it]"
     ]
    },
    {
     "name": "stdout",
     "output_type": "stream",
     "text": [
      "Compound(6448)\n"
     ]
    },
    {
     "name": "stderr",
     "output_type": "stream",
     "text": [
      "\r",
      "Processing compounds:   1%|▌                                                       | 46/4599 [01:08<1:55:54,  1.53s/it]"
     ]
    },
    {
     "name": "stdout",
     "output_type": "stream",
     "text": [
      "Compound(6918391)\n"
     ]
    },
    {
     "name": "stderr",
     "output_type": "stream",
     "text": [
      "\r",
      "Processing compounds:   1%|▌                                                       | 47/4599 [01:10<1:50:21,  1.45s/it]"
     ]
    },
    {
     "name": "stdout",
     "output_type": "stream",
     "text": [
      "Compound(80790)\n"
     ]
    },
    {
     "name": "stderr",
     "output_type": "stream",
     "text": [
      "\r",
      "Processing compounds:   1%|▌                                                       | 48/4599 [01:11<1:42:06,  1.35s/it]"
     ]
    },
    {
     "name": "stdout",
     "output_type": "stream",
     "text": [
      "Compound(14896)\n"
     ]
    },
    {
     "name": "stderr",
     "output_type": "stream",
     "text": [
      "\r",
      "Processing compounds:   1%|▌                                                       | 49/4599 [01:12<1:41:01,  1.33s/it]"
     ]
    },
    {
     "name": "stdout",
     "output_type": "stream",
     "text": [
      "Compound(7463)\n"
     ]
    },
    {
     "name": "stderr",
     "output_type": "stream",
     "text": [
      "\r",
      "Processing compounds:   1%|▌                                                       | 50/4599 [01:13<1:43:33,  1.37s/it]"
     ]
    },
    {
     "name": "stdout",
     "output_type": "stream",
     "text": [
      "Compound(5281553)\n"
     ]
    },
    {
     "name": "stderr",
     "output_type": "stream",
     "text": [
      "\r",
      "Processing compounds:   1%|▌                                                       | 51/4599 [01:16<2:14:36,  1.78s/it]"
     ]
    },
    {
     "name": "stdout",
     "output_type": "stream",
     "text": [
      "Compound(6654)\n"
     ]
    },
    {
     "name": "stderr",
     "output_type": "stream",
     "text": [
      "\r",
      "Processing compounds:   1%|▋                                                       | 52/4599 [01:18<2:17:21,  1.81s/it]"
     ]
    },
    {
     "name": "stdout",
     "output_type": "stream",
     "text": [
      "Compound(5317570)\n"
     ]
    },
    {
     "name": "stderr",
     "output_type": "stream",
     "text": [
      "\r",
      "Processing compounds:   1%|▋                                                       | 53/4599 [01:20<2:14:15,  1.77s/it]"
     ]
    },
    {
     "name": "stdout",
     "output_type": "stream",
     "text": [
      "Compound(12303902)\n"
     ]
    },
    {
     "name": "stderr",
     "output_type": "stream",
     "text": [
      "\r",
      "Processing compounds:   1%|▋                                                       | 54/4599 [01:21<2:06:14,  1.67s/it]"
     ]
    },
    {
     "name": "stdout",
     "output_type": "stream",
     "text": [
      "Compound(79035)\n"
     ]
    },
    {
     "name": "stderr",
     "output_type": "stream",
     "text": [
      "\r",
      "Processing compounds:   1%|▋                                                       | 55/4599 [01:22<1:59:13,  1.57s/it]"
     ]
    },
    {
     "name": "stdout",
     "output_type": "stream",
     "text": [
      "Compound(92313)\n"
     ]
    },
    {
     "name": "stderr",
     "output_type": "stream",
     "text": [
      "\r",
      "Processing compounds:   1%|▋                                                       | 56/4599 [01:24<1:59:25,  1.58s/it]"
     ]
    },
    {
     "name": "stdout",
     "output_type": "stream",
     "text": [
      "Compound(10364)\n"
     ]
    },
    {
     "name": "stderr",
     "output_type": "stream",
     "text": [
      "\r",
      "Processing compounds:   1%|▋                                                       | 57/4599 [01:25<1:51:24,  1.47s/it]"
     ]
    },
    {
     "name": "stdout",
     "output_type": "stream",
     "text": [
      "Compound(6427071)\n"
     ]
    },
    {
     "name": "stderr",
     "output_type": "stream",
     "text": [
      "\r",
      "Processing compounds:   1%|▋                                                       | 58/4599 [01:27<1:47:47,  1.42s/it]"
     ]
    },
    {
     "name": "stdout",
     "output_type": "stream",
     "text": [
      "Compound(92231)\n"
     ]
    },
    {
     "name": "stderr",
     "output_type": "stream",
     "text": [
      "\r",
      "Processing compounds:   1%|▋                                                       | 59/4599 [01:28<1:58:15,  1.56s/it]"
     ]
    },
    {
     "name": "stdout",
     "output_type": "stream",
     "text": [
      "Compound(5281517)\n"
     ]
    },
    {
     "name": "stderr",
     "output_type": "stream",
     "text": [
      "\r",
      "Processing compounds:   1%|▋                                                       | 60/4599 [01:30<1:50:40,  1.46s/it]"
     ]
    },
    {
     "name": "stdout",
     "output_type": "stream",
     "text": [
      "Compound(6432005)\n"
     ]
    },
    {
     "name": "stderr",
     "output_type": "stream",
     "text": [
      "\r",
      "Processing compounds:   1%|▋                                                       | 61/4599 [01:31<1:50:19,  1.46s/it]"
     ]
    },
    {
     "name": "stdout",
     "output_type": "stream",
     "text": [
      "Compound(8842)\n"
     ]
    },
    {
     "name": "stderr",
     "output_type": "stream",
     "text": [
      "\r",
      "Processing compounds:   1%|▊                                                       | 62/4599 [01:32<1:46:12,  1.40s/it]"
     ]
    },
    {
     "name": "stdout",
     "output_type": "stream",
     "text": [
      "Compound(7778)\n"
     ]
    },
    {
     "name": "stderr",
     "output_type": "stream",
     "text": [
      "\r",
      "Processing compounds:   1%|▊                                                       | 63/4599 [01:34<1:40:59,  1.34s/it]"
     ]
    },
    {
     "name": "stdout",
     "output_type": "stream",
     "text": [
      "Compound(91723653)\n"
     ]
    },
    {
     "name": "stderr",
     "output_type": "stream",
     "text": [
      "\r",
      "Processing compounds:   1%|▊                                                       | 64/4599 [01:35<1:35:42,  1.27s/it]"
     ]
    },
    {
     "name": "stdout",
     "output_type": "stream",
     "text": [
      "Compound(5282109)\n"
     ]
    },
    {
     "name": "stderr",
     "output_type": "stream",
     "text": [
      "\r",
      "Processing compounds:   1%|▊                                                       | 65/4599 [01:36<1:31:11,  1.21s/it]"
     ]
    },
    {
     "name": "stdout",
     "output_type": "stream",
     "text": [
      "Compound(5367785)\n"
     ]
    },
    {
     "name": "stderr",
     "output_type": "stream",
     "text": [
      "\r",
      "Processing compounds:   1%|▊                                                       | 66/4599 [01:37<1:29:11,  1.18s/it]"
     ]
    },
    {
     "name": "stdout",
     "output_type": "stream",
     "text": [
      "Compound(10910653)\n"
     ]
    },
    {
     "name": "stderr",
     "output_type": "stream",
     "text": [
      "\r",
      "Processing compounds:   1%|▊                                                       | 67/4599 [01:38<1:32:44,  1.23s/it]"
     ]
    },
    {
     "name": "stdout",
     "output_type": "stream",
     "text": [
      "Compound(11172)\n"
     ]
    },
    {
     "name": "stderr",
     "output_type": "stream",
     "text": [
      "\r",
      "Processing compounds:   1%|▊                                                       | 68/4599 [01:39<1:28:30,  1.17s/it]"
     ]
    },
    {
     "name": "stdout",
     "output_type": "stream",
     "text": [
      "Compound(637566)\n"
     ]
    },
    {
     "name": "stderr",
     "output_type": "stream",
     "text": [
      "Processing compounds:   2%|▊                                                       | 70/4599 [01:42<1:32:41,  1.23s/it]"
     ]
    },
    {
     "name": "stdout",
     "output_type": "stream",
     "text": [
      "Compound(261491)\n"
     ]
    },
    {
     "name": "stderr",
     "output_type": "stream",
     "text": [
      "\r",
      "Processing compounds:   2%|▊                                                       | 71/4599 [01:43<1:36:44,  1.28s/it]"
     ]
    },
    {
     "name": "stdout",
     "output_type": "stream",
     "text": [
      "Compound(519601)\n"
     ]
    },
    {
     "name": "stderr",
     "output_type": "stream",
     "text": [
      "\r",
      "Processing compounds:   2%|▉                                                       | 72/4599 [01:45<1:38:55,  1.31s/it]"
     ]
    },
    {
     "name": "stdout",
     "output_type": "stream",
     "text": [
      "Compound(10104370)\n"
     ]
    },
    {
     "name": "stderr",
     "output_type": "stream",
     "text": [
      "\r",
      "Processing compounds:   2%|▉                                                       | 73/4599 [01:46<1:37:03,  1.29s/it]"
     ]
    },
    {
     "name": "stdout",
     "output_type": "stream",
     "text": [
      "Compound(5281522)\n"
     ]
    },
    {
     "name": "stderr",
     "output_type": "stream",
     "text": [
      "\r",
      "Processing compounds:   2%|▉                                                       | 74/4599 [01:48<1:46:22,  1.41s/it]"
     ]
    },
    {
     "name": "stdout",
     "output_type": "stream",
     "text": [
      "Compound(6950273)\n"
     ]
    },
    {
     "name": "stderr",
     "output_type": "stream",
     "text": [
      "\r",
      "Processing compounds:   2%|▉                                                       | 75/4599 [01:49<1:54:47,  1.52s/it]"
     ]
    },
    {
     "name": "stdout",
     "output_type": "stream",
     "text": [
      "Compound(13894537)\n"
     ]
    },
    {
     "name": "stderr",
     "output_type": "stream",
     "text": [
      "\r",
      "Processing compounds:   2%|▉                                                       | 76/4599 [01:50<1:45:42,  1.40s/it]"
     ]
    },
    {
     "name": "stdout",
     "output_type": "stream",
     "text": [
      "Compound(5352653)\n"
     ]
    },
    {
     "name": "stderr",
     "output_type": "stream",
     "text": [
      "\r",
      "Processing compounds:   2%|▉                                                       | 77/4599 [01:52<1:40:50,  1.34s/it]"
     ]
    },
    {
     "name": "stdout",
     "output_type": "stream",
     "text": [
      "Compound(12492569)\n"
     ]
    },
    {
     "name": "stderr",
     "output_type": "stream",
     "text": [
      "\r",
      "Processing compounds:   2%|▉                                                       | 78/4599 [01:53<1:39:56,  1.33s/it]"
     ]
    },
    {
     "name": "stdout",
     "output_type": "stream",
     "text": [
      "Compound(26049)\n"
     ]
    },
    {
     "name": "stderr",
     "output_type": "stream",
     "text": [
      "\r",
      "Processing compounds:   2%|▉                                                       | 79/4599 [01:54<1:37:48,  1.30s/it]"
     ]
    },
    {
     "name": "stdout",
     "output_type": "stream",
     "text": [
      "Compound(10223)\n"
     ]
    },
    {
     "name": "stderr",
     "output_type": "stream",
     "text": [
      "\r",
      "Processing compounds:   2%|▉                                                       | 80/4599 [01:55<1:33:34,  1.24s/it]"
     ]
    },
    {
     "name": "stdout",
     "output_type": "stream",
     "text": [
      "Compound(21675938)\n"
     ]
    },
    {
     "name": "stderr",
     "output_type": "stream",
     "text": [
      "\r",
      "Processing compounds:   2%|▉                                                       | 81/4599 [01:56<1:30:59,  1.21s/it]"
     ]
    },
    {
     "name": "stdout",
     "output_type": "stream",
     "text": [
      "Compound(94221)\n"
     ]
    },
    {
     "name": "stderr",
     "output_type": "stream",
     "text": [
      "\r",
      "Processing compounds:   2%|▉                                                       | 82/4599 [01:58<1:31:45,  1.22s/it]"
     ]
    },
    {
     "name": "stdout",
     "output_type": "stream",
     "text": [
      "Compound(7794)\n"
     ]
    },
    {
     "name": "stderr",
     "output_type": "stream",
     "text": [
      "\r",
      "Processing compounds:   2%|█                                                       | 83/4599 [01:59<1:33:08,  1.24s/it]"
     ]
    },
    {
     "name": "stdout",
     "output_type": "stream",
     "text": [
      "Compound(18827)\n"
     ]
    },
    {
     "name": "stderr",
     "output_type": "stream",
     "text": [
      "\r",
      "Processing compounds:   2%|█                                                       | 84/4599 [02:00<1:31:04,  1.21s/it]"
     ]
    },
    {
     "name": "stdout",
     "output_type": "stream",
     "text": [
      "Compound(3084331)\n"
     ]
    },
    {
     "name": "stderr",
     "output_type": "stream",
     "text": [
      "\r",
      "Processing compounds:   2%|█                                                       | 85/4599 [02:01<1:29:31,  1.19s/it]"
     ]
    },
    {
     "name": "stdout",
     "output_type": "stream",
     "text": [
      "Compound(6432221)\n"
     ]
    },
    {
     "name": "stderr",
     "output_type": "stream",
     "text": [
      "\r",
      "Processing compounds:   2%|█                                                       | 86/4599 [02:02<1:27:46,  1.17s/it]"
     ]
    },
    {
     "name": "stdout",
     "output_type": "stream",
     "text": [
      "Compound(10398656)\n"
     ]
    },
    {
     "name": "stderr",
     "output_type": "stream",
     "text": [
      "\r",
      "Processing compounds:   2%|█                                                       | 87/4599 [02:04<1:37:51,  1.30s/it]"
     ]
    },
    {
     "name": "stdout",
     "output_type": "stream",
     "text": [
      "Compound(5320250)\n"
     ]
    },
    {
     "name": "stderr",
     "output_type": "stream",
     "text": [
      "\r",
      "Processing compounds:   2%|█                                                       | 88/4599 [02:05<1:36:36,  1.28s/it]"
     ]
    },
    {
     "name": "stdout",
     "output_type": "stream",
     "text": [
      "Compound(92138)\n"
     ]
    },
    {
     "name": "stderr",
     "output_type": "stream",
     "text": [
      "\r",
      "Processing compounds:   2%|█                                                       | 89/4599 [02:06<1:35:29,  1.27s/it]"
     ]
    },
    {
     "name": "stdout",
     "output_type": "stream",
     "text": [
      "Compound(7461)\n"
     ]
    },
    {
     "name": "stderr",
     "output_type": "stream",
     "text": [
      "\r",
      "Processing compounds:   2%|█                                                       | 90/4599 [02:08<1:39:39,  1.33s/it]"
     ]
    },
    {
     "name": "stdout",
     "output_type": "stream",
     "text": [
      "Compound(442497)\n"
     ]
    },
    {
     "name": "stderr",
     "output_type": "stream",
     "text": [
      "\r",
      "Processing compounds:   2%|█                                                       | 91/4599 [02:09<1:35:42,  1.27s/it]"
     ]
    },
    {
     "name": "stdout",
     "output_type": "stream",
     "text": [
      "Compound(18818)\n"
     ]
    },
    {
     "name": "stderr",
     "output_type": "stream",
     "text": [
      "\r",
      "Processing compounds:   2%|█                                                       | 92/4599 [02:11<1:42:00,  1.36s/it]"
     ]
    },
    {
     "name": "stdout",
     "output_type": "stream",
     "text": [
      "Compound(92998)\n"
     ]
    },
    {
     "name": "stderr",
     "output_type": "stream",
     "text": [
      "\r",
      "Processing compounds:   2%|█▏                                                      | 93/4599 [02:12<1:42:39,  1.37s/it]"
     ]
    },
    {
     "name": "stdout",
     "output_type": "stream",
     "text": [
      "Compound(442495)\n"
     ]
    },
    {
     "name": "stderr",
     "output_type": "stream",
     "text": [
      "\r",
      "Processing compounds:   2%|█▏                                                      | 94/4599 [02:13<1:41:06,  1.35s/it]"
     ]
    },
    {
     "name": "stdout",
     "output_type": "stream",
     "text": [
      "Compound(6432469)\n"
     ]
    },
    {
     "name": "stderr",
     "output_type": "stream",
     "text": [
      "\r",
      "Processing compounds:   2%|█▏                                                      | 95/4599 [02:15<1:45:36,  1.41s/it]"
     ]
    },
    {
     "name": "stdout",
     "output_type": "stream",
     "text": [
      "Compound(22310)\n"
     ]
    },
    {
     "name": "stderr",
     "output_type": "stream",
     "text": [
      "\r",
      "Processing compounds:   2%|█▏                                                      | 96/4599 [02:16<1:49:02,  1.45s/it]"
     ]
    },
    {
     "name": "stdout",
     "output_type": "stream",
     "text": [
      "Compound(67284)\n"
     ]
    },
    {
     "name": "stderr",
     "output_type": "stream",
     "text": [
      "\r",
      "Processing compounds:   2%|█▏                                                      | 97/4599 [02:18<1:55:06,  1.53s/it]"
     ]
    },
    {
     "name": "stdout",
     "output_type": "stream",
     "text": [
      "Compound(26447)\n"
     ]
    },
    {
     "name": "stderr",
     "output_type": "stream",
     "text": [
      "\r",
      "Processing compounds:   2%|█▏                                                      | 98/4599 [02:19<1:49:24,  1.46s/it]"
     ]
    },
    {
     "name": "stdout",
     "output_type": "stream",
     "text": [
      "Compound(381152)\n"
     ]
    },
    {
     "name": "stderr",
     "output_type": "stream",
     "text": [
      "\r",
      "Processing compounds:   2%|█▏                                                      | 99/4599 [02:21<1:42:07,  1.36s/it]"
     ]
    },
    {
     "name": "stdout",
     "output_type": "stream",
     "text": [
      "Compound(6987)\n"
     ]
    },
    {
     "name": "stderr",
     "output_type": "stream",
     "text": [
      "\r",
      "Processing compounds:   2%|█▏                                                     | 100/4599 [02:22<1:48:34,  1.45s/it]"
     ]
    },
    {
     "name": "stdout",
     "output_type": "stream",
     "text": [
      "Compound(11527)\n"
     ]
    },
    {
     "name": "stderr",
     "output_type": "stream",
     "text": [
      "\r",
      "Processing compounds:   2%|█▏                                                     | 101/4599 [02:23<1:42:11,  1.36s/it]"
     ]
    },
    {
     "name": "stdout",
     "output_type": "stream",
     "text": [
      "Compound(246728)\n"
     ]
    },
    {
     "name": "stderr",
     "output_type": "stream",
     "text": [
      "\r",
      "Processing compounds:   2%|█▏                                                     | 102/4599 [02:25<1:46:46,  1.42s/it]"
     ]
    },
    {
     "name": "stdout",
     "output_type": "stream",
     "text": [
      "Compound(34645)\n"
     ]
    },
    {
     "name": "stderr",
     "output_type": "stream",
     "text": [
      "Processing compounds:   2%|█▏                                                     | 104/4599 [02:28<1:59:04,  1.59s/it]"
     ]
    },
    {
     "name": "stdout",
     "output_type": "stream",
     "text": [
      "Compound(1254)\n"
     ]
    },
    {
     "name": "stderr",
     "output_type": "stream",
     "text": [
      "\r",
      "Processing compounds:   2%|█▎                                                     | 105/4599 [02:30<1:58:25,  1.58s/it]"
     ]
    },
    {
     "name": "stdout",
     "output_type": "stream",
     "text": [
      "Compound(19243)\n"
     ]
    },
    {
     "name": "stderr",
     "output_type": "stream",
     "text": [
      "\r",
      "Processing compounds:   2%|█▎                                                     | 106/4599 [02:31<1:50:44,  1.48s/it]"
     ]
    },
    {
     "name": "stdout",
     "output_type": "stream",
     "text": [
      "Compound(7439)\n"
     ]
    },
    {
     "name": "stderr",
     "output_type": "stream",
     "text": [
      "\r",
      "Processing compounds:   2%|█▎                                                     | 107/4599 [02:33<1:48:23,  1.45s/it]"
     ]
    },
    {
     "name": "stdout",
     "output_type": "stream",
     "text": [
      "Compound(10362)\n"
     ]
    },
    {
     "name": "stderr",
     "output_type": "stream",
     "text": [
      "\r",
      "Processing compounds:   2%|█▎                                                     | 108/4599 [02:34<1:40:35,  1.34s/it]"
     ]
    },
    {
     "name": "stdout",
     "output_type": "stream",
     "text": [
      "Compound(330573)\n"
     ]
    },
    {
     "name": "stderr",
     "output_type": "stream",
     "text": [
      "\r",
      "Processing compounds:   2%|█▎                                                     | 109/4599 [02:35<1:38:04,  1.31s/it]"
     ]
    },
    {
     "name": "stdout",
     "output_type": "stream",
     "text": [
      "Compound(20055523)\n"
     ]
    },
    {
     "name": "stderr",
     "output_type": "stream",
     "text": [
      "\r",
      "Processing compounds:   2%|█▎                                                     | 110/4599 [02:36<1:38:35,  1.32s/it]"
     ]
    },
    {
     "name": "stdout",
     "output_type": "stream",
     "text": [
      "Compound(91457)\n"
     ]
    },
    {
     "name": "stderr",
     "output_type": "stream",
     "text": [
      "\r",
      "Processing compounds:   2%|█▎                                                     | 111/4599 [02:38<1:37:46,  1.31s/it]"
     ]
    },
    {
     "name": "stdout",
     "output_type": "stream",
     "text": [
      "Compound(227829)\n"
     ]
    },
    {
     "name": "stderr",
     "output_type": "stream",
     "text": [
      "\r",
      "Processing compounds:   2%|█▎                                                     | 112/4599 [02:39<1:41:16,  1.35s/it]"
     ]
    },
    {
     "name": "stdout",
     "output_type": "stream",
     "text": [
      "Compound(10466745)\n"
     ]
    },
    {
     "name": "stderr",
     "output_type": "stream",
     "text": [
      "\r",
      "Processing compounds:   2%|█▎                                                     | 113/4599 [02:40<1:37:50,  1.31s/it]"
     ]
    },
    {
     "name": "stdout",
     "output_type": "stream",
     "text": [
      "Compound(12306048)\n"
     ]
    },
    {
     "name": "stderr",
     "output_type": "stream",
     "text": [
      "Processing compounds:   3%|█▍                                                     | 116/4599 [02:45<1:54:55,  1.54s/it]"
     ]
    },
    {
     "name": "stdout",
     "output_type": "stream",
     "text": [
      "Compound(442393)\n"
     ]
    },
    {
     "name": "stderr",
     "output_type": "stream",
     "text": [
      "\r",
      "Processing compounds:   3%|█▍                                                     | 117/4599 [02:46<1:48:01,  1.45s/it]"
     ]
    },
    {
     "name": "stdout",
     "output_type": "stream",
     "text": [
      "Compound(6989)\n"
     ]
    },
    {
     "name": "stderr",
     "output_type": "stream",
     "text": [
      "\r",
      "Processing compounds:   3%|█▍                                                     | 118/4599 [02:48<2:01:10,  1.62s/it]"
     ]
    },
    {
     "name": "stdout",
     "output_type": "stream",
     "text": [
      "Compound(6616)\n"
     ]
    },
    {
     "name": "stderr",
     "output_type": "stream",
     "text": [
      "\r",
      "Processing compounds:   3%|█▍                                                     | 119/4599 [02:50<2:15:47,  1.82s/it]"
     ]
    },
    {
     "name": "stdout",
     "output_type": "stream",
     "text": [
      "Compound(11142)\n"
     ]
    },
    {
     "name": "stderr",
     "output_type": "stream",
     "text": [
      "Processing compounds:   3%|█▍                                                     | 121/4599 [02:53<2:00:53,  1.62s/it]"
     ]
    },
    {
     "name": "stdout",
     "output_type": "stream",
     "text": [
      "Compound(62367)\n"
     ]
    },
    {
     "name": "stderr",
     "output_type": "stream",
     "text": [
      "\r",
      "Processing compounds:   3%|█▍                                                     | 122/4599 [02:54<1:51:40,  1.50s/it]"
     ]
    },
    {
     "name": "stdout",
     "output_type": "stream",
     "text": [
      "Compound(7462)\n"
     ]
    },
    {
     "name": "stderr",
     "output_type": "stream",
     "text": [
      "\r",
      "Processing compounds:   3%|█▍                                                     | 123/4599 [02:56<1:45:08,  1.41s/it]"
     ]
    },
    {
     "name": "stdout",
     "output_type": "stream",
     "text": [
      "Compound(9017)\n"
     ]
    },
    {
     "name": "stderr",
     "output_type": "stream",
     "text": [
      "Processing compounds:   3%|█▍                                                     | 125/4599 [02:58<1:36:07,  1.29s/it]"
     ]
    },
    {
     "name": "stdout",
     "output_type": "stream",
     "text": [
      "Compound(68252)\n"
     ]
    },
    {
     "name": "stderr",
     "output_type": "stream",
     "text": [
      "Processing compounds:   3%|█▌                                                     | 127/4599 [03:01<1:41:35,  1.36s/it]"
     ]
    },
    {
     "name": "stdout",
     "output_type": "stream",
     "text": [
      "Compound(80792)\n"
     ]
    },
    {
     "name": "stderr",
     "output_type": "stream",
     "text": [
      "\r",
      "Processing compounds:   3%|█▌                                                     | 128/4599 [03:02<1:38:17,  1.32s/it]"
     ]
    },
    {
     "name": "stdout",
     "output_type": "stream",
     "text": [
      "Compound(10248)\n"
     ]
    },
    {
     "name": "stderr",
     "output_type": "stream",
     "text": [
      "\r",
      "Processing compounds:   3%|█▌                                                     | 129/4599 [03:03<1:36:20,  1.29s/it]"
     ]
    },
    {
     "name": "stdout",
     "output_type": "stream",
     "text": [
      "Compound(5318557)\n"
     ]
    },
    {
     "name": "stderr",
     "output_type": "stream",
     "text": [
      "\r",
      "Processing compounds:   3%|█▌                                                     | 130/4599 [03:04<1:32:13,  1.24s/it]"
     ]
    },
    {
     "name": "stdout",
     "output_type": "stream",
     "text": [
      "Compound(636822)\n"
     ]
    },
    {
     "name": "stderr",
     "output_type": "stream",
     "text": [
      "\r",
      "Processing compounds:   3%|█▌                                                     | 131/4599 [03:06<1:29:24,  1.20s/it]"
     ]
    },
    {
     "name": "stdout",
     "output_type": "stream",
     "text": [
      "Compound(4276)\n"
     ]
    },
    {
     "name": "stderr",
     "output_type": "stream",
     "text": [
      "\r",
      "Processing compounds:   3%|█▌                                                     | 132/4599 [03:07<1:30:00,  1.21s/it]"
     ]
    },
    {
     "name": "stdout",
     "output_type": "stream",
     "text": [
      "Compound(93081)\n"
     ]
    },
    {
     "name": "stderr",
     "output_type": "stream",
     "text": [
      "\r",
      "Processing compounds:   3%|█▌                                                     | 133/4599 [03:08<1:40:49,  1.35s/it]"
     ]
    },
    {
     "name": "stdout",
     "output_type": "stream",
     "text": [
      "Compound(5281516)\n"
     ]
    },
    {
     "name": "stderr",
     "output_type": "stream",
     "text": [
      "\r",
      "Processing compounds:   3%|█▌                                                     | 134/4599 [03:10<1:37:02,  1.30s/it]"
     ]
    },
    {
     "name": "stdout",
     "output_type": "stream",
     "text": [
      "Compound(12315492)\n"
     ]
    },
    {
     "name": "stderr",
     "output_type": "stream",
     "text": [
      "\r",
      "Processing compounds:   3%|█▌                                                     | 135/4599 [03:11<1:41:41,  1.37s/it]"
     ]
    },
    {
     "name": "stdout",
     "output_type": "stream",
     "text": [
      "Compound(86608)\n"
     ]
    },
    {
     "name": "stderr",
     "output_type": "stream",
     "text": [
      "\r",
      "Processing compounds:   3%|█▋                                                     | 136/4599 [03:12<1:40:22,  1.35s/it]"
     ]
    },
    {
     "name": "stdout",
     "output_type": "stream",
     "text": [
      "Compound(17868)\n"
     ]
    },
    {
     "name": "stderr",
     "output_type": "stream",
     "text": [
      "\r",
      "Processing compounds:   3%|█▋                                                     | 137/4599 [03:14<1:34:05,  1.27s/it]"
     ]
    },
    {
     "name": "stdout",
     "output_type": "stream",
     "text": [
      "Compound(11463)\n"
     ]
    },
    {
     "name": "stderr",
     "output_type": "stream",
     "text": [
      "\r",
      "Processing compounds:   3%|█▋                                                     | 138/4599 [03:15<1:33:17,  1.25s/it]"
     ]
    },
    {
     "name": "stdout",
     "output_type": "stream",
     "text": [
      "Compound(6326181)\n"
     ]
    },
    {
     "name": "stderr",
     "output_type": "stream",
     "text": [
      "\r",
      "Processing compounds:   3%|█▋                                                     | 139/4599 [03:16<1:34:08,  1.27s/it]"
     ]
    },
    {
     "name": "stdout",
     "output_type": "stream",
     "text": [
      "Compound(5368798)\n"
     ]
    },
    {
     "name": "stderr",
     "output_type": "stream",
     "text": [
      "Processing compounds:   3%|█▋                                                     | 142/4599 [03:20<1:33:23,  1.26s/it]"
     ]
    },
    {
     "name": "stdout",
     "output_type": "stream",
     "text": [
      "Compound(5368821)\n"
     ]
    },
    {
     "name": "stderr",
     "output_type": "stream",
     "text": [
      "\r",
      "Processing compounds:   3%|█▋                                                     | 143/4599 [03:21<1:28:37,  1.19s/it]"
     ]
    },
    {
     "name": "stdout",
     "output_type": "stream",
     "text": [
      "Compound(519954)\n"
     ]
    },
    {
     "name": "stderr",
     "output_type": "stream",
     "text": [
      "\r",
      "Processing compounds:   3%|█▋                                                     | 144/4599 [03:22<1:29:08,  1.20s/it]"
     ]
    },
    {
     "name": "stdout",
     "output_type": "stream",
     "text": [
      "Compound(3314)\n"
     ]
    },
    {
     "name": "stderr",
     "output_type": "stream",
     "text": [
      "\r",
      "Processing compounds:   3%|█▋                                                     | 145/4599 [03:24<1:38:27,  1.33s/it]"
     ]
    },
    {
     "name": "stdout",
     "output_type": "stream",
     "text": [
      "Compound(442359)\n"
     ]
    },
    {
     "name": "stderr",
     "output_type": "stream",
     "text": [
      "\r",
      "Processing compounds:   3%|█▋                                                     | 146/4599 [03:26<2:08:40,  1.73s/it]"
     ]
    },
    {
     "name": "stdout",
     "output_type": "stream",
     "text": [
      "Compound(637520)\n"
     ]
    },
    {
     "name": "stderr",
     "output_type": "stream",
     "text": [
      "\r",
      "Processing compounds:   3%|█▊                                                     | 147/4599 [03:28<1:58:23,  1.60s/it]"
     ]
    },
    {
     "name": "stdout",
     "output_type": "stream",
     "text": [
      "Compound(931)\n"
     ]
    },
    {
     "name": "stderr",
     "output_type": "stream",
     "text": [
      "\r",
      "Processing compounds:   3%|█▊                                                     | 148/4599 [03:29<1:46:51,  1.44s/it]"
     ]
    },
    {
     "name": "stdout",
     "output_type": "stream",
     "text": [
      "Compound(5281519)\n"
     ]
    },
    {
     "name": "stderr",
     "output_type": "stream",
     "text": [
      "\r",
      "Processing compounds:   3%|█▊                                                     | 149/4599 [03:30<1:41:23,  1.37s/it]"
     ]
    },
    {
     "name": "stdout",
     "output_type": "stream",
     "text": [
      "Compound(10582)\n"
     ]
    },
    {
     "name": "stderr",
     "output_type": "stream",
     "text": [
      "\r",
      "Processing compounds:   3%|█▊                                                     | 150/4599 [03:31<1:42:46,  1.39s/it]"
     ]
    },
    {
     "name": "stdout",
     "output_type": "stream",
     "text": [
      "Compound(9231)\n"
     ]
    },
    {
     "name": "stderr",
     "output_type": "stream",
     "text": [
      "\r",
      "Processing compounds:   3%|█▊                                                     | 151/4599 [03:33<1:55:03,  1.55s/it]"
     ]
    },
    {
     "name": "stdout",
     "output_type": "stream",
     "text": [
      "Compound(6428458)\n"
     ]
    },
    {
     "name": "stderr",
     "output_type": "stream",
     "text": [
      "\r",
      "Processing compounds:   3%|█▊                                                     | 152/4599 [03:34<1:44:10,  1.41s/it]"
     ]
    },
    {
     "name": "stdout",
     "output_type": "stream",
     "text": [
      "Compound(8079)\n"
     ]
    },
    {
     "name": "stderr",
     "output_type": "stream",
     "text": [
      "\r",
      "Processing compounds:   3%|█▊                                                     | 153/4599 [03:36<1:42:06,  1.38s/it]"
     ]
    },
    {
     "name": "stdout",
     "output_type": "stream",
     "text": [
      "Compound(641756)\n"
     ]
    },
    {
     "name": "stderr",
     "output_type": "stream",
     "text": [
      "\r",
      "Processing compounds:   3%|█▊                                                     | 154/4599 [03:37<1:38:45,  1.33s/it]"
     ]
    },
    {
     "name": "stdout",
     "output_type": "stream",
     "text": [
      "Compound(245983)\n"
     ]
    },
    {
     "name": "stderr",
     "output_type": "stream",
     "text": [
      "\r",
      "Processing compounds:   3%|█▊                                                     | 155/4599 [03:38<1:43:59,  1.40s/it]"
     ]
    },
    {
     "name": "stdout",
     "output_type": "stream",
     "text": [
      "Compound(94275)\n"
     ]
    },
    {
     "name": "stderr",
     "output_type": "stream",
     "text": [
      "\r",
      "Processing compounds:   3%|█▊                                                     | 156/4599 [03:40<1:40:09,  1.35s/it]"
     ]
    },
    {
     "name": "stdout",
     "output_type": "stream",
     "text": [
      "Compound(3032853)\n"
     ]
    },
    {
     "name": "stderr",
     "output_type": "stream",
     "text": [
      "\r",
      "Processing compounds:   3%|█▉                                                     | 157/4599 [03:41<1:42:28,  1.38s/it]"
     ]
    },
    {
     "name": "stdout",
     "output_type": "stream",
     "text": [
      "Compound(6949)\n"
     ]
    },
    {
     "name": "stderr",
     "output_type": "stream",
     "text": [
      "\r",
      "Processing compounds:   3%|█▉                                                     | 158/4599 [03:42<1:36:19,  1.30s/it]"
     ]
    },
    {
     "name": "stdout",
     "output_type": "stream",
     "text": [
      "Compound(5368784)\n"
     ]
    },
    {
     "name": "stderr",
     "output_type": "stream",
     "text": [
      "\r",
      "Processing compounds:   3%|█▉                                                     | 159/4599 [03:44<1:52:40,  1.52s/it]"
     ]
    },
    {
     "name": "stdout",
     "output_type": "stream",
     "text": [
      "Compound(122371)\n"
     ]
    },
    {
     "name": "stderr",
     "output_type": "stream",
     "text": [
      "\r",
      "Processing compounds:   3%|█▉                                                     | 160/4599 [03:45<1:44:13,  1.41s/it]"
     ]
    },
    {
     "name": "stdout",
     "output_type": "stream",
     "text": [
      "Compound(638011)\n"
     ]
    },
    {
     "name": "stderr",
     "output_type": "stream",
     "text": [
      "\r",
      "Processing compounds:   4%|█▉                                                     | 161/4599 [03:47<1:41:54,  1.38s/it]"
     ]
    },
    {
     "name": "stdout",
     "output_type": "stream",
     "text": [
      "Compound(15406)\n"
     ]
    },
    {
     "name": "stderr",
     "output_type": "stream",
     "text": [
      "\r",
      "Processing compounds:   4%|█▉                                                     | 162/4599 [03:49<1:51:45,  1.51s/it]"
     ]
    },
    {
     "name": "stdout",
     "output_type": "stream",
     "text": [
      "Compound(81722)\n"
     ]
    },
    {
     "name": "stderr",
     "output_type": "stream",
     "text": [
      "\r",
      "Processing compounds:   4%|█▉                                                     | 163/4599 [03:50<1:45:55,  1.43s/it]"
     ]
    },
    {
     "name": "stdout",
     "output_type": "stream",
     "text": [
      "Compound(68381)\n"
     ]
    },
    {
     "name": "stderr",
     "output_type": "stream",
     "text": [
      "\r",
      "Processing compounds:   4%|█▉                                                     | 164/4599 [03:51<1:40:59,  1.37s/it]"
     ]
    },
    {
     "name": "stdout",
     "output_type": "stream",
     "text": [
      "Compound(5318556)\n"
     ]
    },
    {
     "name": "stderr",
     "output_type": "stream",
     "text": [
      "\r",
      "Processing compounds:   4%|█▉                                                     | 165/4599 [03:52<1:35:08,  1.29s/it]"
     ]
    },
    {
     "name": "stdout",
     "output_type": "stream",
     "text": [
      "Compound(240)\n"
     ]
    },
    {
     "name": "stderr",
     "output_type": "stream",
     "text": [
      "\r",
      "Processing compounds:   4%|█▉                                                     | 166/4599 [03:53<1:31:47,  1.24s/it]"
     ]
    },
    {
     "name": "stdout",
     "output_type": "stream",
     "text": [
      "Compound(68316)\n"
     ]
    },
    {
     "name": "stderr",
     "output_type": "stream",
     "text": [
      "\r",
      "Processing compounds:   4%|█▉                                                     | 167/4599 [03:55<1:33:42,  1.27s/it]"
     ]
    },
    {
     "name": "stdout",
     "output_type": "stream",
     "text": [
      "Compound(12210)\n"
     ]
    },
    {
     "name": "stderr",
     "output_type": "stream",
     "text": [
      "\r",
      "Processing compounds:   4%|██                                                     | 168/4599 [03:56<1:40:20,  1.36s/it]"
     ]
    },
    {
     "name": "stdout",
     "output_type": "stream",
     "text": [
      "Compound(11233)\n"
     ]
    },
    {
     "name": "stderr",
     "output_type": "stream",
     "text": [
      "\r",
      "Processing compounds:   4%|██                                                     | 169/4599 [03:57<1:37:30,  1.32s/it]"
     ]
    },
    {
     "name": "stdout",
     "output_type": "stream",
     "text": [
      "Compound(28476)\n"
     ]
    },
    {
     "name": "stderr",
     "output_type": "stream",
     "text": [
      "\r",
      "Processing compounds:   4%|██                                                     | 170/4599 [03:59<1:33:39,  1.27s/it]"
     ]
    },
    {
     "name": "stdout",
     "output_type": "stream",
     "text": [
      "Compound(35768)\n"
     ]
    },
    {
     "name": "stderr",
     "output_type": "stream",
     "text": [
      "\r",
      "Processing compounds:   4%|██                                                     | 171/4599 [04:00<1:46:17,  1.44s/it]"
     ]
    },
    {
     "name": "stdout",
     "output_type": "stream",
     "text": [
      "Compound(519384)\n"
     ]
    },
    {
     "name": "stderr",
     "output_type": "stream",
     "text": [
      "\r",
      "Processing compounds:   4%|██                                                     | 172/4599 [04:01<1:38:40,  1.34s/it]"
     ]
    },
    {
     "name": "stdout",
     "output_type": "stream",
     "text": [
      "Compound(519389)\n"
     ]
    },
    {
     "name": "stderr",
     "output_type": "stream",
     "text": [
      "\r",
      "Processing compounds:   4%|██                                                     | 173/4599 [04:03<1:33:24,  1.27s/it]"
     ]
    },
    {
     "name": "stdout",
     "output_type": "stream",
     "text": [
      "Compound(519405)\n"
     ]
    },
    {
     "name": "stderr",
     "output_type": "stream",
     "text": [
      "\r",
      "Processing compounds:   4%|██                                                     | 174/4599 [04:04<1:33:56,  1.27s/it]"
     ]
    },
    {
     "name": "stdout",
     "output_type": "stream",
     "text": [
      "Compound(5365910)\n"
     ]
    },
    {
     "name": "stderr",
     "output_type": "stream",
     "text": [
      "\r",
      "Processing compounds:   4%|██                                                     | 175/4599 [04:05<1:36:17,  1.31s/it]"
     ]
    },
    {
     "name": "stdout",
     "output_type": "stream",
     "text": [
      "Compound(27209)\n"
     ]
    },
    {
     "name": "stderr",
     "output_type": "stream",
     "text": [
      "Processing compounds:   4%|██                                                     | 177/4599 [04:08<1:34:59,  1.29s/it]"
     ]
    },
    {
     "name": "stdout",
     "output_type": "stream",
     "text": [
      "Compound(16314)\n"
     ]
    },
    {
     "name": "stderr",
     "output_type": "stream",
     "text": [
      "\r",
      "Processing compounds:   4%|██▏                                                    | 178/4599 [04:09<1:36:09,  1.30s/it]"
     ]
    },
    {
     "name": "stdout",
     "output_type": "stream",
     "text": [
      "Compound(5317844)\n"
     ]
    },
    {
     "name": "stderr",
     "output_type": "stream",
     "text": [
      "\r",
      "Processing compounds:   4%|██▏                                                    | 179/4599 [04:10<1:32:16,  1.25s/it]"
     ]
    },
    {
     "name": "stdout",
     "output_type": "stream",
     "text": [
      "Compound(94275)\n"
     ]
    },
    {
     "name": "stderr",
     "output_type": "stream",
     "text": [
      "\r",
      "Processing compounds:   4%|██▏                                                    | 180/4599 [04:12<1:37:35,  1.33s/it]"
     ]
    },
    {
     "name": "stdout",
     "output_type": "stream",
     "text": [
      "Compound(10955174)\n"
     ]
    },
    {
     "name": "stderr",
     "output_type": "stream",
     "text": [
      "\r",
      "Processing compounds:   4%|██▏                                                    | 181/4599 [04:13<1:34:22,  1.28s/it]"
     ]
    },
    {
     "name": "stdout",
     "output_type": "stream",
     "text": [
      "Compound(521710)\n"
     ]
    },
    {
     "name": "stderr",
     "output_type": "stream",
     "text": [
      "\r",
      "Processing compounds:   4%|██▏                                                    | 182/4599 [04:14<1:33:53,  1.28s/it]"
     ]
    },
    {
     "name": "stdout",
     "output_type": "stream",
     "text": [
      "Compound(101731)\n"
     ]
    },
    {
     "name": "stderr",
     "output_type": "stream",
     "text": [
      "\r",
      "Processing compounds:   4%|██▏                                                    | 183/4599 [04:16<1:37:12,  1.32s/it]"
     ]
    },
    {
     "name": "stdout",
     "output_type": "stream",
     "text": [
      "Compound(519743)\n"
     ]
    },
    {
     "name": "stderr",
     "output_type": "stream",
     "text": [
      "\r",
      "Processing compounds:   4%|██▏                                                    | 184/4599 [04:17<1:41:31,  1.38s/it]"
     ]
    },
    {
     "name": "stdout",
     "output_type": "stream",
     "text": [
      "Compound(6429301)\n"
     ]
    },
    {
     "name": "stderr",
     "output_type": "stream",
     "text": [
      "Processing compounds:   4%|██▏                                                    | 186/4599 [04:20<1:43:53,  1.41s/it]"
     ]
    },
    {
     "name": "stdout",
     "output_type": "stream",
     "text": [
      "Compound(12309449)\n"
     ]
    },
    {
     "name": "stderr",
     "output_type": "stream",
     "text": [
      "\r",
      "Processing compounds:   4%|██▏                                                    | 187/4599 [04:22<2:04:54,  1.70s/it]"
     ]
    },
    {
     "name": "stdout",
     "output_type": "stream",
     "text": [
      "Compound(10856614)\n"
     ]
    },
    {
     "name": "stderr",
     "output_type": "stream",
     "text": [
      "\r",
      "Processing compounds:   4%|██▏                                                    | 188/4599 [04:24<1:54:08,  1.55s/it]"
     ]
    },
    {
     "name": "stdout",
     "output_type": "stream",
     "text": [
      "Compound(10726905)\n"
     ]
    },
    {
     "name": "stderr",
     "output_type": "stream",
     "text": [
      "\r",
      "Processing compounds:   4%|██▎                                                    | 189/4599 [04:25<1:48:17,  1.47s/it]"
     ]
    },
    {
     "name": "stdout",
     "output_type": "stream",
     "text": [
      "Compound(15560330)\n"
     ]
    },
    {
     "name": "stderr",
     "output_type": "stream",
     "text": [
      "\r",
      "Processing compounds:   4%|██▎                                                    | 190/4599 [04:26<1:46:20,  1.45s/it]"
     ]
    },
    {
     "name": "stdout",
     "output_type": "stream",
     "text": [
      "Compound(527205)\n"
     ]
    },
    {
     "name": "stderr",
     "output_type": "stream",
     "text": [
      "\r",
      "Processing compounds:   4%|██▎                                                    | 191/4599 [04:28<1:41:57,  1.39s/it]"
     ]
    },
    {
     "name": "stdout",
     "output_type": "stream",
     "text": [
      "Compound(91748749)\n"
     ]
    },
    {
     "name": "stderr",
     "output_type": "stream",
     "text": [
      "\r",
      "Processing compounds:   4%|██▎                                                    | 192/4599 [04:29<1:42:37,  1.40s/it]"
     ]
    },
    {
     "name": "stdout",
     "output_type": "stream",
     "text": [
      "Compound(86895)\n"
     ]
    },
    {
     "name": "stderr",
     "output_type": "stream",
     "text": [
      "\r",
      "Processing compounds:   4%|██▎                                                    | 193/4599 [04:30<1:39:28,  1.35s/it]"
     ]
    },
    {
     "name": "stdout",
     "output_type": "stream",
     "text": [
      "Compound(57339298)\n"
     ]
    },
    {
     "name": "stderr",
     "output_type": "stream",
     "text": [
      "\r",
      "Processing compounds:   4%|██▎                                                    | 194/4599 [04:32<1:38:23,  1.34s/it]"
     ]
    },
    {
     "name": "stdout",
     "output_type": "stream",
     "text": [
      "Compound(12309006)\n"
     ]
    },
    {
     "name": "stderr",
     "output_type": "stream",
     "text": [
      "Processing compounds:   4%|██▎                                                    | 196/4599 [04:34<1:33:25,  1.27s/it]"
     ]
    },
    {
     "name": "stdout",
     "output_type": "stream",
     "text": [
      "Compound(638014)\n"
     ]
    },
    {
     "name": "stderr",
     "output_type": "stream",
     "text": [
      "Processing compounds:   4%|██▎                                                    | 198/4599 [04:36<1:25:50,  1.17s/it]"
     ]
    },
    {
     "name": "stdout",
     "output_type": "stream",
     "text": [
      "Compound(12300148)\n"
     ]
    },
    {
     "name": "stderr",
     "output_type": "stream",
     "text": [
      "\r",
      "Processing compounds:   4%|██▍                                                    | 199/4599 [04:38<1:36:41,  1.32s/it]"
     ]
    },
    {
     "name": "stdout",
     "output_type": "stream",
     "text": [
      "Compound(29025)\n"
     ]
    },
    {
     "name": "stderr",
     "output_type": "stream",
     "text": [
      "\r",
      "Processing compounds:   4%|██▍                                                    | 200/4599 [04:39<1:34:51,  1.29s/it]"
     ]
    },
    {
     "name": "stdout",
     "output_type": "stream",
     "text": [
      "Compound(5317319)\n"
     ]
    },
    {
     "name": "stderr",
     "output_type": "stream",
     "text": [
      "\r",
      "Processing compounds:   4%|██▍                                                    | 201/4599 [04:41<1:51:37,  1.52s/it]"
     ]
    },
    {
     "name": "stdout",
     "output_type": "stream",
     "text": [
      "Compound(1549992)\n"
     ]
    },
    {
     "name": "stderr",
     "output_type": "stream",
     "text": [
      "\r",
      "Processing compounds:   4%|██▍                                                    | 202/4599 [04:42<1:44:39,  1.43s/it]"
     ]
    },
    {
     "name": "stdout",
     "output_type": "stream",
     "text": [
      "Compound(111037)\n"
     ]
    },
    {
     "name": "stderr",
     "output_type": "stream",
     "text": [
      "\r",
      "Processing compounds:   4%|██▍                                                    | 203/4599 [04:43<1:40:18,  1.37s/it]"
     ]
    },
    {
     "name": "stdout",
     "output_type": "stream",
     "text": [
      "Compound(159055)\n"
     ]
    },
    {
     "name": "stderr",
     "output_type": "stream",
     "text": [
      "\r",
      "Processing compounds:   4%|██▍                                                    | 204/4599 [04:45<1:35:35,  1.31s/it]"
     ]
    },
    {
     "name": "stdout",
     "output_type": "stream",
     "text": [
      "Compound(5541)\n"
     ]
    },
    {
     "name": "stderr",
     "output_type": "stream",
     "text": [
      "\r",
      "Processing compounds:   4%|██▍                                                    | 205/4599 [04:46<1:38:07,  1.34s/it]"
     ]
    },
    {
     "name": "stdout",
     "output_type": "stream",
     "text": [
      "Compound(8785)\n"
     ]
    },
    {
     "name": "stderr",
     "output_type": "stream",
     "text": [
      "\r",
      "Processing compounds:   4%|██▍                                                    | 206/4599 [04:47<1:31:34,  1.25s/it]"
     ]
    },
    {
     "name": "stdout",
     "output_type": "stream",
     "text": [
      "Compound(440917)\n"
     ]
    },
    {
     "name": "stderr",
     "output_type": "stream",
     "text": [
      "\r",
      "Processing compounds:   5%|██▍                                                    | 207/4599 [04:48<1:32:15,  1.26s/it]"
     ]
    },
    {
     "name": "stdout",
     "output_type": "stream",
     "text": [
      "Compound(101604)\n"
     ]
    },
    {
     "name": "stderr",
     "output_type": "stream",
     "text": [
      "\r",
      "Processing compounds:   5%|██▍                                                    | 208/4599 [04:50<1:31:36,  1.25s/it]"
     ]
    },
    {
     "name": "stdout",
     "output_type": "stream",
     "text": [
      "Compound(5144)\n"
     ]
    },
    {
     "name": "stderr",
     "output_type": "stream",
     "text": [
      "\r",
      "Processing compounds:   5%|██▍                                                    | 209/4599 [04:51<1:33:16,  1.27s/it]"
     ]
    },
    {
     "name": "stdout",
     "output_type": "stream",
     "text": [
      "Compound(5352847)\n"
     ]
    },
    {
     "name": "stderr",
     "output_type": "stream",
     "text": [
      "\r",
      "Processing compounds:   5%|██▌                                                    | 210/4599 [04:52<1:33:24,  1.28s/it]"
     ]
    },
    {
     "name": "stdout",
     "output_type": "stream",
     "text": [
      "Compound(5280450)\n"
     ]
    },
    {
     "name": "stderr",
     "output_type": "stream",
     "text": [
      "\r",
      "Processing compounds:   5%|██▌                                                    | 211/4599 [04:54<1:34:15,  1.29s/it]"
     ]
    },
    {
     "name": "stdout",
     "output_type": "stream",
     "text": [
      "Compound(5280934)\n"
     ]
    },
    {
     "name": "stderr",
     "output_type": "stream",
     "text": [
      "\r",
      "Processing compounds:   5%|██▌                                                    | 212/4599 [04:55<1:32:21,  1.26s/it]"
     ]
    },
    {
     "name": "stdout",
     "output_type": "stream",
     "text": [
      "Compound(12409)\n"
     ]
    },
    {
     "name": "stderr",
     "output_type": "stream",
     "text": [
      "\r",
      "Processing compounds:   5%|██▌                                                    | 213/4599 [04:57<1:50:52,  1.52s/it]"
     ]
    },
    {
     "name": "stdout",
     "output_type": "stream",
     "text": [
      "Compound(5366074)\n"
     ]
    },
    {
     "name": "stderr",
     "output_type": "stream",
     "text": [
      "\r",
      "Processing compounds:   5%|██▌                                                    | 214/4599 [04:58<1:47:44,  1.47s/it]"
     ]
    },
    {
     "name": "stdout",
     "output_type": "stream",
     "text": [
      "Compound(12406)\n"
     ]
    },
    {
     "name": "stderr",
     "output_type": "stream",
     "text": [
      "\r",
      "Processing compounds:   5%|██▌                                                    | 215/4599 [04:59<1:40:12,  1.37s/it]"
     ]
    },
    {
     "name": "stdout",
     "output_type": "stream",
     "text": [
      "Compound(550361)\n"
     ]
    },
    {
     "name": "stderr",
     "output_type": "stream",
     "text": [
      "\r",
      "Processing compounds:   5%|██▌                                                    | 216/4599 [05:01<1:37:02,  1.33s/it]"
     ]
    },
    {
     "name": "stdout",
     "output_type": "stream",
     "text": [
      "Compound(25202482)\n"
     ]
    },
    {
     "name": "stderr",
     "output_type": "stream",
     "text": [
      "Processing compounds:   5%|██▌                                                    | 218/4599 [05:03<1:38:14,  1.35s/it]"
     ]
    },
    {
     "name": "stdout",
     "output_type": "stream",
     "text": [
      "Compound(5374527)\n"
     ]
    },
    {
     "name": "stderr",
     "output_type": "stream",
     "text": [
      "\r",
      "Processing compounds:   5%|██▌                                                    | 219/4599 [05:06<2:06:47,  1.74s/it]"
     ]
    },
    {
     "name": "stdout",
     "output_type": "stream",
     "text": [
      "Compound(92762)\n"
     ]
    },
    {
     "name": "stderr",
     "output_type": "stream",
     "text": [
      "\r",
      "Processing compounds:   5%|██▋                                                    | 220/4599 [05:08<2:05:37,  1.72s/it]"
     ]
    },
    {
     "name": "stdout",
     "output_type": "stream",
     "text": [
      "Compound(14104)\n"
     ]
    },
    {
     "name": "stderr",
     "output_type": "stream",
     "text": [
      "\r",
      "Processing compounds:   5%|██▋                                                    | 221/4599 [05:09<1:53:45,  1.56s/it]"
     ]
    },
    {
     "name": "stdout",
     "output_type": "stream",
     "text": [
      "Compound(445639)\n"
     ]
    },
    {
     "name": "stderr",
     "output_type": "stream",
     "text": [
      "\r",
      "Processing compounds:   5%|██▋                                                    | 222/4599 [05:10<1:52:04,  1.54s/it]"
     ]
    },
    {
     "name": "stdout",
     "output_type": "stream",
     "text": [
      "Compound(3931)\n"
     ]
    },
    {
     "name": "stderr",
     "output_type": "stream",
     "text": [
      "\r",
      "Processing compounds:   5%|██▋                                                    | 223/4599 [05:11<1:43:00,  1.41s/it]"
     ]
    },
    {
     "name": "stdout",
     "output_type": "stream",
     "text": [
      "Compound(8748)\n"
     ]
    },
    {
     "name": "stderr",
     "output_type": "stream",
     "text": [
      "\r",
      "Processing compounds:   5%|██▋                                                    | 224/4599 [05:13<1:44:18,  1.43s/it]"
     ]
    },
    {
     "name": "stdout",
     "output_type": "stream",
     "text": [
      "Compound(10703)\n"
     ]
    },
    {
     "name": "stderr",
     "output_type": "stream",
     "text": [
      "\r",
      "Processing compounds:   5%|██▋                                                    | 225/4599 [05:14<1:40:15,  1.38s/it]"
     ]
    },
    {
     "name": "stdout",
     "output_type": "stream",
     "text": [
      "Compound(10106)\n"
     ]
    },
    {
     "name": "stderr",
     "output_type": "stream",
     "text": [
      "\r",
      "Processing compounds:   5%|██▋                                                    | 226/4599 [05:15<1:38:07,  1.35s/it]"
     ]
    },
    {
     "name": "stdout",
     "output_type": "stream",
     "text": [
      "Compound(79044)\n"
     ]
    },
    {
     "name": "stderr",
     "output_type": "stream",
     "text": [
      "\r",
      "Processing compounds:   5%|██▋                                                    | 227/4599 [05:17<1:38:38,  1.35s/it]"
     ]
    },
    {
     "name": "stdout",
     "output_type": "stream",
     "text": [
      "Compound(5364759)\n"
     ]
    },
    {
     "name": "stderr",
     "output_type": "stream",
     "text": [
      "\r",
      "Processing compounds:   5%|██▋                                                    | 228/4599 [05:18<1:37:10,  1.33s/it]"
     ]
    },
    {
     "name": "stdout",
     "output_type": "stream",
     "text": [
      "Compound(14350)\n"
     ]
    },
    {
     "name": "stderr",
     "output_type": "stream",
     "text": [
      "\r",
      "Processing compounds:   5%|██▋                                                    | 229/4599 [05:19<1:35:35,  1.31s/it]"
     ]
    },
    {
     "name": "stdout",
     "output_type": "stream",
     "text": [
      "Compound(5284507)\n"
     ]
    },
    {
     "name": "stderr",
     "output_type": "stream",
     "text": [
      "\r",
      "Processing compounds:   5%|██▊                                                    | 230/4599 [05:21<1:37:24,  1.34s/it]"
     ]
    },
    {
     "name": "stdout",
     "output_type": "stream",
     "text": [
      "Compound(9855795)\n"
     ]
    },
    {
     "name": "stderr",
     "output_type": "stream",
     "text": [
      "Processing compounds:   5%|██▊                                                    | 232/4599 [05:24<1:40:41,  1.38s/it]"
     ]
    },
    {
     "name": "stdout",
     "output_type": "stream",
     "text": [
      "Compound(12304985)\n"
     ]
    },
    {
     "name": "stderr",
     "output_type": "stream",
     "text": [
      "\r",
      "Processing compounds:   5%|██▊                                                    | 233/4599 [05:25<1:35:57,  1.32s/it]"
     ]
    },
    {
     "name": "stdout",
     "output_type": "stream",
     "text": [
      "Compound(6429375)\n"
     ]
    },
    {
     "name": "stderr",
     "output_type": "stream",
     "text": [
      "\r",
      "Processing compounds:   5%|██▊                                                    | 234/4599 [05:26<1:34:03,  1.29s/it]"
     ]
    },
    {
     "name": "stdout",
     "output_type": "stream",
     "text": [
      "Compound(8900)\n"
     ]
    },
    {
     "name": "stderr",
     "output_type": "stream",
     "text": [
      "Processing compounds:   5%|██▊                                                    | 236/4599 [05:30<2:00:58,  1.66s/it]"
     ]
    },
    {
     "name": "stdout",
     "output_type": "stream",
     "text": [
      "Compound(284)\n"
     ]
    },
    {
     "name": "stderr",
     "output_type": "stream",
     "text": [
      "\r",
      "Processing compounds:   5%|██▊                                                    | 237/4599 [05:31<1:50:09,  1.52s/it]"
     ]
    },
    {
     "name": "stdout",
     "output_type": "stream",
     "text": [
      "Compound(6429302)\n"
     ]
    },
    {
     "name": "stderr",
     "output_type": "stream",
     "text": [
      "\r",
      "Processing compounds:   5%|██▊                                                    | 238/4599 [05:33<1:44:32,  1.44s/it]"
     ]
    },
    {
     "name": "stdout",
     "output_type": "stream",
     "text": [
      "Compound(6431015)\n"
     ]
    },
    {
     "name": "stderr",
     "output_type": "stream",
     "text": [
      "\r",
      "Processing compounds:   5%|██▊                                                    | 239/4599 [05:34<1:42:23,  1.41s/it]"
     ]
    },
    {
     "name": "stdout",
     "output_type": "stream",
     "text": [
      "Compound(530421)\n"
     ]
    },
    {
     "name": "stderr",
     "output_type": "stream",
     "text": [
      "\r",
      "Processing compounds:   5%|██▊                                                    | 240/4599 [05:37<2:10:01,  1.79s/it]"
     ]
    },
    {
     "name": "stdout",
     "output_type": "stream",
     "text": [
      "Compound(445638)\n"
     ]
    },
    {
     "name": "stderr",
     "output_type": "stream",
     "text": [
      "Processing compounds:   5%|██▉                                                    | 242/4599 [05:39<1:53:16,  1.56s/it]"
     ]
    },
    {
     "name": "stdout",
     "output_type": "stream",
     "text": [
      "Compound(42608158)\n"
     ]
    },
    {
     "name": "stderr",
     "output_type": "stream",
     "text": [
      "\r",
      "Processing compounds:   5%|██▉                                                    | 243/4599 [05:41<1:51:09,  1.53s/it]"
     ]
    },
    {
     "name": "stdout",
     "output_type": "stream",
     "text": [
      "Compound(12313020)\n"
     ]
    },
    {
     "name": "stderr",
     "output_type": "stream",
     "text": [
      "\r",
      "Processing compounds:   5%|██▉                                                    | 244/4599 [05:42<1:45:57,  1.46s/it]"
     ]
    },
    {
     "name": "stdout",
     "output_type": "stream",
     "text": [
      "Compound(12306047)\n"
     ]
    },
    {
     "name": "stderr",
     "output_type": "stream",
     "text": [
      "\r",
      "Processing compounds:   5%|██▉                                                    | 245/4599 [05:44<1:43:42,  1.43s/it]"
     ]
    },
    {
     "name": "stdout",
     "output_type": "stream",
     "text": [
      "Compound(454)\n"
     ]
    },
    {
     "name": "stderr",
     "output_type": "stream",
     "text": [
      "\r",
      "Processing compounds:   5%|██▉                                                    | 246/4599 [05:45<1:38:29,  1.36s/it]"
     ]
    },
    {
     "name": "stdout",
     "output_type": "stream",
     "text": [
      "Compound(7362)\n"
     ]
    },
    {
     "name": "stderr",
     "output_type": "stream",
     "text": [
      "\r",
      "Processing compounds:   5%|██▉                                                    | 247/4599 [05:47<1:58:40,  1.64s/it]"
     ]
    },
    {
     "name": "stdout",
     "output_type": "stream",
     "text": [
      "Compound(6428573)\n"
     ]
    },
    {
     "name": "stderr",
     "output_type": "stream",
     "text": [
      "\r",
      "Processing compounds:   5%|██▉                                                    | 248/4599 [05:48<1:47:54,  1.49s/it]"
     ]
    },
    {
     "name": "stdout",
     "output_type": "stream",
     "text": [
      "Compound(379)\n"
     ]
    },
    {
     "name": "stderr",
     "output_type": "stream",
     "text": [
      "\r",
      "Processing compounds:   5%|██▉                                                    | 249/4599 [05:49<1:40:04,  1.38s/it]"
     ]
    },
    {
     "name": "stdout",
     "output_type": "stream",
     "text": [
      "Compound(31289)\n"
     ]
    },
    {
     "name": "stderr",
     "output_type": "stream",
     "text": [
      "\r",
      "Processing compounds:   5%|██▉                                                    | 250/4599 [05:51<1:49:12,  1.51s/it]"
     ]
    },
    {
     "name": "stdout",
     "output_type": "stream",
     "text": [
      "Compound(12097)\n"
     ]
    },
    {
     "name": "stderr",
     "output_type": "stream",
     "text": [
      "Processing compounds:   5%|███                                                    | 252/4599 [05:53<1:36:06,  1.33s/it]"
     ]
    },
    {
     "name": "stdout",
     "output_type": "stream",
     "text": [
      "Compound(6184)\n"
     ]
    },
    {
     "name": "stderr",
     "output_type": "stream",
     "text": [
      "\r",
      "Processing compounds:   6%|███                                                    | 253/4599 [05:55<1:32:09,  1.27s/it]"
     ]
    },
    {
     "name": "stdout",
     "output_type": "stream",
     "text": [
      "Compound(8158)\n"
     ]
    },
    {
     "name": "stderr",
     "output_type": "stream",
     "text": [
      "\r",
      "Processing compounds:   6%|███                                                    | 254/4599 [05:56<1:28:43,  1.23s/it]"
     ]
    },
    {
     "name": "stdout",
     "output_type": "stream",
     "text": [
      "Compound(8892)\n"
     ]
    },
    {
     "name": "stderr",
     "output_type": "stream",
     "text": [
      "\r",
      "Processing compounds:   6%|███                                                    | 255/4599 [05:57<1:40:39,  1.39s/it]"
     ]
    },
    {
     "name": "stdout",
     "output_type": "stream",
     "text": [
      "Compound(5283349)\n"
     ]
    },
    {
     "name": "stderr",
     "output_type": "stream",
     "text": [
      "\r",
      "Processing compounds:   6%|███                                                    | 256/4599 [05:58<1:33:38,  1.29s/it]"
     ]
    },
    {
     "name": "stdout",
     "output_type": "stream",
     "text": [
      "Compound(8103)\n"
     ]
    },
    {
     "name": "stderr",
     "output_type": "stream",
     "text": [
      "\r",
      "Processing compounds:   6%|███                                                    | 257/4599 [06:00<1:36:49,  1.34s/it]"
     ]
    },
    {
     "name": "stdout",
     "output_type": "stream",
     "text": [
      "Compound(637563)\n"
     ]
    },
    {
     "name": "stderr",
     "output_type": "stream",
     "text": [
      "Processing compounds:   6%|███                                                    | 259/4599 [06:03<1:52:41,  1.56s/it]"
     ]
    },
    {
     "name": "stdout",
     "output_type": "stream",
     "text": [
      "Compound(5315469)\n"
     ]
    },
    {
     "name": "stderr",
     "output_type": "stream",
     "text": [
      "\r",
      "Processing compounds:   6%|███                                                    | 260/4599 [06:04<1:42:45,  1.42s/it]"
     ]
    },
    {
     "name": "stdout",
     "output_type": "stream",
     "text": [
      "Compound(8094)\n"
     ]
    },
    {
     "name": "stderr",
     "output_type": "stream",
     "text": [
      "\r",
      "Processing compounds:   6%|███                                                    | 261/4599 [06:06<1:42:28,  1.42s/it]"
     ]
    },
    {
     "name": "stdout",
     "output_type": "stream",
     "text": [
      "Compound(19602)\n"
     ]
    },
    {
     "name": "stderr",
     "output_type": "stream",
     "text": [
      "Processing compounds:   6%|███▏                                                   | 263/4599 [06:09<1:45:58,  1.47s/it]"
     ]
    },
    {
     "name": "stdout",
     "output_type": "stream",
     "text": [
      "Compound(998)\n"
     ]
    },
    {
     "name": "stderr",
     "output_type": "stream",
     "text": [
      "\r",
      "Processing compounds:   6%|███▏                                                   | 264/4599 [06:11<1:55:25,  1.60s/it]"
     ]
    },
    {
     "name": "stdout",
     "output_type": "stream",
     "text": [
      "Compound(8175)\n"
     ]
    },
    {
     "name": "stderr",
     "output_type": "stream",
     "text": [
      "\r",
      "Processing compounds:   6%|███▏                                                   | 265/4599 [06:12<1:52:48,  1.56s/it]"
     ]
    },
    {
     "name": "stdout",
     "output_type": "stream",
     "text": [
      "Compound(7671)\n"
     ]
    },
    {
     "name": "stderr",
     "output_type": "stream",
     "text": [
      "\r",
      "Processing compounds:   6%|███▏                                                   | 266/4599 [06:13<1:46:09,  1.47s/it]"
     ]
    },
    {
     "name": "stdout",
     "output_type": "stream",
     "text": [
      "Compound(589433)\n"
     ]
    },
    {
     "name": "stderr",
     "output_type": "stream",
     "text": [
      "\r",
      "Processing compounds:   6%|███▏                                                   | 267/4599 [06:15<1:49:16,  1.51s/it]"
     ]
    },
    {
     "name": "stdout",
     "output_type": "stream",
     "text": [
      "Compound(5368451)\n"
     ]
    },
    {
     "name": "stderr",
     "output_type": "stream",
     "text": [
      "\r",
      "Processing compounds:   6%|███▏                                                   | 268/4599 [06:16<1:41:12,  1.40s/it]"
     ]
    },
    {
     "name": "stdout",
     "output_type": "stream",
     "text": [
      "Compound(533672)\n"
     ]
    },
    {
     "name": "stderr",
     "output_type": "stream",
     "text": [
      "\r",
      "Processing compounds:   6%|███▏                                                   | 269/4599 [06:18<1:44:13,  1.44s/it]"
     ]
    },
    {
     "name": "stdout",
     "output_type": "stream",
     "text": [
      "Compound(521207)\n"
     ]
    },
    {
     "name": "stderr",
     "output_type": "stream",
     "text": [
      "\r",
      "Processing compounds:   6%|███▏                                                   | 270/4599 [06:19<1:43:18,  1.43s/it]"
     ]
    },
    {
     "name": "stdout",
     "output_type": "stream",
     "text": [
      "Compound(5371125)\n"
     ]
    },
    {
     "name": "stderr",
     "output_type": "stream",
     "text": [
      "Processing compounds:   6%|███▎                                                   | 272/4599 [06:23<1:51:23,  1.54s/it]"
     ]
    },
    {
     "name": "stdout",
     "output_type": "stream",
     "text": [
      "Compound(1001)\n"
     ]
    },
    {
     "name": "stderr",
     "output_type": "stream",
     "text": [
      "\r",
      "Processing compounds:   6%|███▎                                                   | 273/4599 [06:24<1:41:20,  1.41s/it]"
     ]
    },
    {
     "name": "stdout",
     "output_type": "stream",
     "text": [
      "Compound(88693)\n"
     ]
    },
    {
     "name": "stderr",
     "output_type": "stream",
     "text": [
      "\r",
      "Processing compounds:   6%|███▎                                                   | 274/4599 [06:26<1:52:40,  1.56s/it]"
     ]
    },
    {
     "name": "stdout",
     "output_type": "stream",
     "text": [
      "Compound(88302)\n"
     ]
    },
    {
     "name": "stderr",
     "output_type": "stream",
     "text": [
      "\r",
      "Processing compounds:   6%|███▎                                                   | 275/4599 [06:27<1:43:02,  1.43s/it]"
     ]
    },
    {
     "name": "stdout",
     "output_type": "stream",
     "text": [
      "Compound(7438)\n"
     ]
    },
    {
     "name": "stderr",
     "output_type": "stream",
     "text": [
      "Processing compounds:   6%|███▎                                                   | 277/4599 [06:29<1:31:58,  1.28s/it]"
     ]
    },
    {
     "name": "stdout",
     "output_type": "stream",
     "text": [
      "Compound(121719)\n"
     ]
    },
    {
     "name": "stderr",
     "output_type": "stream",
     "text": [
      "\r",
      "Processing compounds:   6%|███▎                                                   | 278/4599 [06:30<1:31:38,  1.27s/it]"
     ]
    },
    {
     "name": "stdout",
     "output_type": "stream",
     "text": [
      "Compound(61130)\n"
     ]
    },
    {
     "name": "stderr",
     "output_type": "stream",
     "text": [
      "\r",
      "Processing compounds:   6%|███▎                                                   | 279/4599 [06:33<1:56:59,  1.62s/it]"
     ]
    },
    {
     "name": "stdout",
     "output_type": "stream",
     "text": [
      "Compound(1549045)\n"
     ]
    },
    {
     "name": "stderr",
     "output_type": "stream",
     "text": [
      "\r",
      "Processing compounds:   6%|███▎                                                   | 280/4599 [06:35<2:07:34,  1.77s/it]"
     ]
    },
    {
     "name": "stdout",
     "output_type": "stream",
     "text": [
      "Compound(7127)\n"
     ]
    },
    {
     "name": "stderr",
     "output_type": "stream",
     "text": [
      "\r",
      "Processing compounds:   6%|███▎                                                   | 281/4599 [06:36<1:55:47,  1.61s/it]"
     ]
    },
    {
     "name": "stdout",
     "output_type": "stream",
     "text": [
      "Compound(1252759)\n"
     ]
    },
    {
     "name": "stderr",
     "output_type": "stream",
     "text": [
      "\r",
      "Processing compounds:   6%|███▎                                                   | 282/4599 [06:37<1:50:00,  1.53s/it]"
     ]
    },
    {
     "name": "stdout",
     "output_type": "stream",
     "text": [
      "Compound(637758)\n"
     ]
    },
    {
     "name": "stderr",
     "output_type": "stream",
     "text": [
      "\r",
      "Processing compounds:   6%|███▍                                                   | 283/4599 [06:39<1:44:29,  1.45s/it]"
     ]
    },
    {
     "name": "stdout",
     "output_type": "stream",
     "text": [
      "Compound(637511)\n"
     ]
    },
    {
     "name": "stderr",
     "output_type": "stream",
     "text": [
      "\r",
      "Processing compounds:   6%|███▍                                                   | 284/4599 [06:40<1:37:34,  1.36s/it]"
     ]
    },
    {
     "name": "stdout",
     "output_type": "stream",
     "text": [
      "Compound(530422)\n"
     ]
    },
    {
     "name": "stderr",
     "output_type": "stream",
     "text": [
      "\r",
      "Processing compounds:   6%|███▍                                                   | 285/4599 [06:41<1:36:34,  1.34s/it]"
     ]
    },
    {
     "name": "stdout",
     "output_type": "stream",
     "text": [
      "Compound(5281167)\n"
     ]
    },
    {
     "name": "stderr",
     "output_type": "stream",
     "text": [
      "\r",
      "Processing compounds:   6%|███▍                                                   | 286/4599 [06:43<1:41:14,  1.41s/it]"
     ]
    },
    {
     "name": "stdout",
     "output_type": "stream",
     "text": [
      "Compound(637776)\n"
     ]
    },
    {
     "name": "stderr",
     "output_type": "stream",
     "text": [
      "\r",
      "Processing compounds:   6%|███▍                                                   | 287/4599 [06:45<2:06:25,  1.76s/it]"
     ]
    },
    {
     "name": "stdout",
     "output_type": "stream",
     "text": [
      "Compound(519857)\n"
     ]
    },
    {
     "name": "stderr",
     "output_type": "stream",
     "text": [
      "\r",
      "Processing compounds:   6%|███▍                                                   | 288/4599 [06:47<1:57:33,  1.64s/it]"
     ]
    },
    {
     "name": "stdout",
     "output_type": "stream",
     "text": [
      "Compound(72607)\n"
     ]
    },
    {
     "name": "stderr",
     "output_type": "stream",
     "text": [
      "\r",
      "Processing compounds:   6%|███▍                                                   | 289/4599 [06:48<1:51:45,  1.56s/it]"
     ]
    },
    {
     "name": "stdout",
     "output_type": "stream",
     "text": [
      "Compound(6428423)\n"
     ]
    },
    {
     "name": "stderr",
     "output_type": "stream",
     "text": [
      "\r",
      "Processing compounds:   6%|███▍                                                   | 290/4599 [06:49<1:46:26,  1.48s/it]"
     ]
    },
    {
     "name": "stdout",
     "output_type": "stream",
     "text": [
      "Compound(11996452)\n"
     ]
    },
    {
     "name": "stderr",
     "output_type": "stream",
     "text": [
      "Processing compounds:   6%|███▍                                                   | 292/4599 [06:51<1:31:17,  1.27s/it]"
     ]
    },
    {
     "name": "stdout",
     "output_type": "stream",
     "text": [
      "Compound(31291)\n"
     ]
    },
    {
     "name": "stderr",
     "output_type": "stream",
     "text": [
      "\r",
      "Processing compounds:   6%|███▌                                                   | 293/4599 [06:53<1:38:37,  1.37s/it]"
     ]
    },
    {
     "name": "stdout",
     "output_type": "stream",
     "text": [
      "Compound(66841)\n"
     ]
    },
    {
     "name": "stderr",
     "output_type": "stream",
     "text": [
      "\r",
      "Processing compounds:   6%|███▌                                                   | 294/4599 [06:54<1:36:38,  1.35s/it]"
     ]
    },
    {
     "name": "stdout",
     "output_type": "stream",
     "text": [
      "Compound(13854255)\n"
     ]
    },
    {
     "name": "stderr",
     "output_type": "stream",
     "text": [
      "\r",
      "Processing compounds:   6%|███▌                                                   | 295/4599 [06:57<2:11:45,  1.84s/it]"
     ]
    },
    {
     "name": "stdout",
     "output_type": "stream",
     "text": [
      "Compound(17100)\n"
     ]
    },
    {
     "name": "stderr",
     "output_type": "stream",
     "text": [
      "\r",
      "Processing compounds:   6%|███▌                                                   | 296/4599 [06:59<2:02:55,  1.71s/it]"
     ]
    },
    {
     "name": "stdout",
     "output_type": "stream",
     "text": [
      "Compound(11230)\n"
     ]
    },
    {
     "name": "stderr",
     "output_type": "stream",
     "text": [
      "\r",
      "Processing compounds:   6%|███▌                                                   | 297/4599 [07:00<2:01:40,  1.70s/it]"
     ]
    },
    {
     "name": "stdout",
     "output_type": "stream",
     "text": [
      "Compound(15560276)\n"
     ]
    },
    {
     "name": "stderr",
     "output_type": "stream",
     "text": [
      "\r",
      "Processing compounds:   6%|███▌                                                   | 298/4599 [07:02<2:10:18,  1.82s/it]"
     ]
    },
    {
     "name": "stdout",
     "output_type": "stream",
     "text": [
      "Compound(570529)\n"
     ]
    },
    {
     "name": "stderr",
     "output_type": "stream",
     "text": [
      "\r",
      "Processing compounds:   7%|███▌                                                   | 299/4599 [07:04<2:13:50,  1.87s/it]"
     ]
    },
    {
     "name": "stdout",
     "output_type": "stream",
     "text": [
      "Compound(11040710)\n"
     ]
    },
    {
     "name": "stderr",
     "output_type": "stream",
     "text": [
      "\r",
      "Processing compounds:   7%|███▌                                                   | 300/4599 [07:06<2:01:18,  1.69s/it]"
     ]
    },
    {
     "name": "stdout",
     "output_type": "stream",
     "text": [
      "Compound(6428573)\n"
     ]
    },
    {
     "name": "stderr",
     "output_type": "stream",
     "text": [
      "\r",
      "Processing compounds:   7%|███▌                                                   | 301/4599 [07:07<1:50:45,  1.55s/it]"
     ]
    },
    {
     "name": "stdout",
     "output_type": "stream",
     "text": [
      "Compound(102611)\n"
     ]
    },
    {
     "name": "stderr",
     "output_type": "stream",
     "text": [
      "\r",
      "Processing compounds:   7%|███▌                                                   | 302/4599 [07:09<1:56:36,  1.63s/it]"
     ]
    },
    {
     "name": "stdout",
     "output_type": "stream",
     "text": [
      "Compound(8888)\n"
     ]
    },
    {
     "name": "stderr",
     "output_type": "stream",
     "text": [
      "Processing compounds:   7%|███▋                                                   | 304/4599 [07:12<2:08:22,  1.79s/it]"
     ]
    },
    {
     "name": "stdout",
     "output_type": "stream",
     "text": [
      "Compound(3656473)\n"
     ]
    },
    {
     "name": "stderr",
     "output_type": "stream",
     "text": [
      "\r",
      "Processing compounds:   7%|███▋                                                   | 305/4599 [07:29<7:15:56,  6.09s/it]"
     ]
    },
    {
     "name": "stdout",
     "output_type": "stream",
     "text": [
      "Error: <urlopen error TLS/SSL connection has been closed (EOF) (_ssl.c:1131)>\n"
     ]
    },
    {
     "name": "stderr",
     "output_type": "stream",
     "text": [
      "\r",
      "Processing compounds:   7%|███▋                                                   | 306/4599 [07:30<5:37:03,  4.71s/it]"
     ]
    },
    {
     "name": "stdout",
     "output_type": "stream",
     "text": [
      "Compound(9223)\n"
     ]
    },
    {
     "name": "stderr",
     "output_type": "stream",
     "text": [
      "\r",
      "Processing compounds:   7%|███▋                                                   | 307/4599 [07:31<4:26:04,  3.72s/it]"
     ]
    },
    {
     "name": "stdout",
     "output_type": "stream",
     "text": [
      "Compound(7508)\n"
     ]
    },
    {
     "name": "stderr",
     "output_type": "stream",
     "text": [
      "\r",
      "Processing compounds:   7%|███▋                                                   | 308/4599 [07:33<3:34:30,  3.00s/it]"
     ]
    },
    {
     "name": "stdout",
     "output_type": "stream",
     "text": [
      "Compound(10975)\n"
     ]
    },
    {
     "name": "stderr",
     "output_type": "stream",
     "text": [
      "\r",
      "Processing compounds:   7%|███▋                                                   | 309/4599 [07:34<3:00:26,  2.52s/it]"
     ]
    },
    {
     "name": "stdout",
     "output_type": "stream",
     "text": [
      "Compound(73830)\n"
     ]
    },
    {
     "name": "stderr",
     "output_type": "stream",
     "text": [
      "\r",
      "Processing compounds:   7%|███▋                                                   | 310/4599 [07:35<2:33:35,  2.15s/it]"
     ]
    },
    {
     "name": "stdout",
     "output_type": "stream",
     "text": [
      "Compound(16301)\n"
     ]
    },
    {
     "name": "stderr",
     "output_type": "stream",
     "text": [
      "\r",
      "Processing compounds:   7%|███▋                                                   | 311/4599 [07:37<2:14:26,  1.88s/it]"
     ]
    },
    {
     "name": "stdout",
     "output_type": "stream",
     "text": [
      "Compound(8194)\n"
     ]
    },
    {
     "name": "stderr",
     "output_type": "stream",
     "text": [
      "\r",
      "Processing compounds:   7%|███▋                                                   | 312/4599 [07:39<2:13:56,  1.87s/it]"
     ]
    },
    {
     "name": "stdout",
     "output_type": "stream",
     "text": [
      "Compound(2969)\n"
     ]
    },
    {
     "name": "stderr",
     "output_type": "stream",
     "text": [
      "\r",
      "Processing compounds:   7%|███▋                                                   | 313/4599 [07:40<2:03:18,  1.73s/it]"
     ]
    },
    {
     "name": "stdout",
     "output_type": "stream",
     "text": [
      "Compound(91704770)\n"
     ]
    },
    {
     "name": "stderr",
     "output_type": "stream",
     "text": [
      "\r",
      "Processing compounds:   7%|███▊                                                   | 314/4599 [07:41<1:55:11,  1.61s/it]"
     ]
    },
    {
     "name": "stdout",
     "output_type": "stream",
     "text": [
      "Compound(10798255)\n"
     ]
    },
    {
     "name": "stderr",
     "output_type": "stream",
     "text": [
      "\r",
      "Processing compounds:   7%|███▊                                                   | 315/4599 [07:43<1:48:47,  1.52s/it]"
     ]
    },
    {
     "name": "stdout",
     "output_type": "stream",
     "text": [
      "Compound(92139)\n"
     ]
    },
    {
     "name": "stderr",
     "output_type": "stream",
     "text": [
      "\r",
      "Processing compounds:   7%|███▊                                                   | 316/4599 [07:44<1:44:16,  1.46s/it]"
     ]
    },
    {
     "name": "stdout",
     "output_type": "stream",
     "text": [
      "Compound(8914)\n"
     ]
    },
    {
     "name": "stderr",
     "output_type": "stream",
     "text": [
      "\r",
      "Processing compounds:   7%|███▊                                                   | 317/4599 [07:46<2:02:25,  1.72s/it]"
     ]
    },
    {
     "name": "stdout",
     "output_type": "stream",
     "text": [
      "Compound(9862)\n"
     ]
    },
    {
     "name": "stderr",
     "output_type": "stream",
     "text": [
      "\r",
      "Processing compounds:   7%|███▊                                                   | 318/4599 [07:49<2:21:21,  1.98s/it]"
     ]
    },
    {
     "name": "stdout",
     "output_type": "stream",
     "text": [
      "Compound(6428995)\n"
     ]
    },
    {
     "name": "stderr",
     "output_type": "stream",
     "text": [
      "\r",
      "Processing compounds:   7%|███▊                                                   | 319/4599 [07:51<2:15:27,  1.90s/it]"
     ]
    },
    {
     "name": "stdout",
     "output_type": "stream",
     "text": [
      "Compound(7707)\n"
     ]
    },
    {
     "name": "stderr",
     "output_type": "stream",
     "text": [
      "\r",
      "Processing compounds:   7%|███▊                                                   | 320/4599 [07:52<2:02:28,  1.72s/it]"
     ]
    },
    {
     "name": "stdout",
     "output_type": "stream",
     "text": [
      "Compound(5282110)\n"
     ]
    },
    {
     "name": "stderr",
     "output_type": "stream",
     "text": [
      "\r",
      "Processing compounds:   7%|███▊                                                   | 321/4599 [07:53<1:56:02,  1.63s/it]"
     ]
    },
    {
     "name": "stdout",
     "output_type": "stream",
     "text": [
      "Compound(6432025)\n"
     ]
    },
    {
     "name": "stderr",
     "output_type": "stream",
     "text": [
      "\r",
      "Processing compounds:   7%|███▊                                                   | 322/4599 [07:54<1:47:10,  1.50s/it]"
     ]
    },
    {
     "name": "stdout",
     "output_type": "stream",
     "text": [
      "Compound(44559813)\n"
     ]
    },
    {
     "name": "stderr",
     "output_type": "stream",
     "text": [
      "Processing compounds:   7%|███▊                                                   | 324/4599 [07:57<1:42:19,  1.44s/it]"
     ]
    },
    {
     "name": "stdout",
     "output_type": "stream",
     "text": [
      "Compound(637776)\n"
     ]
    },
    {
     "name": "stderr",
     "output_type": "stream",
     "text": [
      "\r",
      "Processing compounds:   7%|███▉                                                   | 325/4599 [07:59<1:39:11,  1.39s/it]"
     ]
    },
    {
     "name": "stdout",
     "output_type": "stream",
     "text": [
      "Compound(10812)\n"
     ]
    },
    {
     "name": "stderr",
     "output_type": "stream",
     "text": [
      "Processing compounds:   7%|███▉                                                   | 327/4599 [08:02<1:54:26,  1.61s/it]"
     ]
    },
    {
     "name": "stdout",
     "output_type": "stream",
     "text": [
      "Compound(520384)\n"
     ]
    },
    {
     "name": "stderr",
     "output_type": "stream",
     "text": [
      "\r",
      "Processing compounds:   7%|███▉                                                   | 328/4599 [08:03<1:50:34,  1.55s/it]"
     ]
    },
    {
     "name": "stdout",
     "output_type": "stream",
     "text": [
      "Compound(10657)\n"
     ]
    },
    {
     "name": "stderr",
     "output_type": "stream",
     "text": [
      "Processing compounds:   7%|███▉                                                   | 330/4599 [08:06<1:39:01,  1.39s/it]"
     ]
    },
    {
     "name": "stdout",
     "output_type": "stream",
     "text": [
      "Compound(14985)\n"
     ]
    },
    {
     "name": "stderr",
     "output_type": "stream",
     "text": [
      "\r",
      "Processing compounds:   7%|███▉                                                   | 331/4599 [08:07<1:38:00,  1.38s/it]"
     ]
    },
    {
     "name": "stdout",
     "output_type": "stream",
     "text": [
      "Compound(94741)\n"
     ]
    },
    {
     "name": "stderr",
     "output_type": "stream",
     "text": [
      "\r",
      "Processing compounds:   7%|███▉                                                   | 332/4599 [08:09<1:56:57,  1.64s/it]"
     ]
    },
    {
     "name": "stdout",
     "output_type": "stream",
     "text": [
      "Compound(12535)\n"
     ]
    },
    {
     "name": "stderr",
     "output_type": "stream",
     "text": [
      "\r",
      "Processing compounds:   7%|███▉                                                   | 333/4599 [08:12<2:16:19,  1.92s/it]"
     ]
    },
    {
     "name": "stdout",
     "output_type": "stream",
     "text": [
      "Compound(3084462)\n"
     ]
    },
    {
     "name": "stderr",
     "output_type": "stream",
     "text": [
      "\r",
      "Processing compounds:   7%|███▉                                                   | 334/4599 [08:13<2:06:48,  1.78s/it]"
     ]
    },
    {
     "name": "stdout",
     "output_type": "stream",
     "text": [
      "Compound(457801)\n"
     ]
    },
    {
     "name": "stderr",
     "output_type": "stream",
     "text": [
      "\r",
      "Processing compounds:   7%|████                                                   | 335/4599 [08:15<2:05:21,  1.76s/it]"
     ]
    },
    {
     "name": "stdout",
     "output_type": "stream",
     "text": [
      "Compound(12410)\n"
     ]
    },
    {
     "name": "stderr",
     "output_type": "stream",
     "text": [
      "\r",
      "Processing compounds:   7%|████                                                   | 336/4599 [08:16<1:51:25,  1.57s/it]"
     ]
    },
    {
     "name": "stdout",
     "output_type": "stream",
     "text": [
      "Compound(7136)\n"
     ]
    },
    {
     "name": "stderr",
     "output_type": "stream",
     "text": [
      "\r",
      "Processing compounds:   7%|████                                                   | 337/4599 [08:17<1:42:24,  1.44s/it]"
     ]
    },
    {
     "name": "stdout",
     "output_type": "stream",
     "text": [
      "Compound(442353)\n"
     ]
    },
    {
     "name": "stderr",
     "output_type": "stream",
     "text": [
      "\r",
      "Processing compounds:   7%|████                                                   | 338/4599 [08:19<1:37:50,  1.38s/it]"
     ]
    },
    {
     "name": "stdout",
     "output_type": "stream",
     "text": [
      "Compound(3084311)\n"
     ]
    },
    {
     "name": "stderr",
     "output_type": "stream",
     "text": [
      "\r",
      "Processing compounds:   7%|████                                                   | 339/4599 [08:20<1:39:47,  1.41s/it]"
     ]
    },
    {
     "name": "stdout",
     "output_type": "stream",
     "text": [
      "Compound(68148)\n"
     ]
    },
    {
     "name": "stderr",
     "output_type": "stream",
     "text": [
      "Processing compounds:   7%|████                                                   | 341/4599 [08:23<1:40:47,  1.42s/it]"
     ]
    },
    {
     "name": "stdout",
     "output_type": "stream",
     "text": [
      "Compound(523825)\n"
     ]
    },
    {
     "name": "stderr",
     "output_type": "stream",
     "text": [
      "\r",
      "Processing compounds:   7%|████                                                   | 342/4599 [08:26<2:11:35,  1.85s/it]"
     ]
    },
    {
     "name": "stdout",
     "output_type": "stream",
     "text": [
      "Compound(68474)\n"
     ]
    },
    {
     "name": "stderr",
     "output_type": "stream",
     "text": [
      "\r",
      "Processing compounds:   7%|████                                                   | 343/4599 [08:36<5:17:14,  4.47s/it]"
     ]
    },
    {
     "name": "stdout",
     "output_type": "stream",
     "text": [
      "Compound(10398656)\n"
     ]
    },
    {
     "name": "stderr",
     "output_type": "stream",
     "text": [
      "\r",
      "Processing compounds:   7%|████                                                   | 344/4599 [08:38<4:26:10,  3.75s/it]"
     ]
    },
    {
     "name": "stdout",
     "output_type": "stream",
     "text": [
      "Compound(21718037)\n"
     ]
    },
    {
     "name": "stderr",
     "output_type": "stream",
     "text": [
      "\r",
      "Processing compounds:   8%|████▏                                                  | 345/4599 [08:40<3:44:45,  3.17s/it]"
     ]
    },
    {
     "name": "stdout",
     "output_type": "stream",
     "text": [
      "Compound(61098)\n"
     ]
    },
    {
     "name": "stderr",
     "output_type": "stream",
     "text": [
      "\r",
      "Processing compounds:   8%|████▏                                                  | 346/4599 [08:43<3:37:16,  3.07s/it]"
     ]
    },
    {
     "name": "stdout",
     "output_type": "stream",
     "text": [
      "Compound(91748288)\n"
     ]
    },
    {
     "name": "stderr",
     "output_type": "stream",
     "text": [
      "Processing compounds:   8%|████▏                                                  | 348/4599 [08:46<2:33:24,  2.17s/it]"
     ]
    },
    {
     "name": "stdout",
     "output_type": "stream",
     "text": [
      "Compound(12303902)\n"
     ]
    },
    {
     "name": "stderr",
     "output_type": "stream",
     "text": [
      "\r",
      "Processing compounds:   8%|████▏                                                  | 349/4599 [08:47<2:11:53,  1.86s/it]"
     ]
    },
    {
     "name": "stdout",
     "output_type": "stream",
     "text": [
      "Compound(5281525)\n"
     ]
    },
    {
     "name": "stderr",
     "output_type": "stream",
     "text": [
      "Processing compounds:   8%|████▏                                                  | 351/4599 [08:50<1:51:55,  1.58s/it]"
     ]
    },
    {
     "name": "stdout",
     "output_type": "stream",
     "text": [
      "Compound(29075)\n"
     ]
    },
    {
     "name": "stderr",
     "output_type": "stream",
     "text": [
      "\r",
      "Processing compounds:   8%|████▏                                                  | 352/4599 [08:52<2:03:07,  1.74s/it]"
     ]
    },
    {
     "name": "stdout",
     "output_type": "stream",
     "text": [
      "Compound(5315912)\n"
     ]
    },
    {
     "name": "stderr",
     "output_type": "stream",
     "text": [
      "\r",
      "Processing compounds:   8%|████▏                                                  | 353/4599 [08:54<2:10:31,  1.84s/it]"
     ]
    },
    {
     "name": "stdout",
     "output_type": "stream",
     "text": [
      "Compound(12366)\n"
     ]
    },
    {
     "name": "stderr",
     "output_type": "stream",
     "text": [
      "\r",
      "Processing compounds:   8%|████▏                                                  | 354/4599 [08:56<2:11:40,  1.86s/it]"
     ]
    },
    {
     "name": "stdout",
     "output_type": "stream",
     "text": [
      "Compound(12401)\n"
     ]
    },
    {
     "name": "stderr",
     "output_type": "stream",
     "text": [
      "\r",
      "Processing compounds:   8%|████▏                                                  | 355/4599 [08:57<2:02:25,  1.73s/it]"
     ]
    },
    {
     "name": "stdout",
     "output_type": "stream",
     "text": [
      "Compound(643779)\n"
     ]
    },
    {
     "name": "stderr",
     "output_type": "stream",
     "text": [
      "\r",
      "Processing compounds:   8%|████▎                                                  | 356/4599 [08:59<1:57:38,  1.66s/it]"
     ]
    },
    {
     "name": "stdout",
     "output_type": "stream",
     "text": [
      "Compound(11006)\n"
     ]
    },
    {
     "name": "stderr",
     "output_type": "stream",
     "text": [
      "\r",
      "Processing compounds:   8%|████▎                                                  | 357/4599 [09:00<1:56:39,  1.65s/it]"
     ]
    },
    {
     "name": "stdout",
     "output_type": "stream",
     "text": [
      "Compound(12398)\n"
     ]
    },
    {
     "name": "stderr",
     "output_type": "stream",
     "text": [
      "\r",
      "Processing compounds:   8%|████▎                                                  | 358/4599 [09:02<1:52:53,  1.60s/it]"
     ]
    },
    {
     "name": "stdout",
     "output_type": "stream",
     "text": [
      "Compound(15560253)\n"
     ]
    },
    {
     "name": "stderr",
     "output_type": "stream",
     "text": [
      "\r",
      "Processing compounds:   8%|████▎                                                  | 359/4599 [09:03<1:51:35,  1.58s/it]"
     ]
    },
    {
     "name": "stdout",
     "output_type": "stream",
     "text": [
      "Compound(289151)\n"
     ]
    },
    {
     "name": "stderr",
     "output_type": "stream",
     "text": [
      "Processing compounds:   8%|████▎                                                  | 362/4599 [09:08<1:52:48,  1.60s/it]"
     ]
    },
    {
     "name": "stdout",
     "output_type": "stream",
     "text": [
      "Compound(6988)\n"
     ]
    },
    {
     "name": "stderr",
     "output_type": "stream",
     "text": [
      "\r",
      "Processing compounds:   8%|████▎                                                  | 363/4599 [09:10<2:08:53,  1.83s/it]"
     ]
    },
    {
     "name": "stdout",
     "output_type": "stream",
     "text": [
      "Compound(92812)\n"
     ]
    },
    {
     "name": "stderr",
     "output_type": "stream",
     "text": [
      "\r",
      "Processing compounds:   8%|████▎                                                  | 364/4599 [09:11<1:55:10,  1.63s/it]"
     ]
    },
    {
     "name": "stdout",
     "output_type": "stream",
     "text": [
      "Compound(595121)\n"
     ]
    },
    {
     "name": "stderr",
     "output_type": "stream",
     "text": [
      "Processing compounds:   8%|████▍                                                  | 366/4599 [09:15<1:59:18,  1.69s/it]"
     ]
    },
    {
     "name": "stdout",
     "output_type": "stream",
     "text": [
      "Compound(11095734)\n"
     ]
    },
    {
     "name": "stderr",
     "output_type": "stream",
     "text": [
      "\r",
      "Processing compounds:   8%|████▍                                                  | 367/4599 [09:16<1:56:05,  1.65s/it]"
     ]
    },
    {
     "name": "stdout",
     "output_type": "stream",
     "text": [
      "Compound(521214)\n"
     ]
    },
    {
     "name": "stderr",
     "output_type": "stream",
     "text": [
      "\r",
      "Processing compounds:   8%|████▍                                                  | 368/4599 [09:19<2:14:07,  1.90s/it]"
     ]
    },
    {
     "name": "stdout",
     "output_type": "stream",
     "text": [
      "Compound(522296)\n"
     ]
    },
    {
     "name": "stderr",
     "output_type": "stream",
     "text": [
      "\r",
      "Processing compounds:   8%|████▍                                                  | 369/4599 [09:20<1:58:01,  1.67s/it]"
     ]
    },
    {
     "name": "stdout",
     "output_type": "stream",
     "text": [
      "Compound(1549108)\n"
     ]
    },
    {
     "name": "stderr",
     "output_type": "stream",
     "text": [
      "\r",
      "Processing compounds:   8%|████▍                                                  | 370/4599 [09:21<1:46:30,  1.51s/it]"
     ]
    },
    {
     "name": "stdout",
     "output_type": "stream",
     "text": [
      "Compound(102443)\n"
     ]
    },
    {
     "name": "stderr",
     "output_type": "stream",
     "text": [
      "\r",
      "Processing compounds:   8%|████▍                                                  | 371/4599 [09:22<1:37:56,  1.39s/it]"
     ]
    },
    {
     "name": "stdout",
     "output_type": "stream",
     "text": [
      "Compound(12306046)\n"
     ]
    },
    {
     "name": "stderr",
     "output_type": "stream",
     "text": [
      "\r",
      "Processing compounds:   8%|████▍                                                  | 372/4599 [09:23<1:34:23,  1.34s/it]"
     ]
    },
    {
     "name": "stdout",
     "output_type": "stream",
     "text": [
      "Compound(91104)\n"
     ]
    },
    {
     "name": "stderr",
     "output_type": "stream",
     "text": [
      "\r",
      "Processing compounds:   8%|████▍                                                  | 373/4599 [09:25<1:31:49,  1.30s/it]"
     ]
    },
    {
     "name": "stdout",
     "output_type": "stream",
     "text": [
      "Compound(5281520)\n"
     ]
    },
    {
     "name": "stderr",
     "output_type": "stream",
     "text": [
      "\r",
      "Processing compounds:   8%|████▍                                                  | 374/4599 [09:26<1:40:41,  1.43s/it]"
     ]
    },
    {
     "name": "stdout",
     "output_type": "stream",
     "text": [
      "Compound(6432312)\n"
     ]
    },
    {
     "name": "stderr",
     "output_type": "stream",
     "text": [
      "Processing compounds:   8%|████▍                                                  | 376/4599 [09:29<1:37:06,  1.38s/it]"
     ]
    },
    {
     "name": "stdout",
     "output_type": "stream",
     "text": [
      "Compound(5353644)\n"
     ]
    },
    {
     "name": "stderr",
     "output_type": "stream",
     "text": [
      "\r",
      "Processing compounds:   8%|████▌                                                  | 377/4599 [09:30<1:33:30,  1.33s/it]"
     ]
    },
    {
     "name": "stdout",
     "output_type": "stream",
     "text": [
      "Compound(521380)\n"
     ]
    },
    {
     "name": "stderr",
     "output_type": "stream",
     "text": [
      "\r",
      "Processing compounds:   8%|████▌                                                  | 378/4599 [09:32<1:33:59,  1.34s/it]"
     ]
    },
    {
     "name": "stdout",
     "output_type": "stream",
     "text": [
      "Compound(28481)\n"
     ]
    },
    {
     "name": "stderr",
     "output_type": "stream",
     "text": [
      "Processing compounds:   8%|████▌                                                  | 380/4599 [09:34<1:28:08,  1.25s/it]"
     ]
    },
    {
     "name": "stdout",
     "output_type": "stream",
     "text": [
      "Compound(12309744)\n"
     ]
    },
    {
     "name": "stderr",
     "output_type": "stream",
     "text": [
      "\r",
      "Processing compounds:   8%|████▌                                                  | 381/4599 [09:36<1:49:30,  1.56s/it]"
     ]
    },
    {
     "name": "stdout",
     "output_type": "stream",
     "text": [
      "Compound(179519)\n"
     ]
    },
    {
     "name": "stderr",
     "output_type": "stream",
     "text": [
      "\r",
      "Processing compounds:   8%|████▌                                                  | 382/4599 [09:37<1:40:03,  1.42s/it]"
     ]
    },
    {
     "name": "stdout",
     "output_type": "stream",
     "text": [
      "Compound(5284503)\n"
     ]
    },
    {
     "name": "stderr",
     "output_type": "stream",
     "text": [
      "\r",
      "Processing compounds:   8%|████▌                                                  | 383/4599 [09:39<1:36:07,  1.37s/it]"
     ]
    },
    {
     "name": "stdout",
     "output_type": "stream",
     "text": [
      "Compound(6857487)\n"
     ]
    },
    {
     "name": "stderr",
     "output_type": "stream",
     "text": [
      "\r",
      "Processing compounds:   8%|████▌                                                  | 384/4599 [09:40<1:39:39,  1.42s/it]"
     ]
    },
    {
     "name": "stdout",
     "output_type": "stream",
     "text": [
      "Compound(22212001)\n"
     ]
    },
    {
     "name": "stderr",
     "output_type": "stream",
     "text": [
      "Processing compounds:   8%|████▌                                                  | 386/4599 [09:43<1:34:21,  1.34s/it]"
     ]
    },
    {
     "name": "stdout",
     "output_type": "stream",
     "text": [
      "Compound(6429032)\n"
     ]
    },
    {
     "name": "stderr",
     "output_type": "stream",
     "text": [
      "\r",
      "Processing compounds:   8%|████▋                                                  | 387/4599 [09:44<1:37:48,  1.39s/it]"
     ]
    },
    {
     "name": "stdout",
     "output_type": "stream",
     "text": [
      "Compound(92762)\n"
     ]
    },
    {
     "name": "stderr",
     "output_type": "stream",
     "text": [
      "\r",
      "Processing compounds:   8%|████▋                                                  | 388/4599 [09:45<1:35:24,  1.36s/it]"
     ]
    },
    {
     "name": "stdout",
     "output_type": "stream",
     "text": [
      "Compound(5367550)\n"
     ]
    },
    {
     "name": "stderr",
     "output_type": "stream",
     "text": [
      "Processing compounds:   8%|████▋                                                  | 390/4599 [09:48<1:34:57,  1.35s/it]"
     ]
    },
    {
     "name": "stdout",
     "output_type": "stream",
     "text": [
      "Compound(445070)\n"
     ]
    },
    {
     "name": "stderr",
     "output_type": "stream",
     "text": [
      "\r",
      "Processing compounds:   9%|████▋                                                  | 391/4599 [09:49<1:31:17,  1.30s/it]"
     ]
    },
    {
     "name": "stdout",
     "output_type": "stream",
     "text": [
      "Compound(144751)\n"
     ]
    },
    {
     "name": "stderr",
     "output_type": "stream",
     "text": [
      "\r",
      "Processing compounds:   9%|████▋                                                  | 392/4599 [09:50<1:26:51,  1.24s/it]"
     ]
    },
    {
     "name": "stdout",
     "output_type": "stream",
     "text": [
      "Compound(122484)\n"
     ]
    },
    {
     "name": "stderr",
     "output_type": "stream",
     "text": [
      "\r",
      "Processing compounds:   9%|████▋                                                  | 393/4599 [09:52<1:27:38,  1.25s/it]"
     ]
    },
    {
     "name": "stdout",
     "output_type": "stream",
     "text": [
      "Compound(62385)\n"
     ]
    },
    {
     "name": "stderr",
     "output_type": "stream",
     "text": [
      "\r",
      "Processing compounds:   9%|████▋                                                  | 394/4599 [09:53<1:26:51,  1.24s/it]"
     ]
    },
    {
     "name": "stdout",
     "output_type": "stream",
     "text": [
      "Compound(70355)\n"
     ]
    },
    {
     "name": "stderr",
     "output_type": "stream",
     "text": [
      "\r",
      "Processing compounds:   9%|████▋                                                  | 395/4599 [09:54<1:23:15,  1.19s/it]"
     ]
    },
    {
     "name": "stdout",
     "output_type": "stream",
     "text": [
      "Compound(7311)\n"
     ]
    },
    {
     "name": "stderr",
     "output_type": "stream",
     "text": [
      "\r",
      "Processing compounds:   9%|████▋                                                  | 396/4599 [09:55<1:26:41,  1.24s/it]"
     ]
    },
    {
     "name": "stdout",
     "output_type": "stream",
     "text": [
      "Compound(136810)\n"
     ]
    },
    {
     "name": "stderr",
     "output_type": "stream",
     "text": [
      "\r",
      "Processing compounds:   9%|████▋                                                  | 397/4599 [09:57<1:29:55,  1.28s/it]"
     ]
    },
    {
     "name": "stdout",
     "output_type": "stream",
     "text": [
      "Compound(519395)\n"
     ]
    },
    {
     "name": "stderr",
     "output_type": "stream",
     "text": [
      "\r",
      "Processing compounds:   9%|████▊                                                  | 398/4599 [09:58<1:26:30,  1.24s/it]"
     ]
    },
    {
     "name": "stdout",
     "output_type": "stream",
     "text": [
      "Compound(12403)\n"
     ]
    },
    {
     "name": "stderr",
     "output_type": "stream",
     "text": [
      "\r",
      "Processing compounds:   9%|████▊                                                  | 399/4599 [09:59<1:24:03,  1.20s/it]"
     ]
    },
    {
     "name": "stdout",
     "output_type": "stream",
     "text": [
      "Compound(12389)\n"
     ]
    },
    {
     "name": "stderr",
     "output_type": "stream",
     "text": [
      "\r",
      "Processing compounds:   9%|████▊                                                  | 400/4599 [10:00<1:26:11,  1.23s/it]"
     ]
    },
    {
     "name": "stdout",
     "output_type": "stream",
     "text": [
      "Compound(292723)\n"
     ]
    },
    {
     "name": "stderr",
     "output_type": "stream",
     "text": [
      "\r",
      "Processing compounds:   9%|████▊                                                  | 401/4599 [10:02<1:34:21,  1.35s/it]"
     ]
    },
    {
     "name": "stdout",
     "output_type": "stream",
     "text": [
      "Compound(12408)\n"
     ]
    },
    {
     "name": "stderr",
     "output_type": "stream",
     "text": [
      "\r",
      "Processing compounds:   9%|████▊                                                  | 402/4599 [10:04<1:46:55,  1.53s/it]"
     ]
    },
    {
     "name": "stdout",
     "output_type": "stream",
     "text": [
      "Compound(519147)\n"
     ]
    },
    {
     "name": "stderr",
     "output_type": "stream",
     "text": [
      "\r",
      "Processing compounds:   9%|████▊                                                  | 403/4599 [10:05<1:39:59,  1.43s/it]"
     ]
    },
    {
     "name": "stdout",
     "output_type": "stream",
     "text": [
      "Compound(11635)\n"
     ]
    },
    {
     "name": "stderr",
     "output_type": "stream",
     "text": [
      "\r",
      "Processing compounds:   9%|████▊                                                  | 404/4599 [10:06<1:38:12,  1.40s/it]"
     ]
    },
    {
     "name": "stdout",
     "output_type": "stream",
     "text": [
      "Compound(10820)\n"
     ]
    },
    {
     "name": "stderr",
     "output_type": "stream",
     "text": [
      "\r",
      "Processing compounds:   9%|████▊                                                  | 405/4599 [10:08<1:45:07,  1.50s/it]"
     ]
    },
    {
     "name": "stdout",
     "output_type": "stream",
     "text": [
      "Compound(24585)\n"
     ]
    },
    {
     "name": "stderr",
     "output_type": "stream",
     "text": [
      "Processing compounds:   9%|████▊                                                  | 407/4599 [10:11<1:43:16,  1.48s/it]"
     ]
    },
    {
     "name": "stdout",
     "output_type": "stream",
     "text": [
      "Compound(73690)\n"
     ]
    },
    {
     "name": "stderr",
     "output_type": "stream",
     "text": [
      "\r",
      "Processing compounds:   9%|████▉                                                  | 408/4599 [10:12<1:36:53,  1.39s/it]"
     ]
    },
    {
     "name": "stdout",
     "output_type": "stream",
     "text": [
      "Compound(101977)\n"
     ]
    },
    {
     "name": "stderr",
     "output_type": "stream",
     "text": [
      "\r",
      "Processing compounds:   9%|████▉                                                  | 409/4599 [10:13<1:35:52,  1.37s/it]"
     ]
    },
    {
     "name": "stdout",
     "output_type": "stream",
     "text": [
      "Compound(578929)\n"
     ]
    },
    {
     "name": "stderr",
     "output_type": "stream",
     "text": [
      "Processing compounds:   9%|████▉                                                  | 413/4599 [10:18<1:23:55,  1.20s/it]"
     ]
    },
    {
     "name": "stdout",
     "output_type": "stream",
     "text": [
      "Compound(605019)\n"
     ]
    },
    {
     "name": "stderr",
     "output_type": "stream",
     "text": [
      "\r",
      "Processing compounds:   9%|████▉                                                  | 414/4599 [10:19<1:27:36,  1.26s/it]"
     ]
    },
    {
     "name": "stdout",
     "output_type": "stream",
     "text": [
      "Compound(521185)\n"
     ]
    },
    {
     "name": "stderr",
     "output_type": "stream",
     "text": [
      "\r",
      "Processing compounds:   9%|████▉                                                  | 415/4599 [10:21<1:34:09,  1.35s/it]"
     ]
    },
    {
     "name": "stdout",
     "output_type": "stream",
     "text": [
      "Compound(6324)\n"
     ]
    },
    {
     "name": "stderr",
     "output_type": "stream",
     "text": [
      "Processing compounds:   9%|████▉                                                  | 417/4599 [10:24<1:40:56,  1.45s/it]"
     ]
    },
    {
     "name": "stdout",
     "output_type": "stream",
     "text": [
      "Compound(6428086)\n"
     ]
    },
    {
     "name": "stderr",
     "output_type": "stream",
     "text": [
      "\r",
      "Processing compounds:   9%|████▉                                                  | 418/4599 [10:27<2:23:42,  2.06s/it]"
     ]
    },
    {
     "name": "stdout",
     "output_type": "stream",
     "text": [
      "Compound(3893)\n"
     ]
    },
    {
     "name": "stderr",
     "output_type": "stream",
     "text": [
      "Processing compounds:   9%|█████                                                  | 420/4599 [10:30<1:55:19,  1.66s/it]"
     ]
    },
    {
     "name": "stdout",
     "output_type": "stream",
     "text": [
      "Compound(8141)\n"
     ]
    },
    {
     "name": "stderr",
     "output_type": "stream",
     "text": [
      "\r",
      "Processing compounds:   9%|█████                                                  | 421/4599 [10:31<1:46:53,  1.54s/it]"
     ]
    },
    {
     "name": "stdout",
     "output_type": "stream",
     "text": [
      "Compound(8163)\n"
     ]
    },
    {
     "name": "stderr",
     "output_type": "stream",
     "text": [
      "\r",
      "Processing compounds:   9%|█████                                                  | 422/4599 [10:32<1:37:44,  1.40s/it]"
     ]
    },
    {
     "name": "stdout",
     "output_type": "stream",
     "text": [
      "Compound(957)\n"
     ]
    },
    {
     "name": "stderr",
     "output_type": "stream",
     "text": [
      "\r",
      "Processing compounds:   9%|█████                                                  | 423/4599 [10:33<1:29:51,  1.29s/it]"
     ]
    },
    {
     "name": "stdout",
     "output_type": "stream",
     "text": [
      "Compound(176)\n"
     ]
    },
    {
     "name": "stderr",
     "output_type": "stream",
     "text": [
      "\r",
      "Processing compounds:   9%|█████                                                  | 424/4599 [10:35<1:28:48,  1.28s/it]"
     ]
    },
    {
     "name": "stdout",
     "output_type": "stream",
     "text": [
      "Compound(3016336)\n"
     ]
    },
    {
     "name": "stderr",
     "output_type": "stream",
     "text": [
      "\r",
      "Processing compounds:   9%|█████                                                  | 425/4599 [10:36<1:29:03,  1.28s/it]"
     ]
    },
    {
     "name": "stdout",
     "output_type": "stream",
     "text": [
      "Compound(984)\n"
     ]
    },
    {
     "name": "stderr",
     "output_type": "stream",
     "text": [
      "\r",
      "Processing compounds:   9%|█████                                                  | 426/4599 [10:37<1:26:49,  1.25s/it]"
     ]
    },
    {
     "name": "stdout",
     "output_type": "stream",
     "text": [
      "Compound(8207)\n"
     ]
    },
    {
     "name": "stderr",
     "output_type": "stream",
     "text": [
      "\r",
      "Processing compounds:   9%|█████                                                  | 427/4599 [10:38<1:30:07,  1.30s/it]"
     ]
    },
    {
     "name": "stdout",
     "output_type": "stream",
     "text": [
      "Compound(11005)\n"
     ]
    },
    {
     "name": "stderr",
     "output_type": "stream",
     "text": [
      "\r",
      "Processing compounds:   9%|█████                                                  | 428/4599 [10:40<1:25:55,  1.24s/it]"
     ]
    },
    {
     "name": "stdout",
     "output_type": "stream",
     "text": [
      "Compound(25311)\n"
     ]
    },
    {
     "name": "stderr",
     "output_type": "stream",
     "text": [
      "\r",
      "Processing compounds:   9%|█████▏                                                 | 429/4599 [10:41<1:25:47,  1.23s/it]"
     ]
    },
    {
     "name": "stdout",
     "output_type": "stream",
     "text": [
      "Compound(12388)\n"
     ]
    },
    {
     "name": "stderr",
     "output_type": "stream",
     "text": [
      "\r",
      "Processing compounds:   9%|█████▏                                                 | 430/4599 [10:42<1:27:26,  1.26s/it]"
     ]
    },
    {
     "name": "stdout",
     "output_type": "stream",
     "text": [
      "Compound(5280541)\n"
     ]
    },
    {
     "name": "stderr",
     "output_type": "stream",
     "text": [
      "Processing compounds:   9%|█████▏                                                 | 432/4599 [10:44<1:25:53,  1.24s/it]"
     ]
    },
    {
     "name": "stdout",
     "output_type": "stream",
     "text": [
      "Compound(8182)\n"
     ]
    },
    {
     "name": "stderr",
     "output_type": "stream",
     "text": [
      "\r",
      "Processing compounds:   9%|█████▏                                                 | 433/4599 [10:46<1:34:24,  1.36s/it]"
     ]
    },
    {
     "name": "stdout",
     "output_type": "stream",
     "text": [
      "Compound(164888)\n"
     ]
    },
    {
     "name": "stderr",
     "output_type": "stream",
     "text": [
      "Processing compounds:   9%|█████▏                                                 | 435/4599 [10:49<1:29:59,  1.30s/it]"
     ]
    },
    {
     "name": "stdout",
     "output_type": "stream",
     "text": [
      "Compound(101708)\n"
     ]
    },
    {
     "name": "stderr",
     "output_type": "stream",
     "text": [
      "\r",
      "Processing compounds:   9%|█████▏                                                 | 436/4599 [10:50<1:27:47,  1.27s/it]"
     ]
    },
    {
     "name": "stdout",
     "output_type": "stream",
     "text": [
      "Compound(91746537)\n"
     ]
    },
    {
     "name": "stderr",
     "output_type": "stream",
     "text": [
      "\r",
      "Processing compounds:  10%|█████▏                                                 | 437/4599 [10:51<1:24:18,  1.22s/it]"
     ]
    },
    {
     "name": "stdout",
     "output_type": "stream",
     "text": [
      "Compound(442402)\n"
     ]
    },
    {
     "name": "stderr",
     "output_type": "stream",
     "text": [
      "\r",
      "Processing compounds:  10%|█████▏                                                 | 438/4599 [10:52<1:25:34,  1.23s/it]"
     ]
    },
    {
     "name": "stdout",
     "output_type": "stream",
     "text": [
      "Compound(2723942)\n"
     ]
    },
    {
     "name": "stderr",
     "output_type": "stream",
     "text": [
      "\r",
      "Processing compounds:  10%|█████▎                                                 | 439/4599 [10:53<1:25:00,  1.23s/it]"
     ]
    },
    {
     "name": "stdout",
     "output_type": "stream",
     "text": [
      "Compound(31401)\n"
     ]
    },
    {
     "name": "stderr",
     "output_type": "stream",
     "text": [
      "\r",
      "Processing compounds:  10%|█████▎                                                 | 440/4599 [10:55<1:25:13,  1.23s/it]"
     ]
    },
    {
     "name": "stdout",
     "output_type": "stream",
     "text": [
      "Compound(169955)\n"
     ]
    },
    {
     "name": "stderr",
     "output_type": "stream",
     "text": [
      "Processing compounds:  10%|█████▎                                                 | 442/4599 [10:57<1:32:58,  1.34s/it]"
     ]
    },
    {
     "name": "stdout",
     "output_type": "stream",
     "text": [
      "Compound(119831)\n"
     ]
    },
    {
     "name": "stderr",
     "output_type": "stream",
     "text": [
      "\r",
      "Processing compounds:  10%|█████▎                                                 | 443/4599 [10:59<1:34:56,  1.37s/it]"
     ]
    },
    {
     "name": "stdout",
     "output_type": "stream",
     "text": [
      "Compound(111440)\n"
     ]
    },
    {
     "name": "stderr",
     "output_type": "stream",
     "text": [
      "\r",
      "Processing compounds:  10%|█████▎                                                 | 444/4599 [11:00<1:31:13,  1.32s/it]"
     ]
    },
    {
     "name": "stdout",
     "output_type": "stream",
     "text": [
      "Compound(108425)\n"
     ]
    },
    {
     "name": "stderr",
     "output_type": "stream",
     "text": [
      "\r",
      "Processing compounds:  10%|█████▎                                                 | 445/4599 [11:01<1:26:09,  1.24s/it]"
     ]
    },
    {
     "name": "stdout",
     "output_type": "stream",
     "text": [
      "Compound(5366078)\n"
     ]
    },
    {
     "name": "stderr",
     "output_type": "stream",
     "text": [
      "\r",
      "Processing compounds:  10%|█████▎                                                 | 446/4599 [11:03<1:28:06,  1.27s/it]"
     ]
    },
    {
     "name": "stdout",
     "output_type": "stream",
     "text": [
      "Compound(538991)\n"
     ]
    },
    {
     "name": "stderr",
     "output_type": "stream",
     "text": [
      "\r",
      "Processing compounds:  10%|█████▎                                                 | 447/4599 [11:04<1:29:42,  1.30s/it]"
     ]
    },
    {
     "name": "stdout",
     "output_type": "stream",
     "text": [
      "Compound(232703)\n"
     ]
    },
    {
     "name": "stderr",
     "output_type": "stream",
     "text": [
      "\r",
      "Processing compounds:  10%|█████▎                                                 | 448/4599 [11:06<1:46:29,  1.54s/it]"
     ]
    },
    {
     "name": "stdout",
     "output_type": "stream",
     "text": [
      "Compound(543312)\n"
     ]
    },
    {
     "name": "stderr",
     "output_type": "stream",
     "text": [
      "Processing compounds:  10%|█████▍                                                 | 450/4599 [11:09<1:43:06,  1.49s/it]"
     ]
    },
    {
     "name": "stdout",
     "output_type": "stream",
     "text": [
      "Compound(8217)\n"
     ]
    },
    {
     "name": "stderr",
     "output_type": "stream",
     "text": [
      "\r",
      "Processing compounds:  10%|█████▍                                                 | 451/4599 [11:11<1:57:46,  1.70s/it]"
     ]
    },
    {
     "name": "stdout",
     "output_type": "stream",
     "text": [
      "Compound(8183)\n"
     ]
    },
    {
     "name": "stderr",
     "output_type": "stream",
     "text": [
      "\r",
      "Processing compounds:  10%|█████▍                                                 | 452/4599 [11:12<1:48:46,  1.57s/it]"
     ]
    },
    {
     "name": "stdout",
     "output_type": "stream",
     "text": [
      "Compound(23872)\n"
     ]
    },
    {
     "name": "stderr",
     "output_type": "stream",
     "text": [
      "\r",
      "Processing compounds:  10%|█████▍                                                 | 453/4599 [11:15<2:03:32,  1.79s/it]"
     ]
    },
    {
     "name": "stdout",
     "output_type": "stream",
     "text": [
      "Compound(2682)\n"
     ]
    },
    {
     "name": "stderr",
     "output_type": "stream",
     "text": [
      "\r",
      "Processing compounds:  10%|█████▍                                                 | 454/4599 [11:16<1:53:03,  1.64s/it]"
     ]
    },
    {
     "name": "stdout",
     "output_type": "stream",
     "text": [
      "Compound(12404)\n"
     ]
    },
    {
     "name": "stderr",
     "output_type": "stream",
     "text": [
      "\r",
      "Processing compounds:  10%|█████▍                                                 | 455/4599 [11:17<1:44:12,  1.51s/it]"
     ]
    },
    {
     "name": "stdout",
     "output_type": "stream",
     "text": [
      "Compound(534587)\n"
     ]
    },
    {
     "name": "stderr",
     "output_type": "stream",
     "text": [
      "\r",
      "Processing compounds:  10%|█████▍                                                 | 456/4599 [11:18<1:36:52,  1.40s/it]"
     ]
    },
    {
     "name": "stdout",
     "output_type": "stream",
     "text": [
      "Compound(5363129)\n"
     ]
    },
    {
     "name": "stderr",
     "output_type": "stream",
     "text": [
      "\r",
      "Processing compounds:  10%|█████▍                                                 | 457/4599 [11:20<1:37:15,  1.41s/it]"
     ]
    },
    {
     "name": "stdout",
     "output_type": "stream",
     "text": [
      "Compound(8343)\n"
     ]
    },
    {
     "name": "stderr",
     "output_type": "stream",
     "text": [
      "\r",
      "Processing compounds:  10%|█████▍                                                 | 458/4599 [11:21<1:39:39,  1.44s/it]"
     ]
    },
    {
     "name": "stdout",
     "output_type": "stream",
     "text": [
      "Compound(5364713)\n"
     ]
    },
    {
     "name": "stderr",
     "output_type": "stream",
     "text": [
      "\r",
      "Processing compounds:  10%|█████▍                                                 | 459/4599 [11:24<1:59:29,  1.73s/it]"
     ]
    },
    {
     "name": "stdout",
     "output_type": "stream",
     "text": [
      "Compound(33109)\n"
     ]
    },
    {
     "name": "stderr",
     "output_type": "stream",
     "text": [
      "\r",
      "Processing compounds:  10%|█████▌                                                 | 460/4599 [11:25<1:51:33,  1.62s/it]"
     ]
    },
    {
     "name": "stdout",
     "output_type": "stream",
     "text": [
      "Compound(5370646)\n"
     ]
    },
    {
     "name": "stderr",
     "output_type": "stream",
     "text": [
      "\r",
      "Processing compounds:  10%|█████▌                                                 | 461/4599 [11:26<1:43:43,  1.50s/it]"
     ]
    },
    {
     "name": "stdout",
     "output_type": "stream",
     "text": [
      "Compound(589326)\n"
     ]
    },
    {
     "name": "stderr",
     "output_type": "stream",
     "text": [
      "\r",
      "Processing compounds:  10%|█████▌                                                 | 462/4599 [11:28<1:41:48,  1.48s/it]"
     ]
    },
    {
     "name": "stdout",
     "output_type": "stream",
     "text": [
      "Compound(12413)\n"
     ]
    },
    {
     "name": "stderr",
     "output_type": "stream",
     "text": [
      "\r",
      "Processing compounds:  10%|█████▌                                                 | 463/4599 [11:29<1:33:49,  1.36s/it]"
     ]
    },
    {
     "name": "stdout",
     "output_type": "stream",
     "text": [
      "Compound(7165)\n"
     ]
    },
    {
     "name": "stderr",
     "output_type": "stream",
     "text": [
      "\r",
      "Processing compounds:  10%|█████▌                                                 | 464/4599 [11:30<1:32:17,  1.34s/it]"
     ]
    },
    {
     "name": "stdout",
     "output_type": "stream",
     "text": [
      "Compound(68126)\n"
     ]
    },
    {
     "name": "stderr",
     "output_type": "stream",
     "text": [
      "\r",
      "Processing compounds:  10%|█████▌                                                 | 465/4599 [11:32<1:35:56,  1.39s/it]"
     ]
    },
    {
     "name": "stdout",
     "output_type": "stream",
     "text": [
      "Compound(6432271)\n"
     ]
    },
    {
     "name": "stderr",
     "output_type": "stream",
     "text": [
      "\r",
      "Processing compounds:  10%|█████▌                                                 | 466/4599 [11:33<1:34:51,  1.38s/it]"
     ]
    },
    {
     "name": "stdout",
     "output_type": "stream",
     "text": [
      "Compound(8184)\n"
     ]
    },
    {
     "name": "stderr",
     "output_type": "stream",
     "text": [
      "\r",
      "Processing compounds:  10%|█████▌                                                 | 467/4599 [11:35<1:58:27,  1.72s/it]"
     ]
    },
    {
     "name": "stdout",
     "output_type": "stream",
     "text": [
      "Compound(2879)\n"
     ]
    },
    {
     "name": "stderr",
     "output_type": "stream",
     "text": [
      "\r",
      "Processing compounds:  10%|█████▌                                                 | 468/4599 [11:37<1:54:09,  1.66s/it]"
     ]
    },
    {
     "name": "stdout",
     "output_type": "stream",
     "text": [
      "Compound(5364941)\n"
     ]
    },
    {
     "name": "stderr",
     "output_type": "stream",
     "text": [
      "\r",
      "Processing compounds:  10%|█████▌                                                 | 469/4599 [11:38<1:46:50,  1.55s/it]"
     ]
    },
    {
     "name": "stdout",
     "output_type": "stream",
     "text": [
      "Compound(2345)\n"
     ]
    },
    {
     "name": "stderr",
     "output_type": "stream",
     "text": [
      "\r",
      "Processing compounds:  10%|█████▌                                                 | 470/4599 [11:39<1:36:19,  1.40s/it]"
     ]
    },
    {
     "name": "stdout",
     "output_type": "stream",
     "text": [
      "Compound(1140)\n"
     ]
    },
    {
     "name": "stderr",
     "output_type": "stream",
     "text": [
      "\r",
      "Processing compounds:  10%|█████▋                                                 | 471/4599 [11:40<1:29:42,  1.30s/it]"
     ]
    },
    {
     "name": "stdout",
     "output_type": "stream",
     "text": [
      "Compound(6344)\n"
     ]
    },
    {
     "name": "stderr",
     "output_type": "stream",
     "text": [
      "\r",
      "Processing compounds:  10%|█████▋                                                 | 472/4599 [11:42<1:36:22,  1.40s/it]"
     ]
    },
    {
     "name": "stdout",
     "output_type": "stream",
     "text": [
      "Compound(8058)\n"
     ]
    },
    {
     "name": "stderr",
     "output_type": "stream",
     "text": [
      "\r",
      "Processing compounds:  10%|█████▋                                                 | 473/4599 [11:43<1:36:36,  1.40s/it]"
     ]
    },
    {
     "name": "stdout",
     "output_type": "stream",
     "text": [
      "Compound(180)\n"
     ]
    },
    {
     "name": "stderr",
     "output_type": "stream",
     "text": [
      "\r",
      "Processing compounds:  10%|█████▋                                                 | 474/4599 [11:45<1:41:19,  1.47s/it]"
     ]
    },
    {
     "name": "stdout",
     "output_type": "stream",
     "text": [
      "Compound(77844)\n"
     ]
    },
    {
     "name": "stderr",
     "output_type": "stream",
     "text": [
      "\r",
      "Processing compounds:  10%|█████▋                                                 | 475/4599 [11:46<1:36:07,  1.40s/it]"
     ]
    },
    {
     "name": "stdout",
     "output_type": "stream",
     "text": [
      "Compound(6212)\n"
     ]
    },
    {
     "name": "stderr",
     "output_type": "stream",
     "text": [
      "\r",
      "Processing compounds:  10%|█████▋                                                 | 476/4599 [11:47<1:31:54,  1.34s/it]"
     ]
    },
    {
     "name": "stdout",
     "output_type": "stream",
     "text": [
      "Compound(7150)\n"
     ]
    },
    {
     "name": "stderr",
     "output_type": "stream",
     "text": [
      "\r",
      "Processing compounds:  10%|█████▋                                                 | 477/4599 [11:48<1:26:13,  1.26s/it]"
     ]
    },
    {
     "name": "stdout",
     "output_type": "stream",
     "text": [
      "Compound(702)\n"
     ]
    },
    {
     "name": "stderr",
     "output_type": "stream",
     "text": [
      "\r",
      "Processing compounds:  10%|█████▋                                                 | 478/4599 [11:50<1:24:38,  1.23s/it]"
     ]
    },
    {
     "name": "stdout",
     "output_type": "stream",
     "text": [
      "Compound(8109)\n"
     ]
    },
    {
     "name": "stderr",
     "output_type": "stream",
     "text": [
      "\r",
      "Processing compounds:  10%|█████▋                                                 | 479/4599 [11:51<1:21:44,  1.19s/it]"
     ]
    },
    {
     "name": "stdout",
     "output_type": "stream",
     "text": [
      "Compound(9016)\n"
     ]
    },
    {
     "name": "stderr",
     "output_type": "stream",
     "text": [
      "\r",
      "Processing compounds:  10%|█████▋                                                 | 480/4599 [11:52<1:21:27,  1.19s/it]"
     ]
    },
    {
     "name": "stdout",
     "output_type": "stream",
     "text": [
      "Compound(177)\n"
     ]
    },
    {
     "name": "stderr",
     "output_type": "stream",
     "text": [
      "\r",
      "Processing compounds:  10%|█████▊                                                 | 481/4599 [11:53<1:21:42,  1.19s/it]"
     ]
    },
    {
     "name": "stdout",
     "output_type": "stream",
     "text": [
      "Compound(6568)\n"
     ]
    },
    {
     "name": "stderr",
     "output_type": "stream",
     "text": [
      "\r",
      "Processing compounds:  10%|█████▊                                                 | 482/4599 [11:55<1:30:35,  1.32s/it]"
     ]
    },
    {
     "name": "stdout",
     "output_type": "stream",
     "text": [
      "Compound(18554)\n"
     ]
    },
    {
     "name": "stderr",
     "output_type": "stream",
     "text": [
      "\r",
      "Processing compounds:  11%|█████▊                                                 | 483/4599 [11:56<1:28:16,  1.29s/it]"
     ]
    },
    {
     "name": "stdout",
     "output_type": "stream",
     "text": [
      "Compound(8723)\n"
     ]
    },
    {
     "name": "stderr",
     "output_type": "stream",
     "text": [
      "\r",
      "Processing compounds:  11%|█████▊                                                 | 484/4599 [11:57<1:32:01,  1.34s/it]"
     ]
    },
    {
     "name": "stdout",
     "output_type": "stream",
     "text": [
      "Compound(31260)\n"
     ]
    },
    {
     "name": "stderr",
     "output_type": "stream",
     "text": [
      "\r",
      "Processing compounds:  11%|█████▊                                                 | 485/4599 [11:59<1:32:55,  1.36s/it]"
     ]
    },
    {
     "name": "stdout",
     "output_type": "stream",
     "text": [
      "Compound(6440)\n"
     ]
    },
    {
     "name": "stderr",
     "output_type": "stream",
     "text": [
      "\r",
      "Processing compounds:  11%|█████▊                                                 | 486/4599 [12:00<1:32:47,  1.35s/it]"
     ]
    },
    {
     "name": "stdout",
     "output_type": "stream",
     "text": [
      "Compound(262)\n"
     ]
    },
    {
     "name": "stderr",
     "output_type": "stream",
     "text": [
      "\r",
      "Processing compounds:  11%|█████▊                                                 | 487/4599 [12:01<1:30:54,  1.33s/it]"
     ]
    },
    {
     "name": "stdout",
     "output_type": "stream",
     "text": [
      "Compound(12020)\n"
     ]
    },
    {
     "name": "stderr",
     "output_type": "stream",
     "text": [
      "\r",
      "Processing compounds:  11%|█████▊                                                 | 488/4599 [12:03<1:27:59,  1.28s/it]"
     ]
    },
    {
     "name": "stdout",
     "output_type": "stream",
     "text": [
      "Compound(10413)\n"
     ]
    },
    {
     "name": "stderr",
     "output_type": "stream",
     "text": [
      "\r",
      "Processing compounds:  11%|█████▊                                                 | 489/4599 [12:04<1:27:14,  1.27s/it]"
     ]
    },
    {
     "name": "stdout",
     "output_type": "stream",
     "text": [
      "Compound(5318042)\n"
     ]
    },
    {
     "name": "stderr",
     "output_type": "stream",
     "text": [
      "\r",
      "Processing compounds:  11%|█████▊                                                 | 490/4599 [12:06<1:35:55,  1.40s/it]"
     ]
    },
    {
     "name": "stdout",
     "output_type": "stream",
     "text": [
      "Compound(12756)\n"
     ]
    },
    {
     "name": "stderr",
     "output_type": "stream",
     "text": [
      "\r",
      "Processing compounds:  11%|█████▊                                                 | 491/4599 [12:07<1:33:42,  1.37s/it]"
     ]
    },
    {
     "name": "stdout",
     "output_type": "stream",
     "text": [
      "Compound(8038)\n"
     ]
    },
    {
     "name": "stderr",
     "output_type": "stream",
     "text": [
      "\r",
      "Processing compounds:  11%|█████▉                                                 | 492/4599 [12:08<1:30:24,  1.32s/it]"
     ]
    },
    {
     "name": "stdout",
     "output_type": "stream",
     "text": [
      "Compound(5282108)\n"
     ]
    },
    {
     "name": "stderr",
     "output_type": "stream",
     "text": [
      "\r",
      "Processing compounds:  11%|█████▉                                                 | 493/4599 [12:09<1:28:48,  1.30s/it]"
     ]
    },
    {
     "name": "stdout",
     "output_type": "stream",
     "text": [
      "Compound(1713001)\n"
     ]
    },
    {
     "name": "stderr",
     "output_type": "stream",
     "text": [
      "\r",
      "Processing compounds:  11%|█████▉                                                 | 494/4599 [12:11<1:28:04,  1.29s/it]"
     ]
    },
    {
     "name": "stdout",
     "output_type": "stream",
     "text": [
      "Compound(10453)\n"
     ]
    },
    {
     "name": "stderr",
     "output_type": "stream",
     "text": [
      "\r",
      "Processing compounds:  11%|█████▉                                                 | 495/4599 [12:12<1:27:41,  1.28s/it]"
     ]
    },
    {
     "name": "stdout",
     "output_type": "stream",
     "text": [
      "Compound(4133)\n"
     ]
    },
    {
     "name": "stderr",
     "output_type": "stream",
     "text": [
      "\r",
      "Processing compounds:  11%|█████▉                                                 | 496/4599 [12:13<1:28:43,  1.30s/it]"
     ]
    },
    {
     "name": "stdout",
     "output_type": "stream",
     "text": [
      "Compound(7800)\n"
     ]
    },
    {
     "name": "stderr",
     "output_type": "stream",
     "text": [
      "\r",
      "Processing compounds:  11%|█████▉                                                 | 497/4599 [12:14<1:26:13,  1.26s/it]"
     ]
    },
    {
     "name": "stdout",
     "output_type": "stream",
     "text": [
      "Compound(10225)\n"
     ]
    },
    {
     "name": "stderr",
     "output_type": "stream",
     "text": [
      "\r",
      "Processing compounds:  11%|█████▉                                                 | 498/4599 [12:15<1:23:25,  1.22s/it]"
     ]
    },
    {
     "name": "stdout",
     "output_type": "stream",
     "text": [
      "Compound(75554)\n"
     ]
    },
    {
     "name": "stderr",
     "output_type": "stream",
     "text": [
      "\r",
      "Processing compounds:  11%|█████▉                                                 | 499/4599 [12:18<1:40:33,  1.47s/it]"
     ]
    },
    {
     "name": "stdout",
     "output_type": "stream",
     "text": [
      "Compound(7296)\n"
     ]
    },
    {
     "name": "stderr",
     "output_type": "stream",
     "text": [
      "\r",
      "Processing compounds:  11%|█████▉                                                 | 500/4599 [12:19<1:34:28,  1.38s/it]"
     ]
    },
    {
     "name": "stdout",
     "output_type": "stream",
     "text": [
      "Compound(11582)\n"
     ]
    },
    {
     "name": "stderr",
     "output_type": "stream",
     "text": [
      "\r",
      "Processing compounds:  11%|█████▉                                                 | 501/4599 [12:21<1:50:48,  1.62s/it]"
     ]
    },
    {
     "name": "stdout",
     "output_type": "stream",
     "text": [
      "Compound(1711945)\n"
     ]
    },
    {
     "name": "stderr",
     "output_type": "stream",
     "text": [
      "\r",
      "Processing compounds:  11%|██████                                                 | 502/4599 [12:22<1:43:34,  1.52s/it]"
     ]
    },
    {
     "name": "stdout",
     "output_type": "stream",
     "text": [
      "Compound(5365871)\n"
     ]
    },
    {
     "name": "stderr",
     "output_type": "stream",
     "text": [
      "\r",
      "Processing compounds:  11%|██████                                                 | 503/4599 [12:23<1:34:25,  1.38s/it]"
     ]
    },
    {
     "name": "stdout",
     "output_type": "stream",
     "text": [
      "Compound(1201518)\n"
     ]
    },
    {
     "name": "stderr",
     "output_type": "stream",
     "text": [
      "\r",
      "Processing compounds:  11%|██████                                                 | 504/4599 [12:25<1:37:58,  1.44s/it]"
     ]
    },
    {
     "name": "stdout",
     "output_type": "stream",
     "text": [
      "Compound(3026)\n"
     ]
    },
    {
     "name": "stderr",
     "output_type": "stream",
     "text": [
      "\r",
      "Processing compounds:  11%|██████                                                 | 505/4599 [12:27<1:51:34,  1.64s/it]"
     ]
    },
    {
     "name": "stdout",
     "output_type": "stream",
     "text": [
      "Compound(7705)\n"
     ]
    },
    {
     "name": "stderr",
     "output_type": "stream",
     "text": [
      "\r",
      "Processing compounds:  11%|██████                                                 | 506/4599 [12:29<1:56:06,  1.70s/it]"
     ]
    },
    {
     "name": "stdout",
     "output_type": "stream",
     "text": [
      "Compound(20263)\n"
     ]
    },
    {
     "name": "stderr",
     "output_type": "stream",
     "text": [
      "\r",
      "Processing compounds:  11%|██████                                                 | 507/4599 [12:30<1:45:49,  1.55s/it]"
     ]
    },
    {
     "name": "stdout",
     "output_type": "stream",
     "text": [
      "Compound(81909)\n"
     ]
    },
    {
     "name": "stderr",
     "output_type": "stream",
     "text": [
      "\r",
      "Processing compounds:  11%|██████                                                 | 508/4599 [12:31<1:38:57,  1.45s/it]"
     ]
    },
    {
     "name": "stdout",
     "output_type": "stream",
     "text": [
      "Compound(12304273)\n"
     ]
    },
    {
     "name": "stderr",
     "output_type": "stream",
     "text": [
      "\r",
      "Processing compounds:  11%|██████                                                 | 509/4599 [12:33<1:36:53,  1.42s/it]"
     ]
    },
    {
     "name": "stdout",
     "output_type": "stream",
     "text": [
      "Compound(10681562)\n"
     ]
    },
    {
     "name": "stderr",
     "output_type": "stream",
     "text": [
      "\r",
      "Processing compounds:  11%|██████                                                 | 510/4599 [12:34<1:29:35,  1.31s/it]"
     ]
    },
    {
     "name": "stdout",
     "output_type": "stream",
     "text": [
      "Compound(6429274)\n"
     ]
    },
    {
     "name": "stderr",
     "output_type": "stream",
     "text": [
      "\r",
      "Processing compounds:  11%|██████                                                 | 511/4599 [12:35<1:38:11,  1.44s/it]"
     ]
    },
    {
     "name": "stdout",
     "output_type": "stream",
     "text": [
      "Compound(9548705)\n"
     ]
    },
    {
     "name": "stderr",
     "output_type": "stream",
     "text": [
      "\r",
      "Processing compounds:  11%|██████                                                 | 512/4599 [12:37<1:52:30,  1.65s/it]"
     ]
    },
    {
     "name": "stdout",
     "output_type": "stream",
     "text": [
      "Compound(98497)\n"
     ]
    },
    {
     "name": "stderr",
     "output_type": "stream",
     "text": [
      "Processing compounds:  11%|██████▏                                                | 514/4599 [12:41<1:54:48,  1.69s/it]"
     ]
    },
    {
     "name": "stdout",
     "output_type": "stream",
     "text": [
      "Compound(15624)\n"
     ]
    },
    {
     "name": "stderr",
     "output_type": "stream",
     "text": [
      "\r",
      "Processing compounds:  11%|██████▏                                                | 515/4599 [12:43<1:55:37,  1.70s/it]"
     ]
    },
    {
     "name": "stdout",
     "output_type": "stream",
     "text": [
      "Compound(20055075)\n"
     ]
    },
    {
     "name": "stderr",
     "output_type": "stream",
     "text": [
      "\r",
      "Processing compounds:  11%|██████▏                                                | 516/4599 [12:45<2:03:49,  1.82s/it]"
     ]
    },
    {
     "name": "stdout",
     "output_type": "stream",
     "text": [
      "Compound(519298)\n"
     ]
    },
    {
     "name": "stderr",
     "output_type": "stream",
     "text": [
      "\r",
      "Processing compounds:  11%|██████▏                                                | 517/4599 [12:46<1:53:05,  1.66s/it]"
     ]
    },
    {
     "name": "stdout",
     "output_type": "stream",
     "text": [
      "Compound(595137)\n"
     ]
    },
    {
     "name": "stderr",
     "output_type": "stream",
     "text": [
      "Processing compounds:  11%|██████▏                                                | 519/4599 [12:49<1:46:05,  1.56s/it]"
     ]
    },
    {
     "name": "stdout",
     "output_type": "stream",
     "text": [
      "Compound(90785)\n"
     ]
    },
    {
     "name": "stderr",
     "output_type": "stream",
     "text": [
      "\r",
      "Processing compounds:  11%|██████▏                                                | 520/4599 [12:50<1:48:27,  1.60s/it]"
     ]
    },
    {
     "name": "stdout",
     "output_type": "stream",
     "text": [
      "Compound(1549107)\n"
     ]
    },
    {
     "name": "stderr",
     "output_type": "stream",
     "text": [
      "\r",
      "Processing compounds:  11%|██████▏                                                | 521/4599 [12:53<1:58:58,  1.75s/it]"
     ]
    },
    {
     "name": "stdout",
     "output_type": "stream",
     "text": [
      "Compound(6429077)\n"
     ]
    },
    {
     "name": "stderr",
     "output_type": "stream",
     "text": [
      "Processing compounds:  11%|██████▎                                                | 525/4599 [12:57<1:27:07,  1.28s/it]"
     ]
    },
    {
     "name": "stdout",
     "output_type": "stream",
     "text": [
      "Compound(8201)\n"
     ]
    },
    {
     "name": "stderr",
     "output_type": "stream",
     "text": [
      "\r",
      "Processing compounds:  11%|██████▎                                                | 526/4599 [12:58<1:27:13,  1.28s/it]"
     ]
    },
    {
     "name": "stdout",
     "output_type": "stream",
     "text": [
      "Compound(15559495)\n"
     ]
    },
    {
     "name": "stderr",
     "output_type": "stream",
     "text": [
      "\r",
      "Processing compounds:  11%|██████▎                                                | 527/4599 [12:59<1:23:41,  1.23s/it]"
     ]
    },
    {
     "name": "stdout",
     "output_type": "stream",
     "text": [
      "Compound(5284421)\n"
     ]
    },
    {
     "name": "stderr",
     "output_type": "stream",
     "text": [
      "Processing compounds:  12%|██████▎                                                | 531/4599 [13:04<1:19:52,  1.18s/it]"
     ]
    },
    {
     "name": "stdout",
     "output_type": "stream",
     "text": [
      "Compound(520383)\n"
     ]
    },
    {
     "name": "stderr",
     "output_type": "stream",
     "text": [
      "\r",
      "Processing compounds:  12%|██████▎                                                | 532/4599 [13:06<1:39:58,  1.48s/it]"
     ]
    },
    {
     "name": "stdout",
     "output_type": "stream",
     "text": [
      "Compound(583109)\n"
     ]
    },
    {
     "name": "stderr",
     "output_type": "stream",
     "text": [
      "\r",
      "Processing compounds:  12%|██████▎                                                | 533/4599 [13:08<1:41:11,  1.49s/it]"
     ]
    },
    {
     "name": "stdout",
     "output_type": "stream",
     "text": [
      "Compound(5365775)\n"
     ]
    },
    {
     "name": "stderr",
     "output_type": "stream",
     "text": [
      "\r",
      "Processing compounds:  12%|██████▍                                                | 534/4599 [13:09<1:41:15,  1.49s/it]"
     ]
    },
    {
     "name": "stdout",
     "output_type": "stream",
     "text": [
      "Compound(5367448)\n"
     ]
    },
    {
     "name": "stderr",
     "output_type": "stream",
     "text": [
      "\r",
      "Processing compounds:  12%|██████▍                                                | 535/4599 [13:11<1:33:09,  1.38s/it]"
     ]
    },
    {
     "name": "stdout",
     "output_type": "stream",
     "text": [
      "Compound(71306395)\n"
     ]
    },
    {
     "name": "stderr",
     "output_type": "stream",
     "text": [
      "\r",
      "Processing compounds:  12%|██████▍                                                | 536/4599 [13:12<1:40:42,  1.49s/it]"
     ]
    },
    {
     "name": "stdout",
     "output_type": "stream",
     "text": [
      "Compound(5317570)\n"
     ]
    },
    {
     "name": "stderr",
     "output_type": "stream",
     "text": [
      "\r",
      "Processing compounds:  12%|██████▍                                                | 537/4599 [13:13<1:34:03,  1.39s/it]"
     ]
    },
    {
     "name": "stdout",
     "output_type": "stream",
     "text": [
      "Compound(53438593)\n"
     ]
    },
    {
     "name": "stderr",
     "output_type": "stream",
     "text": [
      "\r",
      "Processing compounds:  12%|██████▍                                                | 538/4599 [13:15<1:33:53,  1.39s/it]"
     ]
    },
    {
     "name": "stdout",
     "output_type": "stream",
     "text": [
      "Compound(6443015)\n"
     ]
    },
    {
     "name": "stderr",
     "output_type": "stream",
     "text": [
      "\r",
      "Processing compounds:  12%|██████▍                                                | 539/4599 [13:16<1:27:56,  1.30s/it]"
     ]
    },
    {
     "name": "stdout",
     "output_type": "stream",
     "text": [
      "Compound(527304)\n"
     ]
    },
    {
     "name": "stderr",
     "output_type": "stream",
     "text": [
      "\r",
      "Processing compounds:  12%|██████▍                                                | 540/4599 [13:18<1:45:48,  1.56s/it]"
     ]
    },
    {
     "name": "stdout",
     "output_type": "stream",
     "text": [
      "Compound(545235)\n"
     ]
    },
    {
     "name": "stderr",
     "output_type": "stream",
     "text": [
      "Processing compounds:  12%|██████▍                                                | 542/4599 [13:21<1:36:21,  1.43s/it]"
     ]
    },
    {
     "name": "stdout",
     "output_type": "stream",
     "text": [
      "Compound(5362910)\n"
     ]
    },
    {
     "name": "stderr",
     "output_type": "stream",
     "text": [
      "\r",
      "Processing compounds:  12%|██████▍                                                | 543/4599 [13:22<1:41:17,  1.50s/it]"
     ]
    },
    {
     "name": "stdout",
     "output_type": "stream",
     "text": [
      "Compound(529621)\n"
     ]
    },
    {
     "name": "stderr",
     "output_type": "stream",
     "text": [
      "\r",
      "Processing compounds:  12%|██████▌                                                | 544/4599 [13:24<1:42:28,  1.52s/it]"
     ]
    },
    {
     "name": "stdout",
     "output_type": "stream",
     "text": [
      "Compound(5367706)\n"
     ]
    },
    {
     "name": "stderr",
     "output_type": "stream",
     "text": [
      "\r",
      "Processing compounds:  12%|██████▌                                                | 545/4599 [13:25<1:35:32,  1.41s/it]"
     ]
    },
    {
     "name": "stdout",
     "output_type": "stream",
     "text": [
      "Compound(563197)\n"
     ]
    },
    {
     "name": "stderr",
     "output_type": "stream",
     "text": [
      "\r",
      "Processing compounds:  12%|██████▌                                                | 546/4599 [13:26<1:33:27,  1.38s/it]"
     ]
    },
    {
     "name": "stdout",
     "output_type": "stream",
     "text": [
      "Compound(10655819)\n"
     ]
    },
    {
     "name": "stderr",
     "output_type": "stream",
     "text": [
      "\r",
      "Processing compounds:  12%|██████▌                                                | 547/4599 [13:28<1:30:27,  1.34s/it]"
     ]
    },
    {
     "name": "stdout",
     "output_type": "stream",
     "text": [
      "Compound(5363269)\n"
     ]
    },
    {
     "name": "stderr",
     "output_type": "stream",
     "text": [
      "Processing compounds:  12%|██████▌                                                | 550/4599 [13:31<1:25:46,  1.27s/it]"
     ]
    },
    {
     "name": "stdout",
     "output_type": "stream",
     "text": [
      "Compound(68346)\n"
     ]
    },
    {
     "name": "stderr",
     "output_type": "stream",
     "text": [
      "\r",
      "Processing compounds:  12%|██████▌                                                | 551/4599 [13:33<1:24:54,  1.26s/it]"
     ]
    },
    {
     "name": "stdout",
     "output_type": "stream",
     "text": [
      "Compound(14529)\n"
     ]
    },
    {
     "name": "stderr",
     "output_type": "stream",
     "text": [
      "\r",
      "Processing compounds:  12%|██████▌                                                | 552/4599 [13:34<1:27:13,  1.29s/it]"
     ]
    },
    {
     "name": "stdout",
     "output_type": "stream",
     "text": [
      "Compound(8222)\n"
     ]
    },
    {
     "name": "stderr",
     "output_type": "stream",
     "text": [
      "\r",
      "Processing compounds:  12%|██████▌                                                | 553/4599 [13:35<1:29:34,  1.33s/it]"
     ]
    },
    {
     "name": "stdout",
     "output_type": "stream",
     "text": [
      "Compound(12405)\n"
     ]
    },
    {
     "name": "stderr",
     "output_type": "stream",
     "text": [
      "\r",
      "Processing compounds:  12%|██████▋                                                | 554/4599 [13:37<1:27:35,  1.30s/it]"
     ]
    },
    {
     "name": "stdout",
     "output_type": "stream",
     "text": [
      "Compound(41209)\n"
     ]
    },
    {
     "name": "stderr",
     "output_type": "stream",
     "text": [
      "\r",
      "Processing compounds:  12%|██████▋                                                | 555/4599 [13:38<1:24:10,  1.25s/it]"
     ]
    },
    {
     "name": "stdout",
     "output_type": "stream",
     "text": [
      "Compound(444266)\n"
     ]
    },
    {
     "name": "stderr",
     "output_type": "stream",
     "text": [
      "\r",
      "Processing compounds:  12%|██████▋                                                | 556/4599 [13:39<1:27:18,  1.30s/it]"
     ]
    },
    {
     "name": "stdout",
     "output_type": "stream",
     "text": [
      "Compound(95495)\n"
     ]
    },
    {
     "name": "stderr",
     "output_type": "stream",
     "text": [
      "\r",
      "Processing compounds:  12%|██████▋                                                | 557/4599 [13:42<1:48:19,  1.61s/it]"
     ]
    },
    {
     "name": "stdout",
     "output_type": "stream",
     "text": [
      "Compound(61412)\n"
     ]
    },
    {
     "name": "stderr",
     "output_type": "stream",
     "text": [
      "\r",
      "Processing compounds:  12%|██████▋                                                | 558/4599 [13:43<1:46:16,  1.58s/it]"
     ]
    },
    {
     "name": "stdout",
     "output_type": "stream",
     "text": [
      "Compound(638500)\n"
     ]
    },
    {
     "name": "stderr",
     "output_type": "stream",
     "text": [
      "\r",
      "Processing compounds:  12%|██████▋                                                | 559/4599 [13:45<1:48:55,  1.62s/it]"
     ]
    },
    {
     "name": "stdout",
     "output_type": "stream",
     "text": [
      "Compound(5365703)\n"
     ]
    },
    {
     "name": "stderr",
     "output_type": "stream",
     "text": [
      "\r",
      "Processing compounds:  12%|██████▋                                                | 560/4599 [13:47<1:53:58,  1.69s/it]"
     ]
    },
    {
     "name": "stdout",
     "output_type": "stream",
     "text": [
      "Compound(8167)\n"
     ]
    },
    {
     "name": "stderr",
     "output_type": "stream",
     "text": [
      "\r",
      "Processing compounds:  12%|██████▋                                                | 561/4599 [13:48<1:51:16,  1.65s/it]"
     ]
    },
    {
     "name": "stdout",
     "output_type": "stream",
     "text": [
      "Compound(8205)\n"
     ]
    },
    {
     "name": "stderr",
     "output_type": "stream",
     "text": [
      "\r",
      "Processing compounds:  12%|██████▋                                                | 562/4599 [13:50<1:53:19,  1.68s/it]"
     ]
    },
    {
     "name": "stdout",
     "output_type": "stream",
     "text": [
      "Compound(1551480)\n"
     ]
    },
    {
     "name": "stderr",
     "output_type": "stream",
     "text": [
      "\r",
      "Processing compounds:  12%|██████▋                                                | 563/4599 [13:51<1:44:53,  1.56s/it]"
     ]
    },
    {
     "name": "stdout",
     "output_type": "stream",
     "text": [
      "Compound(15825585)\n"
     ]
    },
    {
     "name": "stderr",
     "output_type": "stream",
     "text": [
      "Processing compounds:  12%|██████▊                                                | 565/4599 [13:53<1:31:08,  1.36s/it]"
     ]
    },
    {
     "name": "stdout",
     "output_type": "stream",
     "text": [
      "Compound(6431104)\n"
     ]
    },
    {
     "name": "stderr",
     "output_type": "stream",
     "text": [
      "\r",
      "Processing compounds:  12%|██████▊                                                | 566/4599 [13:55<1:31:19,  1.36s/it]"
     ]
    },
    {
     "name": "stdout",
     "output_type": "stream",
     "text": [
      "Compound(6428982)\n"
     ]
    },
    {
     "name": "stderr",
     "output_type": "stream",
     "text": [
      "\r",
      "Processing compounds:  12%|██████▊                                                | 567/4599 [13:58<2:01:42,  1.81s/it]"
     ]
    },
    {
     "name": "stdout",
     "output_type": "stream",
     "text": [
      "Compound(637517)\n"
     ]
    },
    {
     "name": "stderr",
     "output_type": "stream",
     "text": [
      "\r",
      "Processing compounds:  12%|██████▊                                                | 568/4599 [13:59<1:47:58,  1.61s/it]"
     ]
    },
    {
     "name": "stdout",
     "output_type": "stream",
     "text": [
      "Compound(5363334)\n"
     ]
    },
    {
     "name": "stderr",
     "output_type": "stream",
     "text": [
      "\r",
      "Processing compounds:  12%|██████▊                                                | 569/4599 [14:00<1:39:20,  1.48s/it]"
     ]
    },
    {
     "name": "stdout",
     "output_type": "stream",
     "text": [
      "Compound(8174)\n"
     ]
    },
    {
     "name": "stderr",
     "output_type": "stream",
     "text": [
      "\r",
      "Processing compounds:  12%|██████▊                                                | 570/4599 [14:01<1:34:55,  1.41s/it]"
     ]
    },
    {
     "name": "stdout",
     "output_type": "stream",
     "text": [
      "Compound(12412)\n"
     ]
    },
    {
     "name": "stderr",
     "output_type": "stream",
     "text": [
      "\r",
      "Processing compounds:  12%|██████▊                                                | 571/4599 [14:03<1:32:48,  1.38s/it]"
     ]
    },
    {
     "name": "stdout",
     "output_type": "stream",
     "text": [
      "Compound(24318)\n"
     ]
    },
    {
     "name": "stderr",
     "output_type": "stream",
     "text": [
      "\r",
      "Processing compounds:  12%|██████▊                                                | 572/4599 [14:04<1:30:05,  1.34s/it]"
     ]
    },
    {
     "name": "stdout",
     "output_type": "stream",
     "text": [
      "Compound(76013)\n"
     ]
    },
    {
     "name": "stderr",
     "output_type": "stream",
     "text": [
      "\r",
      "Processing compounds:  12%|██████▊                                                | 573/4599 [14:05<1:30:02,  1.34s/it]"
     ]
    },
    {
     "name": "stdout",
     "output_type": "stream",
     "text": [
      "Compound(521846)\n"
     ]
    },
    {
     "name": "stderr",
     "output_type": "stream",
     "text": [
      "\r",
      "Processing compounds:  12%|██████▊                                                | 574/4599 [14:07<1:37:11,  1.45s/it]"
     ]
    },
    {
     "name": "stdout",
     "output_type": "stream",
     "text": [
      "Compound(39180)\n"
     ]
    },
    {
     "name": "stderr",
     "output_type": "stream",
     "text": [
      "\r",
      "Processing compounds:  13%|██████▉                                                | 575/4599 [14:09<1:43:37,  1.55s/it]"
     ]
    },
    {
     "name": "stdout",
     "output_type": "stream",
     "text": [
      "Compound(7013)\n"
     ]
    },
    {
     "name": "stderr",
     "output_type": "stream",
     "text": [
      "\r",
      "Processing compounds:  13%|██████▉                                                | 576/4599 [14:10<1:36:58,  1.45s/it]"
     ]
    },
    {
     "name": "stdout",
     "output_type": "stream",
     "text": [
      "Compound(524436)\n"
     ]
    },
    {
     "name": "stderr",
     "output_type": "stream",
     "text": [
      "\r",
      "Processing compounds:  13%|██████▉                                                | 577/4599 [14:11<1:32:32,  1.38s/it]"
     ]
    },
    {
     "name": "stdout",
     "output_type": "stream",
     "text": [
      "Compound(8089)\n"
     ]
    },
    {
     "name": "stderr",
     "output_type": "stream",
     "text": [
      "\r",
      "Processing compounds:  13%|██████▉                                                | 578/4599 [14:12<1:31:37,  1.37s/it]"
     ]
    },
    {
     "name": "stdout",
     "output_type": "stream",
     "text": [
      "Compound(521590)\n"
     ]
    },
    {
     "name": "stderr",
     "output_type": "stream",
     "text": [
      "\r",
      "Processing compounds:  13%|██████▉                                                | 579/4599 [14:14<1:29:07,  1.33s/it]"
     ]
    },
    {
     "name": "stdout",
     "output_type": "stream",
     "text": [
      "Compound(26519)\n"
     ]
    },
    {
     "name": "stderr",
     "output_type": "stream",
     "text": [
      "\r",
      "Processing compounds:  13%|██████▉                                                | 580/4599 [14:15<1:30:32,  1.35s/it]"
     ]
    },
    {
     "name": "stdout",
     "output_type": "stream",
     "text": [
      "Compound(10329)\n"
     ]
    },
    {
     "name": "stderr",
     "output_type": "stream",
     "text": [
      "\r",
      "Processing compounds:  13%|██████▉                                                | 581/4599 [14:16<1:30:36,  1.35s/it]"
     ]
    },
    {
     "name": "stdout",
     "output_type": "stream",
     "text": [
      "Compound(20149)\n"
     ]
    },
    {
     "name": "stderr",
     "output_type": "stream",
     "text": [
      "\r",
      "Processing compounds:  13%|██████▉                                                | 582/4599 [14:18<1:32:02,  1.37s/it]"
     ]
    },
    {
     "name": "stdout",
     "output_type": "stream",
     "text": [
      "Compound(521177)\n"
     ]
    },
    {
     "name": "stderr",
     "output_type": "stream",
     "text": [
      "\r",
      "Processing compounds:  13%|██████▉                                                | 583/4599 [14:20<1:47:42,  1.61s/it]"
     ]
    },
    {
     "name": "stdout",
     "output_type": "stream",
     "text": [
      "Compound(5319737)\n"
     ]
    },
    {
     "name": "stderr",
     "output_type": "stream",
     "text": [
      "\r",
      "Processing compounds:  13%|██████▉                                                | 584/4599 [14:21<1:40:20,  1.50s/it]"
     ]
    },
    {
     "name": "stdout",
     "output_type": "stream",
     "text": [
      "Compound(5365663)\n"
     ]
    },
    {
     "name": "stderr",
     "output_type": "stream",
     "text": [
      "\r",
      "Processing compounds:  13%|██████▉                                                | 585/4599 [14:23<1:36:54,  1.45s/it]"
     ]
    },
    {
     "name": "stdout",
     "output_type": "stream",
     "text": [
      "Compound(638072)\n"
     ]
    },
    {
     "name": "stderr",
     "output_type": "stream",
     "text": [
      "\r",
      "Processing compounds:  13%|███████                                                | 586/4599 [14:24<1:34:11,  1.41s/it]"
     ]
    },
    {
     "name": "stdout",
     "output_type": "stream",
     "text": [
      "Compound(15379)\n"
     ]
    },
    {
     "name": "stderr",
     "output_type": "stream",
     "text": [
      "\r",
      "Processing compounds:  13%|███████                                                | 587/4599 [14:25<1:30:03,  1.35s/it]"
     ]
    },
    {
     "name": "stdout",
     "output_type": "stream",
     "text": [
      "Compound(638303)\n"
     ]
    },
    {
     "name": "stderr",
     "output_type": "stream",
     "text": [
      "\r",
      "Processing compounds:  13%|███████                                                | 588/4599 [14:27<1:43:53,  1.55s/it]"
     ]
    },
    {
     "name": "stdout",
     "output_type": "stream",
     "text": [
      "Compound(522434)\n"
     ]
    },
    {
     "name": "stderr",
     "output_type": "stream",
     "text": [
      "\r",
      "Processing compounds:  13%|███████                                                | 589/4599 [14:29<1:52:44,  1.69s/it]"
     ]
    },
    {
     "name": "stdout",
     "output_type": "stream",
     "text": [
      "Compound(14259)\n"
     ]
    },
    {
     "name": "stderr",
     "output_type": "stream",
     "text": [
      "\r",
      "Processing compounds:  13%|███████                                                | 590/4599 [14:31<1:53:31,  1.70s/it]"
     ]
    },
    {
     "name": "stdout",
     "output_type": "stream",
     "text": [
      "Compound(5362793)\n"
     ]
    },
    {
     "name": "stderr",
     "output_type": "stream",
     "text": [
      "\r",
      "Processing compounds:  13%|███████                                                | 591/4599 [14:32<1:51:09,  1.66s/it]"
     ]
    },
    {
     "name": "stdout",
     "output_type": "stream",
     "text": [
      "Compound(6431122)\n"
     ]
    },
    {
     "name": "stderr",
     "output_type": "stream",
     "text": [
      "\r",
      "Processing compounds:  13%|███████                                                | 592/4599 [14:34<1:44:02,  1.56s/it]"
     ]
    },
    {
     "name": "stdout",
     "output_type": "stream",
     "text": [
      "Compound(543406)\n"
     ]
    },
    {
     "name": "stderr",
     "output_type": "stream",
     "text": [
      "\r",
      "Processing compounds:  13%|███████                                                | 593/4599 [14:36<1:48:56,  1.63s/it]"
     ]
    },
    {
     "name": "stdout",
     "output_type": "stream",
     "text": [
      "Compound(13584)\n"
     ]
    },
    {
     "name": "stderr",
     "output_type": "stream",
     "text": [
      "\r",
      "Processing compounds:  13%|███████                                                | 594/4599 [14:37<1:40:04,  1.50s/it]"
     ]
    },
    {
     "name": "stdout",
     "output_type": "stream",
     "text": [
      "Compound(283632)\n"
     ]
    },
    {
     "name": "stderr",
     "output_type": "stream",
     "text": [
      "\r",
      "Processing compounds:  13%|███████                                                | 595/4599 [14:38<1:39:06,  1.49s/it]"
     ]
    },
    {
     "name": "stdout",
     "output_type": "stream",
     "text": [
      "Compound(543331)\n"
     ]
    },
    {
     "name": "stderr",
     "output_type": "stream",
     "text": [
      "\r",
      "Processing compounds:  13%|███████▏                                               | 596/4599 [14:40<1:36:58,  1.45s/it]"
     ]
    },
    {
     "name": "stdout",
     "output_type": "stream",
     "text": [
      "Compound(1183)\n"
     ]
    },
    {
     "name": "stderr",
     "output_type": "stream",
     "text": [
      "\r",
      "Processing compounds:  13%|███████▏                                               | 597/4599 [14:41<1:41:16,  1.52s/it]"
     ]
    },
    {
     "name": "stdout",
     "output_type": "stream",
     "text": [
      "Compound(8095)\n"
     ]
    },
    {
     "name": "stderr",
     "output_type": "stream",
     "text": [
      "\r",
      "Processing compounds:  13%|███████▏                                               | 598/4599 [14:42<1:33:38,  1.40s/it]"
     ]
    },
    {
     "name": "stdout",
     "output_type": "stream",
     "text": [
      "Compound(12620)\n"
     ]
    },
    {
     "name": "stderr",
     "output_type": "stream",
     "text": [
      "\r",
      "Processing compounds:  13%|███████▏                                               | 599/4599 [14:44<1:28:42,  1.33s/it]"
     ]
    },
    {
     "name": "stdout",
     "output_type": "stream",
     "text": [
      "Compound(1549778)\n"
     ]
    },
    {
     "name": "stderr",
     "output_type": "stream",
     "text": [
      "\r",
      "Processing compounds:  13%|███████▏                                               | 600/4599 [14:45<1:24:05,  1.26s/it]"
     ]
    },
    {
     "name": "stdout",
     "output_type": "stream",
     "text": [
      "Compound(11543)\n"
     ]
    },
    {
     "name": "stderr",
     "output_type": "stream",
     "text": [
      "\r",
      "Processing compounds:  13%|███████▏                                               | 601/4599 [14:46<1:24:40,  1.27s/it]"
     ]
    },
    {
     "name": "stdout",
     "output_type": "stream",
     "text": [
      "Compound(6493)\n"
     ]
    },
    {
     "name": "stderr",
     "output_type": "stream",
     "text": [
      "\r",
      "Processing compounds:  13%|███████▏                                               | 602/4599 [14:47<1:20:51,  1.21s/it]"
     ]
    },
    {
     "name": "stdout",
     "output_type": "stream",
     "text": [
      "Compound(6086514)\n"
     ]
    },
    {
     "name": "stderr",
     "output_type": "stream",
     "text": [
      "\r",
      "Processing compounds:  13%|███████▏                                               | 603/4599 [14:48<1:23:23,  1.25s/it]"
     ]
    },
    {
     "name": "stdout",
     "output_type": "stream",
     "text": [
      "Compound(8078)\n"
     ]
    },
    {
     "name": "stderr",
     "output_type": "stream",
     "text": [
      "\r",
      "Processing compounds:  13%|███████▏                                               | 604/4599 [14:50<1:21:24,  1.22s/it]"
     ]
    },
    {
     "name": "stdout",
     "output_type": "stream",
     "text": [
      "Compound(5281)\n"
     ]
    },
    {
     "name": "stderr",
     "output_type": "stream",
     "text": [
      "Processing compounds:  13%|███████▏                                               | 606/4599 [14:56<2:40:02,  2.40s/it]"
     ]
    },
    {
     "name": "stdout",
     "output_type": "stream",
     "text": [
      "Compound(41552)\n"
     ]
    },
    {
     "name": "stderr",
     "output_type": "stream",
     "text": [
      "\r",
      "Processing compounds:  13%|███████▎                                               | 607/4599 [14:57<2:15:05,  2.03s/it]"
     ]
    },
    {
     "name": "stdout",
     "output_type": "stream",
     "text": [
      "Compound(1017)\n"
     ]
    },
    {
     "name": "stderr",
     "output_type": "stream",
     "text": [
      "\r",
      "Processing compounds:  13%|███████▎                                               | 608/4599 [14:59<1:59:48,  1.80s/it]"
     ]
    },
    {
     "name": "stdout",
     "output_type": "stream",
     "text": [
      "Compound(24020)\n"
     ]
    },
    {
     "name": "stderr",
     "output_type": "stream",
     "text": [
      "\r",
      "Processing compounds:  13%|███████▎                                               | 609/4599 [15:00<1:48:12,  1.63s/it]"
     ]
    },
    {
     "name": "stdout",
     "output_type": "stream",
     "text": [
      "Compound(7749)\n"
     ]
    },
    {
     "name": "stderr",
     "output_type": "stream",
     "text": [
      "\r",
      "Processing compounds:  13%|███████▎                                               | 610/4599 [15:01<1:37:27,  1.47s/it]"
     ]
    },
    {
     "name": "stdout",
     "output_type": "stream",
     "text": [
      "Compound(8857)\n"
     ]
    },
    {
     "name": "stderr",
     "output_type": "stream",
     "text": [
      "\r",
      "Processing compounds:  13%|███████▎                                               | 611/4599 [15:03<1:43:38,  1.56s/it]"
     ]
    },
    {
     "name": "stdout",
     "output_type": "stream",
     "text": [
      "Compound(7762)\n"
     ]
    },
    {
     "name": "stderr",
     "output_type": "stream",
     "text": [
      "\r",
      "Processing compounds:  13%|███████▎                                               | 612/4599 [15:04<1:41:50,  1.53s/it]"
     ]
    },
    {
     "name": "stdout",
     "output_type": "stream",
     "text": [
      "Compound(429065)\n"
     ]
    },
    {
     "name": "stderr",
     "output_type": "stream",
     "text": [
      "Processing compounds:  13%|███████▎                                               | 614/4599 [15:06<1:28:23,  1.33s/it]"
     ]
    },
    {
     "name": "stdout",
     "output_type": "stream",
     "text": [
      "Compound(8077)\n"
     ]
    },
    {
     "name": "stderr",
     "output_type": "stream",
     "text": [
      "\r",
      "Processing compounds:  13%|███████▎                                               | 615/4599 [15:08<1:29:05,  1.34s/it]"
     ]
    },
    {
     "name": "stdout",
     "output_type": "stream",
     "text": [
      "Compound(162239)\n"
     ]
    },
    {
     "name": "stderr",
     "output_type": "stream",
     "text": [
      "\r",
      "Processing compounds:  13%|███████▎                                               | 616/4599 [15:10<1:48:01,  1.63s/it]"
     ]
    },
    {
     "name": "stdout",
     "output_type": "stream",
     "text": [
      "Compound(5281163)\n"
     ]
    },
    {
     "name": "stderr",
     "output_type": "stream",
     "text": [
      "\r",
      "Processing compounds:  13%|███████▍                                               | 617/4599 [15:12<1:45:41,  1.59s/it]"
     ]
    },
    {
     "name": "stdout",
     "output_type": "stream",
     "text": [
      "Compound(13357)\n"
     ]
    },
    {
     "name": "stderr",
     "output_type": "stream",
     "text": [
      "\r",
      "Processing compounds:  13%|███████▍                                               | 618/4599 [15:13<1:40:10,  1.51s/it]"
     ]
    },
    {
     "name": "stdout",
     "output_type": "stream",
     "text": [
      "Compound(32033)\n"
     ]
    },
    {
     "name": "stderr",
     "output_type": "stream",
     "text": [
      "\r",
      "Processing compounds:  13%|███████▍                                               | 619/4599 [15:15<1:43:52,  1.57s/it]"
     ]
    },
    {
     "name": "stdout",
     "output_type": "stream",
     "text": [
      "Compound(6343)\n"
     ]
    },
    {
     "name": "stderr",
     "output_type": "stream",
     "text": [
      "\r",
      "Processing compounds:  13%|███████▍                                               | 620/4599 [15:16<1:36:54,  1.46s/it]"
     ]
    },
    {
     "name": "stdout",
     "output_type": "stream",
     "text": [
      "Compound(7799)\n"
     ]
    },
    {
     "name": "stderr",
     "output_type": "stream",
     "text": [
      "\r",
      "Processing compounds:  14%|███████▍                                               | 621/4599 [15:17<1:30:18,  1.36s/it]"
     ]
    },
    {
     "name": "stdout",
     "output_type": "stream",
     "text": [
      "Compound(637927)\n"
     ]
    },
    {
     "name": "stderr",
     "output_type": "stream",
     "text": [
      "\r",
      "Processing compounds:  14%|███████▍                                               | 622/4599 [15:18<1:27:28,  1.32s/it]"
     ]
    },
    {
     "name": "stdout",
     "output_type": "stream",
     "text": [
      "Compound(1550470)\n"
     ]
    },
    {
     "name": "stderr",
     "output_type": "stream",
     "text": [
      "\r",
      "Processing compounds:  14%|███████▍                                               | 623/4599 [15:20<1:44:49,  1.58s/it]"
     ]
    },
    {
     "name": "stdout",
     "output_type": "stream",
     "text": [
      "Compound(530426)\n"
     ]
    },
    {
     "name": "stderr",
     "output_type": "stream",
     "text": [
      "\r",
      "Processing compounds:  14%|███████▍                                               | 624/4599 [15:22<1:40:37,  1.52s/it]"
     ]
    },
    {
     "name": "stdout",
     "output_type": "stream",
     "text": [
      "Compound(5281168)\n"
     ]
    },
    {
     "name": "stderr",
     "output_type": "stream",
     "text": [
      "Processing compounds:  14%|███████▍                                               | 626/4599 [15:25<1:37:01,  1.47s/it]"
     ]
    },
    {
     "name": "stdout",
     "output_type": "stream",
     "text": [
      "Compound(5281758)\n"
     ]
    },
    {
     "name": "stderr",
     "output_type": "stream",
     "text": [
      "\r",
      "Processing compounds:  14%|███████▍                                               | 627/4599 [15:26<1:41:36,  1.53s/it]"
     ]
    },
    {
     "name": "stdout",
     "output_type": "stream",
     "text": [
      "Compound(12314661)\n"
     ]
    },
    {
     "name": "stderr",
     "output_type": "stream",
     "text": [
      "\r",
      "Processing compounds:  14%|███████▌                                               | 628/4599 [15:27<1:34:08,  1.42s/it]"
     ]
    },
    {
     "name": "stdout",
     "output_type": "stream",
     "text": [
      "Compound(92780)\n"
     ]
    },
    {
     "name": "stderr",
     "output_type": "stream",
     "text": [
      "\r",
      "Processing compounds:  14%|███████▌                                               | 629/4599 [15:29<1:31:08,  1.38s/it]"
     ]
    },
    {
     "name": "stdout",
     "output_type": "stream",
     "text": [
      "Compound(10545)\n"
     ]
    },
    {
     "name": "stderr",
     "output_type": "stream",
     "text": [
      "\r",
      "Processing compounds:  14%|███████▌                                               | 630/4599 [15:30<1:31:37,  1.39s/it]"
     ]
    },
    {
     "name": "stdout",
     "output_type": "stream",
     "text": [
      "Compound(91747198)\n"
     ]
    },
    {
     "name": "stderr",
     "output_type": "stream",
     "text": [
      "\r",
      "Processing compounds:  14%|███████▌                                               | 631/4599 [15:33<1:59:11,  1.80s/it]"
     ]
    },
    {
     "name": "stdout",
     "output_type": "stream",
     "text": [
      "Compound(12299868)\n"
     ]
    },
    {
     "name": "stderr",
     "output_type": "stream",
     "text": [
      "Processing compounds:  14%|███████▌                                               | 633/4599 [15:36<1:45:25,  1.59s/it]"
     ]
    },
    {
     "name": "stdout",
     "output_type": "stream",
     "text": [
      "Compound(30755)\n"
     ]
    },
    {
     "name": "stderr",
     "output_type": "stream",
     "text": [
      "\r",
      "Processing compounds:  14%|███████▌                                               | 634/4599 [15:37<1:49:06,  1.65s/it]"
     ]
    },
    {
     "name": "stdout",
     "output_type": "stream",
     "text": [
      "Compound(529435)\n"
     ]
    },
    {
     "name": "stderr",
     "output_type": "stream",
     "text": [
      "\r",
      "Processing compounds:  14%|███████▌                                               | 635/4599 [15:39<1:44:06,  1.58s/it]"
     ]
    },
    {
     "name": "stdout",
     "output_type": "stream",
     "text": [
      "Compound(121677)\n"
     ]
    },
    {
     "name": "stderr",
     "output_type": "stream",
     "text": [
      "\r",
      "Processing compounds:  14%|███████▌                                               | 636/4599 [15:40<1:36:49,  1.47s/it]"
     ]
    },
    {
     "name": "stdout",
     "output_type": "stream",
     "text": [
      "Compound(89516)\n"
     ]
    },
    {
     "name": "stderr",
     "output_type": "stream",
     "text": [
      "\r",
      "Processing compounds:  14%|███████▌                                               | 637/4599 [15:42<1:46:24,  1.61s/it]"
     ]
    },
    {
     "name": "stdout",
     "output_type": "stream",
     "text": [
      "Compound(565551)\n"
     ]
    },
    {
     "name": "stderr",
     "output_type": "stream",
     "text": [
      "\r",
      "Processing compounds:  14%|███████▋                                               | 638/4599 [15:43<1:42:28,  1.55s/it]"
     ]
    },
    {
     "name": "stdout",
     "output_type": "stream",
     "text": [
      "Compound(5283339)\n"
     ]
    },
    {
     "name": "stderr",
     "output_type": "stream",
     "text": [
      "\r",
      "Processing compounds:  14%|███████▋                                               | 639/4599 [15:45<1:42:13,  1.55s/it]"
     ]
    },
    {
     "name": "stdout",
     "output_type": "stream",
     "text": [
      "Compound(519382)\n"
     ]
    },
    {
     "name": "stderr",
     "output_type": "stream",
     "text": [
      "\r",
      "Processing compounds:  14%|███████▋                                               | 640/4599 [15:46<1:34:58,  1.44s/it]"
     ]
    },
    {
     "name": "stdout",
     "output_type": "stream",
     "text": [
      "Compound(5283356)\n"
     ]
    },
    {
     "name": "stderr",
     "output_type": "stream",
     "text": [
      "\r",
      "Processing compounds:  14%|███████▋                                               | 641/4599 [15:47<1:35:03,  1.44s/it]"
     ]
    },
    {
     "name": "stdout",
     "output_type": "stream",
     "text": [
      "Compound(5283335)\n"
     ]
    },
    {
     "name": "stderr",
     "output_type": "stream",
     "text": [
      "\r",
      "Processing compounds:  14%|███████▋                                               | 642/4599 [15:49<1:31:18,  1.38s/it]"
     ]
    },
    {
     "name": "stdout",
     "output_type": "stream",
     "text": [
      "Compound(31271)\n"
     ]
    },
    {
     "name": "stderr",
     "output_type": "stream",
     "text": [
      "\r",
      "Processing compounds:  14%|███████▋                                               | 643/4599 [15:50<1:25:56,  1.30s/it]"
     ]
    },
    {
     "name": "stdout",
     "output_type": "stream",
     "text": [
      "Compound(520440)\n"
     ]
    },
    {
     "name": "stderr",
     "output_type": "stream",
     "text": [
      "\r",
      "Processing compounds:  14%|███████▋                                               | 644/4599 [15:51<1:27:52,  1.33s/it]"
     ]
    },
    {
     "name": "stdout",
     "output_type": "stream",
     "text": [
      "Compound(5283345)\n"
     ]
    },
    {
     "name": "stderr",
     "output_type": "stream",
     "text": [
      "\r",
      "Processing compounds:  14%|███████▋                                               | 645/4599 [15:53<1:44:37,  1.59s/it]"
     ]
    },
    {
     "name": "stdout",
     "output_type": "stream",
     "text": [
      "Compound(522514)\n"
     ]
    },
    {
     "name": "stderr",
     "output_type": "stream",
     "text": [
      "Processing compounds:  14%|███████▋                                               | 648/4599 [15:57<1:29:31,  1.36s/it]"
     ]
    },
    {
     "name": "stdout",
     "output_type": "stream",
     "text": [
      "Compound(129836466)\n"
     ]
    },
    {
     "name": "stderr",
     "output_type": "stream",
     "text": [
      "\r",
      "Processing compounds:  14%|███████▊                                               | 649/4599 [15:58<1:31:43,  1.39s/it]"
     ]
    },
    {
     "name": "stdout",
     "output_type": "stream",
     "text": [
      "Compound(3016538)\n"
     ]
    },
    {
     "name": "stderr",
     "output_type": "stream",
     "text": [
      "Processing compounds:  14%|███████▊                                               | 651/4599 [16:01<1:22:01,  1.25s/it]"
     ]
    },
    {
     "name": "stdout",
     "output_type": "stream",
     "text": [
      "Compound(6054)\n"
     ]
    },
    {
     "name": "stderr",
     "output_type": "stream",
     "text": [
      "Processing compounds:  14%|███████▊                                               | 653/4599 [16:03<1:23:30,  1.27s/it]"
     ]
    },
    {
     "name": "stdout",
     "output_type": "stream",
     "text": [
      "Compound(853433)\n"
     ]
    },
    {
     "name": "stderr",
     "output_type": "stream",
     "text": [
      "Processing compounds:  14%|███████▊                                               | 655/4599 [16:05<1:19:46,  1.21s/it]"
     ]
    },
    {
     "name": "stdout",
     "output_type": "stream",
     "text": [
      "Compound(798)\n"
     ]
    },
    {
     "name": "stderr",
     "output_type": "stream",
     "text": [
      "\r",
      "Processing compounds:  14%|███████▊                                               | 656/4599 [16:07<1:20:11,  1.22s/it]"
     ]
    },
    {
     "name": "stdout",
     "output_type": "stream",
     "text": [
      "Compound(129837269)\n"
     ]
    },
    {
     "name": "stderr",
     "output_type": "stream",
     "text": [
      "Processing compounds:  14%|███████▊                                               | 658/4599 [16:09<1:22:47,  1.26s/it]"
     ]
    },
    {
     "name": "stdout",
     "output_type": "stream",
     "text": [
      "Compound(4685)\n"
     ]
    },
    {
     "name": "stderr",
     "output_type": "stream",
     "text": [
      "\r",
      "Processing compounds:  14%|███████▉                                               | 659/4599 [16:11<1:28:44,  1.35s/it]"
     ]
    },
    {
     "name": "stdout",
     "output_type": "stream",
     "text": [
      "Compound(5283324)\n"
     ]
    },
    {
     "name": "stderr",
     "output_type": "stream",
     "text": [
      "\r",
      "Processing compounds:  14%|███████▉                                               | 660/4599 [16:12<1:31:35,  1.40s/it]"
     ]
    },
    {
     "name": "stdout",
     "output_type": "stream",
     "text": [
      "Compound(244)\n"
     ]
    },
    {
     "name": "stderr",
     "output_type": "stream",
     "text": [
      "\r",
      "Processing compounds:  14%|███████▉                                               | 661/4599 [16:14<1:36:27,  1.47s/it]"
     ]
    },
    {
     "name": "stdout",
     "output_type": "stream",
     "text": [
      "Compound(10901750)\n"
     ]
    },
    {
     "name": "stderr",
     "output_type": "stream",
     "text": [
      "\r",
      "Processing compounds:  14%|███████▉                                               | 662/4599 [16:15<1:33:33,  1.43s/it]"
     ]
    },
    {
     "name": "stdout",
     "output_type": "stream",
     "text": [
      "Compound(545963)\n"
     ]
    },
    {
     "name": "stderr",
     "output_type": "stream",
     "text": [
      "\r",
      "Processing compounds:  14%|███████▉                                               | 663/4599 [16:17<1:31:07,  1.39s/it]"
     ]
    },
    {
     "name": "stdout",
     "output_type": "stream",
     "text": [
      "Compound(552095)\n"
     ]
    },
    {
     "name": "stderr",
     "output_type": "stream",
     "text": [
      "\r",
      "Processing compounds:  14%|███████▉                                               | 664/4599 [16:19<1:40:24,  1.53s/it]"
     ]
    },
    {
     "name": "stdout",
     "output_type": "stream",
     "text": [
      "Compound(15979)\n"
     ]
    },
    {
     "name": "stderr",
     "output_type": "stream",
     "text": [
      "\r",
      "Processing compounds:  14%|███████▉                                               | 665/4599 [16:20<1:35:02,  1.45s/it]"
     ]
    },
    {
     "name": "stdout",
     "output_type": "stream",
     "text": [
      "Compound(7302)\n"
     ]
    },
    {
     "name": "stderr",
     "output_type": "stream",
     "text": [
      "\r",
      "Processing compounds:  14%|███████▉                                               | 666/4599 [16:20<1:14:19,  1.13s/it]"
     ]
    },
    {
     "name": "stdout",
     "output_type": "stream",
     "text": [
      "Error: <urlopen error TLS/SSL connection has been closed (EOF) (_ssl.c:1131)>\n"
     ]
    },
    {
     "name": "stderr",
     "output_type": "stream",
     "text": [
      "Processing compounds:  15%|████████                                               | 669/4599 [16:25<1:26:44,  1.32s/it]"
     ]
    },
    {
     "name": "stdout",
     "output_type": "stream",
     "text": [
      "Compound(5352470)\n"
     ]
    },
    {
     "name": "stderr",
     "output_type": "stream",
     "text": [
      "Processing compounds:  15%|████████                                               | 672/4599 [16:28<1:21:25,  1.24s/it]"
     ]
    },
    {
     "name": "stdout",
     "output_type": "stream",
     "text": [
      "Compound(14257)\n"
     ]
    },
    {
     "name": "stderr",
     "output_type": "stream",
     "text": [
      "\r",
      "Processing compounds:  15%|████████                                               | 673/4599 [16:30<1:31:25,  1.40s/it]"
     ]
    },
    {
     "name": "stdout",
     "output_type": "stream",
     "text": [
      "Compound(11830551)\n"
     ]
    },
    {
     "name": "stderr",
     "output_type": "stream",
     "text": [
      "\r",
      "Processing compounds:  15%|████████                                               | 674/4599 [16:31<1:30:18,  1.38s/it]"
     ]
    },
    {
     "name": "stdout",
     "output_type": "stream",
     "text": [
      "Compound(521334)\n"
     ]
    },
    {
     "name": "stderr",
     "output_type": "stream",
     "text": [
      "\r",
      "Processing compounds:  15%|████████                                               | 675/4599 [16:33<1:25:17,  1.30s/it]"
     ]
    },
    {
     "name": "stdout",
     "output_type": "stream",
     "text": [
      "Compound(12613)\n"
     ]
    },
    {
     "name": "stderr",
     "output_type": "stream",
     "text": [
      "\r",
      "Processing compounds:  15%|████████                                               | 676/4599 [16:34<1:22:02,  1.25s/it]"
     ]
    },
    {
     "name": "stdout",
     "output_type": "stream",
     "text": [
      "Compound(7981)\n"
     ]
    },
    {
     "name": "stderr",
     "output_type": "stream",
     "text": [
      "\r",
      "Processing compounds:  15%|████████                                               | 677/4599 [16:35<1:24:03,  1.29s/it]"
     ]
    },
    {
     "name": "stdout",
     "output_type": "stream",
     "text": [
      "Compound(7945)\n"
     ]
    },
    {
     "name": "stderr",
     "output_type": "stream",
     "text": [
      "\r",
      "Processing compounds:  15%|████████                                               | 678/4599 [16:36<1:20:58,  1.24s/it]"
     ]
    },
    {
     "name": "stdout",
     "output_type": "stream",
     "text": [
      "Compound(31272)\n"
     ]
    },
    {
     "name": "stderr",
     "output_type": "stream",
     "text": [
      "\r",
      "Processing compounds:  15%|████████                                               | 679/4599 [16:37<1:20:27,  1.23s/it]"
     ]
    },
    {
     "name": "stdout",
     "output_type": "stream",
     "text": [
      "Compound(11514)\n"
     ]
    },
    {
     "name": "stderr",
     "output_type": "stream",
     "text": [
      "\r",
      "Processing compounds:  15%|████████▏                                              | 680/4599 [16:39<1:28:36,  1.36s/it]"
     ]
    },
    {
     "name": "stdout",
     "output_type": "stream",
     "text": [
      "Compound(10890)\n"
     ]
    },
    {
     "name": "stderr",
     "output_type": "stream",
     "text": [
      "\r",
      "Processing compounds:  15%|████████▏                                              | 681/4599 [16:40<1:23:31,  1.28s/it]"
     ]
    },
    {
     "name": "stdout",
     "output_type": "stream",
     "text": [
      "Compound(65413)\n"
     ]
    },
    {
     "name": "stderr",
     "output_type": "stream",
     "text": [
      "\r",
      "Processing compounds:  15%|████████▏                                              | 682/4599 [16:41<1:21:09,  1.24s/it]"
     ]
    },
    {
     "name": "stdout",
     "output_type": "stream",
     "text": [
      "Compound(7983)\n"
     ]
    },
    {
     "name": "stderr",
     "output_type": "stream",
     "text": [
      "\r",
      "Processing compounds:  15%|████████▏                                              | 683/4599 [16:43<1:32:30,  1.42s/it]"
     ]
    },
    {
     "name": "stdout",
     "output_type": "stream",
     "text": [
      "Compound(12294)\n"
     ]
    },
    {
     "name": "stderr",
     "output_type": "stream",
     "text": [
      "\r",
      "Processing compounds:  15%|████████▏                                              | 684/4599 [16:44<1:29:21,  1.37s/it]"
     ]
    },
    {
     "name": "stdout",
     "output_type": "stream",
     "text": [
      "Compound(16617)\n"
     ]
    },
    {
     "name": "stderr",
     "output_type": "stream",
     "text": [
      "\r",
      "Processing compounds:  15%|████████▏                                              | 685/4599 [16:47<1:43:44,  1.59s/it]"
     ]
    },
    {
     "name": "stdout",
     "output_type": "stream",
     "text": [
      "Compound(12209)\n"
     ]
    },
    {
     "name": "stderr",
     "output_type": "stream",
     "text": [
      "\r",
      "Processing compounds:  15%|████████▏                                              | 686/4599 [16:48<1:38:54,  1.52s/it]"
     ]
    },
    {
     "name": "stdout",
     "output_type": "stream",
     "text": [
      "Compound(91747213)\n"
     ]
    },
    {
     "name": "stderr",
     "output_type": "stream",
     "text": [
      "\r",
      "Processing compounds:  15%|████████▏                                              | 687/4599 [16:49<1:31:40,  1.41s/it]"
     ]
    },
    {
     "name": "stdout",
     "output_type": "stream",
     "text": [
      "Compound(12523)\n"
     ]
    },
    {
     "name": "stderr",
     "output_type": "stream",
     "text": [
      "\r",
      "Processing compounds:  15%|████████▏                                              | 688/4599 [16:50<1:27:08,  1.34s/it]"
     ]
    },
    {
     "name": "stdout",
     "output_type": "stream",
     "text": [
      "Compound(528972)\n"
     ]
    },
    {
     "name": "stderr",
     "output_type": "stream",
     "text": [
      "\r",
      "Processing compounds:  15%|████████▏                                              | 689/4599 [16:52<1:34:49,  1.46s/it]"
     ]
    },
    {
     "name": "stdout",
     "output_type": "stream",
     "text": [
      "Compound(82436)\n"
     ]
    },
    {
     "name": "stderr",
     "output_type": "stream",
     "text": [
      "\r",
      "Processing compounds:  15%|████████▎                                              | 690/4599 [16:53<1:34:40,  1.45s/it]"
     ]
    },
    {
     "name": "stdout",
     "output_type": "stream",
     "text": [
      "Compound(5365872)\n"
     ]
    },
    {
     "name": "stderr",
     "output_type": "stream",
     "text": [
      "Processing compounds:  15%|████████▎                                              | 692/4599 [16:56<1:29:51,  1.38s/it]"
     ]
    },
    {
     "name": "stdout",
     "output_type": "stream",
     "text": [
      "Compound(107327)\n"
     ]
    },
    {
     "name": "stderr",
     "output_type": "stream",
     "text": [
      "\r",
      "Processing compounds:  15%|████████▎                                              | 693/4599 [17:18<8:07:10,  7.48s/it]"
     ]
    },
    {
     "name": "stdout",
     "output_type": "stream",
     "text": [
      "Error: Remote end closed connection without response\n"
     ]
    },
    {
     "name": "stderr",
     "output_type": "stream",
     "text": [
      "\r",
      "Processing compounds:  15%|████████▎                                              | 694/4599 [17:19<6:04:21,  5.60s/it]"
     ]
    },
    {
     "name": "stdout",
     "output_type": "stream",
     "text": [
      "Compound(519324)\n"
     ]
    },
    {
     "name": "stderr",
     "output_type": "stream",
     "text": [
      "\r",
      "Processing compounds:  15%|████████▎                                              | 695/4599 [17:20<4:36:30,  4.25s/it]"
     ]
    },
    {
     "name": "stdout",
     "output_type": "stream",
     "text": [
      "Compound(5321450)\n"
     ]
    },
    {
     "name": "stderr",
     "output_type": "stream",
     "text": [
      "\r",
      "Processing compounds:  15%|████████▎                                              | 696/4599 [17:21<3:36:47,  3.33s/it]"
     ]
    },
    {
     "name": "stdout",
     "output_type": "stream",
     "text": [
      "Compound(88302)\n"
     ]
    },
    {
     "name": "stderr",
     "output_type": "stream",
     "text": [
      "\r",
      "Processing compounds:  15%|████████▎                                              | 697/4599 [17:23<3:00:02,  2.77s/it]"
     ]
    },
    {
     "name": "stdout",
     "output_type": "stream",
     "text": [
      "Compound(7351)\n"
     ]
    },
    {
     "name": "stderr",
     "output_type": "stream",
     "text": [
      "\r",
      "Processing compounds:  15%|████████▏                                             | 698/4599 [18:03<15:16:00, 14.09s/it]"
     ]
    },
    {
     "name": "stdout",
     "output_type": "stream",
     "text": [
      "Error: IncompleteRead(7764 bytes read)\n"
     ]
    },
    {
     "name": "stderr",
     "output_type": "stream",
     "text": [
      "\r",
      "Processing compounds:  15%|████████▏                                             | 699/4599 [18:04<11:05:03, 10.23s/it]"
     ]
    },
    {
     "name": "stdout",
     "output_type": "stream",
     "text": [
      "Compound(556998)\n"
     ]
    },
    {
     "name": "stderr",
     "output_type": "stream",
     "text": [
      "\r",
      "Processing compounds:  15%|████████▎                                              | 700/4599 [18:06<8:07:06,  7.50s/it]"
     ]
    },
    {
     "name": "stdout",
     "output_type": "stream",
     "text": [
      "Compound(61016)\n"
     ]
    },
    {
     "name": "stderr",
     "output_type": "stream",
     "text": [
      "\r",
      "Processing compounds:  15%|████████▍                                              | 701/4599 [18:07<6:04:29,  5.61s/it]"
     ]
    },
    {
     "name": "stdout",
     "output_type": "stream",
     "text": [
      "Compound(1712087)\n"
     ]
    },
    {
     "name": "stderr",
     "output_type": "stream",
     "text": [
      "\r",
      "Processing compounds:  15%|████████▍                                              | 702/4599 [18:08<4:39:47,  4.31s/it]"
     ]
    },
    {
     "name": "stdout",
     "output_type": "stream",
     "text": [
      "Compound(92793)\n"
     ]
    },
    {
     "name": "stderr",
     "output_type": "stream",
     "text": [
      "\r",
      "Processing compounds:  15%|████████▍                                              | 703/4599 [18:09<3:40:29,  3.40s/it]"
     ]
    },
    {
     "name": "stdout",
     "output_type": "stream",
     "text": [
      "Compound(1549018)\n"
     ]
    },
    {
     "name": "stderr",
     "output_type": "stream",
     "text": [
      "\r",
      "Processing compounds:  15%|████████▍                                              | 704/4599 [18:10<2:56:41,  2.72s/it]"
     ]
    },
    {
     "name": "stdout",
     "output_type": "stream",
     "text": [
      "Compound(61362)\n"
     ]
    },
    {
     "name": "stderr",
     "output_type": "stream",
     "text": [
      "\r",
      "Processing compounds:  15%|████████▍                                              | 705/4599 [18:12<2:30:10,  2.31s/it]"
     ]
    },
    {
     "name": "stdout",
     "output_type": "stream",
     "text": [
      "Compound(326)\n"
     ]
    },
    {
     "name": "stderr",
     "output_type": "stream",
     "text": [
      "\r",
      "Processing compounds:  15%|████████▍                                              | 706/4599 [18:13<2:10:43,  2.01s/it]"
     ]
    },
    {
     "name": "stdout",
     "output_type": "stream",
     "text": [
      "Compound(7460)\n"
     ]
    },
    {
     "name": "stderr",
     "output_type": "stream",
     "text": [
      "Processing compounds:  15%|████████▍                                              | 708/4599 [18:15<1:41:14,  1.56s/it]"
     ]
    },
    {
     "name": "stdout",
     "output_type": "stream",
     "text": [
      "Compound(55300613)\n"
     ]
    },
    {
     "name": "stderr",
     "output_type": "stream",
     "text": [
      "\r",
      "Processing compounds:  15%|████████▎                                             | 709/4599 [19:17<21:01:37, 19.46s/it]"
     ]
    },
    {
     "name": "stdout",
     "output_type": "stream",
     "text": [
      "Error: <urlopen error TLS/SSL connection has been closed (EOF) (_ssl.c:1131)>\n"
     ]
    },
    {
     "name": "stderr",
     "output_type": "stream",
     "text": [
      "Processing compounds:  15%|████████▎                                             | 711/4599 [19:19<11:01:01, 10.20s/it]"
     ]
    },
    {
     "name": "stdout",
     "output_type": "stream",
     "text": [
      "Compound(10910653)\n"
     ]
    },
    {
     "name": "stderr",
     "output_type": "stream",
     "text": [
      "\r",
      "Processing compounds:  15%|████████▌                                              | 712/4599 [19:20<8:05:16,  7.49s/it]"
     ]
    },
    {
     "name": "stdout",
     "output_type": "stream",
     "text": [
      "Compound(12314971)\n"
     ]
    },
    {
     "name": "stderr",
     "output_type": "stream",
     "text": [
      "\r",
      "Processing compounds:  16%|████████▌                                              | 713/4599 [19:21<6:02:46,  5.60s/it]"
     ]
    },
    {
     "name": "stdout",
     "output_type": "stream",
     "text": [
      "Compound(5377475)\n"
     ]
    },
    {
     "name": "stderr",
     "output_type": "stream",
     "text": [
      "\r",
      "Processing compounds:  16%|████████▌                                              | 714/4599 [19:23<4:35:30,  4.26s/it]"
     ]
    },
    {
     "name": "stdout",
     "output_type": "stream",
     "text": [
      "Compound(94254)\n"
     ]
    },
    {
     "name": "stderr",
     "output_type": "stream",
     "text": [
      "\r",
      "Processing compounds:  16%|████████▌                                              | 715/4599 [19:24<3:40:58,  3.41s/it]"
     ]
    },
    {
     "name": "stdout",
     "output_type": "stream",
     "text": [
      "Compound(80048)\n"
     ]
    },
    {
     "name": "stderr",
     "output_type": "stream",
     "text": [
      "\r",
      "Processing compounds:  16%|████████▌                                              | 716/4599 [19:26<3:05:27,  2.87s/it]"
     ]
    },
    {
     "name": "stdout",
     "output_type": "stream",
     "text": [
      "Compound(550281)\n"
     ]
    },
    {
     "name": "stderr",
     "output_type": "stream",
     "text": [
      "\r",
      "Processing compounds:  16%|████████▌                                              | 717/4599 [19:27<2:33:59,  2.38s/it]"
     ]
    },
    {
     "name": "stdout",
     "output_type": "stream",
     "text": [
      "Compound(577146)\n"
     ]
    },
    {
     "name": "stderr",
     "output_type": "stream",
     "text": [
      "Processing compounds:  16%|████████▍                                             | 719/4599 [21:00<31:25:01, 29.15s/it]"
     ]
    },
    {
     "name": "stdout",
     "output_type": "stream",
     "text": [
      "Error: <urlopen error TLS/SSL connection has been closed (EOF) (_ssl.c:1131)>\n"
     ]
    },
    {
     "name": "stderr",
     "output_type": "stream",
     "text": [
      "\r",
      "Processing compounds:  16%|████████▍                                             | 720/4599 [21:02<22:27:44, 20.85s/it]"
     ]
    },
    {
     "name": "stdout",
     "output_type": "stream",
     "text": [
      "Compound(5324489)\n"
     ]
    },
    {
     "name": "stderr",
     "output_type": "stream",
     "text": [
      "\r",
      "Processing compounds:  16%|████████▍                                             | 721/4599 [21:03<16:05:34, 14.94s/it]"
     ]
    },
    {
     "name": "stdout",
     "output_type": "stream",
     "text": [
      "Compound(8635)\n"
     ]
    },
    {
     "name": "stderr",
     "output_type": "stream",
     "text": [
      "\r",
      "Processing compounds:  16%|████████▍                                             | 722/4599 [21:04<11:39:27, 10.82s/it]"
     ]
    },
    {
     "name": "stdout",
     "output_type": "stream",
     "text": [
      "Compound(637776)\n"
     ]
    },
    {
     "name": "stderr",
     "output_type": "stream",
     "text": [
      "\r",
      "Processing compounds:  16%|████████▋                                              | 723/4599 [21:05<8:30:55,  7.91s/it]"
     ]
    },
    {
     "name": "stdout",
     "output_type": "stream",
     "text": [
      "Compound(5352626)\n"
     ]
    },
    {
     "name": "stderr",
     "output_type": "stream",
     "text": [
      "Processing compounds:  16%|████████▋                                              | 725/4599 [21:08<4:52:09,  4.53s/it]"
     ]
    },
    {
     "name": "stdout",
     "output_type": "stream",
     "text": [
      "Compound(552839)\n"
     ]
    },
    {
     "name": "stderr",
     "output_type": "stream",
     "text": [
      "\r",
      "Processing compounds:  16%|████████▋                                              | 726/4599 [21:09<3:46:53,  3.51s/it]"
     ]
    },
    {
     "name": "stdout",
     "output_type": "stream",
     "text": [
      "Compound(117275)\n"
     ]
    },
    {
     "name": "stderr",
     "output_type": "stream",
     "text": [
      "\r",
      "Processing compounds:  16%|████████▋                                              | 727/4599 [21:10<3:03:39,  2.85s/it]"
     ]
    },
    {
     "name": "stdout",
     "output_type": "stream",
     "text": [
      "Compound(5353011)\n"
     ]
    },
    {
     "name": "stderr",
     "output_type": "stream",
     "text": [
      "\r",
      "Processing compounds:  16%|████████▋                                              | 728/4599 [21:12<2:41:44,  2.51s/it]"
     ]
    },
    {
     "name": "stdout",
     "output_type": "stream",
     "text": [
      "Compound(6507)\n"
     ]
    },
    {
     "name": "stderr",
     "output_type": "stream",
     "text": [
      "\r",
      "Processing compounds:  16%|████████▋                                              | 729/4599 [21:13<2:15:31,  2.10s/it]"
     ]
    },
    {
     "name": "stdout",
     "output_type": "stream",
     "text": [
      "Compound(91754000)\n"
     ]
    },
    {
     "name": "stderr",
     "output_type": "stream",
     "text": [
      "\r",
      "Processing compounds:  16%|████████▋                                              | 730/4599 [21:14<1:57:10,  1.82s/it]"
     ]
    },
    {
     "name": "stdout",
     "output_type": "stream",
     "text": [
      "Compound(5365867)\n"
     ]
    },
    {
     "name": "stderr",
     "output_type": "stream",
     "text": [
      "\r",
      "Processing compounds:  16%|████████▋                                              | 731/4599 [21:16<1:46:49,  1.66s/it]"
     ]
    },
    {
     "name": "stdout",
     "output_type": "stream",
     "text": [
      "Compound(6505)\n"
     ]
    },
    {
     "name": "stderr",
     "output_type": "stream",
     "text": [
      "\r",
      "Processing compounds:  16%|████████▊                                              | 732/4599 [21:17<1:37:05,  1.51s/it]"
     ]
    },
    {
     "name": "stdout",
     "output_type": "stream",
     "text": [
      "Compound(7150)\n"
     ]
    },
    {
     "name": "stderr",
     "output_type": "stream",
     "text": [
      "Processing compounds:  16%|████████▊                                              | 735/4599 [21:21<1:31:11,  1.42s/it]"
     ]
    },
    {
     "name": "stdout",
     "output_type": "stream",
     "text": [
      "Compound(61738)\n"
     ]
    },
    {
     "name": "stderr",
     "output_type": "stream",
     "text": [
      "Processing compounds:  16%|████████▊                                              | 738/4599 [21:25<1:23:38,  1.30s/it]"
     ]
    },
    {
     "name": "stdout",
     "output_type": "stream",
     "text": [
      "Compound(100197)\n"
     ]
    },
    {
     "name": "stderr",
     "output_type": "stream",
     "text": [
      "\r",
      "Processing compounds:  16%|████████▊                                              | 739/4599 [21:26<1:21:17,  1.26s/it]"
     ]
    },
    {
     "name": "stdout",
     "output_type": "stream",
     "text": [
      "Compound(5315406)\n"
     ]
    },
    {
     "name": "stderr",
     "output_type": "stream",
     "text": [
      "\r",
      "Processing compounds:  16%|████████▊                                              | 740/4599 [21:27<1:20:17,  1.25s/it]"
     ]
    },
    {
     "name": "stdout",
     "output_type": "stream",
     "text": [
      "Compound(11184378)\n"
     ]
    },
    {
     "name": "stderr",
     "output_type": "stream",
     "text": [
      "\r",
      "Processing compounds:  16%|████████▊                                              | 741/4599 [21:28<1:21:17,  1.26s/it]"
     ]
    },
    {
     "name": "stdout",
     "output_type": "stream",
     "text": [
      "Compound(75061)\n"
     ]
    },
    {
     "name": "stderr",
     "output_type": "stream",
     "text": [
      "\r",
      "Processing compounds:  16%|████████▊                                              | 742/4599 [21:30<1:18:39,  1.22s/it]"
     ]
    },
    {
     "name": "stdout",
     "output_type": "stream",
     "text": [
      "Compound(7361)\n"
     ]
    },
    {
     "name": "stderr",
     "output_type": "stream",
     "text": [
      "\r",
      "Processing compounds:  16%|████████▉                                              | 743/4599 [21:31<1:17:23,  1.20s/it]"
     ]
    },
    {
     "name": "stdout",
     "output_type": "stream",
     "text": [
      "Compound(996)\n"
     ]
    },
    {
     "name": "stderr",
     "output_type": "stream",
     "text": [
      "\r",
      "Processing compounds:  16%|████████▉                                              | 744/4599 [21:48<6:24:38,  5.99s/it]"
     ]
    },
    {
     "name": "stdout",
     "output_type": "stream",
     "text": [
      "Error: Remote end closed connection without response\n"
     ]
    },
    {
     "name": "stderr",
     "output_type": "stream",
     "text": [
      "\r",
      "Processing compounds:  16%|████████▉                                              | 745/4599 [21:49<4:53:41,  4.57s/it]"
     ]
    },
    {
     "name": "stdout",
     "output_type": "stream",
     "text": [
      "Compound(26252)\n"
     ]
    },
    {
     "name": "stderr",
     "output_type": "stream",
     "text": [
      "\r",
      "Processing compounds:  16%|████████▉                                              | 746/4599 [21:50<3:50:28,  3.59s/it]"
     ]
    },
    {
     "name": "stdout",
     "output_type": "stream",
     "text": [
      "Compound(14505)\n"
     ]
    },
    {
     "name": "stderr",
     "output_type": "stream",
     "text": [
      "Processing compounds:  16%|████████▊                                             | 749/4599 [24:39<55:14:09, 51.65s/it]"
     ]
    },
    {
     "name": "stdout",
     "output_type": "stream",
     "text": [
      "Error: <urlopen error TLS/SSL connection has been closed (EOF) (_ssl.c:1131)>\n"
     ]
    },
    {
     "name": "stderr",
     "output_type": "stream",
     "text": [
      "\r",
      "Processing compounds:  16%|████████▊                                             | 750/4599 [24:41<39:06:24, 36.58s/it]"
     ]
    },
    {
     "name": "stdout",
     "output_type": "stream",
     "text": [
      "Compound(335)\n"
     ]
    },
    {
     "name": "stderr",
     "output_type": "stream",
     "text": [
      "Processing compounds:  16%|████████▊                                             | 752/4599 [24:57<22:46:27, 21.31s/it]"
     ]
    },
    {
     "name": "stdout",
     "output_type": "stream",
     "text": [
      "Error: <urlopen error TLS/SSL connection has been closed (EOF) (_ssl.c:1131)>\n",
      "Error: <urlopen error TLS/SSL connection has been closed (EOF) (_ssl.c:1131)>\n"
     ]
    },
    {
     "name": "stderr",
     "output_type": "stream",
     "text": [
      "\r",
      "Processing compounds:  16%|████████▊                                             | 753/4599 [24:58<16:21:43, 15.32s/it]"
     ]
    },
    {
     "name": "stdout",
     "output_type": "stream",
     "text": [
      "Compound(529304)\n"
     ]
    },
    {
     "name": "stderr",
     "output_type": "stream",
     "text": [
      "\r",
      "Processing compounds:  16%|████████▊                                             | 754/4599 [24:59<11:50:00, 11.08s/it]"
     ]
    },
    {
     "name": "stdout",
     "output_type": "stream",
     "text": [
      "Compound(332)\n"
     ]
    },
    {
     "name": "stderr",
     "output_type": "stream",
     "text": [
      "\r",
      "Processing compounds:  16%|█████████                                              | 755/4599 [25:01<8:39:33,  8.11s/it]"
     ]
    },
    {
     "name": "stdout",
     "output_type": "stream",
     "text": [
      "Compound(91748736)\n"
     ]
    },
    {
     "name": "stderr",
     "output_type": "stream",
     "text": [
      "\r",
      "Processing compounds:  16%|█████████                                              | 756/4599 [25:02<6:33:42,  6.15s/it]"
     ]
    },
    {
     "name": "stdout",
     "output_type": "stream",
     "text": [
      "Compound(11487)\n"
     ]
    },
    {
     "name": "stderr",
     "output_type": "stream",
     "text": [
      "\r",
      "Processing compounds:  16%|█████████                                              | 757/4599 [25:04<5:03:10,  4.73s/it]"
     ]
    },
    {
     "name": "stdout",
     "output_type": "stream",
     "text": [
      "Compound(54280161)\n"
     ]
    },
    {
     "name": "stderr",
     "output_type": "stream",
     "text": [
      "Processing compounds:  17%|█████████                                              | 759/4599 [25:06<3:10:13,  2.97s/it]"
     ]
    },
    {
     "name": "stdout",
     "output_type": "stream",
     "text": [
      "Compound(576908)\n"
     ]
    },
    {
     "name": "stderr",
     "output_type": "stream",
     "text": [
      "\r",
      "Processing compounds:  17%|█████████                                              | 760/4599 [25:07<2:37:04,  2.45s/it]"
     ]
    },
    {
     "name": "stdout",
     "output_type": "stream",
     "text": [
      "Compound(11230)\n"
     ]
    },
    {
     "name": "stderr",
     "output_type": "stream",
     "text": [
      "\r",
      "Processing compounds:  17%|█████████                                              | 761/4599 [25:09<2:12:17,  2.07s/it]"
     ]
    },
    {
     "name": "stdout",
     "output_type": "stream",
     "text": [
      "Compound(564720)\n"
     ]
    },
    {
     "name": "stderr",
     "output_type": "stream",
     "text": [
      "\r",
      "Processing compounds:  17%|█████████                                              | 762/4599 [25:10<1:57:46,  1.84s/it]"
     ]
    },
    {
     "name": "stdout",
     "output_type": "stream",
     "text": [
      "Compound(102625)\n"
     ]
    },
    {
     "name": "stderr",
     "output_type": "stream",
     "text": [
      "Processing compounds:  17%|████████▉                                             | 765/4599 [26:43<30:00:25, 28.18s/it]"
     ]
    },
    {
     "name": "stdout",
     "output_type": "stream",
     "text": [
      "Error: <urlopen error TLS/SSL connection has been closed (EOF) (_ssl.c:1131)>\n"
     ]
    },
    {
     "name": "stderr",
     "output_type": "stream",
     "text": [
      "\r",
      "Processing compounds:  17%|████████▉                                             | 766/4599 [26:45<21:42:37, 20.39s/it]"
     ]
    },
    {
     "name": "stdout",
     "output_type": "stream",
     "text": [
      "Compound(9316)\n"
     ]
    },
    {
     "name": "stderr",
     "output_type": "stream",
     "text": [
      "Processing compounds:  17%|█████████▏                                             | 769/4599 [26:50<8:42:11,  8.18s/it]"
     ]
    },
    {
     "name": "stdout",
     "output_type": "stream",
     "text": [
      "Compound(13849)\n"
     ]
    },
    {
     "name": "stderr",
     "output_type": "stream",
     "text": [
      "\r",
      "Processing compounds:  17%|█████████▏                                             | 770/4599 [26:52<6:51:26,  6.45s/it]"
     ]
    },
    {
     "name": "stdout",
     "output_type": "stream",
     "text": [
      "Compound(5365774)\n"
     ]
    },
    {
     "name": "stderr",
     "output_type": "stream",
     "text": [
      "\r",
      "Processing compounds:  17%|█████████▏                                             | 771/4599 [26:54<5:32:09,  5.21s/it]"
     ]
    },
    {
     "name": "stdout",
     "output_type": "stream",
     "text": [
      "Compound(54284936)\n"
     ]
    },
    {
     "name": "stderr",
     "output_type": "stream",
     "text": [
      "\r",
      "Processing compounds:  17%|█████████▏                                             | 772/4599 [26:56<4:18:29,  4.05s/it]"
     ]
    },
    {
     "name": "stdout",
     "output_type": "stream",
     "text": [
      "Compound(5364412)\n"
     ]
    },
    {
     "name": "stderr",
     "output_type": "stream",
     "text": [
      "\r",
      "Processing compounds:  17%|█████████▏                                             | 773/4599 [26:57<3:29:17,  3.28s/it]"
     ]
    },
    {
     "name": "stdout",
     "output_type": "stream",
     "text": [
      "Compound(10465)\n"
     ]
    },
    {
     "name": "stderr",
     "output_type": "stream",
     "text": [
      "\r",
      "Processing compounds:  17%|█████████▎                                             | 774/4599 [26:59<2:49:14,  2.65s/it]"
     ]
    },
    {
     "name": "stdout",
     "output_type": "stream",
     "text": [
      "Compound(5281127)\n"
     ]
    },
    {
     "name": "stderr",
     "output_type": "stream",
     "text": [
      "\r",
      "Processing compounds:  17%|█████████                                             | 775/4599 [27:59<21:12:47, 19.97s/it]"
     ]
    },
    {
     "name": "stdout",
     "output_type": "stream",
     "text": [
      "Error: <urlopen error TLS/SSL connection has been closed (EOF) (_ssl.c:1131)>\n"
     ]
    },
    {
     "name": "stderr",
     "output_type": "stream",
     "text": [
      "\r",
      "Processing compounds:  17%|█████████                                             | 776/4599 [28:00<15:14:28, 14.35s/it]"
     ]
    },
    {
     "name": "stdout",
     "output_type": "stream",
     "text": [
      "Compound(2266)\n"
     ]
    },
    {
     "name": "stderr",
     "output_type": "stream",
     "text": [
      "\r",
      "Processing compounds:  17%|█████████                                             | 777/4599 [28:02<11:23:20, 10.73s/it]"
     ]
    },
    {
     "name": "stdout",
     "output_type": "stream",
     "text": [
      "Compound(141998)\n"
     ]
    },
    {
     "name": "stderr",
     "output_type": "stream",
     "text": [
      "Processing compounds:  17%|█████████▏                                            | 779/4599 [29:37<35:20:55, 33.31s/it]"
     ]
    },
    {
     "name": "stdout",
     "output_type": "stream",
     "text": [
      "Error: <urlopen error TLS/SSL connection has been closed (EOF) (_ssl.c:1131)>\n"
     ]
    },
    {
     "name": "stderr",
     "output_type": "stream",
     "text": [
      "Processing compounds:  17%|█████████▏                                            | 781/4599 [29:39<17:55:11, 16.90s/it]"
     ]
    },
    {
     "name": "stdout",
     "output_type": "stream",
     "text": [
      "Compound(5281045)\n"
     ]
    },
    {
     "name": "stderr",
     "output_type": "stream",
     "text": [
      "\r",
      "Processing compounds:  17%|█████████▏                                            | 782/4599 [29:45<14:25:50, 13.61s/it]"
     ]
    },
    {
     "name": "stdout",
     "output_type": "stream",
     "text": [
      "Compound(5281547)\n"
     ]
    },
    {
     "name": "stderr",
     "output_type": "stream",
     "text": [
      "\r",
      "Processing compounds:  17%|█████████▏                                            | 783/4599 [29:46<10:29:12,  9.89s/it]"
     ]
    },
    {
     "name": "stdout",
     "output_type": "stream",
     "text": [
      "Compound(5281548)\n"
     ]
    },
    {
     "name": "stderr",
     "output_type": "stream",
     "text": [
      "\r",
      "Processing compounds:  17%|█████████▍                                             | 784/4599 [29:47<7:45:06,  7.31s/it]"
     ]
    },
    {
     "name": "stdout",
     "output_type": "stream",
     "text": [
      "Compound(12304687)\n"
     ]
    },
    {
     "name": "stderr",
     "output_type": "stream",
     "text": [
      "\r",
      "Processing compounds:  17%|█████████▏                                            | 785/4599 [30:15<14:11:04, 13.39s/it]"
     ]
    },
    {
     "name": "stdout",
     "output_type": "stream",
     "text": [
      "Error: <urlopen error TLS/SSL connection has been closed (EOF) (_ssl.c:1131)>\n"
     ]
    },
    {
     "name": "stderr",
     "output_type": "stream",
     "text": [
      "\r",
      "Processing compounds:  17%|█████████▏                                            | 786/4599 [30:15<10:01:59,  9.47s/it]"
     ]
    },
    {
     "name": "stdout",
     "output_type": "stream",
     "text": [
      "Error: <urlopen error [WinError 10054] 远程主机强迫关闭了一个现有的连接。>\n",
      "Error: <urlopen error [WinError 10053] 你的主机中的软件中止了一个已建立的连接。>\n"
     ]
    },
    {
     "name": "stderr",
     "output_type": "stream",
     "text": [
      "Processing compounds:  17%|█████████▍                                             | 789/4599 [30:16<4:07:27,  3.90s/it]"
     ]
    },
    {
     "name": "stdout",
     "output_type": "stream",
     "text": [
      "Error: <urlopen error [WinError 10053] 你的主机中的软件中止了一个已建立的连接。>\n",
      "Error: <urlopen error [WinError 10054] 远程主机强迫关闭了一个现有的连接。>\n"
     ]
    },
    {
     "name": "stderr",
     "output_type": "stream",
     "text": [
      "Processing compounds:  17%|█████████▍                                             | 791/4599 [30:16<2:16:57,  2.16s/it]"
     ]
    },
    {
     "name": "stdout",
     "output_type": "stream",
     "text": [
      "Error: <urlopen error [WinError 10054] 远程主机强迫关闭了一个现有的连接。>\n",
      "Error: <urlopen error [WinError 10054] 远程主机强迫关闭了一个现有的连接。>\n"
     ]
    },
    {
     "name": "stderr",
     "output_type": "stream",
     "text": [
      "\r",
      "Processing compounds:  17%|█████████▍                                             | 792/4599 [30:16<1:41:20,  1.60s/it]"
     ]
    },
    {
     "name": "stdout",
     "output_type": "stream",
     "text": [
      "Error: <urlopen error [WinError 10054] 远程主机强迫关闭了一个现有的连接。>\n"
     ]
    },
    {
     "name": "stderr",
     "output_type": "stream",
     "text": [
      "\r",
      "Processing compounds:  17%|█████████▍                                             | 793/4599 [30:19<2:15:39,  2.14s/it]"
     ]
    },
    {
     "name": "stdout",
     "output_type": "stream",
     "text": [
      "Compound(17516)\n"
     ]
    },
    {
     "name": "stderr",
     "output_type": "stream",
     "text": [
      "\r",
      "Processing compounds:  17%|█████████▍                                             | 794/4599 [30:21<2:03:03,  1.94s/it]"
     ]
    },
    {
     "name": "stdout",
     "output_type": "stream",
     "text": [
      "Compound(161716)\n"
     ]
    },
    {
     "name": "stderr",
     "output_type": "stream",
     "text": [
      "\r",
      "Processing compounds:  17%|█████████▌                                             | 795/4599 [30:23<2:08:16,  2.02s/it]"
     ]
    },
    {
     "name": "stdout",
     "output_type": "stream",
     "text": [
      "Compound(18597)\n"
     ]
    },
    {
     "name": "stderr",
     "output_type": "stream",
     "text": [
      "\r",
      "Processing compounds:  17%|█████████▌                                             | 796/4599 [30:25<2:07:18,  2.01s/it]"
     ]
    },
    {
     "name": "stdout",
     "output_type": "stream",
     "text": [
      "Compound(5325830)\n"
     ]
    },
    {
     "name": "stderr",
     "output_type": "stream",
     "text": [
      "Processing compounds:  17%|█████████▌                                             | 798/4599 [30:28<1:48:55,  1.72s/it]"
     ]
    },
    {
     "name": "stdout",
     "output_type": "stream",
     "text": [
      "Compound(439570)\n"
     ]
    },
    {
     "name": "stderr",
     "output_type": "stream",
     "text": [
      "\r",
      "Processing compounds:  17%|█████████▌                                             | 799/4599 [30:31<2:06:47,  2.00s/it]"
     ]
    },
    {
     "name": "stdout",
     "output_type": "stream",
     "text": [
      "Compound(12306046)\n"
     ]
    },
    {
     "name": "stderr",
     "output_type": "stream",
     "text": [
      "\r",
      "Processing compounds:  17%|█████████▌                                             | 800/4599 [30:34<2:25:43,  2.30s/it]"
     ]
    },
    {
     "name": "stdout",
     "output_type": "stream",
     "text": [
      "Compound(6429350)\n"
     ]
    },
    {
     "name": "stderr",
     "output_type": "stream",
     "text": [
      "\r",
      "Processing compounds:  17%|█████████▌                                             | 801/4599 [30:35<2:16:32,  2.16s/it]"
     ]
    },
    {
     "name": "stdout",
     "output_type": "stream",
     "text": [
      "Compound(12301996)\n"
     ]
    },
    {
     "name": "stderr",
     "output_type": "stream",
     "text": [
      "\r",
      "Processing compounds:  17%|█████████▌                                             | 802/4599 [30:37<2:02:58,  1.94s/it]"
     ]
    },
    {
     "name": "stdout",
     "output_type": "stream",
     "text": [
      "Compound(28930)\n"
     ]
    },
    {
     "name": "stderr",
     "output_type": "stream",
     "text": [
      "\r",
      "Processing compounds:  17%|█████████▌                                             | 803/4599 [30:39<2:03:31,  1.95s/it]"
     ]
    },
    {
     "name": "stdout",
     "output_type": "stream",
     "text": [
      "Compound(21671)\n"
     ]
    },
    {
     "name": "stderr",
     "output_type": "stream",
     "text": [
      "\r",
      "Processing compounds:  17%|█████████▌                                             | 804/4599 [30:41<2:01:39,  1.92s/it]"
     ]
    },
    {
     "name": "stdout",
     "output_type": "stream",
     "text": [
      "Compound(623262)\n"
     ]
    },
    {
     "name": "stderr",
     "output_type": "stream",
     "text": [
      "\r",
      "Processing compounds:  18%|█████████▋                                             | 805/4599 [30:58<6:46:03,  6.42s/it]"
     ]
    },
    {
     "name": "stdout",
     "output_type": "stream",
     "text": [
      "Error: Remote end closed connection without response\n"
     ]
    },
    {
     "name": "stderr",
     "output_type": "stream",
     "text": [
      "\r",
      "Processing compounds:  18%|█████████▍                                            | 806/4599 [32:14<28:42:34, 27.25s/it]"
     ]
    },
    {
     "name": "stdout",
     "output_type": "stream",
     "text": [
      "Error: <urlopen error TLS/SSL connection has been closed (EOF) (_ssl.c:1131)>\n"
     ]
    },
    {
     "name": "stderr",
     "output_type": "stream",
     "text": [
      "\r",
      "Processing compounds:  18%|█████████▍                                            | 807/4599 [32:15<20:32:11, 19.50s/it]"
     ]
    },
    {
     "name": "stdout",
     "output_type": "stream",
     "text": [
      "Compound(65575)\n"
     ]
    },
    {
     "name": "stderr",
     "output_type": "stream",
     "text": [
      "\r",
      "Processing compounds:  18%|█████████▍                                            | 808/4599 [32:17<14:58:23, 14.22s/it]"
     ]
    },
    {
     "name": "stdout",
     "output_type": "stream",
     "text": [
      "Compound(86869)\n"
     ]
    },
    {
     "name": "stderr",
     "output_type": "stream",
     "text": [
      "Processing compounds:  18%|█████████▋                                             | 814/4599 [32:31<3:44:53,  3.57s/it]"
     ]
    },
    {
     "name": "stdout",
     "output_type": "stream",
     "text": [
      "Compound(5365643)\n"
     ]
    },
    {
     "name": "stderr",
     "output_type": "stream",
     "text": [
      "\r",
      "Processing compounds:  18%|█████████▋                                             | 815/4599 [32:33<3:24:06,  3.24s/it]"
     ]
    },
    {
     "name": "stdout",
     "output_type": "stream",
     "text": [
      "Compound(5373727)\n"
     ]
    },
    {
     "name": "stderr",
     "output_type": "stream",
     "text": [
      "Processing compounds:  18%|█████████▊                                             | 819/4599 [32:42<3:00:27,  2.86s/it]"
     ]
    },
    {
     "name": "stdout",
     "output_type": "stream",
     "text": [
      "Compound(11990360)\n"
     ]
    },
    {
     "name": "stderr",
     "output_type": "stream",
     "text": [
      "\r",
      "Processing compounds:  18%|█████████▊                                             | 820/4599 [32:44<2:33:23,  2.44s/it]"
     ]
    },
    {
     "name": "stdout",
     "output_type": "stream",
     "text": [
      "Compound(92138)\n"
     ]
    },
    {
     "name": "stderr",
     "output_type": "stream",
     "text": [
      "Processing compounds:  18%|█████████▊                                             | 825/4599 [32:53<2:07:15,  2.02s/it]"
     ]
    },
    {
     "name": "stdout",
     "output_type": "stream",
     "text": [
      "Compound(115158)\n"
     ]
    },
    {
     "name": "stderr",
     "output_type": "stream",
     "text": [
      "Processing compounds:  18%|█████████▋                                            | 829/4599 [38:55<61:46:41, 58.99s/it]"
     ]
    },
    {
     "name": "stdout",
     "output_type": "stream",
     "text": [
      "Error: <urlopen error TLS/SSL connection has been closed (EOF) (_ssl.c:1131)>\n",
      "Error: <urlopen error [WinError 10053] 你的主机中的软件中止了一个已建立的连接。>\n",
      "Error: <urlopen error [WinError 10053] 你的主机中的软件中止了一个已建立的连接。>\n"
     ]
    },
    {
     "name": "stderr",
     "output_type": "stream",
     "text": [
      "\r",
      "Processing compounds:  18%|█████████▊                                            | 831/4599 [38:55<37:14:40, 35.58s/it]"
     ]
    },
    {
     "name": "stdout",
     "output_type": "stream",
     "text": [
      "Error: <urlopen error [WinError 10054] 远程主机强迫关闭了一个现有的连接。>\n",
      "Error: <urlopen error [WinError 10053] 你的主机中的软件中止了一个已建立的连接。>\n",
      "Error: <urlopen error [WinError 10054] 远程主机强迫关闭了一个现有的连接。>\n"
     ]
    },
    {
     "name": "stderr",
     "output_type": "stream",
     "text": [
      "Processing compounds:  18%|█████████▊                                            | 835/4599 [38:55<15:41:28, 15.01s/it]"
     ]
    },
    {
     "name": "stdout",
     "output_type": "stream",
     "text": [
      "Error: <urlopen error [WinError 10053] 你的主机中的软件中止了一个已建立的连接。>\n",
      "Error: <urlopen error [WinError 10053] 你的主机中的软件中止了一个已建立的连接。>\n",
      "Error: <urlopen error [WinError 10054] 远程主机强迫关闭了一个现有的连接。>\n"
     ]
    },
    {
     "name": "stderr",
     "output_type": "stream",
     "text": [
      "\r",
      "Processing compounds:  18%|█████████▊                                            | 837/4599 [38:55<10:34:30, 10.12s/it]"
     ]
    },
    {
     "name": "stdout",
     "output_type": "stream",
     "text": [
      "Error: <urlopen error [WinError 10054] 远程主机强迫关闭了一个现有的连接。>\n",
      "Error: <urlopen error [WinError 10053] 你的主机中的软件中止了一个已建立的连接。>\n",
      "Error: <urlopen error [WinError 10053] 你的主机中的软件中止了一个已建立的连接。>\n"
     ]
    },
    {
     "name": "stderr",
     "output_type": "stream",
     "text": [
      "\r",
      "Processing compounds:  18%|██████████                                             | 839/4599 [38:56<7:13:45,  6.92s/it]"
     ]
    },
    {
     "name": "stdout",
     "output_type": "stream",
     "text": [
      "Error: <urlopen error [WinError 10053] 你的主机中的软件中止了一个已建立的连接。>\n",
      "Error: <urlopen error [WinError 10054] 远程主机强迫关闭了一个现有的连接。>\n"
     ]
    },
    {
     "name": "stderr",
     "output_type": "stream",
     "text": [
      "Processing compounds:  18%|██████████                                             | 843/4599 [38:56<3:28:44,  3.33s/it]"
     ]
    },
    {
     "name": "stdout",
     "output_type": "stream",
     "text": [
      "Error: <urlopen error [WinError 10053] 你的主机中的软件中止了一个已建立的连接。>\n",
      "Error: <urlopen error [WinError 10053] 你的主机中的软件中止了一个已建立的连接。>\n",
      "Error: <urlopen error [WinError 10054] 远程主机强迫关闭了一个现有的连接。>\n"
     ]
    },
    {
     "name": "stderr",
     "output_type": "stream",
     "text": [
      "\r",
      "Processing compounds:  18%|██████████                                             | 845/4599 [38:56<2:26:19,  2.34s/it]"
     ]
    },
    {
     "name": "stdout",
     "output_type": "stream",
     "text": [
      "Error: <urlopen error [WinError 10054] 远程主机强迫关闭了一个现有的连接。>\n",
      "Error: <urlopen error [WinError 10053] 你的主机中的软件中止了一个已建立的连接。>\n",
      "Error: <urlopen error [WinError 10053] 你的主机中的软件中止了一个已建立的连接。>\n"
     ]
    },
    {
     "name": "stderr",
     "output_type": "stream",
     "text": [
      "Processing compounds:  18%|██████████▏                                            | 849/4599 [38:56<1:13:29,  1.18s/it]"
     ]
    },
    {
     "name": "stdout",
     "output_type": "stream",
     "text": [
      "Error: <urlopen error [WinError 10053] 你的主机中的软件中止了一个已建立的连接。>\n",
      "Error: <urlopen error [WinError 10053] 你的主机中的软件中止了一个已建立的连接。>\n",
      "Error: <urlopen error [WinError 10053] 你的主机中的软件中止了一个已建立的连接。>\n"
     ]
    },
    {
     "name": "stderr",
     "output_type": "stream",
     "text": [
      "\r",
      "Processing compounds:  19%|██████████▌                                              | 851/4599 [38:57<52:46,  1.18it/s]"
     ]
    },
    {
     "name": "stdout",
     "output_type": "stream",
     "text": [
      "Error: <urlopen error [WinError 10054] 远程主机强迫关闭了一个现有的连接。>\n",
      "Error: <urlopen error [WinError 10053] 你的主机中的软件中止了一个已建立的连接。>\n",
      "Error: <urlopen error [WinError 10053] 你的主机中的软件中止了一个已建立的连接。>\n"
     ]
    },
    {
     "name": "stderr",
     "output_type": "stream",
     "text": [
      "Processing compounds:  19%|██████████▌                                              | 855/4599 [38:57<28:18,  2.20it/s]"
     ]
    },
    {
     "name": "stdout",
     "output_type": "stream",
     "text": [
      "Error: <urlopen error [WinError 10054] 远程主机强迫关闭了一个现有的连接。>\n",
      "Error: <urlopen error [WinError 10053] 你的主机中的软件中止了一个已建立的连接。>\n",
      "Error: <urlopen error [WinError 10054] 远程主机强迫关闭了一个现有的连接。>\n"
     ]
    },
    {
     "name": "stderr",
     "output_type": "stream",
     "text": [
      "\r",
      "Processing compounds:  19%|██████████▌                                              | 857/4599 [38:57<21:18,  2.93it/s]"
     ]
    },
    {
     "name": "stdout",
     "output_type": "stream",
     "text": [
      "Error: <urlopen error [WinError 10054] 远程主机强迫关闭了一个现有的连接。>\n",
      "Error: <urlopen error [WinError 10053] 你的主机中的软件中止了一个已建立的连接。>\n",
      "Error: <urlopen error [WinError 10053] 你的主机中的软件中止了一个已建立的连接。>\n"
     ]
    },
    {
     "name": "stderr",
     "output_type": "stream",
     "text": [
      "Processing compounds:  19%|██████████▋                                              | 861/4599 [38:57<12:58,  4.80it/s]"
     ]
    },
    {
     "name": "stdout",
     "output_type": "stream",
     "text": [
      "Error: <urlopen error [WinError 10054] 远程主机强迫关闭了一个现有的连接。>\n",
      "Error: <urlopen error TLS/SSL connection has been closed (EOF) (_ssl.c:1131)>\n",
      "Error: <urlopen error [WinError 10054] 远程主机强迫关闭了一个现有的连接。>\n"
     ]
    },
    {
     "name": "stderr",
     "output_type": "stream",
     "text": [
      "\r",
      "Processing compounds:  19%|██████████▋                                              | 863/4599 [38:58<10:38,  5.85it/s]"
     ]
    },
    {
     "name": "stdout",
     "output_type": "stream",
     "text": [
      "Error: <urlopen error [WinError 10054] 远程主机强迫关闭了一个现有的连接。>\n",
      "Error: <urlopen error [WinError 10053] 你的主机中的软件中止了一个已建立的连接。>\n",
      "Error: <urlopen error [WinError 10054] 远程主机强迫关闭了一个现有的连接。>\n"
     ]
    },
    {
     "name": "stderr",
     "output_type": "stream",
     "text": [
      "Processing compounds:  19%|██████████▋                                              | 867/4599 [38:58<07:47,  7.98it/s]"
     ]
    },
    {
     "name": "stdout",
     "output_type": "stream",
     "text": [
      "Error: <urlopen error [WinError 10054] 远程主机强迫关闭了一个现有的连接。>\n",
      "Error: <urlopen error [WinError 10053] 你的主机中的软件中止了一个已建立的连接。>\n",
      "Error: <urlopen error [WinError 10053] 你的主机中的软件中止了一个已建立的连接。>\n"
     ]
    },
    {
     "name": "stderr",
     "output_type": "stream",
     "text": [
      "\r",
      "Processing compounds:  19%|██████████▊                                              | 869/4599 [38:58<06:59,  8.89it/s]"
     ]
    },
    {
     "name": "stdout",
     "output_type": "stream",
     "text": [
      "Error: <urlopen error [WinError 10053] 你的主机中的软件中止了一个已建立的连接。>\n",
      "Error: <urlopen error [WinError 10053] 你的主机中的软件中止了一个已建立的连接。>\n",
      "Error: <urlopen error [WinError 10053] 你的主机中的软件中止了一个已建立的连接。>\n"
     ]
    },
    {
     "name": "stderr",
     "output_type": "stream",
     "text": [
      "Processing compounds:  19%|██████████▊                                              | 873/4599 [38:58<05:59, 10.35it/s]"
     ]
    },
    {
     "name": "stdout",
     "output_type": "stream",
     "text": [
      "Error: <urlopen error [WinError 10054] 远程主机强迫关闭了一个现有的连接。>\n",
      "Error: <urlopen error [WinError 10054] 远程主机强迫关闭了一个现有的连接。>\n",
      "Error: <urlopen error [WinError 10053] 你的主机中的软件中止了一个已建立的连接。>\n"
     ]
    },
    {
     "name": "stderr",
     "output_type": "stream",
     "text": [
      "\r",
      "Processing compounds:  19%|██████████▊                                              | 875/4599 [38:59<05:43, 10.85it/s]"
     ]
    },
    {
     "name": "stdout",
     "output_type": "stream",
     "text": [
      "Error: <urlopen error [WinError 10054] 远程主机强迫关闭了一个现有的连接。>\n",
      "Error: <urlopen error [WinError 10053] 你的主机中的软件中止了一个已建立的连接。>\n",
      "Error: <urlopen error [WinError 10053] 你的主机中的软件中止了一个已建立的连接。>\n"
     ]
    },
    {
     "name": "stderr",
     "output_type": "stream",
     "text": [
      "Processing compounds:  19%|██████████▉                                              | 879/4599 [38:59<05:23, 11.49it/s]"
     ]
    },
    {
     "name": "stdout",
     "output_type": "stream",
     "text": [
      "Error: <urlopen error [WinError 10054] 远程主机强迫关闭了一个现有的连接。>\n",
      "Error: <urlopen error [WinError 10054] 远程主机强迫关闭了一个现有的连接。>\n",
      "Error: <urlopen error [WinError 10053] 你的主机中的软件中止了一个已建立的连接。>\n"
     ]
    },
    {
     "name": "stderr",
     "output_type": "stream",
     "text": [
      "\r",
      "Processing compounds:  19%|██████████▉                                              | 881/4599 [38:59<05:17, 11.72it/s]"
     ]
    },
    {
     "name": "stdout",
     "output_type": "stream",
     "text": [
      "Error: <urlopen error [WinError 10054] 远程主机强迫关闭了一个现有的连接。>\n",
      "Error: <urlopen error [WinError 10054] 远程主机强迫关闭了一个现有的连接。>\n",
      "Error: <urlopen error [WinError 10054] 远程主机强迫关闭了一个现有的连接。>\n"
     ]
    },
    {
     "name": "stderr",
     "output_type": "stream",
     "text": [
      "Processing compounds:  19%|██████████▉                                              | 885/4599 [38:59<05:17, 11.70it/s]"
     ]
    },
    {
     "name": "stdout",
     "output_type": "stream",
     "text": [
      "Error: <urlopen error [WinError 10053] 你的主机中的软件中止了一个已建立的连接。>\n",
      "Error: <urlopen error [WinError 10054] 远程主机强迫关闭了一个现有的连接。>\n",
      "Error: <urlopen error TLS/SSL connection has been closed (EOF) (_ssl.c:1131)>\n"
     ]
    },
    {
     "name": "stderr",
     "output_type": "stream",
     "text": [
      "\r",
      "Processing compounds:  19%|██████████▉                                              | 887/4599 [39:00<05:26, 11.37it/s]"
     ]
    },
    {
     "name": "stdout",
     "output_type": "stream",
     "text": [
      "Error: <urlopen error [WinError 10053] 你的主机中的软件中止了一个已建立的连接。>\n",
      "Error: <urlopen error [WinError 10054] 远程主机强迫关闭了一个现有的连接。>\n",
      "Error: <urlopen error [WinError 10054] 远程主机强迫关闭了一个现有的连接。>\n"
     ]
    },
    {
     "name": "stderr",
     "output_type": "stream",
     "text": [
      "Processing compounds:  19%|███████████                                              | 891/4599 [39:00<05:17, 11.69it/s]"
     ]
    },
    {
     "name": "stdout",
     "output_type": "stream",
     "text": [
      "Error: <urlopen error [WinError 10054] 远程主机强迫关闭了一个现有的连接。>\n",
      "Error: <urlopen error [WinError 10053] 你的主机中的软件中止了一个已建立的连接。>\n",
      "Error: <urlopen error [WinError 10053] 你的主机中的软件中止了一个已建立的连接。>\n"
     ]
    },
    {
     "name": "stderr",
     "output_type": "stream",
     "text": [
      "\r",
      "Processing compounds:  19%|███████████                                              | 893/4599 [39:00<05:12, 11.85it/s]"
     ]
    },
    {
     "name": "stdout",
     "output_type": "stream",
     "text": [
      "Error: <urlopen error [WinError 10054] 远程主机强迫关闭了一个现有的连接。>\n",
      "Error: <urlopen error [WinError 10054] 远程主机强迫关闭了一个现有的连接。>\n",
      "Error: <urlopen error [WinError 10053] 你的主机中的软件中止了一个已建立的连接。>\n"
     ]
    },
    {
     "name": "stderr",
     "output_type": "stream",
     "text": [
      "Processing compounds:  20%|███████████                                              | 897/4599 [39:00<05:07, 12.04it/s]"
     ]
    },
    {
     "name": "stdout",
     "output_type": "stream",
     "text": [
      "Error: <urlopen error [WinError 10054] 远程主机强迫关闭了一个现有的连接。>\n",
      "Error: <urlopen error [WinError 10053] 你的主机中的软件中止了一个已建立的连接。>\n",
      "Error: <urlopen error [WinError 10053] 你的主机中的软件中止了一个已建立的连接。>\n"
     ]
    },
    {
     "name": "stderr",
     "output_type": "stream",
     "text": [
      "\r",
      "Processing compounds:  20%|███████████▏                                             | 899/4599 [39:01<05:06, 12.08it/s]"
     ]
    },
    {
     "name": "stdout",
     "output_type": "stream",
     "text": [
      "Error: <urlopen error [WinError 10054] 远程主机强迫关闭了一个现有的连接。>\n",
      "Error: <urlopen error [WinError 10053] 你的主机中的软件中止了一个已建立的连接。>\n",
      "Error: <urlopen error [WinError 10053] 你的主机中的软件中止了一个已建立的连接。>\n"
     ]
    },
    {
     "name": "stderr",
     "output_type": "stream",
     "text": [
      "Processing compounds:  20%|███████████▏                                             | 903/4599 [39:01<05:01, 12.25it/s]"
     ]
    },
    {
     "name": "stdout",
     "output_type": "stream",
     "text": [
      "Error: <urlopen error [WinError 10054] 远程主机强迫关闭了一个现有的连接。>\n",
      "Error: <urlopen error [WinError 10054] 远程主机强迫关闭了一个现有的连接。>\n",
      "Error: <urlopen error [WinError 10054] 远程主机强迫关闭了一个现有的连接。>\n"
     ]
    },
    {
     "name": "stderr",
     "output_type": "stream",
     "text": [
      "\r",
      "Processing compounds:  20%|███████████▏                                             | 905/4599 [39:01<05:11, 11.85it/s]"
     ]
    },
    {
     "name": "stdout",
     "output_type": "stream",
     "text": [
      "Error: <urlopen error [WinError 10054] 远程主机强迫关闭了一个现有的连接。>\n",
      "Error: <urlopen error [WinError 10053] 你的主机中的软件中止了一个已建立的连接。>\n",
      "Error: <urlopen error [WinError 10054] 远程主机强迫关闭了一个现有的连接。>\n"
     ]
    },
    {
     "name": "stderr",
     "output_type": "stream",
     "text": [
      "Processing compounds:  20%|███████████▎                                             | 909/4599 [39:01<05:04, 12.13it/s]"
     ]
    },
    {
     "name": "stdout",
     "output_type": "stream",
     "text": [
      "Error: <urlopen error [WinError 10053] 你的主机中的软件中止了一个已建立的连接。>\n",
      "Error: <urlopen error [WinError 10053] 你的主机中的软件中止了一个已建立的连接。>\n",
      "Error: <urlopen error [WinError 10054] 远程主机强迫关闭了一个现有的连接。>\n"
     ]
    },
    {
     "name": "stderr",
     "output_type": "stream",
     "text": [
      "\r",
      "Processing compounds:  20%|███████████▎                                             | 911/4599 [39:02<05:04, 12.12it/s]"
     ]
    },
    {
     "name": "stdout",
     "output_type": "stream",
     "text": [
      "Error: <urlopen error [WinError 10054] 远程主机强迫关闭了一个现有的连接。>\n",
      "Error: <urlopen error [WinError 10054] 远程主机强迫关闭了一个现有的连接。>\n",
      "Error: <urlopen error [WinError 10053] 你的主机中的软件中止了一个已建立的连接。>\n"
     ]
    },
    {
     "name": "stderr",
     "output_type": "stream",
     "text": [
      "Processing compounds:  20%|███████████▎                                             | 915/4599 [39:02<05:00, 12.25it/s]"
     ]
    },
    {
     "name": "stdout",
     "output_type": "stream",
     "text": [
      "Error: <urlopen error [WinError 10054] 远程主机强迫关闭了一个现有的连接。>\n",
      "Error: <urlopen error [WinError 10054] 远程主机强迫关闭了一个现有的连接。>\n",
      "Error: <urlopen error [WinError 10054] 远程主机强迫关闭了一个现有的连接。>\n"
     ]
    },
    {
     "name": "stderr",
     "output_type": "stream",
     "text": [
      "\r",
      "Processing compounds:  20%|███████████▎                                             | 917/4599 [39:02<05:01, 12.21it/s]"
     ]
    },
    {
     "name": "stdout",
     "output_type": "stream",
     "text": [
      "Error: <urlopen error [WinError 10054] 远程主机强迫关闭了一个现有的连接。>\n",
      "Error: <urlopen error [WinError 10053] 你的主机中的软件中止了一个已建立的连接。>\n",
      "Error: <urlopen error [WinError 10054] 远程主机强迫关闭了一个现有的连接。>\n"
     ]
    },
    {
     "name": "stderr",
     "output_type": "stream",
     "text": [
      "Processing compounds:  20%|███████████▍                                             | 921/4599 [39:02<05:02, 12.15it/s]"
     ]
    },
    {
     "name": "stdout",
     "output_type": "stream",
     "text": [
      "Error: <urlopen error [WinError 10054] 远程主机强迫关闭了一个现有的连接。>\n",
      "Error: <urlopen error [WinError 10054] 远程主机强迫关闭了一个现有的连接。>\n",
      "Error: <urlopen error [WinError 10053] 你的主机中的软件中止了一个已建立的连接。>\n"
     ]
    },
    {
     "name": "stderr",
     "output_type": "stream",
     "text": [
      "\r",
      "Processing compounds:  20%|███████████▍                                             | 923/4599 [39:03<04:59, 12.26it/s]"
     ]
    },
    {
     "name": "stdout",
     "output_type": "stream",
     "text": [
      "Error: <urlopen error [WinError 10054] 远程主机强迫关闭了一个现有的连接。>\n",
      "Error: <urlopen error [WinError 10054] 远程主机强迫关闭了一个现有的连接。>\n",
      "Error: <urlopen error [WinError 10053] 你的主机中的软件中止了一个已建立的连接。>\n"
     ]
    },
    {
     "name": "stderr",
     "output_type": "stream",
     "text": [
      "Processing compounds:  20%|███████████▍                                             | 927/4599 [39:03<05:00, 12.20it/s]"
     ]
    },
    {
     "name": "stdout",
     "output_type": "stream",
     "text": [
      "Error: <urlopen error [WinError 10053] 你的主机中的软件中止了一个已建立的连接。>\n",
      "Error: <urlopen error [WinError 10054] 远程主机强迫关闭了一个现有的连接。>\n",
      "Error: <urlopen error [WinError 10054] 远程主机强迫关闭了一个现有的连接。>\n"
     ]
    },
    {
     "name": "stderr",
     "output_type": "stream",
     "text": [
      "\r",
      "Processing compounds:  20%|███████████▌                                             | 929/4599 [39:03<05:00, 12.21it/s]"
     ]
    },
    {
     "name": "stdout",
     "output_type": "stream",
     "text": [
      "Error: <urlopen error [WinError 10054] 远程主机强迫关闭了一个现有的连接。>\n",
      "Error: <urlopen error [WinError 10054] 远程主机强迫关闭了一个现有的连接。>\n",
      "Error: <urlopen error [WinError 10054] 远程主机强迫关闭了一个现有的连接。>\n"
     ]
    },
    {
     "name": "stderr",
     "output_type": "stream",
     "text": [
      "Processing compounds:  20%|███████████▌                                             | 933/4599 [39:03<04:57, 12.33it/s]"
     ]
    },
    {
     "name": "stdout",
     "output_type": "stream",
     "text": [
      "Error: <urlopen error [WinError 10054] 远程主机强迫关闭了一个现有的连接。>\n",
      "Error: <urlopen error [WinError 10053] 你的主机中的软件中止了一个已建立的连接。>\n",
      "Error: <urlopen error [WinError 10054] 远程主机强迫关闭了一个现有的连接。>\n"
     ]
    },
    {
     "name": "stderr",
     "output_type": "stream",
     "text": [
      "\r",
      "Processing compounds:  20%|███████████▌                                             | 935/4599 [39:04<04:58, 12.29it/s]"
     ]
    },
    {
     "name": "stdout",
     "output_type": "stream",
     "text": [
      "Error: <urlopen error [WinError 10054] 远程主机强迫关闭了一个现有的连接。>\n",
      "Error: <urlopen error [WinError 10054] 远程主机强迫关闭了一个现有的连接。>\n",
      "Error: <urlopen error [WinError 10054] 远程主机强迫关闭了一个现有的连接。>\n"
     ]
    },
    {
     "name": "stderr",
     "output_type": "stream",
     "text": [
      "Processing compounds:  20%|███████████▋                                             | 939/4599 [39:04<04:58, 12.28it/s]"
     ]
    },
    {
     "name": "stdout",
     "output_type": "stream",
     "text": [
      "Error: <urlopen error [WinError 10054] 远程主机强迫关闭了一个现有的连接。>\n",
      "Error: <urlopen error [WinError 10053] 你的主机中的软件中止了一个已建立的连接。>\n",
      "Error: <urlopen error [WinError 10053] 你的主机中的软件中止了一个已建立的连接。>\n"
     ]
    },
    {
     "name": "stderr",
     "output_type": "stream",
     "text": [
      "\r",
      "Processing compounds:  20%|███████████▋                                             | 941/4599 [39:04<04:58, 12.25it/s]"
     ]
    },
    {
     "name": "stdout",
     "output_type": "stream",
     "text": [
      "Error: <urlopen error [WinError 10054] 远程主机强迫关闭了一个现有的连接。>\n",
      "Error: <urlopen error [WinError 10053] 你的主机中的软件中止了一个已建立的连接。>\n",
      "Error: <urlopen error [WinError 10054] 远程主机强迫关闭了一个现有的连接。>\n"
     ]
    },
    {
     "name": "stderr",
     "output_type": "stream",
     "text": [
      "Processing compounds:  21%|███████████▋                                             | 945/4599 [39:04<04:56, 12.34it/s]"
     ]
    },
    {
     "name": "stdout",
     "output_type": "stream",
     "text": [
      "Error: <urlopen error [WinError 10054] 远程主机强迫关闭了一个现有的连接。>\n",
      "Error: <urlopen error [WinError 10054] 远程主机强迫关闭了一个现有的连接。>\n",
      "Error: <urlopen error [WinError 10054] 远程主机强迫关闭了一个现有的连接。>\n"
     ]
    },
    {
     "name": "stderr",
     "output_type": "stream",
     "text": [
      "\r",
      "Processing compounds:  21%|███████████▋                                             | 947/4599 [39:04<04:56, 12.33it/s]"
     ]
    },
    {
     "name": "stdout",
     "output_type": "stream",
     "text": [
      "Error: <urlopen error [WinError 10054] 远程主机强迫关闭了一个现有的连接。>\n",
      "Error: <urlopen error [WinError 10053] 你的主机中的软件中止了一个已建立的连接。>\n",
      "Error: <urlopen error [WinError 10053] 你的主机中的软件中止了一个已建立的连接。>\n"
     ]
    },
    {
     "name": "stderr",
     "output_type": "stream",
     "text": [
      "Processing compounds:  21%|███████████▊                                             | 951/4599 [39:05<04:57, 12.27it/s]"
     ]
    },
    {
     "name": "stdout",
     "output_type": "stream",
     "text": [
      "Error: <urlopen error [WinError 10053] 你的主机中的软件中止了一个已建立的连接。>\n",
      "Error: <urlopen error [WinError 10053] 你的主机中的软件中止了一个已建立的连接。>\n",
      "Error: <urlopen error [WinError 10054] 远程主机强迫关闭了一个现有的连接。>\n"
     ]
    },
    {
     "name": "stderr",
     "output_type": "stream",
     "text": [
      "\r",
      "Processing compounds:  21%|███████████▊                                             | 953/4599 [39:05<05:03, 12.03it/s]"
     ]
    },
    {
     "name": "stdout",
     "output_type": "stream",
     "text": [
      "Error: <urlopen error [WinError 10053] 你的主机中的软件中止了一个已建立的连接。>\n",
      "Error: <urlopen error [WinError 10053] 你的主机中的软件中止了一个已建立的连接。>\n",
      "Error: <urlopen error [WinError 10053] 你的主机中的软件中止了一个已建立的连接。>\n"
     ]
    },
    {
     "name": "stderr",
     "output_type": "stream",
     "text": [
      "Processing compounds:  21%|███████████▊                                             | 957/4599 [39:05<05:00, 12.13it/s]"
     ]
    },
    {
     "name": "stdout",
     "output_type": "stream",
     "text": [
      "Error: <urlopen error [WinError 10054] 远程主机强迫关闭了一个现有的连接。>\n",
      "Error: <urlopen error [WinError 10053] 你的主机中的软件中止了一个已建立的连接。>\n",
      "Error: <urlopen error [WinError 10053] 你的主机中的软件中止了一个已建立的连接。>\n"
     ]
    },
    {
     "name": "stderr",
     "output_type": "stream",
     "text": [
      "\r",
      "Processing compounds:  21%|███████████▉                                             | 959/4599 [39:05<05:03, 12.00it/s]"
     ]
    },
    {
     "name": "stdout",
     "output_type": "stream",
     "text": [
      "Error: <urlopen error [WinError 10054] 远程主机强迫关闭了一个现有的连接。>\n",
      "Error: <urlopen error [WinError 10053] 你的主机中的软件中止了一个已建立的连接。>\n",
      "Error: <urlopen error [WinError 10053] 你的主机中的软件中止了一个已建立的连接。>\n"
     ]
    },
    {
     "name": "stderr",
     "output_type": "stream",
     "text": [
      "\r",
      "Processing compounds:  21%|███████████▉                                             | 961/4599 [39:06<05:00, 12.09it/s]"
     ]
    },
    {
     "name": "stdout",
     "output_type": "stream",
     "text": [
      "Error: <urlopen error [WinError 10054] 远程主机强迫关闭了一个现有的连接。>\n",
      "Error: <urlopen error [WinError 10053] 你的主机中的软件中止了一个已建立的连接。>\n"
     ]
    },
    {
     "name": "stderr",
     "output_type": "stream",
     "text": [
      "Processing compounds:  21%|███████████▉                                             | 965/4599 [39:06<05:23, 11.25it/s]"
     ]
    },
    {
     "name": "stdout",
     "output_type": "stream",
     "text": [
      "Error: <urlopen error TLS/SSL connection has been closed (EOF) (_ssl.c:1131)>\n",
      "Error: <urlopen error [WinError 10053] 你的主机中的软件中止了一个已建立的连接。>\n",
      "Error: <urlopen error [WinError 10053] 你的主机中的软件中止了一个已建立的连接。>\n"
     ]
    },
    {
     "name": "stderr",
     "output_type": "stream",
     "text": [
      "\r",
      "Processing compounds:  21%|███████████▉                                             | 967/4599 [39:06<05:13, 11.59it/s]"
     ]
    },
    {
     "name": "stdout",
     "output_type": "stream",
     "text": [
      "Error: <urlopen error [WinError 10054] 远程主机强迫关闭了一个现有的连接。>\n",
      "Error: <urlopen error [WinError 10053] 你的主机中的软件中止了一个已建立的连接。>\n",
      "Error: <urlopen error [WinError 10053] 你的主机中的软件中止了一个已建立的连接。>\n"
     ]
    },
    {
     "name": "stderr",
     "output_type": "stream",
     "text": [
      "Processing compounds:  21%|████████████                                             | 971/4599 [39:07<05:04, 11.93it/s]"
     ]
    },
    {
     "name": "stdout",
     "output_type": "stream",
     "text": [
      "Error: <urlopen error [WinError 10054] 远程主机强迫关闭了一个现有的连接。>\n",
      "Error: <urlopen error [WinError 10053] 你的主机中的软件中止了一个已建立的连接。>\n",
      "Error: <urlopen error [WinError 10054] 远程主机强迫关闭了一个现有的连接。>\n"
     ]
    },
    {
     "name": "stderr",
     "output_type": "stream",
     "text": [
      "\r",
      "Processing compounds:  21%|████████████                                             | 973/4599 [39:07<05:00, 12.06it/s]"
     ]
    },
    {
     "name": "stdout",
     "output_type": "stream",
     "text": [
      "Error: <urlopen error [WinError 10054] 远程主机强迫关闭了一个现有的连接。>\n",
      "Error: <urlopen error [WinError 10053] 你的主机中的软件中止了一个已建立的连接。>\n",
      "Error: <urlopen error [WinError 10054] 远程主机强迫关闭了一个现有的连接。>\n"
     ]
    },
    {
     "name": "stderr",
     "output_type": "stream",
     "text": [
      "Processing compounds:  21%|████████████                                             | 977/4599 [39:07<04:55, 12.26it/s]"
     ]
    },
    {
     "name": "stdout",
     "output_type": "stream",
     "text": [
      "Error: <urlopen error [WinError 10054] 远程主机强迫关闭了一个现有的连接。>\n",
      "Error: <urlopen error [WinError 10053] 你的主机中的软件中止了一个已建立的连接。>\n",
      "Error: <urlopen error [WinError 10054] 远程主机强迫关闭了一个现有的连接。>\n"
     ]
    },
    {
     "name": "stderr",
     "output_type": "stream",
     "text": [
      "\r",
      "Processing compounds:  21%|████████████▏                                            | 979/4599 [39:07<04:56, 12.20it/s]"
     ]
    },
    {
     "name": "stdout",
     "output_type": "stream",
     "text": [
      "Error: <urlopen error [WinError 10054] 远程主机强迫关闭了一个现有的连接。>\n",
      "Error: <urlopen error [WinError 10053] 你的主机中的软件中止了一个已建立的连接。>\n",
      "Error: <urlopen error [WinError 10053] 你的主机中的软件中止了一个已建立的连接。>\n"
     ]
    },
    {
     "name": "stderr",
     "output_type": "stream",
     "text": [
      "Processing compounds:  21%|████████████▏                                            | 983/4599 [39:08<04:54, 12.30it/s]"
     ]
    },
    {
     "name": "stdout",
     "output_type": "stream",
     "text": [
      "Error: <urlopen error [WinError 10053] 你的主机中的软件中止了一个已建立的连接。>\n",
      "Error: <urlopen error [WinError 10053] 你的主机中的软件中止了一个已建立的连接。>\n",
      "Error: <urlopen error TLS/SSL connection has been closed (EOF) (_ssl.c:1131)>\n"
     ]
    },
    {
     "name": "stderr",
     "output_type": "stream",
     "text": [
      "\r",
      "Processing compounds:  21%|████████████▏                                            | 985/4599 [39:08<04:55, 12.25it/s]"
     ]
    },
    {
     "name": "stdout",
     "output_type": "stream",
     "text": [
      "Error: <urlopen error [WinError 10054] 远程主机强迫关闭了一个现有的连接。>\n",
      "Error: <urlopen error [WinError 10053] 你的主机中的软件中止了一个已建立的连接。>\n",
      "Error: <urlopen error [WinError 10053] 你的主机中的软件中止了一个已建立的连接。>\n"
     ]
    },
    {
     "name": "stderr",
     "output_type": "stream",
     "text": [
      "Processing compounds:  22%|████████████▎                                            | 989/4599 [39:08<04:54, 12.24it/s]"
     ]
    },
    {
     "name": "stdout",
     "output_type": "stream",
     "text": [
      "Error: <urlopen error [WinError 10053] 你的主机中的软件中止了一个已建立的连接。>\n",
      "Error: <urlopen error [WinError 10053] 你的主机中的软件中止了一个已建立的连接。>\n",
      "Error: <urlopen error [WinError 10053] 你的主机中的软件中止了一个已建立的连接。>\n"
     ]
    },
    {
     "name": "stderr",
     "output_type": "stream",
     "text": [
      "\r",
      "Processing compounds:  22%|████████████▎                                            | 991/4599 [39:08<05:18, 11.32it/s]"
     ]
    },
    {
     "name": "stdout",
     "output_type": "stream",
     "text": [
      "Error: <urlopen error [WinError 10053] 你的主机中的软件中止了一个已建立的连接。>\n",
      "Error: <urlopen error [WinError 10054] 远程主机强迫关闭了一个现有的连接。>\n"
     ]
    },
    {
     "name": "stderr",
     "output_type": "stream",
     "text": [
      "\r",
      "Processing compounds:  22%|████████████▎                                            | 993/4599 [39:08<05:43, 10.49it/s]"
     ]
    },
    {
     "name": "stdout",
     "output_type": "stream",
     "text": [
      "Error: <urlopen error [WinError 10054] 远程主机强迫关闭了一个现有的连接。>\n",
      "Error: <urlopen error [WinError 10054] 远程主机强迫关闭了一个现有的连接。>\n"
     ]
    },
    {
     "name": "stderr",
     "output_type": "stream",
     "text": [
      "\r",
      "Processing compounds:  22%|████████████▎                                            | 995/4599 [39:09<06:39,  9.03it/s]"
     ]
    },
    {
     "name": "stdout",
     "output_type": "stream",
     "text": [
      "Error: <urlopen error [WinError 10053] 你的主机中的软件中止了一个已建立的连接。>\n",
      "Error: <urlopen error [WinError 10053] 你的主机中的软件中止了一个已建立的连接。>\n"
     ]
    },
    {
     "name": "stderr",
     "output_type": "stream",
     "text": [
      "Processing compounds:  22%|████████████▎                                            | 997/4599 [39:09<06:43,  8.93it/s]"
     ]
    },
    {
     "name": "stdout",
     "output_type": "stream",
     "text": [
      "Error: <urlopen error [WinError 10053] 你的主机中的软件中止了一个已建立的连接。>\n",
      "Error: <urlopen error [WinError 10054] 远程主机强迫关闭了一个现有的连接。>\n"
     ]
    },
    {
     "name": "stderr",
     "output_type": "stream",
     "text": [
      "Processing compounds:  22%|████████████▏                                           | 1000/4599 [39:09<06:04,  9.86it/s]"
     ]
    },
    {
     "name": "stdout",
     "output_type": "stream",
     "text": [
      "Error: <urlopen error [WinError 10054] 远程主机强迫关闭了一个现有的连接。>\n",
      "Error: <urlopen error TLS/SSL connection has been closed (EOF) (_ssl.c:1131)>\n",
      "Error: <urlopen error [WinError 10053] 你的主机中的软件中止了一个已建立的连接。>\n"
     ]
    },
    {
     "name": "stderr",
     "output_type": "stream",
     "text": [
      "\r",
      "Processing compounds:  22%|████████████▏                                           | 1002/4599 [39:09<05:43, 10.47it/s]"
     ]
    },
    {
     "name": "stdout",
     "output_type": "stream",
     "text": [
      "Error: <urlopen error [WinError 10054] 远程主机强迫关闭了一个现有的连接。>\n",
      "Error: <urlopen error [WinError 10053] 你的主机中的软件中止了一个已建立的连接。>\n",
      "Error: <urlopen error [WinError 10054] 远程主机强迫关闭了一个现有的连接。>\n"
     ]
    },
    {
     "name": "stderr",
     "output_type": "stream",
     "text": [
      "Processing compounds:  22%|████████████▏                                           | 1006/4599 [39:10<05:15, 11.39it/s]"
     ]
    },
    {
     "name": "stdout",
     "output_type": "stream",
     "text": [
      "Error: <urlopen error [WinError 10053] 你的主机中的软件中止了一个已建立的连接。>\n",
      "Error: <urlopen error [WinError 10054] 远程主机强迫关闭了一个现有的连接。>\n",
      "Error: <urlopen error [WinError 10053] 你的主机中的软件中止了一个已建立的连接。>\n"
     ]
    },
    {
     "name": "stderr",
     "output_type": "stream",
     "text": [
      "\r",
      "Processing compounds:  22%|████████████▎                                           | 1008/4599 [39:10<05:08, 11.62it/s]"
     ]
    },
    {
     "name": "stdout",
     "output_type": "stream",
     "text": [
      "Error: <urlopen error [WinError 10054] 远程主机强迫关闭了一个现有的连接。>\n",
      "Error: <urlopen error [WinError 10054] 远程主机强迫关闭了一个现有的连接。>\n",
      "Error: <urlopen error [WinError 10054] 远程主机强迫关闭了一个现有的连接。>\n"
     ]
    },
    {
     "name": "stderr",
     "output_type": "stream",
     "text": [
      "Processing compounds:  22%|████████████▎                                           | 1012/4599 [39:10<05:34, 10.71it/s]"
     ]
    },
    {
     "name": "stdout",
     "output_type": "stream",
     "text": [
      "Error: <urlopen error [WinError 10054] 远程主机强迫关闭了一个现有的连接。>\n",
      "Error: <urlopen error [WinError 10053] 你的主机中的软件中止了一个已建立的连接。>\n",
      "Error: <urlopen error [WinError 10053] 你的主机中的软件中止了一个已建立的连接。>\n"
     ]
    },
    {
     "name": "stderr",
     "output_type": "stream",
     "text": [
      "\r",
      "Processing compounds:  22%|████████████▎                                           | 1014/4599 [39:11<06:27,  9.25it/s]"
     ]
    },
    {
     "name": "stdout",
     "output_type": "stream",
     "text": [
      "Error: <urlopen error [WinError 10054] 远程主机强迫关闭了一个现有的连接。>\n",
      "Error: <urlopen error [WinError 10054] 远程主机强迫关闭了一个现有的连接。>\n"
     ]
    },
    {
     "name": "stderr",
     "output_type": "stream",
     "text": [
      "Processing compounds:  22%|████████████▎                                           | 1016/4599 [39:11<06:28,  9.22it/s]"
     ]
    },
    {
     "name": "stdout",
     "output_type": "stream",
     "text": [
      "Error: <urlopen error [WinError 10054] 远程主机强迫关闭了一个现有的连接。>\n",
      "Error: <urlopen error [WinError 10053] 你的主机中的软件中止了一个已建立的连接。>\n"
     ]
    },
    {
     "name": "stderr",
     "output_type": "stream",
     "text": [
      "Processing compounds:  22%|████████████▍                                           | 1019/4599 [39:11<06:00,  9.92it/s]"
     ]
    },
    {
     "name": "stdout",
     "output_type": "stream",
     "text": [
      "Error: <urlopen error [WinError 10054] 远程主机强迫关闭了一个现有的连接。>\n",
      "Error: <urlopen error TLS/SSL connection has been closed (EOF) (_ssl.c:1131)>\n",
      "Error: <urlopen error [WinError 10054] 远程主机强迫关闭了一个现有的连接。>\n"
     ]
    },
    {
     "name": "stderr",
     "output_type": "stream",
     "text": [
      "Processing compounds:  22%|████████████▍                                           | 1022/4599 [39:11<05:36, 10.62it/s]"
     ]
    },
    {
     "name": "stdout",
     "output_type": "stream",
     "text": [
      "Error: <urlopen error [WinError 10053] 你的主机中的软件中止了一个已建立的连接。>\n",
      "Error: <urlopen error [WinError 10053] 你的主机中的软件中止了一个已建立的连接。>\n",
      "Error: <urlopen error [WinError 10054] 远程主机强迫关闭了一个现有的连接。>\n"
     ]
    },
    {
     "name": "stderr",
     "output_type": "stream",
     "text": [
      "\r",
      "Processing compounds:  22%|████████████▍                                           | 1024/4599 [39:12<05:53, 10.10it/s]"
     ]
    },
    {
     "name": "stdout",
     "output_type": "stream",
     "text": [
      "Error: <urlopen error [WinError 10054] 远程主机强迫关闭了一个现有的连接。>\n",
      "Error: <urlopen error [WinError 10054] 远程主机强迫关闭了一个现有的连接。>\n"
     ]
    },
    {
     "name": "stderr",
     "output_type": "stream",
     "text": [
      "\r",
      "Processing compounds:  22%|████████████▍                                           | 1026/4599 [39:12<05:37, 10.58it/s]"
     ]
    },
    {
     "name": "stdout",
     "output_type": "stream",
     "text": [
      "Error: <urlopen error [WinError 10053] 你的主机中的软件中止了一个已建立的连接。>\n",
      "Error: <urlopen error [WinError 10053] 你的主机中的软件中止了一个已建立的连接。>\n",
      "Error: <urlopen error [WinError 10054] 远程主机强迫关闭了一个现有的连接。>\n"
     ]
    },
    {
     "name": "stderr",
     "output_type": "stream",
     "text": [
      "Processing compounds:  22%|████████████▌                                           | 1030/4599 [39:12<05:10, 11.50it/s]"
     ]
    },
    {
     "name": "stdout",
     "output_type": "stream",
     "text": [
      "Error: <urlopen error [WinError 10054] 远程主机强迫关闭了一个现有的连接。>\n",
      "Error: <urlopen error [WinError 10053] 你的主机中的软件中止了一个已建立的连接。>\n",
      "Error: <urlopen error [WinError 10054] 远程主机强迫关闭了一个现有的连接。>\n"
     ]
    },
    {
     "name": "stderr",
     "output_type": "stream",
     "text": [
      "\r",
      "Processing compounds:  22%|████████████▌                                           | 1032/4599 [39:12<05:05, 11.68it/s]"
     ]
    },
    {
     "name": "stdout",
     "output_type": "stream",
     "text": [
      "Error: <urlopen error [WinError 10053] 你的主机中的软件中止了一个已建立的连接。>\n",
      "Error: <urlopen error [WinError 10054] 远程主机强迫关闭了一个现有的连接。>\n",
      "Error: <urlopen error [WinError 10053] 你的主机中的软件中止了一个已建立的连接。>\n"
     ]
    },
    {
     "name": "stderr",
     "output_type": "stream",
     "text": [
      "Processing compounds:  23%|████████████▌                                           | 1036/4599 [39:13<05:09, 11.52it/s]"
     ]
    },
    {
     "name": "stdout",
     "output_type": "stream",
     "text": [
      "Error: <urlopen error [WinError 10054] 远程主机强迫关闭了一个现有的连接。>\n",
      "Error: <urlopen error [WinError 10053] 你的主机中的软件中止了一个已建立的连接。>\n",
      "Error: <urlopen error [WinError 10053] 你的主机中的软件中止了一个已建立的连接。>\n"
     ]
    },
    {
     "name": "stderr",
     "output_type": "stream",
     "text": [
      "\r",
      "Processing compounds:  23%|████████████▋                                           | 1038/4599 [39:13<05:09, 11.52it/s]"
     ]
    },
    {
     "name": "stdout",
     "output_type": "stream",
     "text": [
      "Error: <urlopen error [WinError 10054] 远程主机强迫关闭了一个现有的连接。>\n",
      "Error: <urlopen error [WinError 10054] 远程主机强迫关闭了一个现有的连接。>\n",
      "Error: <urlopen error [WinError 10053] 你的主机中的软件中止了一个已建立的连接。>\n"
     ]
    },
    {
     "name": "stderr",
     "output_type": "stream",
     "text": [
      "Processing compounds:  23%|████████████▋                                           | 1042/4599 [39:13<05:06, 11.59it/s]"
     ]
    },
    {
     "name": "stdout",
     "output_type": "stream",
     "text": [
      "Error: <urlopen error [WinError 10053] 你的主机中的软件中止了一个已建立的连接。>\n",
      "Error: <urlopen error [WinError 10053] 你的主机中的软件中止了一个已建立的连接。>\n",
      "Error: <urlopen error [WinError 10054] 远程主机强迫关闭了一个现有的连接。>\n"
     ]
    },
    {
     "name": "stderr",
     "output_type": "stream",
     "text": [
      "\r",
      "Processing compounds:  23%|████████████▋                                           | 1044/4599 [39:13<05:15, 11.28it/s]"
     ]
    },
    {
     "name": "stdout",
     "output_type": "stream",
     "text": [
      "Error: <urlopen error [WinError 10054] 远程主机强迫关闭了一个现有的连接。>\n",
      "Error: <urlopen error [WinError 10053] 你的主机中的软件中止了一个已建立的连接。>\n",
      "Error: <urlopen error [WinError 10054] 远程主机强迫关闭了一个现有的连接。>\n"
     ]
    },
    {
     "name": "stderr",
     "output_type": "stream",
     "text": [
      "Processing compounds:  23%|████████████▊                                           | 1048/4599 [39:14<05:04, 11.67it/s]"
     ]
    },
    {
     "name": "stdout",
     "output_type": "stream",
     "text": [
      "Error: <urlopen error [WinError 10054] 远程主机强迫关闭了一个现有的连接。>\n",
      "Error: <urlopen error [WinError 10053] 你的主机中的软件中止了一个已建立的连接。>\n",
      "Error: <urlopen error [WinError 10053] 你的主机中的软件中止了一个已建立的连接。>\n"
     ]
    },
    {
     "name": "stderr",
     "output_type": "stream",
     "text": [
      "\r",
      "Processing compounds:  23%|████████████▊                                           | 1050/4599 [39:14<05:03, 11.69it/s]"
     ]
    },
    {
     "name": "stdout",
     "output_type": "stream",
     "text": [
      "Error: <urlopen error [WinError 10054] 远程主机强迫关闭了一个现有的连接。>\n",
      "Error: <urlopen error [WinError 10054] 远程主机强迫关闭了一个现有的连接。>\n",
      "Error: <urlopen error [WinError 10054] 远程主机强迫关闭了一个现有的连接。>\n"
     ]
    },
    {
     "name": "stderr",
     "output_type": "stream",
     "text": [
      "Processing compounds:  23%|████████████▊                                           | 1054/4599 [39:14<05:03, 11.68it/s]"
     ]
    },
    {
     "name": "stdout",
     "output_type": "stream",
     "text": [
      "Error: <urlopen error [WinError 10054] 远程主机强迫关闭了一个现有的连接。>\n",
      "Error: <urlopen error [WinError 10053] 你的主机中的软件中止了一个已建立的连接。>\n",
      "Error: <urlopen error [WinError 10053] 你的主机中的软件中止了一个已建立的连接。>\n"
     ]
    },
    {
     "name": "stderr",
     "output_type": "stream",
     "text": [
      "\r",
      "Processing compounds:  23%|████████████▊                                           | 1056/4599 [39:14<05:04, 11.64it/s]"
     ]
    },
    {
     "name": "stdout",
     "output_type": "stream",
     "text": [
      "Error: <urlopen error [WinError 10054] 远程主机强迫关闭了一个现有的连接。>\n",
      "Error: <urlopen error [WinError 10053] 你的主机中的软件中止了一个已建立的连接。>\n",
      "Error: <urlopen error [WinError 10054] 远程主机强迫关闭了一个现有的连接。>\n"
     ]
    },
    {
     "name": "stderr",
     "output_type": "stream",
     "text": [
      "Processing compounds:  23%|████████████▉                                           | 1060/4599 [39:15<04:55, 11.99it/s]"
     ]
    },
    {
     "name": "stdout",
     "output_type": "stream",
     "text": [
      "Error: <urlopen error [WinError 10053] 你的主机中的软件中止了一个已建立的连接。>\n",
      "Error: <urlopen error [WinError 10054] 远程主机强迫关闭了一个现有的连接。>\n",
      "Error: <urlopen error [WinError 10054] 远程主机强迫关闭了一个现有的连接。>\n"
     ]
    },
    {
     "name": "stderr",
     "output_type": "stream",
     "text": [
      "\r",
      "Processing compounds:  23%|████████████▉                                           | 1062/4599 [39:15<04:53, 12.07it/s]"
     ]
    },
    {
     "name": "stdout",
     "output_type": "stream",
     "text": [
      "Error: <urlopen error [WinError 10054] 远程主机强迫关闭了一个现有的连接。>\n",
      "Error: <urlopen error [WinError 10054] 远程主机强迫关闭了一个现有的连接。>\n",
      "Error: <urlopen error [WinError 10053] 你的主机中的软件中止了一个已建立的连接。>\n"
     ]
    },
    {
     "name": "stderr",
     "output_type": "stream",
     "text": [
      "Processing compounds:  23%|████████████▉                                           | 1066/4599 [39:15<05:00, 11.76it/s]"
     ]
    },
    {
     "name": "stdout",
     "output_type": "stream",
     "text": [
      "Error: <urlopen error [WinError 10054] 远程主机强迫关闭了一个现有的连接。>\n",
      "Error: <urlopen error [WinError 10053] 你的主机中的软件中止了一个已建立的连接。>\n",
      "Error: <urlopen error [WinError 10054] 远程主机强迫关闭了一个现有的连接。>\n"
     ]
    },
    {
     "name": "stderr",
     "output_type": "stream",
     "text": [
      "\r",
      "Processing compounds:  23%|█████████████                                           | 1068/4599 [39:15<05:01, 11.70it/s]"
     ]
    },
    {
     "name": "stdout",
     "output_type": "stream",
     "text": [
      "Error: <urlopen error [WinError 10053] 你的主机中的软件中止了一个已建立的连接。>\n",
      "Error: <urlopen error [WinError 10053] 你的主机中的软件中止了一个已建立的连接。>\n",
      "Error: <urlopen error [WinError 10053] 你的主机中的软件中止了一个已建立的连接。>\n"
     ]
    },
    {
     "name": "stderr",
     "output_type": "stream",
     "text": [
      "Processing compounds:  23%|█████████████                                           | 1072/4599 [39:16<05:07, 11.47it/s]"
     ]
    },
    {
     "name": "stdout",
     "output_type": "stream",
     "text": [
      "Error: <urlopen error [WinError 10054] 远程主机强迫关闭了一个现有的连接。>\n",
      "Error: <urlopen error [WinError 10054] 远程主机强迫关闭了一个现有的连接。>\n",
      "Error: <urlopen error [WinError 10053] 你的主机中的软件中止了一个已建立的连接。>\n"
     ]
    },
    {
     "name": "stderr",
     "output_type": "stream",
     "text": [
      "\r",
      "Processing compounds:  23%|█████████████                                           | 1074/4599 [39:16<05:03, 11.61it/s]"
     ]
    },
    {
     "name": "stdout",
     "output_type": "stream",
     "text": [
      "Error: <urlopen error TLS/SSL connection has been closed (EOF) (_ssl.c:1131)>\n",
      "Error: <urlopen error [WinError 10053] 你的主机中的软件中止了一个已建立的连接。>\n",
      "Error: <urlopen error [WinError 10054] 远程主机强迫关闭了一个现有的连接。>\n"
     ]
    },
    {
     "name": "stderr",
     "output_type": "stream",
     "text": [
      "Processing compounds:  23%|█████████████▏                                          | 1078/4599 [39:16<05:22, 10.91it/s]"
     ]
    },
    {
     "name": "stdout",
     "output_type": "stream",
     "text": [
      "Error: <urlopen error TLS/SSL connection has been closed (EOF) (_ssl.c:1131)>\n",
      "Error: <urlopen error [WinError 10053] 你的主机中的软件中止了一个已建立的连接。>\n",
      "Error: <urlopen error [WinError 10054] 远程主机强迫关闭了一个现有的连接。>\n"
     ]
    },
    {
     "name": "stderr",
     "output_type": "stream",
     "text": [
      "\r",
      "Processing compounds:  23%|█████████████▏                                          | 1080/4599 [39:16<05:17, 11.10it/s]"
     ]
    },
    {
     "name": "stdout",
     "output_type": "stream",
     "text": [
      "Error: <urlopen error [WinError 10054] 远程主机强迫关闭了一个现有的连接。>\n",
      "Error: <urlopen error [WinError 10054] 远程主机强迫关闭了一个现有的连接。>\n",
      "Error: <urlopen error [WinError 10053] 你的主机中的软件中止了一个已建立的连接。>\n"
     ]
    },
    {
     "name": "stderr",
     "output_type": "stream",
     "text": [
      "Processing compounds:  24%|█████████████▏                                          | 1084/4599 [39:17<05:01, 11.67it/s]"
     ]
    },
    {
     "name": "stdout",
     "output_type": "stream",
     "text": [
      "Error: <urlopen error [WinError 10053] 你的主机中的软件中止了一个已建立的连接。>\n",
      "Error: <urlopen error [WinError 10054] 远程主机强迫关闭了一个现有的连接。>\n",
      "Error: <urlopen error [WinError 10053] 你的主机中的软件中止了一个已建立的连接。>\n"
     ]
    },
    {
     "name": "stderr",
     "output_type": "stream",
     "text": [
      "\r",
      "Processing compounds:  24%|█████████████▏                                          | 1086/4599 [39:17<04:58, 11.76it/s]"
     ]
    },
    {
     "name": "stdout",
     "output_type": "stream",
     "text": [
      "Error: <urlopen error [WinError 10054] 远程主机强迫关闭了一个现有的连接。>\n",
      "Error: <urlopen error [WinError 10054] 远程主机强迫关闭了一个现有的连接。>\n",
      "Error: <urlopen error [WinError 10054] 远程主机强迫关闭了一个现有的连接。>\n"
     ]
    },
    {
     "name": "stderr",
     "output_type": "stream",
     "text": [
      "Processing compounds:  24%|█████████████▎                                          | 1090/4599 [39:17<04:50, 12.08it/s]"
     ]
    },
    {
     "name": "stdout",
     "output_type": "stream",
     "text": [
      "Error: <urlopen error [WinError 10054] 远程主机强迫关闭了一个现有的连接。>\n",
      "Error: <urlopen error [WinError 10054] 远程主机强迫关闭了一个现有的连接。>\n",
      "Error: <urlopen error [WinError 10053] 你的主机中的软件中止了一个已建立的连接。>\n"
     ]
    },
    {
     "name": "stderr",
     "output_type": "stream",
     "text": [
      "\r",
      "Processing compounds:  24%|█████████████▎                                          | 1092/4599 [39:17<04:50, 12.08it/s]"
     ]
    },
    {
     "name": "stdout",
     "output_type": "stream",
     "text": [
      "Error: <urlopen error [WinError 10053] 你的主机中的软件中止了一个已建立的连接。>\n",
      "Error: <urlopen error [WinError 10054] 远程主机强迫关闭了一个现有的连接。>\n",
      "Error: <urlopen error [WinError 10053] 你的主机中的软件中止了一个已建立的连接。>\n"
     ]
    },
    {
     "name": "stderr",
     "output_type": "stream",
     "text": [
      "Processing compounds:  24%|█████████████▎                                          | 1096/4599 [39:18<04:55, 11.85it/s]"
     ]
    },
    {
     "name": "stdout",
     "output_type": "stream",
     "text": [
      "Error: <urlopen error [WinError 10054] 远程主机强迫关闭了一个现有的连接。>\n",
      "Error: <urlopen error [WinError 10054] 远程主机强迫关闭了一个现有的连接。>\n",
      "Error: <urlopen error [WinError 10053] 你的主机中的软件中止了一个已建立的连接。>\n"
     ]
    },
    {
     "name": "stderr",
     "output_type": "stream",
     "text": [
      "\r",
      "Processing compounds:  24%|█████████████▎                                          | 1098/4599 [39:18<04:52, 11.95it/s]"
     ]
    },
    {
     "name": "stdout",
     "output_type": "stream",
     "text": [
      "Error: <urlopen error [WinError 10054] 远程主机强迫关闭了一个现有的连接。>\n",
      "Error: <urlopen error [WinError 10053] 你的主机中的软件中止了一个已建立的连接。>\n",
      "Error: <urlopen error [WinError 10053] 你的主机中的软件中止了一个已建立的连接。>\n"
     ]
    },
    {
     "name": "stderr",
     "output_type": "stream",
     "text": [
      "Processing compounds:  24%|█████████████▍                                          | 1102/4599 [39:18<04:48, 12.13it/s]"
     ]
    },
    {
     "name": "stdout",
     "output_type": "stream",
     "text": [
      "Error: <urlopen error [WinError 10053] 你的主机中的软件中止了一个已建立的连接。>\n",
      "Error: <urlopen error [WinError 10053] 你的主机中的软件中止了一个已建立的连接。>\n",
      "Error: <urlopen error [WinError 10053] 你的主机中的软件中止了一个已建立的连接。>\n"
     ]
    },
    {
     "name": "stderr",
     "output_type": "stream",
     "text": [
      "\r",
      "Processing compounds:  24%|█████████████▍                                          | 1104/4599 [39:18<04:48, 12.11it/s]"
     ]
    },
    {
     "name": "stdout",
     "output_type": "stream",
     "text": [
      "Error: <urlopen error [WinError 10053] 你的主机中的软件中止了一个已建立的连接。>\n",
      "Error: <urlopen error [WinError 10053] 你的主机中的软件中止了一个已建立的连接。>\n",
      "Error: <urlopen error [WinError 10054] 远程主机强迫关闭了一个现有的连接。>\n"
     ]
    },
    {
     "name": "stderr",
     "output_type": "stream",
     "text": [
      "Processing compounds:  24%|█████████████▍                                          | 1108/4599 [39:19<04:44, 12.25it/s]"
     ]
    },
    {
     "name": "stdout",
     "output_type": "stream",
     "text": [
      "Error: <urlopen error [WinError 10054] 远程主机强迫关闭了一个现有的连接。>\n",
      "Error: <urlopen error [WinError 10053] 你的主机中的软件中止了一个已建立的连接。>\n",
      "Error: <urlopen error [WinError 10053] 你的主机中的软件中止了一个已建立的连接。>\n"
     ]
    },
    {
     "name": "stderr",
     "output_type": "stream",
     "text": [
      "\r",
      "Processing compounds:  24%|█████████████▌                                          | 1110/4599 [39:19<04:47, 12.16it/s]"
     ]
    },
    {
     "name": "stdout",
     "output_type": "stream",
     "text": [
      "Error: <urlopen error TLS/SSL connection has been closed (EOF) (_ssl.c:1131)>\n",
      "Error: <urlopen error [WinError 10054] 远程主机强迫关闭了一个现有的连接。>\n",
      "Error: <urlopen error [WinError 10054] 远程主机强迫关闭了一个现有的连接。>\n"
     ]
    },
    {
     "name": "stderr",
     "output_type": "stream",
     "text": [
      "Processing compounds:  24%|█████████████▌                                          | 1114/4599 [39:19<04:54, 11.85it/s]"
     ]
    },
    {
     "name": "stdout",
     "output_type": "stream",
     "text": [
      "Error: <urlopen error [WinError 10053] 你的主机中的软件中止了一个已建立的连接。>\n",
      "Error: <urlopen error [WinError 10053] 你的主机中的软件中止了一个已建立的连接。>\n",
      "Error: <urlopen error [WinError 10054] 远程主机强迫关闭了一个现有的连接。>\n"
     ]
    },
    {
     "name": "stderr",
     "output_type": "stream",
     "text": [
      "\r",
      "Processing compounds:  24%|█████████████▌                                          | 1116/4599 [39:19<05:02, 11.51it/s]"
     ]
    },
    {
     "name": "stdout",
     "output_type": "stream",
     "text": [
      "Error: <urlopen error [WinError 10054] 远程主机强迫关闭了一个现有的连接。>\n",
      "Error: <urlopen error [WinError 10054] 远程主机强迫关闭了一个现有的连接。>\n",
      "Error: <urlopen error [WinError 10054] 远程主机强迫关闭了一个现有的连接。>\n"
     ]
    },
    {
     "name": "stderr",
     "output_type": "stream",
     "text": [
      "Processing compounds:  24%|█████████████▋                                          | 1120/4599 [39:20<05:00, 11.58it/s]"
     ]
    },
    {
     "name": "stdout",
     "output_type": "stream",
     "text": [
      "Error: <urlopen error [WinError 10054] 远程主机强迫关闭了一个现有的连接。>\n",
      "Error: <urlopen error [WinError 10053] 你的主机中的软件中止了一个已建立的连接。>\n",
      "Error: <urlopen error [WinError 10053] 你的主机中的软件中止了一个已建立的连接。>\n"
     ]
    },
    {
     "name": "stderr",
     "output_type": "stream",
     "text": [
      "\r",
      "Processing compounds:  24%|█████████████▋                                          | 1122/4599 [39:20<04:59, 11.63it/s]"
     ]
    },
    {
     "name": "stdout",
     "output_type": "stream",
     "text": [
      "Error: <urlopen error [WinError 10054] 远程主机强迫关闭了一个现有的连接。>\n",
      "Error: <urlopen error [WinError 10054] 远程主机强迫关闭了一个现有的连接。>\n",
      "Error: <urlopen error [WinError 10054] 远程主机强迫关闭了一个现有的连接。>\n"
     ]
    },
    {
     "name": "stderr",
     "output_type": "stream",
     "text": [
      "Processing compounds:  24%|█████████████▋                                          | 1126/4599 [39:20<04:50, 11.94it/s]"
     ]
    },
    {
     "name": "stdout",
     "output_type": "stream",
     "text": [
      "Error: <urlopen error [WinError 10054] 远程主机强迫关闭了一个现有的连接。>\n",
      "Error: <urlopen error [WinError 10053] 你的主机中的软件中止了一个已建立的连接。>\n",
      "Error: <urlopen error [WinError 10054] 远程主机强迫关闭了一个现有的连接。>\n"
     ]
    },
    {
     "name": "stderr",
     "output_type": "stream",
     "text": [
      "\r",
      "Processing compounds:  25%|█████████████▋                                          | 1128/4599 [39:20<04:59, 11.60it/s]"
     ]
    },
    {
     "name": "stdout",
     "output_type": "stream",
     "text": [
      "Error: <urlopen error [WinError 10053] 你的主机中的软件中止了一个已建立的连接。>\n",
      "Error: <urlopen error [WinError 10054] 远程主机强迫关闭了一个现有的连接。>\n",
      "Error: <urlopen error [WinError 10053] 你的主机中的软件中止了一个已建立的连接。>\n"
     ]
    },
    {
     "name": "stderr",
     "output_type": "stream",
     "text": [
      "Processing compounds:  25%|█████████████▊                                          | 1132/4599 [39:21<04:54, 11.76it/s]"
     ]
    },
    {
     "name": "stdout",
     "output_type": "stream",
     "text": [
      "Error: <urlopen error [WinError 10054] 远程主机强迫关闭了一个现有的连接。>\n",
      "Error: <urlopen error [WinError 10053] 你的主机中的软件中止了一个已建立的连接。>\n",
      "Error: <urlopen error [WinError 10053] 你的主机中的软件中止了一个已建立的连接。>\n"
     ]
    },
    {
     "name": "stderr",
     "output_type": "stream",
     "text": [
      "\r",
      "Processing compounds:  25%|█████████████▊                                          | 1134/4599 [39:21<04:59, 11.57it/s]"
     ]
    },
    {
     "name": "stdout",
     "output_type": "stream",
     "text": [
      "Error: <urlopen error [WinError 10054] 远程主机强迫关闭了一个现有的连接。>\n",
      "Error: <urlopen error [WinError 10053] 你的主机中的软件中止了一个已建立的连接。>\n",
      "Error: <urlopen error [WinError 10054] 远程主机强迫关闭了一个现有的连接。>\n"
     ]
    },
    {
     "name": "stderr",
     "output_type": "stream",
     "text": [
      "Processing compounds:  25%|█████████████▊                                          | 1138/4599 [39:21<04:50, 11.91it/s]"
     ]
    },
    {
     "name": "stdout",
     "output_type": "stream",
     "text": [
      "Error: <urlopen error [WinError 10054] 远程主机强迫关闭了一个现有的连接。>\n",
      "Error: <urlopen error [WinError 10053] 你的主机中的软件中止了一个已建立的连接。>\n",
      "Error: <urlopen error [WinError 10054] 远程主机强迫关闭了一个现有的连接。>\n"
     ]
    },
    {
     "name": "stderr",
     "output_type": "stream",
     "text": [
      "\r",
      "Processing compounds:  25%|█████████████▉                                          | 1140/4599 [39:21<04:55, 11.69it/s]"
     ]
    },
    {
     "name": "stdout",
     "output_type": "stream",
     "text": [
      "Error: <urlopen error [WinError 10054] 远程主机强迫关闭了一个现有的连接。>\n",
      "Error: <urlopen error [WinError 10053] 你的主机中的软件中止了一个已建立的连接。>\n",
      "Error: <urlopen error [WinError 10054] 远程主机强迫关闭了一个现有的连接。>\n"
     ]
    },
    {
     "name": "stderr",
     "output_type": "stream",
     "text": [
      "Processing compounds:  25%|█████████████▉                                          | 1144/4599 [39:22<05:21, 10.76it/s]"
     ]
    },
    {
     "name": "stdout",
     "output_type": "stream",
     "text": [
      "Error: <urlopen error [WinError 10054] 远程主机强迫关闭了一个现有的连接。>\n",
      "Error: <urlopen error [WinError 10054] 远程主机强迫关闭了一个现有的连接。>\n",
      "Error: <urlopen error [WinError 10054] 远程主机强迫关闭了一个现有的连接。>\n"
     ]
    },
    {
     "name": "stderr",
     "output_type": "stream",
     "text": [
      "\r",
      "Processing compounds:  25%|█████████████▉                                          | 1146/4599 [39:22<05:26, 10.56it/s]"
     ]
    },
    {
     "name": "stdout",
     "output_type": "stream",
     "text": [
      "Error: <urlopen error [WinError 10054] 远程主机强迫关闭了一个现有的连接。>\n",
      "Error: <urlopen error [WinError 10054] 远程主机强迫关闭了一个现有的连接。>\n",
      "Error: <urlopen error [WinError 10054] 远程主机强迫关闭了一个现有的连接。>\n"
     ]
    },
    {
     "name": "stderr",
     "output_type": "stream",
     "text": [
      "\r",
      "Processing compounds:  25%|█████████████▉                                          | 1148/4599 [39:22<05:29, 10.46it/s]"
     ]
    },
    {
     "name": "stdout",
     "output_type": "stream",
     "text": [
      "Error: <urlopen error [WinError 10054] 远程主机强迫关闭了一个现有的连接。>\n",
      "Error: <urlopen error [WinError 10054] 远程主机强迫关闭了一个现有的连接。>\n"
     ]
    },
    {
     "name": "stderr",
     "output_type": "stream",
     "text": [
      "Processing compounds:  25%|██████████████                                          | 1152/4599 [39:23<05:47,  9.91it/s]"
     ]
    },
    {
     "name": "stdout",
     "output_type": "stream",
     "text": [
      "Error: <urlopen error [WinError 10053] 你的主机中的软件中止了一个已建立的连接。>\n",
      "Error: <urlopen error [WinError 10053] 你的主机中的软件中止了一个已建立的连接。>\n",
      "Error: <urlopen error [WinError 10053] 你的主机中的软件中止了一个已建立的连接。>\n"
     ]
    },
    {
     "name": "stderr",
     "output_type": "stream",
     "text": [
      "\r",
      "Processing compounds:  25%|██████████████                                          | 1154/4599 [39:23<05:30, 10.43it/s]"
     ]
    },
    {
     "name": "stdout",
     "output_type": "stream",
     "text": [
      "Error: <urlopen error [WinError 10054] 远程主机强迫关闭了一个现有的连接。>\n",
      "Error: <urlopen error [WinError 10054] 远程主机强迫关闭了一个现有的连接。>\n",
      "Error: <urlopen error [WinError 10054] 远程主机强迫关闭了一个现有的连接。>\n"
     ]
    },
    {
     "name": "stderr",
     "output_type": "stream",
     "text": [
      "Processing compounds:  25%|██████████████                                          | 1158/4599 [39:23<05:17, 10.85it/s]"
     ]
    },
    {
     "name": "stdout",
     "output_type": "stream",
     "text": [
      "Error: <urlopen error [WinError 10054] 远程主机强迫关闭了一个现有的连接。>\n",
      "Error: <urlopen error [WinError 10054] 远程主机强迫关闭了一个现有的连接。>\n",
      "Error: <urlopen error [WinError 10053] 你的主机中的软件中止了一个已建立的连接。>\n"
     ]
    },
    {
     "name": "stderr",
     "output_type": "stream",
     "text": [
      "\r",
      "Processing compounds:  25%|██████████████                                          | 1160/4599 [39:23<05:09, 11.11it/s]"
     ]
    },
    {
     "name": "stdout",
     "output_type": "stream",
     "text": [
      "Error: <urlopen error [WinError 10054] 远程主机强迫关闭了一个现有的连接。>\n",
      "Error: <urlopen error [WinError 10053] 你的主机中的软件中止了一个已建立的连接。>\n",
      "Error: <urlopen error [WinError 10053] 你的主机中的软件中止了一个已建立的连接。>\n"
     ]
    },
    {
     "name": "stderr",
     "output_type": "stream",
     "text": [
      "\r",
      "Processing compounds:  25%|██████████████▏                                         | 1162/4599 [39:24<05:32, 10.35it/s]"
     ]
    },
    {
     "name": "stdout",
     "output_type": "stream",
     "text": [
      "Error: <urlopen error [WinError 10054] 远程主机强迫关闭了一个现有的连接。>\n",
      "Error: <urlopen error [WinError 10054] 远程主机强迫关闭了一个现有的连接。>\n",
      "Error: <urlopen error [WinError 10053] 你的主机中的软件中止了一个已建立的连接。>\n"
     ]
    },
    {
     "name": "stderr",
     "output_type": "stream",
     "text": [
      "Processing compounds:  25%|██████████████▏                                         | 1166/4599 [39:24<05:21, 10.69it/s]"
     ]
    },
    {
     "name": "stdout",
     "output_type": "stream",
     "text": [
      "Error: <urlopen error [WinError 10054] 远程主机强迫关闭了一个现有的连接。>\n",
      "Error: <urlopen error [WinError 10053] 你的主机中的软件中止了一个已建立的连接。>\n",
      "Error: <urlopen error [WinError 10053] 你的主机中的软件中止了一个已建立的连接。>\n"
     ]
    },
    {
     "name": "stderr",
     "output_type": "stream",
     "text": [
      "Processing compounds:  25%|██████████████▏                                         | 1170/4599 [39:24<05:18, 10.77it/s]"
     ]
    },
    {
     "name": "stdout",
     "output_type": "stream",
     "text": [
      "Error: <urlopen error [WinError 10054] 远程主机强迫关闭了一个现有的连接。>\n",
      "Error: <urlopen error [WinError 10054] 远程主机强迫关闭了一个现有的连接。>\n",
      "Error: <urlopen error [WinError 10054] 远程主机强迫关闭了一个现有的连接。>\n"
     ]
    },
    {
     "name": "stderr",
     "output_type": "stream",
     "text": [
      "\r",
      "Processing compounds:  25%|██████████████▎                                         | 1172/4599 [39:24<05:10, 11.04it/s]"
     ]
    },
    {
     "name": "stdout",
     "output_type": "stream",
     "text": [
      "Error: <urlopen error [WinError 10053] 你的主机中的软件中止了一个已建立的连接。>\n",
      "Error: <urlopen error [WinError 10054] 远程主机强迫关闭了一个现有的连接。>\n",
      "Error: <urlopen error [WinError 10054] 远程主机强迫关闭了一个现有的连接。>\n"
     ]
    },
    {
     "name": "stderr",
     "output_type": "stream",
     "text": [
      "Processing compounds:  26%|██████████████▎                                         | 1176/4599 [39:25<05:04, 11.24it/s]"
     ]
    },
    {
     "name": "stdout",
     "output_type": "stream",
     "text": [
      "Error: <urlopen error [WinError 10054] 远程主机强迫关闭了一个现有的连接。>\n",
      "Error: <urlopen error [WinError 10054] 远程主机强迫关闭了一个现有的连接。>\n",
      "Error: <urlopen error [WinError 10054] 远程主机强迫关闭了一个现有的连接。>\n"
     ]
    },
    {
     "name": "stderr",
     "output_type": "stream",
     "text": [
      "\r",
      "Processing compounds:  26%|██████████████▎                                         | 1178/4599 [39:25<05:03, 11.26it/s]"
     ]
    },
    {
     "name": "stdout",
     "output_type": "stream",
     "text": [
      "Error: <urlopen error [WinError 10054] 远程主机强迫关闭了一个现有的连接。>\n",
      "Error: <urlopen error [WinError 10054] 远程主机强迫关闭了一个现有的连接。>\n",
      "Error: <urlopen error [WinError 10054] 远程主机强迫关闭了一个现有的连接。>\n"
     ]
    },
    {
     "name": "stderr",
     "output_type": "stream",
     "text": [
      "Processing compounds:  26%|██████████████▍                                         | 1182/4599 [39:25<05:02, 11.29it/s]"
     ]
    },
    {
     "name": "stdout",
     "output_type": "stream",
     "text": [
      "Error: <urlopen error [WinError 10054] 远程主机强迫关闭了一个现有的连接。>\n",
      "Error: <urlopen error [WinError 10053] 你的主机中的软件中止了一个已建立的连接。>\n",
      "Error: <urlopen error [WinError 10054] 远程主机强迫关闭了一个现有的连接。>\n"
     ]
    },
    {
     "name": "stderr",
     "output_type": "stream",
     "text": [
      "\r",
      "Processing compounds:  26%|██████████████▍                                         | 1184/4599 [39:26<05:01, 11.35it/s]"
     ]
    },
    {
     "name": "stdout",
     "output_type": "stream",
     "text": [
      "Error: <urlopen error [WinError 10054] 远程主机强迫关闭了一个现有的连接。>\n",
      "Error: <urlopen error [WinError 10054] 远程主机强迫关闭了一个现有的连接。>\n",
      "Error: <urlopen error [WinError 10053] 你的主机中的软件中止了一个已建立的连接。>\n"
     ]
    },
    {
     "name": "stderr",
     "output_type": "stream",
     "text": [
      "\r",
      "Processing compounds:  26%|██████████████▍                                         | 1186/4599 [39:26<05:06, 11.13it/s]"
     ]
    },
    {
     "name": "stdout",
     "output_type": "stream",
     "text": [
      "Error: <urlopen error [WinError 10054] 远程主机强迫关闭了一个现有的连接。>\n",
      "Error: <urlopen error [WinError 10053] 你的主机中的软件中止了一个已建立的连接。>\n"
     ]
    },
    {
     "name": "stderr",
     "output_type": "stream",
     "text": [
      "\r",
      "Processing compounds:  26%|██████████████▍                                         | 1188/4599 [39:26<05:21, 10.60it/s]"
     ]
    },
    {
     "name": "stdout",
     "output_type": "stream",
     "text": [
      "Error: <urlopen error [WinError 10053] 你的主机中的软件中止了一个已建立的连接。>\n",
      "Error: <urlopen error [WinError 10054] 远程主机强迫关闭了一个现有的连接。>\n"
     ]
    },
    {
     "name": "stderr",
     "output_type": "stream",
     "text": [
      "Processing compounds:  26%|██████████████▌                                         | 1192/4599 [39:26<05:39, 10.03it/s]"
     ]
    },
    {
     "name": "stdout",
     "output_type": "stream",
     "text": [
      "Error: <urlopen error [WinError 10054] 远程主机强迫关闭了一个现有的连接。>\n",
      "Error: <urlopen error [WinError 10054] 远程主机强迫关闭了一个现有的连接。>\n",
      "Error: <urlopen error [WinError 10054] 远程主机强迫关闭了一个现有的连接。>\n"
     ]
    },
    {
     "name": "stderr",
     "output_type": "stream",
     "text": [
      "\r",
      "Processing compounds:  26%|██████████████▌                                         | 1194/4599 [39:27<05:28, 10.37it/s]"
     ]
    },
    {
     "name": "stdout",
     "output_type": "stream",
     "text": [
      "Error: <urlopen error [WinError 10054] 远程主机强迫关闭了一个现有的连接。>\n",
      "Error: <urlopen error [WinError 10054] 远程主机强迫关闭了一个现有的连接。>\n",
      "Error: <urlopen error [WinError 10053] 你的主机中的软件中止了一个已建立的连接。>\n"
     ]
    },
    {
     "name": "stderr",
     "output_type": "stream",
     "text": [
      "Processing compounds:  26%|██████████████▌                                         | 1198/4599 [39:27<05:17, 10.71it/s]"
     ]
    },
    {
     "name": "stdout",
     "output_type": "stream",
     "text": [
      "Error: <urlopen error [WinError 10054] 远程主机强迫关闭了一个现有的连接。>\n",
      "Error: <urlopen error [WinError 10053] 你的主机中的软件中止了一个已建立的连接。>\n",
      "Error: <urlopen error [WinError 10054] 远程主机强迫关闭了一个现有的连接。>\n"
     ]
    },
    {
     "name": "stderr",
     "output_type": "stream",
     "text": [
      "\r",
      "Processing compounds:  26%|██████████████▌                                         | 1200/4599 [39:27<05:11, 10.90it/s]"
     ]
    },
    {
     "name": "stdout",
     "output_type": "stream",
     "text": [
      "Error: <urlopen error [WinError 10054] 远程主机强迫关闭了一个现有的连接。>\n",
      "Error: <urlopen error [WinError 10053] 你的主机中的软件中止了一个已建立的连接。>\n",
      "Error: <urlopen error [WinError 10054] 远程主机强迫关闭了一个现有的连接。>\n"
     ]
    },
    {
     "name": "stderr",
     "output_type": "stream",
     "text": [
      "Processing compounds:  26%|██████████████▋                                         | 1204/4599 [39:27<04:57, 11.41it/s]"
     ]
    },
    {
     "name": "stdout",
     "output_type": "stream",
     "text": [
      "Error: <urlopen error [WinError 10053] 你的主机中的软件中止了一个已建立的连接。>\n",
      "Error: <urlopen error [WinError 10053] 你的主机中的软件中止了一个已建立的连接。>\n",
      "Error: <urlopen error [WinError 10054] 远程主机强迫关闭了一个现有的连接。>\n"
     ]
    },
    {
     "name": "stderr",
     "output_type": "stream",
     "text": [
      "\r",
      "Processing compounds:  26%|██████████████▋                                         | 1206/4599 [39:28<04:59, 11.31it/s]"
     ]
    },
    {
     "name": "stdout",
     "output_type": "stream",
     "text": [
      "Error: <urlopen error [WinError 10054] 远程主机强迫关闭了一个现有的连接。>\n",
      "Error: <urlopen error [WinError 10053] 你的主机中的软件中止了一个已建立的连接。>\n",
      "Error: <urlopen error [WinError 10053] 你的主机中的软件中止了一个已建立的连接。>\n"
     ]
    },
    {
     "name": "stderr",
     "output_type": "stream",
     "text": [
      "Processing compounds:  26%|██████████████▋                                         | 1210/4599 [39:28<04:56, 11.44it/s]"
     ]
    },
    {
     "name": "stdout",
     "output_type": "stream",
     "text": [
      "Error: <urlopen error [WinError 10054] 远程主机强迫关闭了一个现有的连接。>\n",
      "Error: <urlopen error [WinError 10054] 远程主机强迫关闭了一个现有的连接。>\n",
      "Error: <urlopen error [WinError 10053] 你的主机中的软件中止了一个已建立的连接。>\n"
     ]
    },
    {
     "name": "stderr",
     "output_type": "stream",
     "text": [
      "\r",
      "Processing compounds:  26%|██████████████▊                                         | 1212/4599 [39:28<04:56, 11.43it/s]"
     ]
    },
    {
     "name": "stdout",
     "output_type": "stream",
     "text": [
      "Error: <urlopen error [WinError 10053] 你的主机中的软件中止了一个已建立的连接。>\n",
      "Error: <urlopen error [WinError 10054] 远程主机强迫关闭了一个现有的连接。>\n",
      "Error: <urlopen error [WinError 10054] 远程主机强迫关闭了一个现有的连接。>\n"
     ]
    },
    {
     "name": "stderr",
     "output_type": "stream",
     "text": [
      "Processing compounds:  26%|██████████████▊                                         | 1216/4599 [39:28<05:02, 11.17it/s]"
     ]
    },
    {
     "name": "stdout",
     "output_type": "stream",
     "text": [
      "Error: <urlopen error [WinError 10054] 远程主机强迫关闭了一个现有的连接。>\n",
      "Error: <urlopen error [WinError 10054] 远程主机强迫关闭了一个现有的连接。>\n",
      "Error: <urlopen error [WinError 10054] 远程主机强迫关闭了一个现有的连接。>\n"
     ]
    },
    {
     "name": "stderr",
     "output_type": "stream",
     "text": [
      "\r",
      "Processing compounds:  26%|██████████████▊                                         | 1218/4599 [39:29<04:57, 11.35it/s]"
     ]
    },
    {
     "name": "stdout",
     "output_type": "stream",
     "text": [
      "Error: <urlopen error [WinError 10054] 远程主机强迫关闭了一个现有的连接。>\n",
      "Error: <urlopen error [WinError 10053] 你的主机中的软件中止了一个已建立的连接。>\n",
      "Error: <urlopen error [WinError 10053] 你的主机中的软件中止了一个已建立的连接。>\n"
     ]
    },
    {
     "name": "stderr",
     "output_type": "stream",
     "text": [
      "Processing compounds:  27%|██████████████▉                                         | 1222/4599 [39:29<04:56, 11.39it/s]"
     ]
    },
    {
     "name": "stdout",
     "output_type": "stream",
     "text": [
      "Error: <urlopen error [WinError 10054] 远程主机强迫关闭了一个现有的连接。>\n",
      "Error: <urlopen error [WinError 10054] 远程主机强迫关闭了一个现有的连接。>\n",
      "Error: <urlopen error [WinError 10054] 远程主机强迫关闭了一个现有的连接。>\n"
     ]
    },
    {
     "name": "stderr",
     "output_type": "stream",
     "text": [
      "\r",
      "Processing compounds:  27%|██████████████▉                                         | 1224/4599 [39:29<04:53, 11.51it/s]"
     ]
    },
    {
     "name": "stdout",
     "output_type": "stream",
     "text": [
      "Error: <urlopen error [WinError 10053] 你的主机中的软件中止了一个已建立的连接。>\n",
      "Error: <urlopen error [WinError 10053] 你的主机中的软件中止了一个已建立的连接。>\n",
      "Error: <urlopen error [WinError 10053] 你的主机中的软件中止了一个已建立的连接。>\n"
     ]
    },
    {
     "name": "stderr",
     "output_type": "stream",
     "text": [
      "Processing compounds:  27%|██████████████▉                                         | 1228/4599 [39:30<05:00, 11.22it/s]"
     ]
    },
    {
     "name": "stdout",
     "output_type": "stream",
     "text": [
      "Error: <urlopen error [WinError 10053] 你的主机中的软件中止了一个已建立的连接。>\n",
      "Error: <urlopen error [WinError 10053] 你的主机中的软件中止了一个已建立的连接。>\n",
      "Error: <urlopen error [WinError 10054] 远程主机强迫关闭了一个现有的连接。>\n"
     ]
    },
    {
     "name": "stderr",
     "output_type": "stream",
     "text": [
      "\r",
      "Processing compounds:  27%|██████████████▉                                         | 1230/4599 [39:30<04:53, 11.46it/s]"
     ]
    },
    {
     "name": "stdout",
     "output_type": "stream",
     "text": [
      "Error: <urlopen error [WinError 10054] 远程主机强迫关闭了一个现有的连接。>\n",
      "Error: <urlopen error [WinError 10054] 远程主机强迫关闭了一个现有的连接。>\n",
      "Error: <urlopen error [WinError 10053] 你的主机中的软件中止了一个已建立的连接。>\n"
     ]
    },
    {
     "name": "stderr",
     "output_type": "stream",
     "text": [
      "Processing compounds:  27%|███████████████                                         | 1234/4599 [39:30<04:55, 11.40it/s]"
     ]
    },
    {
     "name": "stdout",
     "output_type": "stream",
     "text": [
      "Error: <urlopen error [WinError 10054] 远程主机强迫关闭了一个现有的连接。>\n",
      "Error: <urlopen error [WinError 10054] 远程主机强迫关闭了一个现有的连接。>\n",
      "Error: <urlopen error [WinError 10054] 远程主机强迫关闭了一个现有的连接。>\n"
     ]
    },
    {
     "name": "stderr",
     "output_type": "stream",
     "text": [
      "\r",
      "Processing compounds:  27%|███████████████                                         | 1236/4599 [39:30<04:59, 11.21it/s]"
     ]
    },
    {
     "name": "stdout",
     "output_type": "stream",
     "text": [
      "Error: <urlopen error [WinError 10053] 你的主机中的软件中止了一个已建立的连接。>\n",
      "Error: <urlopen error [WinError 10053] 你的主机中的软件中止了一个已建立的连接。>\n",
      "Error: <urlopen error [WinError 10053] 你的主机中的软件中止了一个已建立的连接。>\n"
     ]
    },
    {
     "name": "stderr",
     "output_type": "stream",
     "text": [
      "Processing compounds:  27%|███████████████                                         | 1240/4599 [39:31<04:51, 11.54it/s]"
     ]
    },
    {
     "name": "stdout",
     "output_type": "stream",
     "text": [
      "Error: <urlopen error [WinError 10053] 你的主机中的软件中止了一个已建立的连接。>\n",
      "Error: <urlopen error [WinError 10054] 远程主机强迫关闭了一个现有的连接。>\n",
      "Error: <urlopen error [WinError 10053] 你的主机中的软件中止了一个已建立的连接。>\n"
     ]
    },
    {
     "name": "stderr",
     "output_type": "stream",
     "text": [
      "\r",
      "Processing compounds:  27%|███████████████                                         | 1242/4599 [39:31<04:47, 11.66it/s]"
     ]
    },
    {
     "name": "stdout",
     "output_type": "stream",
     "text": [
      "Error: <urlopen error [WinError 10054] 远程主机强迫关闭了一个现有的连接。>\n",
      "Error: <urlopen error [WinError 10053] 你的主机中的软件中止了一个已建立的连接。>\n",
      "Error: <urlopen error [WinError 10053] 你的主机中的软件中止了一个已建立的连接。>\n"
     ]
    },
    {
     "name": "stderr",
     "output_type": "stream",
     "text": [
      "Processing compounds:  27%|███████████████▏                                        | 1246/4599 [39:31<04:46, 11.72it/s]"
     ]
    },
    {
     "name": "stdout",
     "output_type": "stream",
     "text": [
      "Error: <urlopen error [WinError 10053] 你的主机中的软件中止了一个已建立的连接。>\n",
      "Error: <urlopen error [WinError 10054] 远程主机强迫关闭了一个现有的连接。>\n",
      "Error: <urlopen error [WinError 10054] 远程主机强迫关闭了一个现有的连接。>\n"
     ]
    },
    {
     "name": "stderr",
     "output_type": "stream",
     "text": [
      "\r",
      "Processing compounds:  27%|███████████████▏                                        | 1248/4599 [39:31<05:00, 11.14it/s]"
     ]
    },
    {
     "name": "stdout",
     "output_type": "stream",
     "text": [
      "Error: <urlopen error [WinError 10054] 远程主机强迫关闭了一个现有的连接。>\n",
      "Error: <urlopen error [WinError 10053] 你的主机中的软件中止了一个已建立的连接。>\n",
      "Error: <urlopen error [WinError 10053] 你的主机中的软件中止了一个已建立的连接。>\n"
     ]
    },
    {
     "name": "stderr",
     "output_type": "stream",
     "text": [
      "Processing compounds:  27%|███████████████▏                                        | 1252/4599 [39:32<05:00, 11.15it/s]"
     ]
    },
    {
     "name": "stdout",
     "output_type": "stream",
     "text": [
      "Error: <urlopen error [WinError 10054] 远程主机强迫关闭了一个现有的连接。>\n",
      "Error: <urlopen error [WinError 10054] 远程主机强迫关闭了一个现有的连接。>\n",
      "Error: <urlopen error [WinError 10053] 你的主机中的软件中止了一个已建立的连接。>\n"
     ]
    },
    {
     "name": "stderr",
     "output_type": "stream",
     "text": [
      "\r",
      "Processing compounds:  27%|███████████████▎                                        | 1254/4599 [39:32<04:56, 11.29it/s]"
     ]
    },
    {
     "name": "stdout",
     "output_type": "stream",
     "text": [
      "Error: <urlopen error [WinError 10054] 远程主机强迫关闭了一个现有的连接。>\n",
      "Error: <urlopen error [WinError 10054] 远程主机强迫关闭了一个现有的连接。>\n",
      "Error: <urlopen error [WinError 10053] 你的主机中的软件中止了一个已建立的连接。>\n"
     ]
    },
    {
     "name": "stderr",
     "output_type": "stream",
     "text": [
      "Processing compounds:  27%|███████████████▎                                        | 1258/4599 [39:32<04:46, 11.68it/s]"
     ]
    },
    {
     "name": "stdout",
     "output_type": "stream",
     "text": [
      "Error: <urlopen error [WinError 10054] 远程主机强迫关闭了一个现有的连接。>\n",
      "Error: <urlopen error [WinError 10054] 远程主机强迫关闭了一个现有的连接。>\n",
      "Error: <urlopen error [WinError 10054] 远程主机强迫关闭了一个现有的连接。>\n"
     ]
    },
    {
     "name": "stderr",
     "output_type": "stream",
     "text": [
      "\r",
      "Processing compounds:  27%|███████████████▎                                        | 1260/4599 [39:32<04:46, 11.67it/s]"
     ]
    },
    {
     "name": "stdout",
     "output_type": "stream",
     "text": [
      "Error: <urlopen error [WinError 10054] 远程主机强迫关闭了一个现有的连接。>\n",
      "Error: <urlopen error [WinError 10053] 你的主机中的软件中止了一个已建立的连接。>\n",
      "Error: <urlopen error [WinError 10054] 远程主机强迫关闭了一个现有的连接。>\n"
     ]
    },
    {
     "name": "stderr",
     "output_type": "stream",
     "text": [
      "Processing compounds:  27%|███████████████▍                                        | 1264/4599 [39:33<04:39, 11.94it/s]"
     ]
    },
    {
     "name": "stdout",
     "output_type": "stream",
     "text": [
      "Error: <urlopen error [WinError 10054] 远程主机强迫关闭了一个现有的连接。>\n",
      "Error: <urlopen error [WinError 10053] 你的主机中的软件中止了一个已建立的连接。>\n",
      "Error: <urlopen error [WinError 10054] 远程主机强迫关闭了一个现有的连接。>\n"
     ]
    },
    {
     "name": "stderr",
     "output_type": "stream",
     "text": [
      "\r",
      "Processing compounds:  28%|███████████████▍                                        | 1266/4599 [39:33<04:41, 11.85it/s]"
     ]
    },
    {
     "name": "stdout",
     "output_type": "stream",
     "text": [
      "Error: <urlopen error [WinError 10054] 远程主机强迫关闭了一个现有的连接。>\n",
      "Error: <urlopen error [WinError 10054] 远程主机强迫关闭了一个现有的连接。>\n",
      "Error: <urlopen error TLS/SSL connection has been closed (EOF) (_ssl.c:1131)>\n"
     ]
    },
    {
     "name": "stderr",
     "output_type": "stream",
     "text": [
      "Processing compounds:  28%|███████████████▍                                        | 1270/4599 [39:33<04:42, 11.77it/s]"
     ]
    },
    {
     "name": "stdout",
     "output_type": "stream",
     "text": [
      "Error: <urlopen error [WinError 10054] 远程主机强迫关闭了一个现有的连接。>\n",
      "Error: <urlopen error [WinError 10053] 你的主机中的软件中止了一个已建立的连接。>\n",
      "Error: <urlopen error [WinError 10054] 远程主机强迫关闭了一个现有的连接。>\n"
     ]
    },
    {
     "name": "stderr",
     "output_type": "stream",
     "text": [
      "\r",
      "Processing compounds:  28%|███████████████▍                                        | 1272/4599 [39:33<04:55, 11.24it/s]"
     ]
    },
    {
     "name": "stdout",
     "output_type": "stream",
     "text": [
      "Error: <urlopen error [WinError 10054] 远程主机强迫关闭了一个现有的连接。>\n",
      "Error: <urlopen error [WinError 10053] 你的主机中的软件中止了一个已建立的连接。>\n",
      "Error: <urlopen error [WinError 10054] 远程主机强迫关闭了一个现有的连接。>\n"
     ]
    },
    {
     "name": "stderr",
     "output_type": "stream",
     "text": [
      "Processing compounds:  28%|███████████████▌                                        | 1276/4599 [39:34<04:54, 11.27it/s]"
     ]
    },
    {
     "name": "stdout",
     "output_type": "stream",
     "text": [
      "Error: <urlopen error [WinError 10053] 你的主机中的软件中止了一个已建立的连接。>\n",
      "Error: <urlopen error [WinError 10053] 你的主机中的软件中止了一个已建立的连接。>\n",
      "Error: <urlopen error [WinError 10053] 你的主机中的软件中止了一个已建立的连接。>\n"
     ]
    },
    {
     "name": "stderr",
     "output_type": "stream",
     "text": [
      "\r",
      "Processing compounds:  28%|███████████████▌                                        | 1278/4599 [39:34<04:53, 11.33it/s]"
     ]
    },
    {
     "name": "stdout",
     "output_type": "stream",
     "text": [
      "Error: <urlopen error [WinError 10054] 远程主机强迫关闭了一个现有的连接。>\n",
      "Error: <urlopen error [WinError 10053] 你的主机中的软件中止了一个已建立的连接。>\n",
      "Error: <urlopen error [WinError 10053] 你的主机中的软件中止了一个已建立的连接。>\n"
     ]
    },
    {
     "name": "stderr",
     "output_type": "stream",
     "text": [
      "Processing compounds:  28%|███████████████▌                                        | 1282/4599 [39:34<04:44, 11.67it/s]"
     ]
    },
    {
     "name": "stdout",
     "output_type": "stream",
     "text": [
      "Error: <urlopen error [WinError 10053] 你的主机中的软件中止了一个已建立的连接。>\n",
      "Error: <urlopen error [WinError 10054] 远程主机强迫关闭了一个现有的连接。>\n",
      "Error: <urlopen error [WinError 10053] 你的主机中的软件中止了一个已建立的连接。>\n"
     ]
    },
    {
     "name": "stderr",
     "output_type": "stream",
     "text": [
      "\r",
      "Processing compounds:  28%|███████████████▋                                        | 1284/4599 [39:34<04:44, 11.65it/s]"
     ]
    },
    {
     "name": "stdout",
     "output_type": "stream",
     "text": [
      "Error: <urlopen error [WinError 10054] 远程主机强迫关闭了一个现有的连接。>\n",
      "Error: <urlopen error [WinError 10054] 远程主机强迫关闭了一个现有的连接。>\n",
      "Error: <urlopen error [WinError 10053] 你的主机中的软件中止了一个已建立的连接。>\n"
     ]
    },
    {
     "name": "stderr",
     "output_type": "stream",
     "text": [
      "Processing compounds:  28%|███████████████▋                                        | 1288/4599 [39:35<04:40, 11.82it/s]"
     ]
    },
    {
     "name": "stdout",
     "output_type": "stream",
     "text": [
      "Error: <urlopen error [WinError 10054] 远程主机强迫关闭了一个现有的连接。>\n",
      "Error: <urlopen error [WinError 10053] 你的主机中的软件中止了一个已建立的连接。>\n",
      "Error: <urlopen error [WinError 10054] 远程主机强迫关闭了一个现有的连接。>\n"
     ]
    },
    {
     "name": "stderr",
     "output_type": "stream",
     "text": [
      "\r",
      "Processing compounds:  28%|███████████████▋                                        | 1290/4599 [39:35<04:37, 11.91it/s]"
     ]
    },
    {
     "name": "stdout",
     "output_type": "stream",
     "text": [
      "Error: <urlopen error [WinError 10054] 远程主机强迫关闭了一个现有的连接。>\n",
      "Error: <urlopen error [WinError 10053] 你的主机中的软件中止了一个已建立的连接。>\n",
      "Error: <urlopen error [WinError 10053] 你的主机中的软件中止了一个已建立的连接。>\n"
     ]
    },
    {
     "name": "stderr",
     "output_type": "stream",
     "text": [
      "Processing compounds:  28%|███████████████▊                                        | 1294/4599 [39:35<04:41, 11.73it/s]"
     ]
    },
    {
     "name": "stdout",
     "output_type": "stream",
     "text": [
      "Error: <urlopen error [WinError 10054] 远程主机强迫关闭了一个现有的连接。>\n",
      "Error: <urlopen error [WinError 10054] 远程主机强迫关闭了一个现有的连接。>\n",
      "Error: <urlopen error [WinError 10053] 你的主机中的软件中止了一个已建立的连接。>\n"
     ]
    },
    {
     "name": "stderr",
     "output_type": "stream",
     "text": [
      "\r",
      "Processing compounds:  28%|███████████████▊                                        | 1296/4599 [39:35<04:59, 11.03it/s]"
     ]
    },
    {
     "name": "stdout",
     "output_type": "stream",
     "text": [
      "Error: <urlopen error [WinError 10053] 你的主机中的软件中止了一个已建立的连接。>\n",
      "Error: <urlopen error [WinError 10054] 远程主机强迫关闭了一个现有的连接。>\n"
     ]
    },
    {
     "name": "stderr",
     "output_type": "stream",
     "text": [
      "\r",
      "Processing compounds:  28%|███████████████▊                                        | 1298/4599 [39:36<05:02, 10.92it/s]"
     ]
    },
    {
     "name": "stdout",
     "output_type": "stream",
     "text": [
      "Error: <urlopen error [WinError 10054] 远程主机强迫关闭了一个现有的连接。>\n",
      "Error: <urlopen error [WinError 10053] 你的主机中的软件中止了一个已建立的连接。>\n",
      "Error: <urlopen error [WinError 10054] 远程主机强迫关闭了一个现有的连接。>\n"
     ]
    },
    {
     "name": "stderr",
     "output_type": "stream",
     "text": [
      "Processing compounds:  28%|███████████████▊                                        | 1302/4599 [39:36<04:52, 11.28it/s]"
     ]
    },
    {
     "name": "stdout",
     "output_type": "stream",
     "text": [
      "Error: <urlopen error [WinError 10054] 远程主机强迫关闭了一个现有的连接。>\n",
      "Error: <urlopen error [WinError 10054] 远程主机强迫关闭了一个现有的连接。>\n",
      "Error: <urlopen error [WinError 10054] 远程主机强迫关闭了一个现有的连接。>\n"
     ]
    },
    {
     "name": "stderr",
     "output_type": "stream",
     "text": [
      "\r",
      "Processing compounds:  28%|███████████████▉                                        | 1304/4599 [39:36<04:51, 11.32it/s]"
     ]
    },
    {
     "name": "stdout",
     "output_type": "stream",
     "text": [
      "Error: <urlopen error [WinError 10053] 你的主机中的软件中止了一个已建立的连接。>\n",
      "Error: <urlopen error [WinError 10054] 远程主机强迫关闭了一个现有的连接。>\n"
     ]
    },
    {
     "name": "stderr",
     "output_type": "stream",
     "text": [
      "\r",
      "Processing compounds:  28%|███████████████▉                                        | 1306/4599 [39:36<05:11, 10.57it/s]"
     ]
    },
    {
     "name": "stdout",
     "output_type": "stream",
     "text": [
      "Error: <urlopen error [WinError 10054] 远程主机强迫关闭了一个现有的连接。>\n",
      "Error: <urlopen error [WinError 10053] 你的主机中的软件中止了一个已建立的连接。>\n",
      "Error: <urlopen error [WinError 10053] 你的主机中的软件中止了一个已建立的连接。>\n"
     ]
    },
    {
     "name": "stderr",
     "output_type": "stream",
     "text": [
      "Processing compounds:  28%|███████████████▉                                        | 1310/4599 [39:37<04:56, 11.11it/s]"
     ]
    },
    {
     "name": "stdout",
     "output_type": "stream",
     "text": [
      "Error: <urlopen error [WinError 10054] 远程主机强迫关闭了一个现有的连接。>\n",
      "Error: <urlopen error [WinError 10054] 远程主机强迫关闭了一个现有的连接。>\n",
      "Error: <urlopen error [WinError 10053] 你的主机中的软件中止了一个已建立的连接。>\n"
     ]
    },
    {
     "name": "stderr",
     "output_type": "stream",
     "text": [
      "\r",
      "Processing compounds:  29%|███████████████▉                                        | 1312/4599 [39:37<04:52, 11.25it/s]"
     ]
    },
    {
     "name": "stdout",
     "output_type": "stream",
     "text": [
      "Error: <urlopen error [WinError 10054] 远程主机强迫关闭了一个现有的连接。>\n",
      "Error: <urlopen error [WinError 10053] 你的主机中的软件中止了一个已建立的连接。>\n",
      "Error: <urlopen error TLS/SSL connection has been closed (EOF) (_ssl.c:1131)>\n"
     ]
    },
    {
     "name": "stderr",
     "output_type": "stream",
     "text": [
      "Processing compounds:  29%|████████████████                                        | 1316/4599 [39:37<04:38, 11.78it/s]"
     ]
    },
    {
     "name": "stdout",
     "output_type": "stream",
     "text": [
      "Error: <urlopen error [WinError 10054] 远程主机强迫关闭了一个现有的连接。>\n",
      "Error: <urlopen error [WinError 10053] 你的主机中的软件中止了一个已建立的连接。>\n",
      "Error: <urlopen error [WinError 10054] 远程主机强迫关闭了一个现有的连接。>\n"
     ]
    },
    {
     "name": "stderr",
     "output_type": "stream",
     "text": [
      "\r",
      "Processing compounds:  29%|████████████████                                        | 1318/4599 [39:37<04:40, 11.70it/s]"
     ]
    },
    {
     "name": "stdout",
     "output_type": "stream",
     "text": [
      "Error: <urlopen error [WinError 10054] 远程主机强迫关闭了一个现有的连接。>\n",
      "Error: <urlopen error [WinError 10054] 远程主机强迫关闭了一个现有的连接。>\n",
      "Error: <urlopen error [WinError 10053] 你的主机中的软件中止了一个已建立的连接。>\n"
     ]
    },
    {
     "name": "stderr",
     "output_type": "stream",
     "text": [
      "Processing compounds:  29%|████████████████                                        | 1322/4599 [39:38<04:40, 11.70it/s]"
     ]
    },
    {
     "name": "stdout",
     "output_type": "stream",
     "text": [
      "Error: <urlopen error [WinError 10054] 远程主机强迫关闭了一个现有的连接。>\n",
      "Error: <urlopen error [WinError 10053] 你的主机中的软件中止了一个已建立的连接。>\n",
      "Error: <urlopen error [WinError 10053] 你的主机中的软件中止了一个已建立的连接。>\n"
     ]
    },
    {
     "name": "stderr",
     "output_type": "stream",
     "text": [
      "\r",
      "Processing compounds:  29%|████████████████                                        | 1324/4599 [39:38<04:39, 11.72it/s]"
     ]
    },
    {
     "name": "stdout",
     "output_type": "stream",
     "text": [
      "Error: <urlopen error [WinError 10054] 远程主机强迫关闭了一个现有的连接。>\n",
      "Error: <urlopen error [WinError 10054] 远程主机强迫关闭了一个现有的连接。>\n",
      "Error: <urlopen error [WinError 10053] 你的主机中的软件中止了一个已建立的连接。>\n"
     ]
    },
    {
     "name": "stderr",
     "output_type": "stream",
     "text": [
      "Processing compounds:  29%|████████████████▏                                       | 1328/4599 [39:38<04:59, 10.94it/s]"
     ]
    },
    {
     "name": "stdout",
     "output_type": "stream",
     "text": [
      "Error: <urlopen error [WinError 10053] 你的主机中的软件中止了一个已建立的连接。>\n",
      "Error: <urlopen error [WinError 10054] 远程主机强迫关闭了一个现有的连接。>\n",
      "Error: <urlopen error [WinError 10054] 远程主机强迫关闭了一个现有的连接。>\n"
     ]
    },
    {
     "name": "stderr",
     "output_type": "stream",
     "text": [
      "\r",
      "Processing compounds:  29%|████████████████▏                                       | 1330/4599 [39:38<05:00, 10.87it/s]"
     ]
    },
    {
     "name": "stdout",
     "output_type": "stream",
     "text": [
      "Error: <urlopen error [WinError 10053] 你的主机中的软件中止了一个已建立的连接。>\n",
      "Error: <urlopen error [WinError 10054] 远程主机强迫关闭了一个现有的连接。>\n",
      "Error: <urlopen error [WinError 10053] 你的主机中的软件中止了一个已建立的连接。>\n"
     ]
    },
    {
     "name": "stderr",
     "output_type": "stream",
     "text": [
      "Processing compounds:  29%|████████████████▏                                       | 1334/4599 [39:39<04:43, 11.52it/s]"
     ]
    },
    {
     "name": "stdout",
     "output_type": "stream",
     "text": [
      "Error: <urlopen error [WinError 10054] 远程主机强迫关闭了一个现有的连接。>\n",
      "Error: <urlopen error [WinError 10053] 你的主机中的软件中止了一个已建立的连接。>\n",
      "Error: <urlopen error [WinError 10053] 你的主机中的软件中止了一个已建立的连接。>\n"
     ]
    },
    {
     "name": "stderr",
     "output_type": "stream",
     "text": [
      "\r",
      "Processing compounds:  29%|████████████████▎                                       | 1336/4599 [39:39<04:46, 11.39it/s]"
     ]
    },
    {
     "name": "stdout",
     "output_type": "stream",
     "text": [
      "Error: <urlopen error [WinError 10054] 远程主机强迫关闭了一个现有的连接。>\n",
      "Error: <urlopen error [WinError 10053] 你的主机中的软件中止了一个已建立的连接。>\n",
      "Error: <urlopen error [WinError 10054] 远程主机强迫关闭了一个现有的连接。>\n"
     ]
    },
    {
     "name": "stderr",
     "output_type": "stream",
     "text": [
      "Processing compounds:  29%|████████████████▎                                       | 1340/4599 [39:39<04:54, 11.07it/s]"
     ]
    },
    {
     "name": "stdout",
     "output_type": "stream",
     "text": [
      "Error: <urlopen error [WinError 10054] 远程主机强迫关闭了一个现有的连接。>\n",
      "Error: <urlopen error TLS/SSL connection has been closed (EOF) (_ssl.c:1131)>\n",
      "Error: <urlopen error [WinError 10053] 你的主机中的软件中止了一个已建立的连接。>\n"
     ]
    },
    {
     "name": "stderr",
     "output_type": "stream",
     "text": [
      "\r",
      "Processing compounds:  29%|████████████████▎                                       | 1342/4599 [39:40<04:57, 10.95it/s]"
     ]
    },
    {
     "name": "stdout",
     "output_type": "stream",
     "text": [
      "Error: <urlopen error [WinError 10053] 你的主机中的软件中止了一个已建立的连接。>\n",
      "Error: <urlopen error [WinError 10053] 你的主机中的软件中止了一个已建立的连接。>\n",
      "Error: <urlopen error [WinError 10054] 远程主机强迫关闭了一个现有的连接。>\n"
     ]
    },
    {
     "name": "stderr",
     "output_type": "stream",
     "text": [
      "Processing compounds:  29%|████████████████▍                                       | 1346/4599 [39:40<04:52, 11.12it/s]"
     ]
    },
    {
     "name": "stdout",
     "output_type": "stream",
     "text": [
      "Error: <urlopen error [WinError 10054] 远程主机强迫关闭了一个现有的连接。>\n",
      "Error: <urlopen error [WinError 10053] 你的主机中的软件中止了一个已建立的连接。>\n",
      "Error: <urlopen error [WinError 10054] 远程主机强迫关闭了一个现有的连接。>\n"
     ]
    },
    {
     "name": "stderr",
     "output_type": "stream",
     "text": [
      "\r",
      "Processing compounds:  29%|████████████████▍                                       | 1348/4599 [39:40<04:53, 11.08it/s]"
     ]
    },
    {
     "name": "stdout",
     "output_type": "stream",
     "text": [
      "Error: <urlopen error [WinError 10053] 你的主机中的软件中止了一个已建立的连接。>\n",
      "Error: <urlopen error [WinError 10053] 你的主机中的软件中止了一个已建立的连接。>\n",
      "Error: <urlopen error [WinError 10054] 远程主机强迫关闭了一个现有的连接。>\n"
     ]
    },
    {
     "name": "stderr",
     "output_type": "stream",
     "text": [
      "Processing compounds:  29%|████████████████▍                                       | 1352/4599 [39:40<04:42, 11.48it/s]"
     ]
    },
    {
     "name": "stdout",
     "output_type": "stream",
     "text": [
      "Error: <urlopen error TLS/SSL connection has been closed (EOF) (_ssl.c:1131)>\n",
      "Error: <urlopen error [WinError 10054] 远程主机强迫关闭了一个现有的连接。>\n",
      "Error: <urlopen error [WinError 10053] 你的主机中的软件中止了一个已建立的连接。>\n"
     ]
    },
    {
     "name": "stderr",
     "output_type": "stream",
     "text": [
      "\r",
      "Processing compounds:  29%|████████████████▍                                       | 1354/4599 [39:41<04:41, 11.52it/s]"
     ]
    },
    {
     "name": "stdout",
     "output_type": "stream",
     "text": [
      "Error: <urlopen error [WinError 10053] 你的主机中的软件中止了一个已建立的连接。>\n",
      "Error: <urlopen error [WinError 10053] 你的主机中的软件中止了一个已建立的连接。>\n",
      "Error: <urlopen error [WinError 10054] 远程主机强迫关闭了一个现有的连接。>\n"
     ]
    },
    {
     "name": "stderr",
     "output_type": "stream",
     "text": [
      "Processing compounds:  30%|████████████████▌                                       | 1358/4599 [39:41<04:52, 11.08it/s]"
     ]
    },
    {
     "name": "stdout",
     "output_type": "stream",
     "text": [
      "Error: <urlopen error [WinError 10053] 你的主机中的软件中止了一个已建立的连接。>\n",
      "Error: <urlopen error [WinError 10054] 远程主机强迫关闭了一个现有的连接。>\n",
      "Error: <urlopen error [WinError 10053] 你的主机中的软件中止了一个已建立的连接。>\n"
     ]
    },
    {
     "name": "stderr",
     "output_type": "stream",
     "text": [
      "\r",
      "Processing compounds:  30%|████████████████▌                                       | 1360/4599 [39:41<04:59, 10.80it/s]"
     ]
    },
    {
     "name": "stdout",
     "output_type": "stream",
     "text": [
      "Error: <urlopen error [WinError 10053] 你的主机中的软件中止了一个已建立的连接。>\n",
      "Error: <urlopen error [WinError 10054] 远程主机强迫关闭了一个现有的连接。>\n",
      "Error: <urlopen error [WinError 10054] 远程主机强迫关闭了一个现有的连接。>\n"
     ]
    },
    {
     "name": "stderr",
     "output_type": "stream",
     "text": [
      "\r",
      "Processing compounds:  30%|████████████████▌                                       | 1362/4599 [39:41<05:15, 10.26it/s]"
     ]
    },
    {
     "name": "stdout",
     "output_type": "stream",
     "text": [
      "Error: <urlopen error [WinError 10054] 远程主机强迫关闭了一个现有的连接。>\n",
      "Error: <urlopen error [WinError 10053] 你的主机中的软件中止了一个已建立的连接。>\n"
     ]
    },
    {
     "name": "stderr",
     "output_type": "stream",
     "text": [
      "Processing compounds:  30%|████████████████▌                                       | 1365/4599 [39:42<05:30,  9.79it/s]"
     ]
    },
    {
     "name": "stdout",
     "output_type": "stream",
     "text": [
      "Error: <urlopen error [WinError 10053] 你的主机中的软件中止了一个已建立的连接。>\n",
      "Error: <urlopen error [WinError 10054] 远程主机强迫关闭了一个现有的连接。>\n"
     ]
    },
    {
     "name": "stderr",
     "output_type": "stream",
     "text": [
      "Processing compounds:  30%|████████████████▋                                       | 1367/4599 [39:42<05:33,  9.69it/s]"
     ]
    },
    {
     "name": "stdout",
     "output_type": "stream",
     "text": [
      "Error: <urlopen error [WinError 10053] 你的主机中的软件中止了一个已建立的连接。>\n",
      "Error: <urlopen error [WinError 10054] 远程主机强迫关闭了一个现有的连接。>\n",
      "Error: <urlopen error [WinError 10053] 你的主机中的软件中止了一个已建立的连接。>\n"
     ]
    },
    {
     "name": "stderr",
     "output_type": "stream",
     "text": [
      "Processing compounds:  30%|████████████████▋                                       | 1371/4599 [39:42<04:55, 10.93it/s]"
     ]
    },
    {
     "name": "stdout",
     "output_type": "stream",
     "text": [
      "Error: <urlopen error [WinError 10054] 远程主机强迫关闭了一个现有的连接。>\n",
      "Error: <urlopen error [WinError 10053] 你的主机中的软件中止了一个已建立的连接。>\n",
      "Error: <urlopen error [WinError 10054] 远程主机强迫关闭了一个现有的连接。>\n"
     ]
    },
    {
     "name": "stderr",
     "output_type": "stream",
     "text": [
      "\r",
      "Processing compounds:  30%|████████████████▋                                       | 1373/4599 [39:42<04:54, 10.96it/s]"
     ]
    },
    {
     "name": "stdout",
     "output_type": "stream",
     "text": [
      "Error: <urlopen error [WinError 10053] 你的主机中的软件中止了一个已建立的连接。>\n",
      "Error: <urlopen error [WinError 10054] 远程主机强迫关闭了一个现有的连接。>\n",
      "Error: <urlopen error [WinError 10054] 远程主机强迫关闭了一个现有的连接。>\n"
     ]
    },
    {
     "name": "stderr",
     "output_type": "stream",
     "text": [
      "Processing compounds:  30%|████████████████▊                                       | 1377/4599 [39:43<04:50, 11.10it/s]"
     ]
    },
    {
     "name": "stdout",
     "output_type": "stream",
     "text": [
      "Error: <urlopen error [WinError 10054] 远程主机强迫关闭了一个现有的连接。>\n",
      "Error: <urlopen error [WinError 10053] 你的主机中的软件中止了一个已建立的连接。>\n",
      "Error: <urlopen error [WinError 10054] 远程主机强迫关闭了一个现有的连接。>\n"
     ]
    },
    {
     "name": "stderr",
     "output_type": "stream",
     "text": [
      "\r",
      "Processing compounds:  30%|████████████████▊                                       | 1379/4599 [39:43<04:44, 11.32it/s]"
     ]
    },
    {
     "name": "stdout",
     "output_type": "stream",
     "text": [
      "Error: <urlopen error [WinError 10054] 远程主机强迫关闭了一个现有的连接。>\n",
      "Error: <urlopen error [WinError 10053] 你的主机中的软件中止了一个已建立的连接。>\n",
      "Error: <urlopen error [WinError 10053] 你的主机中的软件中止了一个已建立的连接。>\n"
     ]
    },
    {
     "name": "stderr",
     "output_type": "stream",
     "text": [
      "Processing compounds:  30%|████████████████▊                                       | 1383/4599 [39:43<04:40, 11.45it/s]"
     ]
    },
    {
     "name": "stdout",
     "output_type": "stream",
     "text": [
      "Error: <urlopen error [WinError 10053] 你的主机中的软件中止了一个已建立的连接。>\n",
      "Error: <urlopen error [WinError 10054] 远程主机强迫关闭了一个现有的连接。>\n",
      "Error: <urlopen error [WinError 10053] 你的主机中的软件中止了一个已建立的连接。>\n"
     ]
    },
    {
     "name": "stderr",
     "output_type": "stream",
     "text": [
      "\r",
      "Processing compounds:  30%|████████████████▊                                       | 1385/4599 [39:44<04:55, 10.89it/s]"
     ]
    },
    {
     "name": "stdout",
     "output_type": "stream",
     "text": [
      "Error: <urlopen error [WinError 10054] 远程主机强迫关闭了一个现有的连接。>\n",
      "Error: <urlopen error [WinError 10053] 你的主机中的软件中止了一个已建立的连接。>\n",
      "Error: <urlopen error [WinError 10054] 远程主机强迫关闭了一个现有的连接。>\n"
     ]
    },
    {
     "name": "stderr",
     "output_type": "stream",
     "text": [
      "Processing compounds:  30%|████████████████▉                                       | 1389/4599 [39:44<04:44, 11.29it/s]"
     ]
    },
    {
     "name": "stdout",
     "output_type": "stream",
     "text": [
      "Error: <urlopen error [WinError 10054] 远程主机强迫关闭了一个现有的连接。>\n",
      "Error: <urlopen error [WinError 10053] 你的主机中的软件中止了一个已建立的连接。>\n",
      "Error: <urlopen error TLS/SSL connection has been closed (EOF) (_ssl.c:1131)>\n"
     ]
    },
    {
     "name": "stderr",
     "output_type": "stream",
     "text": [
      "\r",
      "Processing compounds:  30%|████████████████▉                                       | 1391/4599 [39:44<04:41, 11.41it/s]"
     ]
    },
    {
     "name": "stdout",
     "output_type": "stream",
     "text": [
      "Error: <urlopen error [WinError 10053] 你的主机中的软件中止了一个已建立的连接。>\n",
      "Error: <urlopen error [WinError 10054] 远程主机强迫关闭了一个现有的连接。>\n",
      "Error: <urlopen error [WinError 10053] 你的主机中的软件中止了一个已建立的连接。>\n"
     ]
    },
    {
     "name": "stderr",
     "output_type": "stream",
     "text": [
      "Processing compounds:  30%|████████████████▉                                       | 1395/4599 [39:44<04:34, 11.69it/s]"
     ]
    },
    {
     "name": "stdout",
     "output_type": "stream",
     "text": [
      "Error: <urlopen error [WinError 10054] 远程主机强迫关闭了一个现有的连接。>\n",
      "Error: <urlopen error [WinError 10054] 远程主机强迫关闭了一个现有的连接。>\n",
      "Error: <urlopen error [WinError 10053] 你的主机中的软件中止了一个已建立的连接。>\n"
     ]
    },
    {
     "name": "stderr",
     "output_type": "stream",
     "text": [
      "\r",
      "Processing compounds:  30%|█████████████████                                       | 1397/4599 [39:45<04:35, 11.61it/s]"
     ]
    },
    {
     "name": "stdout",
     "output_type": "stream",
     "text": [
      "Error: <urlopen error [WinError 10053] 你的主机中的软件中止了一个已建立的连接。>\n",
      "Error: <urlopen error [WinError 10053] 你的主机中的软件中止了一个已建立的连接。>\n",
      "Error: <urlopen error [WinError 10053] 你的主机中的软件中止了一个已建立的连接。>\n"
     ]
    },
    {
     "name": "stderr",
     "output_type": "stream",
     "text": [
      "Processing compounds:  30%|█████████████████                                       | 1401/4599 [39:45<04:36, 11.56it/s]"
     ]
    },
    {
     "name": "stdout",
     "output_type": "stream",
     "text": [
      "Error: <urlopen error [WinError 10054] 远程主机强迫关闭了一个现有的连接。>\n",
      "Error: <urlopen error [WinError 10053] 你的主机中的软件中止了一个已建立的连接。>\n",
      "Error: <urlopen error [WinError 10053] 你的主机中的软件中止了一个已建立的连接。>\n"
     ]
    },
    {
     "name": "stderr",
     "output_type": "stream",
     "text": [
      "\r",
      "Processing compounds:  31%|█████████████████                                       | 1403/4599 [39:45<04:39, 11.45it/s]"
     ]
    },
    {
     "name": "stdout",
     "output_type": "stream",
     "text": [
      "Error: <urlopen error [WinError 10054] 远程主机强迫关闭了一个现有的连接。>\n",
      "Error: <urlopen error [WinError 10054] 远程主机强迫关闭了一个现有的连接。>\n",
      "Error: <urlopen error [WinError 10054] 远程主机强迫关闭了一个现有的连接。>\n"
     ]
    },
    {
     "name": "stderr",
     "output_type": "stream",
     "text": [
      "Processing compounds:  31%|█████████████████▏                                      | 1407/4599 [39:45<04:40, 11.37it/s]"
     ]
    },
    {
     "name": "stdout",
     "output_type": "stream",
     "text": [
      "Error: <urlopen error [WinError 10054] 远程主机强迫关闭了一个现有的连接。>\n",
      "Error: <urlopen error [WinError 10054] 远程主机强迫关闭了一个现有的连接。>\n",
      "Error: <urlopen error [WinError 10054] 远程主机强迫关闭了一个现有的连接。>\n"
     ]
    },
    {
     "name": "stderr",
     "output_type": "stream",
     "text": [
      "\r",
      "Processing compounds:  31%|█████████████████▏                                      | 1409/4599 [39:46<04:49, 11.02it/s]"
     ]
    },
    {
     "name": "stdout",
     "output_type": "stream",
     "text": [
      "Error: <urlopen error [WinError 10054] 远程主机强迫关闭了一个现有的连接。>\n",
      "Error: <urlopen error [WinError 10053] 你的主机中的软件中止了一个已建立的连接。>\n",
      "Error: <urlopen error [WinError 10053] 你的主机中的软件中止了一个已建立的连接。>\n"
     ]
    },
    {
     "name": "stderr",
     "output_type": "stream",
     "text": [
      "Processing compounds:  31%|█████████████████▏                                      | 1413/4599 [39:46<04:45, 11.15it/s]"
     ]
    },
    {
     "name": "stdout",
     "output_type": "stream",
     "text": [
      "Error: <urlopen error [WinError 10053] 你的主机中的软件中止了一个已建立的连接。>\n",
      "Error: <urlopen error [WinError 10053] 你的主机中的软件中止了一个已建立的连接。>\n",
      "Error: <urlopen error [WinError 10053] 你的主机中的软件中止了一个已建立的连接。>\n"
     ]
    },
    {
     "name": "stderr",
     "output_type": "stream",
     "text": [
      "\r",
      "Processing compounds:  31%|█████████████████▏                                      | 1415/4599 [39:46<04:39, 11.40it/s]"
     ]
    },
    {
     "name": "stdout",
     "output_type": "stream",
     "text": [
      "Error: <urlopen error [WinError 10053] 你的主机中的软件中止了一个已建立的连接。>\n",
      "Error: <urlopen error [WinError 10054] 远程主机强迫关闭了一个现有的连接。>\n",
      "Error: <urlopen error [WinError 10053] 你的主机中的软件中止了一个已建立的连接。>\n"
     ]
    },
    {
     "name": "stderr",
     "output_type": "stream",
     "text": [
      "\r",
      "Processing compounds:  31%|█████████████████▎                                      | 1417/4599 [39:46<04:38, 11.43it/s]"
     ]
    },
    {
     "name": "stdout",
     "output_type": "stream",
     "text": [
      "Error: <urlopen error [WinError 10054] 远程主机强迫关闭了一个现有的连接。>\n",
      "Error: <urlopen error [WinError 10054] 远程主机强迫关闭了一个现有的连接。>\n"
     ]
    },
    {
     "name": "stderr",
     "output_type": "stream",
     "text": [
      "Processing compounds:  31%|█████████████████▎                                      | 1421/4599 [39:47<04:49, 10.99it/s]"
     ]
    },
    {
     "name": "stdout",
     "output_type": "stream",
     "text": [
      "Error: <urlopen error [WinError 10054] 远程主机强迫关闭了一个现有的连接。>\n",
      "Error: <urlopen error [WinError 10054] 远程主机强迫关闭了一个现有的连接。>\n",
      "Error: <urlopen error [WinError 10054] 远程主机强迫关闭了一个现有的连接。>\n"
     ]
    },
    {
     "name": "stderr",
     "output_type": "stream",
     "text": [
      "\r",
      "Processing compounds:  31%|█████████████████▎                                      | 1423/4599 [39:47<04:47, 11.05it/s]"
     ]
    },
    {
     "name": "stdout",
     "output_type": "stream",
     "text": [
      "Error: <urlopen error [WinError 10054] 远程主机强迫关闭了一个现有的连接。>\n",
      "Error: <urlopen error TLS/SSL connection has been closed (EOF) (_ssl.c:1131)>\n",
      "Error: <urlopen error [WinError 10053] 你的主机中的软件中止了一个已建立的连接。>\n"
     ]
    },
    {
     "name": "stderr",
     "output_type": "stream",
     "text": [
      "Processing compounds:  31%|█████████████████▍                                      | 1427/4599 [39:47<04:39, 11.36it/s]"
     ]
    },
    {
     "name": "stdout",
     "output_type": "stream",
     "text": [
      "Error: <urlopen error [WinError 10054] 远程主机强迫关闭了一个现有的连接。>\n",
      "Error: <urlopen error [WinError 10054] 远程主机强迫关闭了一个现有的连接。>\n",
      "Error: <urlopen error [WinError 10053] 你的主机中的软件中止了一个已建立的连接。>\n"
     ]
    },
    {
     "name": "stderr",
     "output_type": "stream",
     "text": [
      "\r",
      "Processing compounds:  31%|█████████████████▍                                      | 1429/4599 [39:47<04:36, 11.46it/s]"
     ]
    },
    {
     "name": "stdout",
     "output_type": "stream",
     "text": [
      "Error: <urlopen error [WinError 10054] 远程主机强迫关闭了一个现有的连接。>\n",
      "Error: <urlopen error [WinError 10053] 你的主机中的软件中止了一个已建立的连接。>\n",
      "Error: <urlopen error [WinError 10053] 你的主机中的软件中止了一个已建立的连接。>\n"
     ]
    },
    {
     "name": "stderr",
     "output_type": "stream",
     "text": [
      "Processing compounds:  31%|█████████████████▍                                      | 1433/4599 [39:48<04:55, 10.73it/s]"
     ]
    },
    {
     "name": "stdout",
     "output_type": "stream",
     "text": [
      "Error: <urlopen error [WinError 10054] 远程主机强迫关闭了一个现有的连接。>\n",
      "Error: <urlopen error [WinError 10054] 远程主机强迫关闭了一个现有的连接。>\n",
      "Error: <urlopen error [WinError 10053] 你的主机中的软件中止了一个已建立的连接。>\n"
     ]
    },
    {
     "name": "stderr",
     "output_type": "stream",
     "text": [
      "\r",
      "Processing compounds:  31%|█████████████████▍                                      | 1435/4599 [39:48<04:48, 10.96it/s]"
     ]
    },
    {
     "name": "stdout",
     "output_type": "stream",
     "text": [
      "Error: <urlopen error [WinError 10054] 远程主机强迫关闭了一个现有的连接。>\n",
      "Error: <urlopen error [WinError 10054] 远程主机强迫关闭了一个现有的连接。>\n",
      "Error: <urlopen error [WinError 10053] 你的主机中的软件中止了一个已建立的连接。>\n"
     ]
    },
    {
     "name": "stderr",
     "output_type": "stream",
     "text": [
      "Processing compounds:  31%|█████████████████▌                                      | 1439/4599 [39:48<04:42, 11.17it/s]"
     ]
    },
    {
     "name": "stdout",
     "output_type": "stream",
     "text": [
      "Error: <urlopen error [WinError 10054] 远程主机强迫关闭了一个现有的连接。>\n",
      "Error: <urlopen error [WinError 10053] 你的主机中的软件中止了一个已建立的连接。>\n",
      "Error: <urlopen error [WinError 10054] 远程主机强迫关闭了一个现有的连接。>\n"
     ]
    },
    {
     "name": "stderr",
     "output_type": "stream",
     "text": [
      "\r",
      "Processing compounds:  31%|█████████████████▌                                      | 1441/4599 [39:48<04:39, 11.30it/s]"
     ]
    },
    {
     "name": "stdout",
     "output_type": "stream",
     "text": [
      "Error: <urlopen error [WinError 10053] 你的主机中的软件中止了一个已建立的连接。>\n",
      "Error: <urlopen error [WinError 10054] 远程主机强迫关闭了一个现有的连接。>\n",
      "Error: <urlopen error [WinError 10054] 远程主机强迫关闭了一个现有的连接。>\n"
     ]
    },
    {
     "name": "stderr",
     "output_type": "stream",
     "text": [
      "Processing compounds:  31%|█████████████████▌                                      | 1445/4599 [39:49<04:32, 11.59it/s]"
     ]
    },
    {
     "name": "stdout",
     "output_type": "stream",
     "text": [
      "Error: <urlopen error [WinError 10053] 你的主机中的软件中止了一个已建立的连接。>\n",
      "Error: <urlopen error [WinError 10054] 远程主机强迫关闭了一个现有的连接。>\n",
      "Error: <urlopen error [WinError 10054] 远程主机强迫关闭了一个现有的连接。>\n"
     ]
    },
    {
     "name": "stderr",
     "output_type": "stream",
     "text": [
      "\r",
      "Processing compounds:  31%|█████████████████▌                                      | 1447/4599 [39:49<04:28, 11.75it/s]"
     ]
    },
    {
     "name": "stdout",
     "output_type": "stream",
     "text": [
      "Error: <urlopen error [WinError 10054] 远程主机强迫关闭了一个现有的连接。>\n",
      "Error: <urlopen error [WinError 10054] 远程主机强迫关闭了一个现有的连接。>\n",
      "Error: <urlopen error [WinError 10053] 你的主机中的软件中止了一个已建立的连接。>\n"
     ]
    },
    {
     "name": "stderr",
     "output_type": "stream",
     "text": [
      "Processing compounds:  32%|█████████████████▋                                      | 1451/4599 [39:49<04:29, 11.68it/s]"
     ]
    },
    {
     "name": "stdout",
     "output_type": "stream",
     "text": [
      "Error: <urlopen error [WinError 10053] 你的主机中的软件中止了一个已建立的连接。>\n",
      "Error: <urlopen error TLS/SSL connection has been closed (EOF) (_ssl.c:1131)>\n",
      "Error: <urlopen error [WinError 10053] 你的主机中的软件中止了一个已建立的连接。>\n"
     ]
    },
    {
     "name": "stderr",
     "output_type": "stream",
     "text": [
      "\r",
      "Processing compounds:  32%|█████████████████▋                                      | 1453/4599 [39:50<04:28, 11.71it/s]"
     ]
    },
    {
     "name": "stdout",
     "output_type": "stream",
     "text": [
      "Error: <urlopen error [WinError 10054] 远程主机强迫关闭了一个现有的连接。>\n",
      "Error: <urlopen error [WinError 10053] 你的主机中的软件中止了一个已建立的连接。>\n",
      "Error: <urlopen error TLS/SSL connection has been closed (EOF) (_ssl.c:1131)>\n"
     ]
    },
    {
     "name": "stderr",
     "output_type": "stream",
     "text": [
      "Processing compounds:  32%|█████████████████▋                                      | 1457/4599 [39:50<04:29, 11.64it/s]"
     ]
    },
    {
     "name": "stdout",
     "output_type": "stream",
     "text": [
      "Error: <urlopen error [WinError 10054] 远程主机强迫关闭了一个现有的连接。>\n",
      "Error: <urlopen error [WinError 10053] 你的主机中的软件中止了一个已建立的连接。>\n",
      "Error: <urlopen error [WinError 10053] 你的主机中的软件中止了一个已建立的连接。>\n"
     ]
    },
    {
     "name": "stderr",
     "output_type": "stream",
     "text": [
      "\r",
      "Processing compounds:  32%|█████████████████▊                                      | 1459/4599 [39:50<04:30, 11.62it/s]"
     ]
    },
    {
     "name": "stdout",
     "output_type": "stream",
     "text": [
      "Error: <urlopen error [WinError 10054] 远程主机强迫关闭了一个现有的连接。>\n",
      "Error: <urlopen error [WinError 10054] 远程主机强迫关闭了一个现有的连接。>\n",
      "Error: <urlopen error [WinError 10053] 你的主机中的软件中止了一个已建立的连接。>\n"
     ]
    },
    {
     "name": "stderr",
     "output_type": "stream",
     "text": [
      "Processing compounds:  32%|█████████████████▊                                      | 1463/4599 [39:50<04:28, 11.67it/s]"
     ]
    },
    {
     "name": "stdout",
     "output_type": "stream",
     "text": [
      "Error: <urlopen error [WinError 10053] 你的主机中的软件中止了一个已建立的连接。>\n",
      "Error: <urlopen error [WinError 10054] 远程主机强迫关闭了一个现有的连接。>\n",
      "Error: <urlopen error [WinError 10054] 远程主机强迫关闭了一个现有的连接。>\n"
     ]
    },
    {
     "name": "stderr",
     "output_type": "stream",
     "text": [
      "\r",
      "Processing compounds:  32%|█████████████████▊                                      | 1465/4599 [39:51<04:28, 11.67it/s]"
     ]
    },
    {
     "name": "stdout",
     "output_type": "stream",
     "text": [
      "Error: <urlopen error [WinError 10054] 远程主机强迫关闭了一个现有的连接。>\n",
      "Error: <urlopen error [WinError 10054] 远程主机强迫关闭了一个现有的连接。>\n",
      "Error: <urlopen error [WinError 10054] 远程主机强迫关闭了一个现有的连接。>\n"
     ]
    },
    {
     "name": "stderr",
     "output_type": "stream",
     "text": [
      "Processing compounds:  32%|█████████████████▉                                      | 1469/4599 [39:51<04:19, 12.05it/s]"
     ]
    },
    {
     "name": "stdout",
     "output_type": "stream",
     "text": [
      "Error: <urlopen error [WinError 10054] 远程主机强迫关闭了一个现有的连接。>\n",
      "Error: <urlopen error [WinError 10054] 远程主机强迫关闭了一个现有的连接。>\n",
      "Error: <urlopen error [WinError 10054] 远程主机强迫关闭了一个现有的连接。>\n"
     ]
    },
    {
     "name": "stderr",
     "output_type": "stream",
     "text": [
      "\r",
      "Processing compounds:  32%|█████████████████▉                                      | 1471/4599 [39:51<04:21, 11.96it/s]"
     ]
    },
    {
     "name": "stdout",
     "output_type": "stream",
     "text": [
      "Error: <urlopen error [WinError 10054] 远程主机强迫关闭了一个现有的连接。>\n",
      "Error: <urlopen error [WinError 10053] 你的主机中的软件中止了一个已建立的连接。>\n",
      "Error: <urlopen error [WinError 10053] 你的主机中的软件中止了一个已建立的连接。>\n"
     ]
    },
    {
     "name": "stderr",
     "output_type": "stream",
     "text": [
      "Processing compounds:  32%|█████████████████▉                                      | 1475/4599 [39:51<04:17, 12.11it/s]"
     ]
    },
    {
     "name": "stdout",
     "output_type": "stream",
     "text": [
      "Error: <urlopen error [WinError 10054] 远程主机强迫关闭了一个现有的连接。>\n",
      "Error: <urlopen error TLS/SSL connection has been closed (EOF) (_ssl.c:1131)>\n",
      "Error: <urlopen error [WinError 10053] 你的主机中的软件中止了一个已建立的连接。>\n"
     ]
    },
    {
     "name": "stderr",
     "output_type": "stream",
     "text": [
      "\r",
      "Processing compounds:  32%|█████████████████▉                                      | 1477/4599 [39:52<04:21, 11.93it/s]"
     ]
    },
    {
     "name": "stdout",
     "output_type": "stream",
     "text": [
      "Error: <urlopen error [WinError 10053] 你的主机中的软件中止了一个已建立的连接。>\n",
      "Error: <urlopen error [WinError 10053] 你的主机中的软件中止了一个已建立的连接。>\n",
      "Error: <urlopen error [WinError 10053] 你的主机中的软件中止了一个已建立的连接。>\n"
     ]
    },
    {
     "name": "stderr",
     "output_type": "stream",
     "text": [
      "Processing compounds:  32%|██████████████████                                      | 1481/4599 [39:52<04:18, 12.08it/s]"
     ]
    },
    {
     "name": "stdout",
     "output_type": "stream",
     "text": [
      "Error: <urlopen error [WinError 10054] 远程主机强迫关闭了一个现有的连接。>\n",
      "Error: <urlopen error [WinError 10053] 你的主机中的软件中止了一个已建立的连接。>\n",
      "Error: <urlopen error [WinError 10054] 远程主机强迫关闭了一个现有的连接。>\n"
     ]
    },
    {
     "name": "stderr",
     "output_type": "stream",
     "text": [
      "\r",
      "Processing compounds:  32%|██████████████████                                      | 1483/4599 [39:52<04:19, 12.03it/s]"
     ]
    },
    {
     "name": "stdout",
     "output_type": "stream",
     "text": [
      "Error: <urlopen error [WinError 10054] 远程主机强迫关闭了一个现有的连接。>\n",
      "Error: <urlopen error TLS/SSL connection has been closed (EOF) (_ssl.c:1131)>\n",
      "Error: <urlopen error [WinError 10053] 你的主机中的软件中止了一个已建立的连接。>\n"
     ]
    },
    {
     "name": "stderr",
     "output_type": "stream",
     "text": [
      "Processing compounds:  32%|██████████████████                                      | 1487/4599 [39:52<04:17, 12.11it/s]"
     ]
    },
    {
     "name": "stdout",
     "output_type": "stream",
     "text": [
      "Error: <urlopen error [WinError 10054] 远程主机强迫关闭了一个现有的连接。>\n",
      "Error: <urlopen error TLS/SSL connection has been closed (EOF) (_ssl.c:1131)>\n",
      "Error: <urlopen error [WinError 10053] 你的主机中的软件中止了一个已建立的连接。>\n"
     ]
    },
    {
     "name": "stderr",
     "output_type": "stream",
     "text": [
      "\r",
      "Processing compounds:  32%|██████████████████▏                                     | 1489/4599 [39:53<04:16, 12.10it/s]"
     ]
    },
    {
     "name": "stdout",
     "output_type": "stream",
     "text": [
      "Error: <urlopen error [WinError 10054] 远程主机强迫关闭了一个现有的连接。>\n",
      "Error: <urlopen error TLS/SSL connection has been closed (EOF) (_ssl.c:1131)>\n",
      "Error: <urlopen error [WinError 10054] 远程主机强迫关闭了一个现有的连接。>\n"
     ]
    },
    {
     "name": "stderr",
     "output_type": "stream",
     "text": [
      "Processing compounds:  32%|██████████████████▏                                     | 1493/4599 [39:53<04:29, 11.51it/s]"
     ]
    },
    {
     "name": "stdout",
     "output_type": "stream",
     "text": [
      "Error: <urlopen error [WinError 10053] 你的主机中的软件中止了一个已建立的连接。>\n",
      "Error: <urlopen error [WinError 10053] 你的主机中的软件中止了一个已建立的连接。>\n",
      "Error: <urlopen error [WinError 10054] 远程主机强迫关闭了一个现有的连接。>\n"
     ]
    },
    {
     "name": "stderr",
     "output_type": "stream",
     "text": [
      "\r",
      "Processing compounds:  33%|██████████████████▏                                     | 1495/4599 [39:53<04:29, 11.52it/s]"
     ]
    },
    {
     "name": "stdout",
     "output_type": "stream",
     "text": [
      "Error: <urlopen error [WinError 10053] 你的主机中的软件中止了一个已建立的连接。>\n",
      "Error: <urlopen error [WinError 10054] 远程主机强迫关闭了一个现有的连接。>\n",
      "Error: <urlopen error [WinError 10054] 远程主机强迫关闭了一个现有的连接。>\n"
     ]
    },
    {
     "name": "stderr",
     "output_type": "stream",
     "text": [
      "Processing compounds:  33%|██████████████████▎                                     | 1499/4599 [39:53<04:26, 11.62it/s]"
     ]
    },
    {
     "name": "stdout",
     "output_type": "stream",
     "text": [
      "Error: <urlopen error [WinError 10054] 远程主机强迫关闭了一个现有的连接。>\n",
      "Error: <urlopen error [WinError 10053] 你的主机中的软件中止了一个已建立的连接。>\n",
      "Error: <urlopen error [WinError 10054] 远程主机强迫关闭了一个现有的连接。>\n"
     ]
    },
    {
     "name": "stderr",
     "output_type": "stream",
     "text": [
      "\r",
      "Processing compounds:  33%|██████████████████▎                                     | 1501/4599 [39:54<04:27, 11.58it/s]"
     ]
    },
    {
     "name": "stdout",
     "output_type": "stream",
     "text": [
      "Error: <urlopen error [WinError 10054] 远程主机强迫关闭了一个现有的连接。>\n",
      "Error: <urlopen error [WinError 10054] 远程主机强迫关闭了一个现有的连接。>\n",
      "Error: <urlopen error [WinError 10053] 你的主机中的软件中止了一个已建立的连接。>\n"
     ]
    },
    {
     "name": "stderr",
     "output_type": "stream",
     "text": [
      "Processing compounds:  33%|██████████████████▎                                     | 1505/4599 [39:54<04:23, 11.73it/s]"
     ]
    },
    {
     "name": "stdout",
     "output_type": "stream",
     "text": [
      "Error: <urlopen error [WinError 10053] 你的主机中的软件中止了一个已建立的连接。>\n",
      "Error: <urlopen error [WinError 10053] 你的主机中的软件中止了一个已建立的连接。>\n",
      "Error: <urlopen error [WinError 10054] 远程主机强迫关闭了一个现有的连接。>\n"
     ]
    },
    {
     "name": "stderr",
     "output_type": "stream",
     "text": [
      "\r",
      "Processing compounds:  33%|██████████████████▎                                     | 1507/4599 [39:54<04:25, 11.65it/s]"
     ]
    },
    {
     "name": "stdout",
     "output_type": "stream",
     "text": [
      "Error: <urlopen error [WinError 10054] 远程主机强迫关闭了一个现有的连接。>\n",
      "Error: <urlopen error [WinError 10054] 远程主机强迫关闭了一个现有的连接。>\n",
      "Error: <urlopen error [WinError 10053] 你的主机中的软件中止了一个已建立的连接。>\n"
     ]
    },
    {
     "name": "stderr",
     "output_type": "stream",
     "text": [
      "\r",
      "Processing compounds:  33%|██████████████████▎                                     | 1509/4599 [39:54<04:26, 11.60it/s]"
     ]
    },
    {
     "name": "stdout",
     "output_type": "stream",
     "text": [
      "Error: <urlopen error [WinError 10054] 远程主机强迫关闭了一个现有的连接。>\n",
      "Error: <urlopen error [WinError 10054] 远程主机强迫关闭了一个现有的连接。>\n",
      "Error: <urlopen error [WinError 10054] 远程主机强迫关闭了一个现有的连接。>\n"
     ]
    },
    {
     "name": "stderr",
     "output_type": "stream",
     "text": [
      "Processing compounds:  33%|██████████████████▍                                     | 1513/4599 [39:55<04:25, 11.61it/s]"
     ]
    },
    {
     "name": "stdout",
     "output_type": "stream",
     "text": [
      "Error: <urlopen error [WinError 10054] 远程主机强迫关闭了一个现有的连接。>\n",
      "Error: <urlopen error [WinError 10054] 远程主机强迫关闭了一个现有的连接。>\n",
      "Error: <urlopen error [WinError 10053] 你的主机中的软件中止了一个已建立的连接。>\n"
     ]
    },
    {
     "name": "stderr",
     "output_type": "stream",
     "text": [
      "Processing compounds:  33%|██████████████████▍                                     | 1517/4599 [39:55<04:35, 11.20it/s]"
     ]
    },
    {
     "name": "stdout",
     "output_type": "stream",
     "text": [
      "Error: <urlopen error [WinError 10053] 你的主机中的软件中止了一个已建立的连接。>\n",
      "Error: <urlopen error [WinError 10053] 你的主机中的软件中止了一个已建立的连接。>\n",
      "Error: <urlopen error [WinError 10054] 远程主机强迫关闭了一个现有的连接。>\n"
     ]
    },
    {
     "name": "stderr",
     "output_type": "stream",
     "text": [
      "\r",
      "Processing compounds:  33%|██████████████████▍                                     | 1519/4599 [39:55<04:32, 11.28it/s]"
     ]
    },
    {
     "name": "stdout",
     "output_type": "stream",
     "text": [
      "Error: <urlopen error [WinError 10053] 你的主机中的软件中止了一个已建立的连接。>\n",
      "Error: <urlopen error [WinError 10054] 远程主机强迫关闭了一个现有的连接。>\n",
      "Error: <urlopen error [WinError 10054] 远程主机强迫关闭了一个现有的连接。>\n"
     ]
    },
    {
     "name": "stderr",
     "output_type": "stream",
     "text": [
      "Processing compounds:  33%|██████████████████▌                                     | 1523/4599 [39:55<04:27, 11.49it/s]"
     ]
    },
    {
     "name": "stdout",
     "output_type": "stream",
     "text": [
      "Error: <urlopen error [WinError 10054] 远程主机强迫关闭了一个现有的连接。>\n",
      "Error: <urlopen error [WinError 10053] 你的主机中的软件中止了一个已建立的连接。>\n",
      "Error: <urlopen error [WinError 10053] 你的主机中的软件中止了一个已建立的连接。>\n"
     ]
    },
    {
     "name": "stderr",
     "output_type": "stream",
     "text": [
      "\r",
      "Processing compounds:  33%|██████████████████▌                                     | 1525/4599 [39:56<04:30, 11.38it/s]"
     ]
    },
    {
     "name": "stdout",
     "output_type": "stream",
     "text": [
      "Error: <urlopen error TLS/SSL connection has been closed (EOF) (_ssl.c:1131)>\n",
      "Error: <urlopen error [WinError 10053] 你的主机中的软件中止了一个已建立的连接。>\n",
      "Error: <urlopen error [WinError 10053] 你的主机中的软件中止了一个已建立的连接。>\n"
     ]
    },
    {
     "name": "stderr",
     "output_type": "stream",
     "text": [
      "Processing compounds:  33%|██████████████████▌                                     | 1529/4599 [39:56<04:25, 11.56it/s]"
     ]
    },
    {
     "name": "stdout",
     "output_type": "stream",
     "text": [
      "Error: <urlopen error [WinError 10054] 远程主机强迫关闭了一个现有的连接。>\n",
      "Error: <urlopen error [WinError 10053] 你的主机中的软件中止了一个已建立的连接。>\n",
      "Error: <urlopen error [WinError 10053] 你的主机中的软件中止了一个已建立的连接。>\n"
     ]
    },
    {
     "name": "stderr",
     "output_type": "stream",
     "text": [
      "\r",
      "Processing compounds:  33%|██████████████████▋                                     | 1531/4599 [39:56<04:26, 11.52it/s]"
     ]
    },
    {
     "name": "stdout",
     "output_type": "stream",
     "text": [
      "Error: <urlopen error [WinError 10053] 你的主机中的软件中止了一个已建立的连接。>\n",
      "Error: <urlopen error [WinError 10053] 你的主机中的软件中止了一个已建立的连接。>\n",
      "Error: <urlopen error [WinError 10053] 你的主机中的软件中止了一个已建立的连接。>\n"
     ]
    },
    {
     "name": "stderr",
     "output_type": "stream",
     "text": [
      "\r",
      "Processing compounds:  33%|██████████████████▋                                     | 1533/4599 [39:56<04:21, 11.71it/s]"
     ]
    },
    {
     "name": "stdout",
     "output_type": "stream",
     "text": [
      "Error: <urlopen error [WinError 10054] 远程主机强迫关闭了一个现有的连接。>\n",
      "Error: <urlopen error [WinError 10054] 远程主机强迫关闭了一个现有的连接。>\n",
      "Error: <urlopen error [WinError 10053] 你的主机中的软件中止了一个已建立的连接。>\n"
     ]
    },
    {
     "name": "stderr",
     "output_type": "stream",
     "text": [
      "Processing compounds:  33%|██████████████████▋                                     | 1537/4599 [39:57<04:45, 10.72it/s]"
     ]
    },
    {
     "name": "stdout",
     "output_type": "stream",
     "text": [
      "Error: <urlopen error [WinError 10054] 远程主机强迫关闭了一个现有的连接。>\n",
      "Error: <urlopen error [WinError 10054] 远程主机强迫关闭了一个现有的连接。>\n",
      "Error: <urlopen error [WinError 10054] 远程主机强迫关闭了一个现有的连接。>\n"
     ]
    },
    {
     "name": "stderr",
     "output_type": "stream",
     "text": [
      "\r",
      "Processing compounds:  33%|██████████████████▋                                     | 1539/4599 [39:57<04:41, 10.89it/s]"
     ]
    },
    {
     "name": "stdout",
     "output_type": "stream",
     "text": [
      "Error: <urlopen error [WinError 10054] 远程主机强迫关闭了一个现有的连接。>\n",
      "Error: <urlopen error [WinError 10054] 远程主机强迫关闭了一个现有的连接。>\n"
     ]
    },
    {
     "name": "stderr",
     "output_type": "stream",
     "text": [
      "\r",
      "Processing compounds:  34%|██████████████████▊                                     | 1541/4599 [39:57<04:54, 10.39it/s]"
     ]
    },
    {
     "name": "stdout",
     "output_type": "stream",
     "text": [
      "Error: <urlopen error [WinError 10054] 远程主机强迫关闭了一个现有的连接。>\n",
      "Error: <urlopen error [WinError 10054] 远程主机强迫关闭了一个现有的连接。>\n"
     ]
    },
    {
     "name": "stderr",
     "output_type": "stream",
     "text": [
      "Processing compounds:  34%|██████████████████▊                                     | 1545/4599 [39:58<04:52, 10.45it/s]"
     ]
    },
    {
     "name": "stdout",
     "output_type": "stream",
     "text": [
      "Error: <urlopen error [WinError 10053] 你的主机中的软件中止了一个已建立的连接。>\n",
      "Error: <urlopen error [WinError 10054] 远程主机强迫关闭了一个现有的连接。>\n",
      "Error: <urlopen error [WinError 10054] 远程主机强迫关闭了一个现有的连接。>\n"
     ]
    },
    {
     "name": "stderr",
     "output_type": "stream",
     "text": [
      "\r",
      "Processing compounds:  34%|██████████████████▊                                     | 1547/4599 [39:58<04:47, 10.61it/s]"
     ]
    },
    {
     "name": "stdout",
     "output_type": "stream",
     "text": [
      "Error: <urlopen error [WinError 10054] 远程主机强迫关闭了一个现有的连接。>\n",
      "Error: <urlopen error [WinError 10054] 远程主机强迫关闭了一个现有的连接。>\n",
      "Error: <urlopen error [WinError 10054] 远程主机强迫关闭了一个现有的连接。>\n"
     ]
    },
    {
     "name": "stderr",
     "output_type": "stream",
     "text": [
      "Processing compounds:  34%|██████████████████▉                                     | 1551/4599 [39:58<04:33, 11.13it/s]"
     ]
    },
    {
     "name": "stdout",
     "output_type": "stream",
     "text": [
      "Error: <urlopen error [WinError 10053] 你的主机中的软件中止了一个已建立的连接。>\n",
      "Error: <urlopen error [WinError 10053] 你的主机中的软件中止了一个已建立的连接。>\n",
      "Error: <urlopen error [WinError 10054] 远程主机强迫关闭了一个现有的连接。>\n"
     ]
    },
    {
     "name": "stderr",
     "output_type": "stream",
     "text": [
      "\r",
      "Processing compounds:  34%|██████████████████▉                                     | 1553/4599 [39:58<04:29, 11.28it/s]"
     ]
    },
    {
     "name": "stdout",
     "output_type": "stream",
     "text": [
      "Error: <urlopen error [WinError 10054] 远程主机强迫关闭了一个现有的连接。>\n",
      "Error: <urlopen error [WinError 10053] 你的主机中的软件中止了一个已建立的连接。>\n",
      "Error: <urlopen error [WinError 10054] 远程主机强迫关闭了一个现有的连接。>\n"
     ]
    },
    {
     "name": "stderr",
     "output_type": "stream",
     "text": [
      "Processing compounds:  34%|██████████████████▉                                     | 1557/4599 [39:59<04:29, 11.29it/s]"
     ]
    },
    {
     "name": "stdout",
     "output_type": "stream",
     "text": [
      "Error: <urlopen error [WinError 10054] 远程主机强迫关闭了一个现有的连接。>\n",
      "Error: <urlopen error [WinError 10054] 远程主机强迫关闭了一个现有的连接。>\n",
      "Error: <urlopen error [WinError 10053] 你的主机中的软件中止了一个已建立的连接。>\n"
     ]
    },
    {
     "name": "stderr",
     "output_type": "stream",
     "text": [
      "\r",
      "Processing compounds:  34%|██████████████████▉                                     | 1559/4599 [39:59<04:24, 11.49it/s]"
     ]
    },
    {
     "name": "stdout",
     "output_type": "stream",
     "text": [
      "Error: <urlopen error [WinError 10054] 远程主机强迫关闭了一个现有的连接。>\n",
      "Error: <urlopen error [WinError 10054] 远程主机强迫关闭了一个现有的连接。>\n",
      "Error: <urlopen error [WinError 10053] 你的主机中的软件中止了一个已建立的连接。>\n"
     ]
    },
    {
     "name": "stderr",
     "output_type": "stream",
     "text": [
      "Processing compounds:  34%|███████████████████                                     | 1563/4599 [39:59<04:23, 11.52it/s]"
     ]
    },
    {
     "name": "stdout",
     "output_type": "stream",
     "text": [
      "Error: <urlopen error [WinError 10054] 远程主机强迫关闭了一个现有的连接。>\n",
      "Error: <urlopen error [WinError 10054] 远程主机强迫关闭了一个现有的连接。>\n",
      "Error: <urlopen error [WinError 10053] 你的主机中的软件中止了一个已建立的连接。>\n"
     ]
    },
    {
     "name": "stderr",
     "output_type": "stream",
     "text": [
      "\r",
      "Processing compounds:  34%|███████████████████                                     | 1565/4599 [39:59<04:25, 11.43it/s]"
     ]
    },
    {
     "name": "stdout",
     "output_type": "stream",
     "text": [
      "Error: <urlopen error [WinError 10053] 你的主机中的软件中止了一个已建立的连接。>\n",
      "Error: <urlopen error [WinError 10053] 你的主机中的软件中止了一个已建立的连接。>\n",
      "Error: <urlopen error [WinError 10053] 你的主机中的软件中止了一个已建立的连接。>\n"
     ]
    },
    {
     "name": "stderr",
     "output_type": "stream",
     "text": [
      "Processing compounds:  34%|███████████████████                                     | 1569/4599 [40:00<04:45, 10.62it/s]"
     ]
    },
    {
     "name": "stdout",
     "output_type": "stream",
     "text": [
      "Error: <urlopen error [WinError 10054] 远程主机强迫关闭了一个现有的连接。>\n",
      "Error: <urlopen error [WinError 10054] 远程主机强迫关闭了一个现有的连接。>\n",
      "Error: <urlopen error [WinError 10054] 远程主机强迫关闭了一个现有的连接。>\n"
     ]
    },
    {
     "name": "stderr",
     "output_type": "stream",
     "text": [
      "\r",
      "Processing compounds:  34%|███████████████████▏                                    | 1571/4599 [40:00<04:39, 10.85it/s]"
     ]
    },
    {
     "name": "stdout",
     "output_type": "stream",
     "text": [
      "Error: <urlopen error [WinError 10054] 远程主机强迫关闭了一个现有的连接。>\n",
      "Error: <urlopen error [WinError 10053] 你的主机中的软件中止了一个已建立的连接。>\n",
      "Error: <urlopen error [WinError 10053] 你的主机中的软件中止了一个已建立的连接。>\n"
     ]
    },
    {
     "name": "stderr",
     "output_type": "stream",
     "text": [
      "Processing compounds:  34%|███████████████████▏                                    | 1575/4599 [40:00<04:25, 11.39it/s]"
     ]
    },
    {
     "name": "stdout",
     "output_type": "stream",
     "text": [
      "Error: <urlopen error [WinError 10054] 远程主机强迫关闭了一个现有的连接。>\n",
      "Error: <urlopen error [WinError 10053] 你的主机中的软件中止了一个已建立的连接。>\n",
      "Error: <urlopen error [WinError 10053] 你的主机中的软件中止了一个已建立的连接。>\n"
     ]
    },
    {
     "name": "stderr",
     "output_type": "stream",
     "text": [
      "\r",
      "Processing compounds:  34%|███████████████████▏                                    | 1577/4599 [40:00<04:22, 11.50it/s]"
     ]
    },
    {
     "name": "stdout",
     "output_type": "stream",
     "text": [
      "Error: <urlopen error [WinError 10054] 远程主机强迫关闭了一个现有的连接。>\n",
      "Error: <urlopen error [WinError 10053] 你的主机中的软件中止了一个已建立的连接。>\n",
      "Error: <urlopen error TLS/SSL connection has been closed (EOF) (_ssl.c:1131)>\n"
     ]
    },
    {
     "name": "stderr",
     "output_type": "stream",
     "text": [
      "Processing compounds:  34%|███████████████████▎                                    | 1581/4599 [40:01<04:18, 11.69it/s]"
     ]
    },
    {
     "name": "stdout",
     "output_type": "stream",
     "text": [
      "Error: <urlopen error [WinError 10054] 远程主机强迫关闭了一个现有的连接。>\n",
      "Error: <urlopen error [WinError 10053] 你的主机中的软件中止了一个已建立的连接。>\n",
      "Error: <urlopen error [WinError 10053] 你的主机中的软件中止了一个已建立的连接。>\n"
     ]
    },
    {
     "name": "stderr",
     "output_type": "stream",
     "text": [
      "\r",
      "Processing compounds:  34%|███████████████████▎                                    | 1583/4599 [40:01<04:30, 11.17it/s]"
     ]
    },
    {
     "name": "stdout",
     "output_type": "stream",
     "text": [
      "Error: <urlopen error [WinError 10054] 远程主机强迫关闭了一个现有的连接。>\n",
      "Error: <urlopen error [WinError 10053] 你的主机中的软件中止了一个已建立的连接。>\n",
      "Error: <urlopen error [WinError 10053] 你的主机中的软件中止了一个已建立的连接。>\n"
     ]
    },
    {
     "name": "stderr",
     "output_type": "stream",
     "text": [
      "Processing compounds:  35%|███████████████████▎                                    | 1587/4599 [40:01<04:30, 11.13it/s]"
     ]
    },
    {
     "name": "stdout",
     "output_type": "stream",
     "text": [
      "Error: <urlopen error [WinError 10054] 远程主机强迫关闭了一个现有的连接。>\n",
      "Error: <urlopen error [WinError 10054] 远程主机强迫关闭了一个现有的连接。>\n",
      "Error: <urlopen error [WinError 10054] 远程主机强迫关闭了一个现有的连接。>\n"
     ]
    },
    {
     "name": "stderr",
     "output_type": "stream",
     "text": [
      "\r",
      "Processing compounds:  35%|███████████████████▎                                    | 1589/4599 [40:01<04:32, 11.05it/s]"
     ]
    },
    {
     "name": "stdout",
     "output_type": "stream",
     "text": [
      "Error: <urlopen error [WinError 10054] 远程主机强迫关闭了一个现有的连接。>\n",
      "Error: <urlopen error [WinError 10053] 你的主机中的软件中止了一个已建立的连接。>\n",
      "Error: <urlopen error [WinError 10054] 远程主机强迫关闭了一个现有的连接。>\n"
     ]
    },
    {
     "name": "stderr",
     "output_type": "stream",
     "text": [
      "Processing compounds:  35%|███████████████████▍                                    | 1593/4599 [40:02<04:24, 11.37it/s]"
     ]
    },
    {
     "name": "stdout",
     "output_type": "stream",
     "text": [
      "Error: <urlopen error [WinError 10054] 远程主机强迫关闭了一个现有的连接。>\n",
      "Error: <urlopen error [WinError 10053] 你的主机中的软件中止了一个已建立的连接。>\n",
      "Error: <urlopen error [WinError 10054] 远程主机强迫关闭了一个现有的连接。>\n"
     ]
    },
    {
     "name": "stderr",
     "output_type": "stream",
     "text": [
      "\r",
      "Processing compounds:  35%|███████████████████▍                                    | 1595/4599 [40:02<04:20, 11.51it/s]"
     ]
    },
    {
     "name": "stdout",
     "output_type": "stream",
     "text": [
      "Error: <urlopen error [WinError 10054] 远程主机强迫关闭了一个现有的连接。>\n",
      "Error: <urlopen error TLS/SSL connection has been closed (EOF) (_ssl.c:1131)>\n",
      "Error: <urlopen error [WinError 10053] 你的主机中的软件中止了一个已建立的连接。>\n"
     ]
    },
    {
     "name": "stderr",
     "output_type": "stream",
     "text": [
      "Processing compounds:  35%|███████████████████▍                                    | 1599/4599 [40:02<04:24, 11.36it/s]"
     ]
    },
    {
     "name": "stdout",
     "output_type": "stream",
     "text": [
      "Error: <urlopen error [WinError 10054] 远程主机强迫关闭了一个现有的连接。>\n",
      "Error: <urlopen error [WinError 10054] 远程主机强迫关闭了一个现有的连接。>\n",
      "Error: <urlopen error [WinError 10054] 远程主机强迫关闭了一个现有的连接。>\n"
     ]
    },
    {
     "name": "stderr",
     "output_type": "stream",
     "text": [
      "\r",
      "Processing compounds:  35%|███████████████████▍                                    | 1601/4599 [40:02<04:19, 11.56it/s]"
     ]
    },
    {
     "name": "stdout",
     "output_type": "stream",
     "text": [
      "Error: <urlopen error [WinError 10054] 远程主机强迫关闭了一个现有的连接。>\n",
      "Error: <urlopen error [WinError 10053] 你的主机中的软件中止了一个已建立的连接。>\n",
      "Error: <urlopen error [WinError 10053] 你的主机中的软件中止了一个已建立的连接。>\n"
     ]
    },
    {
     "name": "stderr",
     "output_type": "stream",
     "text": [
      "Processing compounds:  35%|███████████████████▌                                    | 1605/4599 [40:03<04:21, 11.43it/s]"
     ]
    },
    {
     "name": "stdout",
     "output_type": "stream",
     "text": [
      "Error: <urlopen error [WinError 10054] 远程主机强迫关闭了一个现有的连接。>\n",
      "Error: <urlopen error [WinError 10054] 远程主机强迫关闭了一个现有的连接。>\n",
      "Error: <urlopen error [WinError 10054] 远程主机强迫关闭了一个现有的连接。>\n"
     ]
    },
    {
     "name": "stderr",
     "output_type": "stream",
     "text": [
      "\r",
      "Processing compounds:  35%|███████████████████▌                                    | 1607/4599 [40:03<04:18, 11.57it/s]"
     ]
    },
    {
     "name": "stdout",
     "output_type": "stream",
     "text": [
      "Error: <urlopen error [WinError 10053] 你的主机中的软件中止了一个已建立的连接。>\n",
      "Error: <urlopen error [WinError 10054] 远程主机强迫关闭了一个现有的连接。>\n",
      "Error: <urlopen error [WinError 10054] 远程主机强迫关闭了一个现有的连接。>\n"
     ]
    },
    {
     "name": "stderr",
     "output_type": "stream",
     "text": [
      "Processing compounds:  35%|███████████████████▌                                    | 1611/4599 [40:03<04:17, 11.60it/s]"
     ]
    },
    {
     "name": "stdout",
     "output_type": "stream",
     "text": [
      "Error: <urlopen error [WinError 10054] 远程主机强迫关闭了一个现有的连接。>\n",
      "Error: <urlopen error TLS/SSL connection has been closed (EOF) (_ssl.c:1131)>\n",
      "Error: <urlopen error [WinError 10053] 你的主机中的软件中止了一个已建立的连接。>\n"
     ]
    },
    {
     "name": "stderr",
     "output_type": "stream",
     "text": [
      "\r",
      "Processing compounds:  35%|███████████████████▋                                    | 1613/4599 [40:03<04:16, 11.62it/s]"
     ]
    },
    {
     "name": "stdout",
     "output_type": "stream",
     "text": [
      "Error: <urlopen error [WinError 10054] 远程主机强迫关闭了一个现有的连接。>\n",
      "Error: <urlopen error [WinError 10053] 你的主机中的软件中止了一个已建立的连接。>\n",
      "Error: <urlopen error [WinError 10054] 远程主机强迫关闭了一个现有的连接。>\n"
     ]
    },
    {
     "name": "stderr",
     "output_type": "stream",
     "text": [
      "Processing compounds:  35%|███████████████████▋                                    | 1617/4599 [40:04<04:15, 11.68it/s]"
     ]
    },
    {
     "name": "stdout",
     "output_type": "stream",
     "text": [
      "Error: <urlopen error [WinError 10053] 你的主机中的软件中止了一个已建立的连接。>\n",
      "Error: <urlopen error [WinError 10053] 你的主机中的软件中止了一个已建立的连接。>\n",
      "Error: <urlopen error [WinError 10054] 远程主机强迫关闭了一个现有的连接。>\n"
     ]
    },
    {
     "name": "stderr",
     "output_type": "stream",
     "text": [
      "\r",
      "Processing compounds:  35%|███████████████████▋                                    | 1619/4599 [40:04<04:19, 11.51it/s]"
     ]
    },
    {
     "name": "stdout",
     "output_type": "stream",
     "text": [
      "Error: <urlopen error [WinError 10054] 远程主机强迫关闭了一个现有的连接。>\n",
      "Error: <urlopen error [WinError 10053] 你的主机中的软件中止了一个已建立的连接。>\n",
      "Error: <urlopen error [WinError 10053] 你的主机中的软件中止了一个已建立的连接。>\n"
     ]
    },
    {
     "name": "stderr",
     "output_type": "stream",
     "text": [
      "Processing compounds:  35%|███████████████████▊                                    | 1623/4599 [40:04<04:18, 11.51it/s]"
     ]
    },
    {
     "name": "stdout",
     "output_type": "stream",
     "text": [
      "Error: <urlopen error [WinError 10054] 远程主机强迫关闭了一个现有的连接。>\n",
      "Error: <urlopen error [WinError 10054] 远程主机强迫关闭了一个现有的连接。>\n",
      "Error: <urlopen error [WinError 10053] 你的主机中的软件中止了一个已建立的连接。>\n"
     ]
    },
    {
     "name": "stderr",
     "output_type": "stream",
     "text": [
      "\r",
      "Processing compounds:  35%|███████████████████▊                                    | 1625/4599 [40:05<04:18, 11.50it/s]"
     ]
    },
    {
     "name": "stdout",
     "output_type": "stream",
     "text": [
      "Error: <urlopen error [WinError 10054] 远程主机强迫关闭了一个现有的连接。>\n",
      "Error: <urlopen error [WinError 10054] 远程主机强迫关闭了一个现有的连接。>\n",
      "Error: <urlopen error [WinError 10054] 远程主机强迫关闭了一个现有的连接。>\n"
     ]
    },
    {
     "name": "stderr",
     "output_type": "stream",
     "text": [
      "Processing compounds:  35%|███████████████████▊                                    | 1629/4599 [40:05<04:13, 11.70it/s]"
     ]
    },
    {
     "name": "stdout",
     "output_type": "stream",
     "text": [
      "Error: <urlopen error [WinError 10054] 远程主机强迫关闭了一个现有的连接。>\n",
      "Error: <urlopen error [WinError 10054] 远程主机强迫关闭了一个现有的连接。>\n",
      "Error: <urlopen error [WinError 10054] 远程主机强迫关闭了一个现有的连接。>\n"
     ]
    },
    {
     "name": "stderr",
     "output_type": "stream",
     "text": [
      "\r",
      "Processing compounds:  35%|███████████████████▊                                    | 1631/4599 [40:05<04:12, 11.75it/s]"
     ]
    },
    {
     "name": "stdout",
     "output_type": "stream",
     "text": [
      "Error: <urlopen error [WinError 10053] 你的主机中的软件中止了一个已建立的连接。>\n",
      "Error: <urlopen error TLS/SSL connection has been closed (EOF) (_ssl.c:1131)>\n",
      "Error: <urlopen error [WinError 10053] 你的主机中的软件中止了一个已建立的连接。>\n"
     ]
    },
    {
     "name": "stderr",
     "output_type": "stream",
     "text": [
      "Processing compounds:  36%|███████████████████▉                                    | 1635/4599 [40:05<04:13, 11.67it/s]"
     ]
    },
    {
     "name": "stdout",
     "output_type": "stream",
     "text": [
      "Error: <urlopen error [WinError 10054] 远程主机强迫关闭了一个现有的连接。>\n",
      "Error: <urlopen error [WinError 10054] 远程主机强迫关闭了一个现有的连接。>\n",
      "Error: <urlopen error [WinError 10054] 远程主机强迫关闭了一个现有的连接。>\n"
     ]
    },
    {
     "name": "stderr",
     "output_type": "stream",
     "text": [
      "\r",
      "Processing compounds:  36%|███████████████████▉                                    | 1637/4599 [40:06<04:20, 11.38it/s]"
     ]
    },
    {
     "name": "stdout",
     "output_type": "stream",
     "text": [
      "Error: <urlopen error [WinError 10054] 远程主机强迫关闭了一个现有的连接。>\n",
      "Error: <urlopen error [WinError 10053] 你的主机中的软件中止了一个已建立的连接。>\n",
      "Error: <urlopen error [WinError 10053] 你的主机中的软件中止了一个已建立的连接。>\n"
     ]
    },
    {
     "name": "stderr",
     "output_type": "stream",
     "text": [
      "Processing compounds:  36%|███████████████████▉                                    | 1641/4599 [40:06<04:16, 11.54it/s]"
     ]
    },
    {
     "name": "stdout",
     "output_type": "stream",
     "text": [
      "Error: <urlopen error [WinError 10054] 远程主机强迫关闭了一个现有的连接。>\n",
      "Error: <urlopen error [WinError 10054] 远程主机强迫关闭了一个现有的连接。>\n",
      "Error: <urlopen error [WinError 10053] 你的主机中的软件中止了一个已建立的连接。>\n"
     ]
    },
    {
     "name": "stderr",
     "output_type": "stream",
     "text": [
      "\r",
      "Processing compounds:  36%|████████████████████                                    | 1643/4599 [40:06<04:14, 11.63it/s]"
     ]
    },
    {
     "name": "stdout",
     "output_type": "stream",
     "text": [
      "Error: <urlopen error [WinError 10054] 远程主机强迫关闭了一个现有的连接。>\n",
      "Error: <urlopen error [WinError 10054] 远程主机强迫关闭了一个现有的连接。>\n",
      "Error: <urlopen error [WinError 10054] 远程主机强迫关闭了一个现有的连接。>\n"
     ]
    },
    {
     "name": "stderr",
     "output_type": "stream",
     "text": [
      "Processing compounds:  36%|████████████████████                                    | 1647/4599 [40:06<04:06, 11.96it/s]"
     ]
    },
    {
     "name": "stdout",
     "output_type": "stream",
     "text": [
      "Error: <urlopen error [WinError 10054] 远程主机强迫关闭了一个现有的连接。>\n",
      "Error: <urlopen error [WinError 10054] 远程主机强迫关闭了一个现有的连接。>\n",
      "Error: <urlopen error [WinError 10053] 你的主机中的软件中止了一个已建立的连接。>\n"
     ]
    },
    {
     "name": "stderr",
     "output_type": "stream",
     "text": [
      "\r",
      "Processing compounds:  36%|████████████████████                                    | 1649/4599 [40:07<04:08, 11.86it/s]"
     ]
    },
    {
     "name": "stdout",
     "output_type": "stream",
     "text": [
      "Error: <urlopen error [WinError 10054] 远程主机强迫关闭了一个现有的连接。>\n",
      "Error: <urlopen error [WinError 10054] 远程主机强迫关闭了一个现有的连接。>\n",
      "Error: <urlopen error [WinError 10054] 远程主机强迫关闭了一个现有的连接。>\n"
     ]
    },
    {
     "name": "stderr",
     "output_type": "stream",
     "text": [
      "Processing compounds:  36%|████████████████████▏                                   | 1653/4599 [40:07<04:32, 10.82it/s]"
     ]
    },
    {
     "name": "stdout",
     "output_type": "stream",
     "text": [
      "Error: <urlopen error [WinError 10054] 远程主机强迫关闭了一个现有的连接。>\n",
      "Error: <urlopen error [WinError 10053] 你的主机中的软件中止了一个已建立的连接。>\n",
      "Error: <urlopen error [WinError 10053] 你的主机中的软件中止了一个已建立的连接。>\n"
     ]
    },
    {
     "name": "stderr",
     "output_type": "stream",
     "text": [
      "\r",
      "Processing compounds:  36%|████████████████████▏                                   | 1655/4599 [40:07<04:25, 11.11it/s]"
     ]
    },
    {
     "name": "stdout",
     "output_type": "stream",
     "text": [
      "Error: <urlopen error [WinError 10054] 远程主机强迫关闭了一个现有的连接。>\n",
      "Error: <urlopen error [WinError 10054] 远程主机强迫关闭了一个现有的连接。>\n",
      "Error: <urlopen error [WinError 10054] 远程主机强迫关闭了一个现有的连接。>\n"
     ]
    },
    {
     "name": "stderr",
     "output_type": "stream",
     "text": [
      "Processing compounds:  36%|████████████████████▏                                   | 1659/4599 [40:07<04:21, 11.26it/s]"
     ]
    },
    {
     "name": "stdout",
     "output_type": "stream",
     "text": [
      "Error: <urlopen error [WinError 10054] 远程主机强迫关闭了一个现有的连接。>\n",
      "Error: <urlopen error [WinError 10054] 远程主机强迫关闭了一个现有的连接。>\n",
      "Error: <urlopen error [WinError 10054] 远程主机强迫关闭了一个现有的连接。>\n"
     ]
    },
    {
     "name": "stderr",
     "output_type": "stream",
     "text": [
      "\r",
      "Processing compounds:  36%|████████████████████▏                                   | 1661/4599 [40:08<04:18, 11.37it/s]"
     ]
    },
    {
     "name": "stdout",
     "output_type": "stream",
     "text": [
      "Error: <urlopen error [WinError 10054] 远程主机强迫关闭了一个现有的连接。>\n",
      "Error: <urlopen error [WinError 10054] 远程主机强迫关闭了一个现有的连接。>\n",
      "Error: <urlopen error [WinError 10054] 远程主机强迫关闭了一个现有的连接。>\n"
     ]
    },
    {
     "name": "stderr",
     "output_type": "stream",
     "text": [
      "Processing compounds:  36%|████████████████████▎                                   | 1665/4599 [40:08<04:06, 11.89it/s]"
     ]
    },
    {
     "name": "stdout",
     "output_type": "stream",
     "text": [
      "Error: <urlopen error [WinError 10054] 远程主机强迫关闭了一个现有的连接。>\n",
      "Error: <urlopen error [WinError 10054] 远程主机强迫关闭了一个现有的连接。>\n",
      "Error: <urlopen error [WinError 10053] 你的主机中的软件中止了一个已建立的连接。>\n"
     ]
    },
    {
     "name": "stderr",
     "output_type": "stream",
     "text": [
      "\r",
      "Processing compounds:  36%|████████████████████▎                                   | 1667/4599 [40:08<04:28, 10.92it/s]"
     ]
    },
    {
     "name": "stdout",
     "output_type": "stream",
     "text": [
      "Error: <urlopen error [WinError 10053] 你的主机中的软件中止了一个已建立的连接。>\n",
      "Error: <urlopen error [WinError 10053] 你的主机中的软件中止了一个已建立的连接。>\n"
     ]
    },
    {
     "name": "stderr",
     "output_type": "stream",
     "text": [
      "\r",
      "Processing compounds:  36%|████████████████████▎                                   | 1669/4599 [40:08<04:46, 10.23it/s]"
     ]
    },
    {
     "name": "stdout",
     "output_type": "stream",
     "text": [
      "Error: <urlopen error [WinError 10054] 远程主机强迫关闭了一个现有的连接。>\n",
      "Error: <urlopen error [WinError 10054] 远程主机强迫关闭了一个现有的连接。>\n"
     ]
    },
    {
     "name": "stderr",
     "output_type": "stream",
     "text": [
      "\r",
      "Processing compounds:  36%|████████████████████▎                                   | 1671/4599 [40:09<05:37,  8.69it/s]"
     ]
    },
    {
     "name": "stdout",
     "output_type": "stream",
     "text": [
      "Error: <urlopen error [WinError 10054] 远程主机强迫关闭了一个现有的连接。>\n",
      "Error: <urlopen error [WinError 10054] 远程主机强迫关闭了一个现有的连接。>\n"
     ]
    },
    {
     "name": "stderr",
     "output_type": "stream",
     "text": [
      "Processing compounds:  36%|████████████████████▎                                   | 1673/4599 [40:09<05:40,  8.60it/s]"
     ]
    },
    {
     "name": "stdout",
     "output_type": "stream",
     "text": [
      "Error: <urlopen error [WinError 10054] 远程主机强迫关闭了一个现有的连接。>\n",
      "Error: <urlopen error [WinError 10053] 你的主机中的软件中止了一个已建立的连接。>\n"
     ]
    },
    {
     "name": "stderr",
     "output_type": "stream",
     "text": [
      "Processing compounds:  36%|████████████████████▍                                   | 1676/4599 [40:09<05:08,  9.46it/s]"
     ]
    },
    {
     "name": "stdout",
     "output_type": "stream",
     "text": [
      "Error: <urlopen error [WinError 10054] 远程主机强迫关闭了一个现有的连接。>\n",
      "Error: <urlopen error TLS/SSL connection has been closed (EOF) (_ssl.c:1131)>\n",
      "Error: <urlopen error [WinError 10053] 你的主机中的软件中止了一个已建立的连接。>\n"
     ]
    },
    {
     "name": "stderr",
     "output_type": "stream",
     "text": [
      "\r",
      "Processing compounds:  36%|████████████████████▍                                   | 1678/4599 [40:09<04:45, 10.22it/s]"
     ]
    },
    {
     "name": "stdout",
     "output_type": "stream",
     "text": [
      "Error: <urlopen error [WinError 10054] 远程主机强迫关闭了一个现有的连接。>\n",
      "Error: <urlopen error [WinError 10053] 你的主机中的软件中止了一个已建立的连接。>\n",
      "Error: <urlopen error [WinError 10054] 远程主机强迫关闭了一个现有的连接。>\n"
     ]
    },
    {
     "name": "stderr",
     "output_type": "stream",
     "text": [
      "Processing compounds:  37%|████████████████████▍                                   | 1682/4599 [40:10<04:22, 11.11it/s]"
     ]
    },
    {
     "name": "stdout",
     "output_type": "stream",
     "text": [
      "Error: <urlopen error [WinError 10053] 你的主机中的软件中止了一个已建立的连接。>\n",
      "Error: <urlopen error [WinError 10054] 远程主机强迫关闭了一个现有的连接。>\n",
      "Error: <urlopen error [WinError 10054] 远程主机强迫关闭了一个现有的连接。>\n"
     ]
    },
    {
     "name": "stderr",
     "output_type": "stream",
     "text": [
      "\r",
      "Processing compounds:  37%|████████████████████▌                                   | 1684/4599 [40:10<04:15, 11.42it/s]"
     ]
    },
    {
     "name": "stdout",
     "output_type": "stream",
     "text": [
      "Error: <urlopen error [WinError 10054] 远程主机强迫关闭了一个现有的连接。>\n",
      "Error: <urlopen error [WinError 10054] 远程主机强迫关闭了一个现有的连接。>\n",
      "Error: <urlopen error [WinError 10053] 你的主机中的软件中止了一个已建立的连接。>\n"
     ]
    },
    {
     "name": "stderr",
     "output_type": "stream",
     "text": [
      "Processing compounds:  37%|████████████████████▌                                   | 1688/4599 [40:10<04:13, 11.49it/s]"
     ]
    },
    {
     "name": "stdout",
     "output_type": "stream",
     "text": [
      "Error: <urlopen error [WinError 10053] 你的主机中的软件中止了一个已建立的连接。>\n",
      "Error: <urlopen error [WinError 10054] 远程主机强迫关闭了一个现有的连接。>\n",
      "Error: <urlopen error [WinError 10054] 远程主机强迫关闭了一个现有的连接。>\n"
     ]
    },
    {
     "name": "stderr",
     "output_type": "stream",
     "text": [
      "\r",
      "Processing compounds:  37%|████████████████████▌                                   | 1690/4599 [40:10<04:09, 11.65it/s]"
     ]
    },
    {
     "name": "stdout",
     "output_type": "stream",
     "text": [
      "Error: <urlopen error [WinError 10054] 远程主机强迫关闭了一个现有的连接。>\n",
      "Error: <urlopen error [WinError 10053] 你的主机中的软件中止了一个已建立的连接。>\n",
      "Error: <urlopen error [WinError 10053] 你的主机中的软件中止了一个已建立的连接。>\n"
     ]
    },
    {
     "name": "stderr",
     "output_type": "stream",
     "text": [
      "Processing compounds:  37%|████████████████████▋                                   | 1694/4599 [40:11<04:10, 11.60it/s]"
     ]
    },
    {
     "name": "stdout",
     "output_type": "stream",
     "text": [
      "Error: <urlopen error [WinError 10054] 远程主机强迫关闭了一个现有的连接。>\n",
      "Error: <urlopen error [WinError 10053] 你的主机中的软件中止了一个已建立的连接。>\n",
      "Error: <urlopen error [WinError 10053] 你的主机中的软件中止了一个已建立的连接。>\n"
     ]
    },
    {
     "name": "stderr",
     "output_type": "stream",
     "text": [
      "\r",
      "Processing compounds:  37%|████████████████████▋                                   | 1696/4599 [40:11<04:09, 11.62it/s]"
     ]
    },
    {
     "name": "stdout",
     "output_type": "stream",
     "text": [
      "Error: <urlopen error [WinError 10053] 你的主机中的软件中止了一个已建立的连接。>\n",
      "Error: <urlopen error [WinError 10053] 你的主机中的软件中止了一个已建立的连接。>\n",
      "Error: <urlopen error [WinError 10054] 远程主机强迫关闭了一个现有的连接。>\n"
     ]
    },
    {
     "name": "stderr",
     "output_type": "stream",
     "text": [
      "Processing compounds:  37%|████████████████████▋                                   | 1700/4599 [40:11<04:16, 11.30it/s]"
     ]
    },
    {
     "name": "stdout",
     "output_type": "stream",
     "text": [
      "Error: <urlopen error [WinError 10054] 远程主机强迫关闭了一个现有的连接。>\n",
      "Error: <urlopen error [WinError 10053] 你的主机中的软件中止了一个已建立的连接。>\n",
      "Error: <urlopen error [WinError 10053] 你的主机中的软件中止了一个已建立的连接。>\n"
     ]
    },
    {
     "name": "stderr",
     "output_type": "stream",
     "text": [
      "\r",
      "Processing compounds:  37%|████████████████████▋                                   | 1702/4599 [40:12<04:35, 10.52it/s]"
     ]
    },
    {
     "name": "stdout",
     "output_type": "stream",
     "text": [
      "Error: <urlopen error [WinError 10053] 你的主机中的软件中止了一个已建立的连接。>\n",
      "Error: <urlopen error [WinError 10053] 你的主机中的软件中止了一个已建立的连接。>\n"
     ]
    },
    {
     "name": "stderr",
     "output_type": "stream",
     "text": [
      "\r",
      "Processing compounds:  37%|████████████████████▋                                   | 1704/4599 [40:12<04:27, 10.83it/s]"
     ]
    },
    {
     "name": "stdout",
     "output_type": "stream",
     "text": [
      "Error: <urlopen error [WinError 10054] 远程主机强迫关闭了一个现有的连接。>\n",
      "Error: <urlopen error [WinError 10054] 远程主机强迫关闭了一个现有的连接。>\n",
      "Error: <urlopen error [WinError 10053] 你的主机中的软件中止了一个已建立的连接。>\n"
     ]
    },
    {
     "name": "stderr",
     "output_type": "stream",
     "text": [
      "Processing compounds:  37%|████████████████████▊                                   | 1708/4599 [40:12<04:23, 10.96it/s]"
     ]
    },
    {
     "name": "stdout",
     "output_type": "stream",
     "text": [
      "Error: <urlopen error [WinError 10054] 远程主机强迫关闭了一个现有的连接。>\n",
      "Error: <urlopen error [WinError 10054] 远程主机强迫关闭了一个现有的连接。>\n",
      "Error: <urlopen error [WinError 10054] 远程主机强迫关闭了一个现有的连接。>\n"
     ]
    },
    {
     "name": "stderr",
     "output_type": "stream",
     "text": [
      "\r",
      "Processing compounds:  37%|████████████████████▊                                   | 1710/4599 [40:12<04:39, 10.35it/s]"
     ]
    },
    {
     "name": "stdout",
     "output_type": "stream",
     "text": [
      "Error: <urlopen error [WinError 10053] 你的主机中的软件中止了一个已建立的连接。>\n",
      "Error: <urlopen error [WinError 10054] 远程主机强迫关闭了一个现有的连接。>\n"
     ]
    },
    {
     "name": "stderr",
     "output_type": "stream",
     "text": [
      "\r",
      "Processing compounds:  37%|████████████████████▊                                   | 1712/4599 [40:13<05:26,  8.85it/s]"
     ]
    },
    {
     "name": "stdout",
     "output_type": "stream",
     "text": [
      "Error: <urlopen error [WinError 10054] 远程主机强迫关闭了一个现有的连接。>\n",
      "Error: <urlopen error TLS/SSL connection has been closed (EOF) (_ssl.c:1131)>\n"
     ]
    },
    {
     "name": "stderr",
     "output_type": "stream",
     "text": [
      "Processing compounds:  37%|████████████████████▊                                   | 1714/4599 [40:13<05:39,  8.50it/s]"
     ]
    },
    {
     "name": "stdout",
     "output_type": "stream",
     "text": [
      "Error: <urlopen error [WinError 10054] 远程主机强迫关闭了一个现有的连接。>\n",
      "Error: <urlopen error [WinError 10054] 远程主机强迫关闭了一个现有的连接。>\n"
     ]
    },
    {
     "name": "stderr",
     "output_type": "stream",
     "text": [
      "Processing compounds:  37%|████████████████████▉                                   | 1717/4599 [40:13<05:15,  9.15it/s]"
     ]
    },
    {
     "name": "stdout",
     "output_type": "stream",
     "text": [
      "Error: <urlopen error [WinError 10054] 远程主机强迫关闭了一个现有的连接。>\n",
      "Error: <urlopen error [WinError 10053] 你的主机中的软件中止了一个已建立的连接。>\n",
      "Error: <urlopen error [WinError 10054] 远程主机强迫关闭了一个现有的连接。>\n"
     ]
    },
    {
     "name": "stderr",
     "output_type": "stream",
     "text": [
      "\r",
      "Processing compounds:  37%|████████████████████▉                                   | 1719/4599 [40:13<05:02,  9.51it/s]"
     ]
    },
    {
     "name": "stdout",
     "output_type": "stream",
     "text": [
      "Error: <urlopen error [WinError 10054] 远程主机强迫关闭了一个现有的连接。>\n",
      "Error: <urlopen error [WinError 10054] 远程主机强迫关闭了一个现有的连接。>\n",
      "Error: <urlopen error [WinError 10054] 远程主机强迫关闭了一个现有的连接。>\n"
     ]
    },
    {
     "name": "stderr",
     "output_type": "stream",
     "text": [
      "Processing compounds:  37%|████████████████████▉                                   | 1723/4599 [40:14<04:33, 10.53it/s]"
     ]
    },
    {
     "name": "stdout",
     "output_type": "stream",
     "text": [
      "Error: <urlopen error [WinError 10053] 你的主机中的软件中止了一个已建立的连接。>\n",
      "Error: <urlopen error [WinError 10053] 你的主机中的软件中止了一个已建立的连接。>\n",
      "Error: <urlopen error [WinError 10053] 你的主机中的软件中止了一个已建立的连接。>\n"
     ]
    },
    {
     "name": "stderr",
     "output_type": "stream",
     "text": [
      "\r",
      "Processing compounds:  38%|█████████████████████                                   | 1725/4599 [40:14<04:25, 10.81it/s]"
     ]
    },
    {
     "name": "stdout",
     "output_type": "stream",
     "text": [
      "Error: <urlopen error [WinError 10053] 你的主机中的软件中止了一个已建立的连接。>\n",
      "Error: <urlopen error [WinError 10053] 你的主机中的软件中止了一个已建立的连接。>\n",
      "Error: <urlopen error [WinError 10054] 远程主机强迫关闭了一个现有的连接。>\n"
     ]
    },
    {
     "name": "stderr",
     "output_type": "stream",
     "text": [
      "Processing compounds:  38%|█████████████████████                                   | 1729/4599 [40:14<04:16, 11.20it/s]"
     ]
    },
    {
     "name": "stdout",
     "output_type": "stream",
     "text": [
      "Error: <urlopen error [WinError 10054] 远程主机强迫关闭了一个现有的连接。>\n",
      "Error: <urlopen error [WinError 10054] 远程主机强迫关闭了一个现有的连接。>\n",
      "Error: <urlopen error [WinError 10053] 你的主机中的软件中止了一个已建立的连接。>\n"
     ]
    },
    {
     "name": "stderr",
     "output_type": "stream",
     "text": [
      "\r",
      "Processing compounds:  38%|█████████████████████                                   | 1731/4599 [40:14<04:11, 11.38it/s]"
     ]
    },
    {
     "name": "stdout",
     "output_type": "stream",
     "text": [
      "Error: <urlopen error [WinError 10054] 远程主机强迫关闭了一个现有的连接。>\n",
      "Error: <urlopen error [WinError 10053] 你的主机中的软件中止了一个已建立的连接。>\n",
      "Error: <urlopen error [WinError 10054] 远程主机强迫关闭了一个现有的连接。>\n"
     ]
    },
    {
     "name": "stderr",
     "output_type": "stream",
     "text": [
      "Processing compounds:  38%|█████████████████████▏                                  | 1735/4599 [40:15<04:06, 11.62it/s]"
     ]
    },
    {
     "name": "stdout",
     "output_type": "stream",
     "text": [
      "Error: <urlopen error [WinError 10054] 远程主机强迫关闭了一个现有的连接。>\n",
      "Error: <urlopen error [WinError 10053] 你的主机中的软件中止了一个已建立的连接。>\n",
      "Error: <urlopen error [WinError 10053] 你的主机中的软件中止了一个已建立的连接。>\n"
     ]
    },
    {
     "name": "stderr",
     "output_type": "stream",
     "text": [
      "\r",
      "Processing compounds:  38%|█████████████████████▏                                  | 1737/4599 [40:15<04:05, 11.66it/s]"
     ]
    },
    {
     "name": "stdout",
     "output_type": "stream",
     "text": [
      "Error: <urlopen error [WinError 10053] 你的主机中的软件中止了一个已建立的连接。>\n",
      "Error: <urlopen error [WinError 10054] 远程主机强迫关闭了一个现有的连接。>\n",
      "Error: <urlopen error [WinError 10053] 你的主机中的软件中止了一个已建立的连接。>\n"
     ]
    },
    {
     "name": "stderr",
     "output_type": "stream",
     "text": [
      "\r",
      "Processing compounds:  38%|█████████████████████▏                                  | 1739/4599 [40:15<04:29, 10.60it/s]"
     ]
    },
    {
     "name": "stdout",
     "output_type": "stream",
     "text": [
      "Error: <urlopen error [WinError 10053] 你的主机中的软件中止了一个已建立的连接。>\n",
      "Error: <urlopen error [WinError 10054] 远程主机强迫关闭了一个现有的连接。>\n"
     ]
    },
    {
     "name": "stderr",
     "output_type": "stream",
     "text": [
      "Processing compounds:  38%|█████████████████████▏                                  | 1743/4599 [40:16<04:47,  9.93it/s]"
     ]
    },
    {
     "name": "stdout",
     "output_type": "stream",
     "text": [
      "Error: <urlopen error [WinError 10053] 你的主机中的软件中止了一个已建立的连接。>\n",
      "Error: <urlopen error [WinError 10054] 远程主机强迫关闭了一个现有的连接。>\n",
      "Error: <urlopen error [WinError 10054] 远程主机强迫关闭了一个现有的连接。>\n"
     ]
    },
    {
     "name": "stderr",
     "output_type": "stream",
     "text": [
      "\r",
      "Processing compounds:  38%|█████████████████████▏                                  | 1745/4599 [40:16<04:32, 10.47it/s]"
     ]
    },
    {
     "name": "stdout",
     "output_type": "stream",
     "text": [
      "Error: <urlopen error [WinError 10054] 远程主机强迫关闭了一个现有的连接。>\n",
      "Error: <urlopen error [WinError 10053] 你的主机中的软件中止了一个已建立的连接。>\n",
      "Error: <urlopen error [WinError 10054] 远程主机强迫关闭了一个现有的连接。>\n"
     ]
    },
    {
     "name": "stderr",
     "output_type": "stream",
     "text": [
      "Processing compounds:  38%|█████████████████████▎                                  | 1749/4599 [40:16<04:15, 11.14it/s]"
     ]
    },
    {
     "name": "stdout",
     "output_type": "stream",
     "text": [
      "Error: <urlopen error [WinError 10054] 远程主机强迫关闭了一个现有的连接。>\n",
      "Error: <urlopen error [WinError 10053] 你的主机中的软件中止了一个已建立的连接。>\n",
      "Error: <urlopen error [WinError 10053] 你的主机中的软件中止了一个已建立的连接。>\n"
     ]
    },
    {
     "name": "stderr",
     "output_type": "stream",
     "text": [
      "\r",
      "Processing compounds:  38%|█████████████████████▎                                  | 1751/4599 [40:16<04:14, 11.18it/s]"
     ]
    },
    {
     "name": "stdout",
     "output_type": "stream",
     "text": [
      "Error: <urlopen error [WinError 10054] 远程主机强迫关闭了一个现有的连接。>\n",
      "Error: <urlopen error [WinError 10054] 远程主机强迫关闭了一个现有的连接。>\n",
      "Error: <urlopen error [WinError 10054] 远程主机强迫关闭了一个现有的连接。>\n"
     ]
    },
    {
     "name": "stderr",
     "output_type": "stream",
     "text": [
      "Processing compounds:  38%|█████████████████████▎                                  | 1755/4599 [40:17<04:10, 11.36it/s]"
     ]
    },
    {
     "name": "stdout",
     "output_type": "stream",
     "text": [
      "Error: <urlopen error [WinError 10054] 远程主机强迫关闭了一个现有的连接。>\n",
      "Error: <urlopen error [WinError 10053] 你的主机中的软件中止了一个已建立的连接。>\n",
      "Error: <urlopen error [WinError 10053] 你的主机中的软件中止了一个已建立的连接。>\n"
     ]
    },
    {
     "name": "stderr",
     "output_type": "stream",
     "text": [
      "\r",
      "Processing compounds:  38%|█████████████████████▍                                  | 1757/4599 [40:17<04:07, 11.48it/s]"
     ]
    },
    {
     "name": "stdout",
     "output_type": "stream",
     "text": [
      "Error: <urlopen error [WinError 10054] 远程主机强迫关闭了一个现有的连接。>\n",
      "Error: <urlopen error [WinError 10054] 远程主机强迫关闭了一个现有的连接。>\n",
      "Error: <urlopen error [WinError 10053] 你的主机中的软件中止了一个已建立的连接。>\n"
     ]
    },
    {
     "name": "stderr",
     "output_type": "stream",
     "text": [
      "Processing compounds:  38%|█████████████████████▍                                  | 1761/4599 [40:17<04:29, 10.53it/s]"
     ]
    },
    {
     "name": "stdout",
     "output_type": "stream",
     "text": [
      "Error: <urlopen error TLS/SSL connection has been closed (EOF) (_ssl.c:1131)>\n",
      "Error: <urlopen error [WinError 10054] 远程主机强迫关闭了一个现有的连接。>\n",
      "Error: <urlopen error [WinError 10053] 你的主机中的软件中止了一个已建立的连接。>\n"
     ]
    },
    {
     "name": "stderr",
     "output_type": "stream",
     "text": [
      "\r",
      "Processing compounds:  38%|█████████████████████▍                                  | 1763/4599 [40:17<04:23, 10.76it/s]"
     ]
    },
    {
     "name": "stdout",
     "output_type": "stream",
     "text": [
      "Error: <urlopen error [WinError 10054] 远程主机强迫关闭了一个现有的连接。>\n",
      "Error: <urlopen error [WinError 10054] 远程主机强迫关闭了一个现有的连接。>\n",
      "Error: <urlopen error [WinError 10054] 远程主机强迫关闭了一个现有的连接。>\n"
     ]
    },
    {
     "name": "stderr",
     "output_type": "stream",
     "text": [
      "Processing compounds:  38%|█████████████████████▌                                  | 1767/4599 [40:18<04:16, 11.05it/s]"
     ]
    },
    {
     "name": "stdout",
     "output_type": "stream",
     "text": [
      "Error: <urlopen error [WinError 10054] 远程主机强迫关闭了一个现有的连接。>\n",
      "Error: <urlopen error [WinError 10053] 你的主机中的软件中止了一个已建立的连接。>\n",
      "Error: <urlopen error [WinError 10054] 远程主机强迫关闭了一个现有的连接。>\n"
     ]
    },
    {
     "name": "stderr",
     "output_type": "stream",
     "text": [
      "\r",
      "Processing compounds:  38%|█████████████████████▌                                  | 1769/4599 [40:18<04:14, 11.13it/s]"
     ]
    },
    {
     "name": "stdout",
     "output_type": "stream",
     "text": [
      "Error: <urlopen error [WinError 10054] 远程主机强迫关闭了一个现有的连接。>\n",
      "Error: <urlopen error [WinError 10054] 远程主机强迫关闭了一个现有的连接。>\n",
      "Error: <urlopen error [WinError 10053] 你的主机中的软件中止了一个已建立的连接。>\n"
     ]
    },
    {
     "name": "stderr",
     "output_type": "stream",
     "text": [
      "Processing compounds:  39%|█████████████████████▌                                  | 1773/4599 [40:18<04:10, 11.29it/s]"
     ]
    },
    {
     "name": "stdout",
     "output_type": "stream",
     "text": [
      "Error: <urlopen error [WinError 10054] 远程主机强迫关闭了一个现有的连接。>\n",
      "Error: <urlopen error [WinError 10053] 你的主机中的软件中止了一个已建立的连接。>\n",
      "Error: <urlopen error [WinError 10053] 你的主机中的软件中止了一个已建立的连接。>\n"
     ]
    },
    {
     "name": "stderr",
     "output_type": "stream",
     "text": [
      "\r",
      "Processing compounds:  39%|█████████████████████▌                                  | 1775/4599 [40:18<04:08, 11.39it/s]"
     ]
    },
    {
     "name": "stdout",
     "output_type": "stream",
     "text": [
      "Error: <urlopen error [WinError 10054] 远程主机强迫关闭了一个现有的连接。>\n",
      "Error: <urlopen error TLS/SSL connection has been closed (EOF) (_ssl.c:1131)>\n",
      "Error: <urlopen error [WinError 10053] 你的主机中的软件中止了一个已建立的连接。>\n"
     ]
    },
    {
     "name": "stderr",
     "output_type": "stream",
     "text": [
      "Processing compounds:  39%|█████████████████████▋                                  | 1779/4599 [40:19<04:09, 11.32it/s]"
     ]
    },
    {
     "name": "stdout",
     "output_type": "stream",
     "text": [
      "Error: <urlopen error [WinError 10053] 你的主机中的软件中止了一个已建立的连接。>\n",
      "Error: <urlopen error [WinError 10053] 你的主机中的软件中止了一个已建立的连接。>\n",
      "Error: <urlopen error [WinError 10054] 远程主机强迫关闭了一个现有的连接。>\n"
     ]
    },
    {
     "name": "stderr",
     "output_type": "stream",
     "text": [
      "\r",
      "Processing compounds:  39%|█████████████████████▋                                  | 1781/4599 [40:19<04:04, 11.52it/s]"
     ]
    },
    {
     "name": "stdout",
     "output_type": "stream",
     "text": [
      "Error: <urlopen error [WinError 10054] 远程主机强迫关闭了一个现有的连接。>\n",
      "Error: <urlopen error [WinError 10054] 远程主机强迫关闭了一个现有的连接。>\n",
      "Error: <urlopen error [WinError 10054] 远程主机强迫关闭了一个现有的连接。>\n"
     ]
    },
    {
     "name": "stderr",
     "output_type": "stream",
     "text": [
      "Processing compounds:  39%|█████████████████████▋                                  | 1785/4599 [40:19<04:03, 11.54it/s]"
     ]
    },
    {
     "name": "stdout",
     "output_type": "stream",
     "text": [
      "Error: <urlopen error [WinError 10053] 你的主机中的软件中止了一个已建立的连接。>\n",
      "Error: <urlopen error [WinError 10053] 你的主机中的软件中止了一个已建立的连接。>\n",
      "Error: <urlopen error [WinError 10053] 你的主机中的软件中止了一个已建立的连接。>\n"
     ]
    },
    {
     "name": "stderr",
     "output_type": "stream",
     "text": [
      "\r",
      "Processing compounds:  39%|█████████████████████▊                                  | 1787/4599 [40:19<04:01, 11.65it/s]"
     ]
    },
    {
     "name": "stdout",
     "output_type": "stream",
     "text": [
      "Error: <urlopen error [WinError 10054] 远程主机强迫关闭了一个现有的连接。>\n",
      "Error: <urlopen error [WinError 10053] 你的主机中的软件中止了一个已建立的连接。>\n",
      "Error: <urlopen error [WinError 10053] 你的主机中的软件中止了一个已建立的连接。>\n"
     ]
    },
    {
     "name": "stderr",
     "output_type": "stream",
     "text": [
      "Processing compounds:  39%|█████████████████████▊                                  | 1791/4599 [40:20<04:17, 10.92it/s]"
     ]
    },
    {
     "name": "stdout",
     "output_type": "stream",
     "text": [
      "Error: <urlopen error [WinError 10054] 远程主机强迫关闭了一个现有的连接。>\n",
      "Error: <urlopen error [WinError 10054] 远程主机强迫关闭了一个现有的连接。>\n",
      "Error: <urlopen error [WinError 10053] 你的主机中的软件中止了一个已建立的连接。>\n"
     ]
    },
    {
     "name": "stderr",
     "output_type": "stream",
     "text": [
      "\r",
      "Processing compounds:  39%|█████████████████████▊                                  | 1793/4599 [40:20<04:32, 10.30it/s]"
     ]
    },
    {
     "name": "stdout",
     "output_type": "stream",
     "text": [
      "Error: <urlopen error [WinError 10054] 远程主机强迫关闭了一个现有的连接。>\n",
      "Error: <urlopen error [WinError 10054] 远程主机强迫关闭了一个现有的连接。>\n",
      "Error: <urlopen error [WinError 10053] 你的主机中的软件中止了一个已建立的连接。>\n"
     ]
    },
    {
     "name": "stderr",
     "output_type": "stream",
     "text": [
      "Processing compounds:  39%|█████████████████████▉                                  | 1797/4599 [40:20<04:17, 10.89it/s]"
     ]
    },
    {
     "name": "stdout",
     "output_type": "stream",
     "text": [
      "Error: <urlopen error [WinError 10053] 你的主机中的软件中止了一个已建立的连接。>\n",
      "Error: <urlopen error [WinError 10054] 远程主机强迫关闭了一个现有的连接。>\n",
      "Error: <urlopen error [WinError 10053] 你的主机中的软件中止了一个已建立的连接。>\n"
     ]
    },
    {
     "name": "stderr",
     "output_type": "stream",
     "text": [
      "\r",
      "Processing compounds:  39%|█████████████████████▉                                  | 1799/4599 [40:21<04:12, 11.10it/s]"
     ]
    },
    {
     "name": "stdout",
     "output_type": "stream",
     "text": [
      "Error: <urlopen error [WinError 10054] 远程主机强迫关闭了一个现有的连接。>\n",
      "Error: <urlopen error [WinError 10053] 你的主机中的软件中止了一个已建立的连接。>\n",
      "Error: <urlopen error [WinError 10054] 远程主机强迫关闭了一个现有的连接。>\n"
     ]
    },
    {
     "name": "stderr",
     "output_type": "stream",
     "text": [
      "Processing compounds:  39%|█████████████████████▉                                  | 1803/4599 [40:21<04:05, 11.39it/s]"
     ]
    },
    {
     "name": "stdout",
     "output_type": "stream",
     "text": [
      "Error: <urlopen error [WinError 10053] 你的主机中的软件中止了一个已建立的连接。>\n",
      "Error: <urlopen error [WinError 10053] 你的主机中的软件中止了一个已建立的连接。>\n",
      "Error: <urlopen error [WinError 10054] 远程主机强迫关闭了一个现有的连接。>\n"
     ]
    },
    {
     "name": "stderr",
     "output_type": "stream",
     "text": [
      "\r",
      "Processing compounds:  39%|█████████████████████▉                                  | 1805/4599 [40:21<04:05, 11.39it/s]"
     ]
    },
    {
     "name": "stdout",
     "output_type": "stream",
     "text": [
      "Error: <urlopen error [WinError 10054] 远程主机强迫关闭了一个现有的连接。>\n",
      "Error: <urlopen error [WinError 10053] 你的主机中的软件中止了一个已建立的连接。>\n",
      "Error: <urlopen error [WinError 10054] 远程主机强迫关闭了一个现有的连接。>\n"
     ]
    },
    {
     "name": "stderr",
     "output_type": "stream",
     "text": [
      "Processing compounds:  39%|██████████████████████                                  | 1809/4599 [40:21<03:55, 11.84it/s]"
     ]
    },
    {
     "name": "stdout",
     "output_type": "stream",
     "text": [
      "Error: <urlopen error [WinError 10054] 远程主机强迫关闭了一个现有的连接。>\n",
      "Error: <urlopen error [WinError 10054] 远程主机强迫关闭了一个现有的连接。>\n",
      "Error: <urlopen error [WinError 10054] 远程主机强迫关闭了一个现有的连接。>\n"
     ]
    },
    {
     "name": "stderr",
     "output_type": "stream",
     "text": [
      "\r",
      "Processing compounds:  39%|██████████████████████                                  | 1811/4599 [40:22<03:56, 11.78it/s]"
     ]
    },
    {
     "name": "stdout",
     "output_type": "stream",
     "text": [
      "Error: <urlopen error [WinError 10054] 远程主机强迫关闭了一个现有的连接。>\n",
      "Error: <urlopen error [WinError 10053] 你的主机中的软件中止了一个已建立的连接。>\n",
      "Error: <urlopen error [WinError 10053] 你的主机中的软件中止了一个已建立的连接。>\n"
     ]
    },
    {
     "name": "stderr",
     "output_type": "stream",
     "text": [
      "Processing compounds:  39%|██████████████████████                                  | 1815/4599 [40:22<04:03, 11.43it/s]"
     ]
    },
    {
     "name": "stdout",
     "output_type": "stream",
     "text": [
      "Error: <urlopen error [WinError 10053] 你的主机中的软件中止了一个已建立的连接。>\n",
      "Error: <urlopen error [WinError 10053] 你的主机中的软件中止了一个已建立的连接。>\n",
      "Error: <urlopen error [WinError 10053] 你的主机中的软件中止了一个已建立的连接。>\n"
     ]
    },
    {
     "name": "stderr",
     "output_type": "stream",
     "text": [
      "\r",
      "Processing compounds:  40%|██████████████████████                                  | 1817/4599 [40:22<04:05, 11.31it/s]"
     ]
    },
    {
     "name": "stdout",
     "output_type": "stream",
     "text": [
      "Error: <urlopen error [WinError 10054] 远程主机强迫关闭了一个现有的连接。>\n",
      "Error: <urlopen error [WinError 10054] 远程主机强迫关闭了一个现有的连接。>\n",
      "Error: <urlopen error [WinError 10054] 远程主机强迫关闭了一个现有的连接。>\n"
     ]
    },
    {
     "name": "stderr",
     "output_type": "stream",
     "text": [
      "Processing compounds:  40%|██████████████████████▏                                 | 1821/4599 [40:22<04:01, 11.52it/s]"
     ]
    },
    {
     "name": "stdout",
     "output_type": "stream",
     "text": [
      "Error: <urlopen error [WinError 10054] 远程主机强迫关闭了一个现有的连接。>\n",
      "Error: <urlopen error [WinError 10053] 你的主机中的软件中止了一个已建立的连接。>\n",
      "Error: <urlopen error [WinError 10053] 你的主机中的软件中止了一个已建立的连接。>\n"
     ]
    },
    {
     "name": "stderr",
     "output_type": "stream",
     "text": [
      "\r",
      "Processing compounds:  40%|██████████████████████▏                                 | 1823/4599 [40:23<04:05, 11.31it/s]"
     ]
    },
    {
     "name": "stdout",
     "output_type": "stream",
     "text": [
      "Error: <urlopen error [WinError 10054] 远程主机强迫关闭了一个现有的连接。>\n",
      "Error: <urlopen error [WinError 10054] 远程主机强迫关闭了一个现有的连接。>\n",
      "Error: <urlopen error [WinError 10054] 远程主机强迫关闭了一个现有的连接。>\n"
     ]
    },
    {
     "name": "stderr",
     "output_type": "stream",
     "text": [
      "Processing compounds:  40%|██████████████████████▏                                 | 1827/4599 [40:23<04:03, 11.39it/s]"
     ]
    },
    {
     "name": "stdout",
     "output_type": "stream",
     "text": [
      "Error: <urlopen error [WinError 10053] 你的主机中的软件中止了一个已建立的连接。>\n",
      "Error: <urlopen error [WinError 10054] 远程主机强迫关闭了一个现有的连接。>\n",
      "Error: <urlopen error [WinError 10054] 远程主机强迫关闭了一个现有的连接。>\n"
     ]
    },
    {
     "name": "stderr",
     "output_type": "stream",
     "text": [
      "\r",
      "Processing compounds:  40%|██████████████████████▎                                 | 1829/4599 [40:23<04:07, 11.21it/s]"
     ]
    },
    {
     "name": "stdout",
     "output_type": "stream",
     "text": [
      "Error: <urlopen error [WinError 10054] 远程主机强迫关闭了一个现有的连接。>\n",
      "Error: <urlopen error [WinError 10053] 你的主机中的软件中止了一个已建立的连接。>\n",
      "Error: <urlopen error [WinError 10054] 远程主机强迫关闭了一个现有的连接。>\n"
     ]
    },
    {
     "name": "stderr",
     "output_type": "stream",
     "text": [
      "Processing compounds:  40%|██████████████████████▎                                 | 1833/4599 [40:24<04:05, 11.24it/s]"
     ]
    },
    {
     "name": "stdout",
     "output_type": "stream",
     "text": [
      "Error: <urlopen error [WinError 10054] 远程主机强迫关闭了一个现有的连接。>\n",
      "Error: <urlopen error [WinError 10053] 你的主机中的软件中止了一个已建立的连接。>\n",
      "Error: <urlopen error [WinError 10054] 远程主机强迫关闭了一个现有的连接。>\n"
     ]
    },
    {
     "name": "stderr",
     "output_type": "stream",
     "text": [
      "\r",
      "Processing compounds:  40%|██████████████████████▎                                 | 1835/4599 [40:24<04:20, 10.62it/s]"
     ]
    },
    {
     "name": "stdout",
     "output_type": "stream",
     "text": [
      "Error: <urlopen error [WinError 10053] 你的主机中的软件中止了一个已建立的连接。>\n",
      "Error: <urlopen error [WinError 10053] 你的主机中的软件中止了一个已建立的连接。>\n",
      "Error: <urlopen error [WinError 10053] 你的主机中的软件中止了一个已建立的连接。>\n"
     ]
    },
    {
     "name": "stderr",
     "output_type": "stream",
     "text": [
      "Processing compounds:  40%|██████████████████████▍                                 | 1839/4599 [40:24<04:14, 10.83it/s]"
     ]
    },
    {
     "name": "stdout",
     "output_type": "stream",
     "text": [
      "Error: <urlopen error [WinError 10053] 你的主机中的软件中止了一个已建立的连接。>\n",
      "Error: <urlopen error [WinError 10053] 你的主机中的软件中止了一个已建立的连接。>\n",
      "Error: <urlopen error [WinError 10053] 你的主机中的软件中止了一个已建立的连接。>\n"
     ]
    },
    {
     "name": "stderr",
     "output_type": "stream",
     "text": [
      "\r",
      "Processing compounds:  40%|██████████████████████▍                                 | 1841/4599 [40:24<04:10, 11.02it/s]"
     ]
    },
    {
     "name": "stdout",
     "output_type": "stream",
     "text": [
      "Error: <urlopen error [WinError 10054] 远程主机强迫关闭了一个现有的连接。>\n",
      "Error: <urlopen error [WinError 10053] 你的主机中的软件中止了一个已建立的连接。>\n",
      "Error: <urlopen error [WinError 10054] 远程主机强迫关闭了一个现有的连接。>\n"
     ]
    },
    {
     "name": "stderr",
     "output_type": "stream",
     "text": [
      "Processing compounds:  40%|██████████████████████▍                                 | 1845/4599 [40:25<04:06, 11.17it/s]"
     ]
    },
    {
     "name": "stdout",
     "output_type": "stream",
     "text": [
      "Error: <urlopen error [WinError 10054] 远程主机强迫关闭了一个现有的连接。>\n",
      "Error: <urlopen error [WinError 10054] 远程主机强迫关闭了一个现有的连接。>\n",
      "Error: <urlopen error [WinError 10053] 你的主机中的软件中止了一个已建立的连接。>\n"
     ]
    },
    {
     "name": "stderr",
     "output_type": "stream",
     "text": [
      "\r",
      "Processing compounds:  40%|██████████████████████▍                                 | 1847/4599 [40:25<04:09, 11.04it/s]"
     ]
    },
    {
     "name": "stdout",
     "output_type": "stream",
     "text": [
      "Error: <urlopen error [WinError 10054] 远程主机强迫关闭了一个现有的连接。>\n",
      "Error: <urlopen error [WinError 10053] 你的主机中的软件中止了一个已建立的连接。>\n",
      "Error: <urlopen error [WinError 10054] 远程主机强迫关闭了一个现有的连接。>\n"
     ]
    },
    {
     "name": "stderr",
     "output_type": "stream",
     "text": [
      "Processing compounds:  40%|██████████████████████▌                                 | 1851/4599 [40:25<04:02, 11.34it/s]"
     ]
    },
    {
     "name": "stdout",
     "output_type": "stream",
     "text": [
      "Error: <urlopen error TLS/SSL connection has been closed (EOF) (_ssl.c:1131)>\n",
      "Error: <urlopen error [WinError 10053] 你的主机中的软件中止了一个已建立的连接。>\n",
      "Error: <urlopen error [WinError 10053] 你的主机中的软件中止了一个已建立的连接。>\n"
     ]
    },
    {
     "name": "stderr",
     "output_type": "stream",
     "text": [
      "\r",
      "Processing compounds:  40%|██████████████████████▌                                 | 1853/4599 [40:25<03:57, 11.55it/s]"
     ]
    },
    {
     "name": "stdout",
     "output_type": "stream",
     "text": [
      "Error: <urlopen error [WinError 10054] 远程主机强迫关闭了一个现有的连接。>\n",
      "Error: <urlopen error [WinError 10053] 你的主机中的软件中止了一个已建立的连接。>\n",
      "Error: <urlopen error [WinError 10053] 你的主机中的软件中止了一个已建立的连接。>\n"
     ]
    },
    {
     "name": "stderr",
     "output_type": "stream",
     "text": [
      "Processing compounds:  40%|██████████████████████▌                                 | 1857/4599 [40:26<04:00, 11.41it/s]"
     ]
    },
    {
     "name": "stdout",
     "output_type": "stream",
     "text": [
      "Error: <urlopen error [WinError 10054] 远程主机强迫关闭了一个现有的连接。>\n",
      "Error: <urlopen error [WinError 10054] 远程主机强迫关闭了一个现有的连接。>\n",
      "Error: <urlopen error [WinError 10053] 你的主机中的软件中止了一个已建立的连接。>\n"
     ]
    },
    {
     "name": "stderr",
     "output_type": "stream",
     "text": [
      "\r",
      "Processing compounds:  40%|██████████████████████▋                                 | 1859/4599 [40:26<03:57, 11.55it/s]"
     ]
    },
    {
     "name": "stdout",
     "output_type": "stream",
     "text": [
      "Error: <urlopen error [WinError 10054] 远程主机强迫关闭了一个现有的连接。>\n",
      "Error: <urlopen error [WinError 10054] 远程主机强迫关闭了一个现有的连接。>\n",
      "Error: <urlopen error [WinError 10054] 远程主机强迫关闭了一个现有的连接。>\n"
     ]
    },
    {
     "name": "stderr",
     "output_type": "stream",
     "text": [
      "Processing compounds:  41%|██████████████████████▋                                 | 1863/4599 [40:26<04:02, 11.28it/s]"
     ]
    },
    {
     "name": "stdout",
     "output_type": "stream",
     "text": [
      "Error: <urlopen error [WinError 10054] 远程主机强迫关闭了一个现有的连接。>\n",
      "Error: <urlopen error [WinError 10053] 你的主机中的软件中止了一个已建立的连接。>\n",
      "Error: <urlopen error [WinError 10053] 你的主机中的软件中止了一个已建立的连接。>\n"
     ]
    },
    {
     "name": "stderr",
     "output_type": "stream",
     "text": [
      "\r",
      "Processing compounds:  41%|██████████████████████▋                                 | 1865/4599 [40:26<03:59, 11.40it/s]"
     ]
    },
    {
     "name": "stdout",
     "output_type": "stream",
     "text": [
      "Error: <urlopen error [WinError 10054] 远程主机强迫关闭了一个现有的连接。>\n",
      "Error: <urlopen error [WinError 10054] 远程主机强迫关闭了一个现有的连接。>\n",
      "Error: <urlopen error [WinError 10054] 远程主机强迫关闭了一个现有的连接。>\n"
     ]
    },
    {
     "name": "stderr",
     "output_type": "stream",
     "text": [
      "Processing compounds:  41%|██████████████████████▊                                 | 1869/4599 [40:27<03:57, 11.50it/s]"
     ]
    },
    {
     "name": "stdout",
     "output_type": "stream",
     "text": [
      "Error: <urlopen error [WinError 10053] 你的主机中的软件中止了一个已建立的连接。>\n",
      "Error: <urlopen error [WinError 10053] 你的主机中的软件中止了一个已建立的连接。>\n",
      "Error: <urlopen error [WinError 10053] 你的主机中的软件中止了一个已建立的连接。>\n"
     ]
    },
    {
     "name": "stderr",
     "output_type": "stream",
     "text": [
      "\r",
      "Processing compounds:  41%|██████████████████████▊                                 | 1871/4599 [40:27<04:01, 11.31it/s]"
     ]
    },
    {
     "name": "stdout",
     "output_type": "stream",
     "text": [
      "Error: <urlopen error [WinError 10054] 远程主机强迫关闭了一个现有的连接。>\n",
      "Error: <urlopen error [WinError 10054] 远程主机强迫关闭了一个现有的连接。>\n",
      "Error: <urlopen error [WinError 10054] 远程主机强迫关闭了一个现有的连接。>\n"
     ]
    },
    {
     "name": "stderr",
     "output_type": "stream",
     "text": [
      "Processing compounds:  41%|██████████████████████▊                                 | 1875/4599 [40:27<04:11, 10.83it/s]"
     ]
    },
    {
     "name": "stdout",
     "output_type": "stream",
     "text": [
      "Error: <urlopen error [WinError 10054] 远程主机强迫关闭了一个现有的连接。>\n",
      "Error: <urlopen error [WinError 10054] 远程主机强迫关闭了一个现有的连接。>\n",
      "Error: <urlopen error [WinError 10054] 远程主机强迫关闭了一个现有的连接。>\n"
     ]
    },
    {
     "name": "stderr",
     "output_type": "stream",
     "text": [
      "\r",
      "Processing compounds:  41%|██████████████████████▊                                 | 1877/4599 [40:28<04:09, 10.91it/s]"
     ]
    },
    {
     "name": "stdout",
     "output_type": "stream",
     "text": [
      "Error: <urlopen error [WinError 10054] 远程主机强迫关闭了一个现有的连接。>\n",
      "Error: <urlopen error [WinError 10053] 你的主机中的软件中止了一个已建立的连接。>\n",
      "Error: <urlopen error [WinError 10053] 你的主机中的软件中止了一个已建立的连接。>\n"
     ]
    },
    {
     "name": "stderr",
     "output_type": "stream",
     "text": [
      "Processing compounds:  41%|██████████████████████▉                                 | 1881/4599 [40:28<04:01, 11.24it/s]"
     ]
    },
    {
     "name": "stdout",
     "output_type": "stream",
     "text": [
      "Error: <urlopen error [WinError 10054] 远程主机强迫关闭了一个现有的连接。>\n",
      "Error: <urlopen error [WinError 10054] 远程主机强迫关闭了一个现有的连接。>\n",
      "Error: <urlopen error [WinError 10054] 远程主机强迫关闭了一个现有的连接。>\n"
     ]
    },
    {
     "name": "stderr",
     "output_type": "stream",
     "text": [
      "\r",
      "Processing compounds:  41%|██████████████████████▉                                 | 1883/4599 [40:28<04:06, 11.01it/s]"
     ]
    },
    {
     "name": "stdout",
     "output_type": "stream",
     "text": [
      "Error: <urlopen error [WinError 10054] 远程主机强迫关闭了一个现有的连接。>\n",
      "Error: <urlopen error [WinError 10054] 远程主机强迫关闭了一个现有的连接。>\n",
      "Error: <urlopen error [WinError 10053] 你的主机中的软件中止了一个已建立的连接。>\n"
     ]
    },
    {
     "name": "stderr",
     "output_type": "stream",
     "text": [
      "Processing compounds:  41%|██████████████████████▉                                 | 1887/4599 [40:28<03:55, 11.50it/s]"
     ]
    },
    {
     "name": "stdout",
     "output_type": "stream",
     "text": [
      "Error: <urlopen error [WinError 10053] 你的主机中的软件中止了一个已建立的连接。>\n",
      "Error: <urlopen error [WinError 10053] 你的主机中的软件中止了一个已建立的连接。>\n",
      "Error: <urlopen error [WinError 10054] 远程主机强迫关闭了一个现有的连接。>\n"
     ]
    },
    {
     "name": "stderr",
     "output_type": "stream",
     "text": [
      "\r",
      "Processing compounds:  41%|███████████████████████                                 | 1889/4599 [40:29<03:51, 11.71it/s]"
     ]
    },
    {
     "name": "stdout",
     "output_type": "stream",
     "text": [
      "Error: <urlopen error [WinError 10054] 远程主机强迫关闭了一个现有的连接。>\n",
      "Error: <urlopen error [WinError 10054] 远程主机强迫关闭了一个现有的连接。>\n",
      "Error: <urlopen error [WinError 10053] 你的主机中的软件中止了一个已建立的连接。>\n"
     ]
    },
    {
     "name": "stderr",
     "output_type": "stream",
     "text": [
      "Processing compounds:  41%|███████████████████████                                 | 1893/4599 [40:29<03:55, 11.50it/s]"
     ]
    },
    {
     "name": "stdout",
     "output_type": "stream",
     "text": [
      "Error: <urlopen error [WinError 10054] 远程主机强迫关闭了一个现有的连接。>\n",
      "Error: <urlopen error [WinError 10054] 远程主机强迫关闭了一个现有的连接。>\n",
      "Error: <urlopen error [WinError 10053] 你的主机中的软件中止了一个已建立的连接。>\n"
     ]
    },
    {
     "name": "stderr",
     "output_type": "stream",
     "text": [
      "\r",
      "Processing compounds:  41%|███████████████████████                                 | 1895/4599 [40:29<03:52, 11.62it/s]"
     ]
    },
    {
     "name": "stdout",
     "output_type": "stream",
     "text": [
      "Error: <urlopen error [WinError 10054] 远程主机强迫关闭了一个现有的连接。>\n",
      "Error: <urlopen error [WinError 10053] 你的主机中的软件中止了一个已建立的连接。>\n",
      "Error: <urlopen error [WinError 10054] 远程主机强迫关闭了一个现有的连接。>\n"
     ]
    },
    {
     "name": "stderr",
     "output_type": "stream",
     "text": [
      "Processing compounds:  41%|███████████████████████                                 | 1899/4599 [40:29<03:50, 11.73it/s]"
     ]
    },
    {
     "name": "stdout",
     "output_type": "stream",
     "text": [
      "Error: <urlopen error [WinError 10053] 你的主机中的软件中止了一个已建立的连接。>\n",
      "Error: <urlopen error [WinError 10054] 远程主机强迫关闭了一个现有的连接。>\n",
      "Error: <urlopen error [WinError 10053] 你的主机中的软件中止了一个已建立的连接。>\n"
     ]
    },
    {
     "name": "stderr",
     "output_type": "stream",
     "text": [
      "\r",
      "Processing compounds:  41%|███████████████████████▏                                | 1901/4599 [40:30<04:02, 11.15it/s]"
     ]
    },
    {
     "name": "stdout",
     "output_type": "stream",
     "text": [
      "Error: <urlopen error [WinError 10054] 远程主机强迫关闭了一个现有的连接。>\n",
      "Error: <urlopen error [WinError 10054] 远程主机强迫关闭了一个现有的连接。>\n"
     ]
    },
    {
     "name": "stderr",
     "output_type": "stream",
     "text": [
      "\r",
      "Processing compounds:  41%|███████████████████████▏                                | 1903/4599 [40:30<04:08, 10.87it/s]"
     ]
    },
    {
     "name": "stdout",
     "output_type": "stream",
     "text": [
      "Error: <urlopen error [WinError 10054] 远程主机强迫关闭了一个现有的连接。>\n",
      "Error: <urlopen error [WinError 10053] 你的主机中的软件中止了一个已建立的连接。>\n",
      "Error: <urlopen error [WinError 10054] 远程主机强迫关闭了一个现有的连接。>\n"
     ]
    },
    {
     "name": "stderr",
     "output_type": "stream",
     "text": [
      "Processing compounds:  41%|███████████████████████▏                                | 1907/4599 [40:30<03:53, 11.52it/s]"
     ]
    },
    {
     "name": "stdout",
     "output_type": "stream",
     "text": [
      "Error: <urlopen error [WinError 10054] 远程主机强迫关闭了一个现有的连接。>\n",
      "Error: <urlopen error [WinError 10053] 你的主机中的软件中止了一个已建立的连接。>\n",
      "Error: <urlopen error [WinError 10054] 远程主机强迫关闭了一个现有的连接。>\n"
     ]
    },
    {
     "name": "stderr",
     "output_type": "stream",
     "text": [
      "\r",
      "Processing compounds:  42%|███████████████████████▏                                | 1909/4599 [40:30<03:52, 11.58it/s]"
     ]
    },
    {
     "name": "stdout",
     "output_type": "stream",
     "text": [
      "Error: <urlopen error [WinError 10053] 你的主机中的软件中止了一个已建立的连接。>\n",
      "Error: <urlopen error [WinError 10054] 远程主机强迫关闭了一个现有的连接。>\n",
      "Error: <urlopen error [WinError 10054] 远程主机强迫关闭了一个现有的连接。>\n"
     ]
    },
    {
     "name": "stderr",
     "output_type": "stream",
     "text": [
      "Processing compounds:  42%|███████████████████████▎                                | 1913/4599 [40:31<03:48, 11.75it/s]"
     ]
    },
    {
     "name": "stdout",
     "output_type": "stream",
     "text": [
      "Error: <urlopen error [WinError 10053] 你的主机中的软件中止了一个已建立的连接。>\n",
      "Error: <urlopen error [WinError 10054] 远程主机强迫关闭了一个现有的连接。>\n",
      "Error: <urlopen error [WinError 10053] 你的主机中的软件中止了一个已建立的连接。>\n"
     ]
    },
    {
     "name": "stderr",
     "output_type": "stream",
     "text": [
      "\r",
      "Processing compounds:  42%|███████████████████████▎                                | 1915/4599 [40:31<03:46, 11.82it/s]"
     ]
    },
    {
     "name": "stdout",
     "output_type": "stream",
     "text": [
      "Error: <urlopen error [WinError 10054] 远程主机强迫关闭了一个现有的连接。>\n",
      "Error: <urlopen error [WinError 10054] 远程主机强迫关闭了一个现有的连接。>\n",
      "Error: <urlopen error [WinError 10053] 你的主机中的软件中止了一个已建立的连接。>\n"
     ]
    },
    {
     "name": "stderr",
     "output_type": "stream",
     "text": [
      "Processing compounds:  42%|███████████████████████▎                                | 1919/4599 [40:31<03:43, 11.98it/s]"
     ]
    },
    {
     "name": "stdout",
     "output_type": "stream",
     "text": [
      "Error: <urlopen error [WinError 10053] 你的主机中的软件中止了一个已建立的连接。>\n",
      "Error: <urlopen error [WinError 10053] 你的主机中的软件中止了一个已建立的连接。>\n",
      "Error: <urlopen error [WinError 10054] 远程主机强迫关闭了一个现有的连接。>\n"
     ]
    },
    {
     "name": "stderr",
     "output_type": "stream",
     "text": [
      "\r",
      "Processing compounds:  42%|███████████████████████▍                                | 1921/4599 [40:31<03:41, 12.08it/s]"
     ]
    },
    {
     "name": "stdout",
     "output_type": "stream",
     "text": [
      "Error: <urlopen error [WinError 10054] 远程主机强迫关闭了一个现有的连接。>\n",
      "Error: <urlopen error [WinError 10054] 远程主机强迫关闭了一个现有的连接。>\n",
      "Error: <urlopen error [WinError 10054] 远程主机强迫关闭了一个现有的连接。>\n"
     ]
    },
    {
     "name": "stderr",
     "output_type": "stream",
     "text": [
      "Processing compounds:  42%|███████████████████████▍                                | 1925/4599 [40:32<03:42, 11.99it/s]"
     ]
    },
    {
     "name": "stdout",
     "output_type": "stream",
     "text": [
      "Error: <urlopen error [WinError 10054] 远程主机强迫关闭了一个现有的连接。>\n",
      "Error: <urlopen error [WinError 10054] 远程主机强迫关闭了一个现有的连接。>\n",
      "Error: <urlopen error [WinError 10053] 你的主机中的软件中止了一个已建立的连接。>\n"
     ]
    },
    {
     "name": "stderr",
     "output_type": "stream",
     "text": [
      "\r",
      "Processing compounds:  42%|███████████████████████▍                                | 1927/4599 [40:32<03:52, 11.50it/s]"
     ]
    },
    {
     "name": "stdout",
     "output_type": "stream",
     "text": [
      "Error: <urlopen error [WinError 10054] 远程主机强迫关闭了一个现有的连接。>\n",
      "Error: <urlopen error TLS/SSL connection has been closed (EOF) (_ssl.c:1131)>\n",
      "Error: <urlopen error [WinError 10053] 你的主机中的软件中止了一个已建立的连接。>\n"
     ]
    },
    {
     "name": "stderr",
     "output_type": "stream",
     "text": [
      "Processing compounds:  42%|███████████████████████▌                                | 1931/4599 [40:32<03:53, 11.41it/s]"
     ]
    },
    {
     "name": "stdout",
     "output_type": "stream",
     "text": [
      "Error: <urlopen error [WinError 10054] 远程主机强迫关闭了一个现有的连接。>\n",
      "Error: <urlopen error [WinError 10053] 你的主机中的软件中止了一个已建立的连接。>\n",
      "Error: <urlopen error [WinError 10053] 你的主机中的软件中止了一个已建立的连接。>\n"
     ]
    },
    {
     "name": "stderr",
     "output_type": "stream",
     "text": [
      "\r",
      "Processing compounds:  42%|███████████████████████▌                                | 1933/4599 [40:32<03:52, 11.48it/s]"
     ]
    },
    {
     "name": "stdout",
     "output_type": "stream",
     "text": [
      "Error: <urlopen error [WinError 10053] 你的主机中的软件中止了一个已建立的连接。>\n",
      "Error: <urlopen error [WinError 10053] 你的主机中的软件中止了一个已建立的连接。>\n",
      "Error: <urlopen error [WinError 10054] 远程主机强迫关闭了一个现有的连接。>\n"
     ]
    },
    {
     "name": "stderr",
     "output_type": "stream",
     "text": [
      "Processing compounds:  42%|███████████████████████▌                                | 1937/4599 [40:33<03:49, 11.58it/s]"
     ]
    },
    {
     "name": "stdout",
     "output_type": "stream",
     "text": [
      "Error: <urlopen error [WinError 10054] 远程主机强迫关闭了一个现有的连接。>\n",
      "Error: <urlopen error [WinError 10054] 远程主机强迫关闭了一个现有的连接。>\n",
      "Error: <urlopen error [WinError 10054] 远程主机强迫关闭了一个现有的连接。>\n"
     ]
    },
    {
     "name": "stderr",
     "output_type": "stream",
     "text": [
      "\r",
      "Processing compounds:  42%|███████████████████████▌                                | 1939/4599 [40:33<03:47, 11.68it/s]"
     ]
    },
    {
     "name": "stdout",
     "output_type": "stream",
     "text": [
      "Error: <urlopen error [WinError 10054] 远程主机强迫关闭了一个现有的连接。>\n",
      "Error: <urlopen error [WinError 10054] 远程主机强迫关闭了一个现有的连接。>\n",
      "Error: <urlopen error [WinError 10053] 你的主机中的软件中止了一个已建立的连接。>\n"
     ]
    },
    {
     "name": "stderr",
     "output_type": "stream",
     "text": [
      "Processing compounds:  42%|███████████████████████▋                                | 1943/4599 [40:33<03:44, 11.85it/s]"
     ]
    },
    {
     "name": "stdout",
     "output_type": "stream",
     "text": [
      "Error: <urlopen error [WinError 10053] 你的主机中的软件中止了一个已建立的连接。>\n",
      "Error: <urlopen error [WinError 10053] 你的主机中的软件中止了一个已建立的连接。>\n",
      "Error: <urlopen error [WinError 10053] 你的主机中的软件中止了一个已建立的连接。>\n"
     ]
    },
    {
     "name": "stderr",
     "output_type": "stream",
     "text": [
      "\r",
      "Processing compounds:  42%|███████████████████████▋                                | 1945/4599 [40:33<03:44, 11.83it/s]"
     ]
    },
    {
     "name": "stdout",
     "output_type": "stream",
     "text": [
      "Error: <urlopen error [WinError 10054] 远程主机强迫关闭了一个现有的连接。>\n",
      "Error: <urlopen error [WinError 10053] 你的主机中的软件中止了一个已建立的连接。>\n",
      "Error: <urlopen error [WinError 10053] 你的主机中的软件中止了一个已建立的连接。>\n"
     ]
    },
    {
     "name": "stderr",
     "output_type": "stream",
     "text": [
      "Processing compounds:  42%|███████████████████████▋                                | 1949/4599 [40:34<03:45, 11.74it/s]"
     ]
    },
    {
     "name": "stdout",
     "output_type": "stream",
     "text": [
      "Error: <urlopen error TLS/SSL connection has been closed (EOF) (_ssl.c:1131)>\n",
      "Error: <urlopen error [WinError 10054] 远程主机强迫关闭了一个现有的连接。>\n",
      "Error: <urlopen error [WinError 10053] 你的主机中的软件中止了一个已建立的连接。>\n"
     ]
    },
    {
     "name": "stderr",
     "output_type": "stream",
     "text": [
      "\r",
      "Processing compounds:  42%|███████████████████████▊                                | 1951/4599 [40:34<03:53, 11.36it/s]"
     ]
    },
    {
     "name": "stdout",
     "output_type": "stream",
     "text": [
      "Error: <urlopen error [WinError 10054] 远程主机强迫关闭了一个现有的连接。>\n",
      "Error: <urlopen error [WinError 10053] 你的主机中的软件中止了一个已建立的连接。>\n"
     ]
    },
    {
     "name": "stderr",
     "output_type": "stream",
     "text": [
      "\r",
      "Processing compounds:  42%|███████████████████████▊                                | 1953/4599 [40:34<04:05, 10.79it/s]"
     ]
    },
    {
     "name": "stdout",
     "output_type": "stream",
     "text": [
      "Error: <urlopen error [WinError 10054] 远程主机强迫关闭了一个现有的连接。>\n",
      "Error: <urlopen error [WinError 10053] 你的主机中的软件中止了一个已建立的连接。>\n",
      "Error: <urlopen error [WinError 10054] 远程主机强迫关闭了一个现有的连接。>\n"
     ]
    },
    {
     "name": "stderr",
     "output_type": "stream",
     "text": [
      "Processing compounds:  43%|███████████████████████▊                                | 1957/4599 [40:34<04:00, 10.97it/s]"
     ]
    },
    {
     "name": "stdout",
     "output_type": "stream",
     "text": [
      "Error: <urlopen error [WinError 10054] 远程主机强迫关闭了一个现有的连接。>\n",
      "Error: <urlopen error [WinError 10054] 远程主机强迫关闭了一个现有的连接。>\n",
      "Error: <urlopen error [WinError 10054] 远程主机强迫关闭了一个现有的连接。>\n"
     ]
    },
    {
     "name": "stderr",
     "output_type": "stream",
     "text": [
      "\r",
      "Processing compounds:  43%|███████████████████████▊                                | 1959/4599 [40:35<03:57, 11.10it/s]"
     ]
    },
    {
     "name": "stdout",
     "output_type": "stream",
     "text": [
      "Error: <urlopen error [WinError 10054] 远程主机强迫关闭了一个现有的连接。>\n",
      "Error: <urlopen error [WinError 10054] 远程主机强迫关闭了一个现有的连接。>\n",
      "Error: <urlopen error [WinError 10054] 远程主机强迫关闭了一个现有的连接。>\n"
     ]
    },
    {
     "name": "stderr",
     "output_type": "stream",
     "text": [
      "Processing compounds:  43%|███████████████████████▉                                | 1963/4599 [40:35<04:19, 10.15it/s]"
     ]
    },
    {
     "name": "stdout",
     "output_type": "stream",
     "text": [
      "Error: <urlopen error [WinError 10054] 远程主机强迫关闭了一个现有的连接。>\n",
      "Error: <urlopen error [WinError 10053] 你的主机中的软件中止了一个已建立的连接。>\n",
      "Error: <urlopen error [WinError 10053] 你的主机中的软件中止了一个已建立的连接。>\n"
     ]
    },
    {
     "name": "stderr",
     "output_type": "stream",
     "text": [
      "\r",
      "Processing compounds:  43%|███████████████████████▉                                | 1965/4599 [40:35<04:19, 10.16it/s]"
     ]
    },
    {
     "name": "stdout",
     "output_type": "stream",
     "text": [
      "Error: <urlopen error [WinError 10054] 远程主机强迫关闭了一个现有的连接。>\n",
      "Error: <urlopen error [WinError 10053] 你的主机中的软件中止了一个已建立的连接。>\n",
      "Error: <urlopen error [WinError 10053] 你的主机中的软件中止了一个已建立的连接。>\n"
     ]
    },
    {
     "name": "stderr",
     "output_type": "stream",
     "text": [
      "\r",
      "Processing compounds:  43%|███████████████████████▉                                | 1967/4599 [40:35<04:23,  9.97it/s]"
     ]
    },
    {
     "name": "stdout",
     "output_type": "stream",
     "text": [
      "Error: <urlopen error [WinError 10053] 你的主机中的软件中止了一个已建立的连接。>\n",
      "Error: <urlopen error [WinError 10054] 远程主机强迫关闭了一个现有的连接。>\n"
     ]
    },
    {
     "name": "stderr",
     "output_type": "stream",
     "text": [
      "Processing compounds:  43%|███████████████████████▉                                | 1970/4599 [40:36<04:51,  9.03it/s]"
     ]
    },
    {
     "name": "stdout",
     "output_type": "stream",
     "text": [
      "Error: <urlopen error [WinError 10053] 你的主机中的软件中止了一个已建立的连接。>\n",
      "Error: <urlopen error [WinError 10054] 远程主机强迫关闭了一个现有的连接。>\n",
      "Error: <urlopen error [WinError 10054] 远程主机强迫关闭了一个现有的连接。>\n"
     ]
    },
    {
     "name": "stderr",
     "output_type": "stream",
     "text": [
      "Processing compounds:  43%|████████████████████████                                | 1974/4599 [40:36<04:17, 10.19it/s]"
     ]
    },
    {
     "name": "stdout",
     "output_type": "stream",
     "text": [
      "Error: <urlopen error [WinError 10053] 你的主机中的软件中止了一个已建立的连接。>\n",
      "Error: <urlopen error [WinError 10053] 你的主机中的软件中止了一个已建立的连接。>\n",
      "Error: <urlopen error [WinError 10053] 你的主机中的软件中止了一个已建立的连接。>\n"
     ]
    },
    {
     "name": "stderr",
     "output_type": "stream",
     "text": [
      "\r",
      "Processing compounds:  43%|████████████████████████                                | 1976/4599 [40:36<04:04, 10.73it/s]"
     ]
    },
    {
     "name": "stdout",
     "output_type": "stream",
     "text": [
      "Error: <urlopen error [WinError 10054] 远程主机强迫关闭了一个现有的连接。>\n",
      "Error: <urlopen error [WinError 10054] 远程主机强迫关闭了一个现有的连接。>\n",
      "Error: <urlopen error [WinError 10054] 远程主机强迫关闭了一个现有的连接。>\n"
     ]
    },
    {
     "name": "stderr",
     "output_type": "stream",
     "text": [
      "Processing compounds:  43%|████████████████████████                                | 1980/4599 [40:37<03:49, 11.43it/s]"
     ]
    },
    {
     "name": "stdout",
     "output_type": "stream",
     "text": [
      "Error: <urlopen error TLS/SSL connection has been closed (EOF) (_ssl.c:1131)>\n",
      "Error: <urlopen error [WinError 10053] 你的主机中的软件中止了一个已建立的连接。>\n",
      "Error: <urlopen error TLS/SSL connection has been closed (EOF) (_ssl.c:1131)>\n"
     ]
    },
    {
     "name": "stderr",
     "output_type": "stream",
     "text": [
      "\r",
      "Processing compounds:  43%|████████████████████████▏                               | 1982/4599 [40:37<03:47, 11.52it/s]"
     ]
    },
    {
     "name": "stdout",
     "output_type": "stream",
     "text": [
      "Error: <urlopen error [WinError 10054] 远程主机强迫关闭了一个现有的连接。>\n",
      "Error: <urlopen error [WinError 10053] 你的主机中的软件中止了一个已建立的连接。>\n",
      "Error: <urlopen error [WinError 10054] 远程主机强迫关闭了一个现有的连接。>\n"
     ]
    },
    {
     "name": "stderr",
     "output_type": "stream",
     "text": [
      "\r",
      "Processing compounds:  43%|████████████████████████▏                               | 1984/4599 [40:37<03:50, 11.34it/s]"
     ]
    },
    {
     "name": "stdout",
     "output_type": "stream",
     "text": [
      "Error: <urlopen error [WinError 10053] 你的主机中的软件中止了一个已建立的连接。>\n",
      "Error: <urlopen error [WinError 10054] 远程主机强迫关闭了一个现有的连接。>\n"
     ]
    },
    {
     "name": "stderr",
     "output_type": "stream",
     "text": [
      "Processing compounds:  43%|████████████████████████▏                               | 1988/4599 [40:37<03:54, 11.16it/s]"
     ]
    },
    {
     "name": "stdout",
     "output_type": "stream",
     "text": [
      "Error: <urlopen error [WinError 10054] 远程主机强迫关闭了一个现有的连接。>\n",
      "Error: <urlopen error [WinError 10053] 你的主机中的软件中止了一个已建立的连接。>\n",
      "Error: <urlopen error [WinError 10053] 你的主机中的软件中止了一个已建立的连接。>\n"
     ]
    },
    {
     "name": "stderr",
     "output_type": "stream",
     "text": [
      "\r",
      "Processing compounds:  43%|████████████████████████▏                               | 1990/4599 [40:38<03:48, 11.40it/s]"
     ]
    },
    {
     "name": "stdout",
     "output_type": "stream",
     "text": [
      "Error: <urlopen error [WinError 10053] 你的主机中的软件中止了一个已建立的连接。>\n",
      "Error: <urlopen error [WinError 10053] 你的主机中的软件中止了一个已建立的连接。>\n",
      "Error: <urlopen error [WinError 10054] 远程主机强迫关闭了一个现有的连接。>\n"
     ]
    },
    {
     "name": "stderr",
     "output_type": "stream",
     "text": [
      "Processing compounds:  43%|████████████████████████▎                               | 1994/4599 [40:38<03:43, 11.68it/s]"
     ]
    },
    {
     "name": "stdout",
     "output_type": "stream",
     "text": [
      "Error: <urlopen error [WinError 10054] 远程主机强迫关闭了一个现有的连接。>\n",
      "Error: <urlopen error [WinError 10053] 你的主机中的软件中止了一个已建立的连接。>\n",
      "Error: <urlopen error [WinError 10053] 你的主机中的软件中止了一个已建立的连接。>\n"
     ]
    },
    {
     "name": "stderr",
     "output_type": "stream",
     "text": [
      "\r",
      "Processing compounds:  43%|████████████████████████▎                               | 1996/4599 [40:38<03:41, 11.73it/s]"
     ]
    },
    {
     "name": "stdout",
     "output_type": "stream",
     "text": [
      "Error: <urlopen error [WinError 10054] 远程主机强迫关闭了一个现有的连接。>\n",
      "Error: <urlopen error [WinError 10054] 远程主机强迫关闭了一个现有的连接。>\n",
      "Error: <urlopen error [WinError 10053] 你的主机中的软件中止了一个已建立的连接。>\n"
     ]
    },
    {
     "name": "stderr",
     "output_type": "stream",
     "text": [
      "Processing compounds:  43%|████████████████████████▎                               | 2000/4599 [40:38<03:53, 11.13it/s]"
     ]
    },
    {
     "name": "stdout",
     "output_type": "stream",
     "text": [
      "Error: <urlopen error [WinError 10053] 你的主机中的软件中止了一个已建立的连接。>\n",
      "Error: <urlopen error [WinError 10054] 远程主机强迫关闭了一个现有的连接。>\n",
      "Error: <urlopen error [WinError 10054] 远程主机强迫关闭了一个现有的连接。>\n"
     ]
    },
    {
     "name": "stderr",
     "output_type": "stream",
     "text": [
      "\r",
      "Processing compounds:  44%|████████████████████████▍                               | 2002/4599 [40:39<04:05, 10.59it/s]"
     ]
    },
    {
     "name": "stdout",
     "output_type": "stream",
     "text": [
      "Error: <urlopen error [WinError 10054] 远程主机强迫关闭了一个现有的连接。>\n",
      "Error: <urlopen error [WinError 10054] 远程主机强迫关闭了一个现有的连接。>\n",
      "Error: <urlopen error [WinError 10054] 远程主机强迫关闭了一个现有的连接。>\n"
     ]
    },
    {
     "name": "stderr",
     "output_type": "stream",
     "text": [
      "Processing compounds:  44%|████████████████████████▍                               | 2006/4599 [40:39<03:51, 11.20it/s]"
     ]
    },
    {
     "name": "stdout",
     "output_type": "stream",
     "text": [
      "Error: <urlopen error [WinError 10054] 远程主机强迫关闭了一个现有的连接。>\n",
      "Error: <urlopen error [WinError 10054] 远程主机强迫关闭了一个现有的连接。>\n",
      "Error: <urlopen error [WinError 10054] 远程主机强迫关闭了一个现有的连接。>\n"
     ]
    },
    {
     "name": "stderr",
     "output_type": "stream",
     "text": [
      "\r",
      "Processing compounds:  44%|████████████████████████▍                               | 2008/4599 [40:39<03:51, 11.17it/s]"
     ]
    },
    {
     "name": "stdout",
     "output_type": "stream",
     "text": [
      "Error: <urlopen error [WinError 10053] 你的主机中的软件中止了一个已建立的连接。>\n",
      "Error: <urlopen error [WinError 10054] 远程主机强迫关闭了一个现有的连接。>\n",
      "Error: <urlopen error [WinError 10053] 你的主机中的软件中止了一个已建立的连接。>\n"
     ]
    },
    {
     "name": "stderr",
     "output_type": "stream",
     "text": [
      "Processing compounds:  44%|████████████████████████▍                               | 2012/4599 [40:40<03:46, 11.43it/s]"
     ]
    },
    {
     "name": "stdout",
     "output_type": "stream",
     "text": [
      "Error: <urlopen error [WinError 10054] 远程主机强迫关闭了一个现有的连接。>\n",
      "Error: <urlopen error [WinError 10054] 远程主机强迫关闭了一个现有的连接。>\n",
      "Error: <urlopen error [WinError 10053] 你的主机中的软件中止了一个已建立的连接。>\n"
     ]
    },
    {
     "name": "stderr",
     "output_type": "stream",
     "text": [
      "\r",
      "Processing compounds:  44%|████████████████████████▌                               | 2014/4599 [40:40<03:43, 11.54it/s]"
     ]
    },
    {
     "name": "stdout",
     "output_type": "stream",
     "text": [
      "Error: <urlopen error [WinError 10053] 你的主机中的软件中止了一个已建立的连接。>\n",
      "Error: <urlopen error [WinError 10053] 你的主机中的软件中止了一个已建立的连接。>\n",
      "Error: <urlopen error [WinError 10053] 你的主机中的软件中止了一个已建立的连接。>\n"
     ]
    },
    {
     "name": "stderr",
     "output_type": "stream",
     "text": [
      "Processing compounds:  44%|████████████████████████▌                               | 2018/4599 [40:40<03:39, 11.76it/s]"
     ]
    },
    {
     "name": "stdout",
     "output_type": "stream",
     "text": [
      "Error: <urlopen error [WinError 10054] 远程主机强迫关闭了一个现有的连接。>\n",
      "Error: <urlopen error [WinError 10053] 你的主机中的软件中止了一个已建立的连接。>\n",
      "Error: <urlopen error [WinError 10053] 你的主机中的软件中止了一个已建立的连接。>\n"
     ]
    },
    {
     "name": "stderr",
     "output_type": "stream",
     "text": [
      "\r",
      "Processing compounds:  44%|████████████████████████▌                               | 2020/4599 [40:40<03:38, 11.78it/s]"
     ]
    },
    {
     "name": "stdout",
     "output_type": "stream",
     "text": [
      "Error: <urlopen error [WinError 10054] 远程主机强迫关闭了一个现有的连接。>\n",
      "Error: <urlopen error [WinError 10053] 你的主机中的软件中止了一个已建立的连接。>\n",
      "Error: <urlopen error [WinError 10053] 你的主机中的软件中止了一个已建立的连接。>\n"
     ]
    },
    {
     "name": "stderr",
     "output_type": "stream",
     "text": [
      "Processing compounds:  44%|████████████████████████▋                               | 2024/4599 [40:41<03:37, 11.86it/s]"
     ]
    },
    {
     "name": "stdout",
     "output_type": "stream",
     "text": [
      "Error: <urlopen error [WinError 10054] 远程主机强迫关闭了一个现有的连接。>\n",
      "Error: <urlopen error [WinError 10053] 你的主机中的软件中止了一个已建立的连接。>\n",
      "Error: <urlopen error [WinError 10054] 远程主机强迫关闭了一个现有的连接。>\n"
     ]
    },
    {
     "name": "stderr",
     "output_type": "stream",
     "text": [
      "\r",
      "Processing compounds:  44%|████████████████████████▋                               | 2026/4599 [40:41<03:40, 11.65it/s]"
     ]
    },
    {
     "name": "stdout",
     "output_type": "stream",
     "text": [
      "Error: <urlopen error [WinError 10054] 远程主机强迫关闭了一个现有的连接。>\n",
      "Error: <urlopen error [WinError 10054] 远程主机强迫关闭了一个现有的连接。>\n",
      "Error: <urlopen error [WinError 10054] 远程主机强迫关闭了一个现有的连接。>\n"
     ]
    },
    {
     "name": "stderr",
     "output_type": "stream",
     "text": [
      "Processing compounds:  44%|████████████████████████▋                               | 2030/4599 [40:41<03:35, 11.91it/s]"
     ]
    },
    {
     "name": "stdout",
     "output_type": "stream",
     "text": [
      "Error: <urlopen error [WinError 10054] 远程主机强迫关闭了一个现有的连接。>\n",
      "Error: <urlopen error [WinError 10053] 你的主机中的软件中止了一个已建立的连接。>\n",
      "Error: <urlopen error [WinError 10053] 你的主机中的软件中止了一个已建立的连接。>\n"
     ]
    },
    {
     "name": "stderr",
     "output_type": "stream",
     "text": [
      "\r",
      "Processing compounds:  44%|████████████████████████▋                               | 2032/4599 [40:41<03:40, 11.63it/s]"
     ]
    },
    {
     "name": "stdout",
     "output_type": "stream",
     "text": [
      "Error: <urlopen error [WinError 10054] 远程主机强迫关闭了一个现有的连接。>\n",
      "Error: <urlopen error [WinError 10053] 你的主机中的软件中止了一个已建立的连接。>\n",
      "Error: <urlopen error [WinError 10054] 远程主机强迫关闭了一个现有的连接。>\n"
     ]
    },
    {
     "name": "stderr",
     "output_type": "stream",
     "text": [
      "Processing compounds:  44%|████████████████████████▊                               | 2036/4599 [40:42<03:35, 11.88it/s]"
     ]
    },
    {
     "name": "stdout",
     "output_type": "stream",
     "text": [
      "Error: <urlopen error [WinError 10054] 远程主机强迫关闭了一个现有的连接。>\n",
      "Error: <urlopen error [WinError 10054] 远程主机强迫关闭了一个现有的连接。>\n",
      "Error: <urlopen error [WinError 10054] 远程主机强迫关闭了一个现有的连接。>\n"
     ]
    },
    {
     "name": "stderr",
     "output_type": "stream",
     "text": [
      "\r",
      "Processing compounds:  44%|████████████████████████▊                               | 2038/4599 [40:42<03:35, 11.89it/s]"
     ]
    },
    {
     "name": "stdout",
     "output_type": "stream",
     "text": [
      "Error: <urlopen error [WinError 10054] 远程主机强迫关闭了一个现有的连接。>\n",
      "Error: <urlopen error [WinError 10054] 远程主机强迫关闭了一个现有的连接。>\n",
      "Error: <urlopen error [WinError 10053] 你的主机中的软件中止了一个已建立的连接。>\n"
     ]
    },
    {
     "name": "stderr",
     "output_type": "stream",
     "text": [
      "Processing compounds:  44%|████████████████████████▊                               | 2042/4599 [40:42<03:31, 12.06it/s]"
     ]
    },
    {
     "name": "stdout",
     "output_type": "stream",
     "text": [
      "Error: <urlopen error [WinError 10053] 你的主机中的软件中止了一个已建立的连接。>\n",
      "Error: <urlopen error [WinError 10054] 远程主机强迫关闭了一个现有的连接。>\n",
      "Error: <urlopen error [WinError 10054] 远程主机强迫关闭了一个现有的连接。>\n"
     ]
    },
    {
     "name": "stderr",
     "output_type": "stream",
     "text": [
      "\r",
      "Processing compounds:  44%|████████████████████████▉                               | 2044/4599 [40:42<03:31, 12.07it/s]"
     ]
    },
    {
     "name": "stdout",
     "output_type": "stream",
     "text": [
      "Error: <urlopen error [WinError 10053] 你的主机中的软件中止了一个已建立的连接。>\n",
      "Error: <urlopen error [WinError 10053] 你的主机中的软件中止了一个已建立的连接。>\n",
      "Error: <urlopen error [WinError 10053] 你的主机中的软件中止了一个已建立的连接。>\n"
     ]
    },
    {
     "name": "stderr",
     "output_type": "stream",
     "text": [
      "Processing compounds:  45%|████████████████████████▉                               | 2048/4599 [40:43<03:29, 12.18it/s]"
     ]
    },
    {
     "name": "stdout",
     "output_type": "stream",
     "text": [
      "Error: <urlopen error [WinError 10053] 你的主机中的软件中止了一个已建立的连接。>\n",
      "Error: <urlopen error [WinError 10053] 你的主机中的软件中止了一个已建立的连接。>\n",
      "Error: <urlopen error [WinError 10054] 远程主机强迫关闭了一个现有的连接。>\n"
     ]
    },
    {
     "name": "stderr",
     "output_type": "stream",
     "text": [
      "\r",
      "Processing compounds:  45%|████████████████████████▉                               | 2050/4599 [40:43<03:35, 11.83it/s]"
     ]
    },
    {
     "name": "stdout",
     "output_type": "stream",
     "text": [
      "Error: <urlopen error [WinError 10054] 远程主机强迫关闭了一个现有的连接。>\n",
      "Error: <urlopen error [WinError 10054] 远程主机强迫关闭了一个现有的连接。>\n",
      "Error: <urlopen error [WinError 10054] 远程主机强迫关闭了一个现有的连接。>\n"
     ]
    },
    {
     "name": "stderr",
     "output_type": "stream",
     "text": [
      "Processing compounds:  45%|█████████████████████████                               | 2054/4599 [40:43<03:30, 12.11it/s]"
     ]
    },
    {
     "name": "stdout",
     "output_type": "stream",
     "text": [
      "Error: <urlopen error [WinError 10054] 远程主机强迫关闭了一个现有的连接。>\n",
      "Error: <urlopen error [WinError 10053] 你的主机中的软件中止了一个已建立的连接。>\n",
      "Error: <urlopen error [WinError 10053] 你的主机中的软件中止了一个已建立的连接。>\n"
     ]
    },
    {
     "name": "stderr",
     "output_type": "stream",
     "text": [
      "\r",
      "Processing compounds:  45%|█████████████████████████                               | 2056/4599 [40:43<03:31, 12.02it/s]"
     ]
    },
    {
     "name": "stdout",
     "output_type": "stream",
     "text": [
      "Error: <urlopen error [WinError 10054] 远程主机强迫关闭了一个现有的连接。>\n",
      "Error: <urlopen error [WinError 10054] 远程主机强迫关闭了一个现有的连接。>\n",
      "Error: <urlopen error [WinError 10053] 你的主机中的软件中止了一个已建立的连接。>\n"
     ]
    },
    {
     "name": "stderr",
     "output_type": "stream",
     "text": [
      "Processing compounds:  45%|█████████████████████████                               | 2060/4599 [40:44<03:32, 11.97it/s]"
     ]
    },
    {
     "name": "stdout",
     "output_type": "stream",
     "text": [
      "Error: <urlopen error [WinError 10053] 你的主机中的软件中止了一个已建立的连接。>\n",
      "Error: <urlopen error [WinError 10053] 你的主机中的软件中止了一个已建立的连接。>\n",
      "Error: <urlopen error [WinError 10054] 远程主机强迫关闭了一个现有的连接。>\n"
     ]
    },
    {
     "name": "stderr",
     "output_type": "stream",
     "text": [
      "\r",
      "Processing compounds:  45%|█████████████████████████                               | 2062/4599 [40:44<03:34, 11.82it/s]"
     ]
    },
    {
     "name": "stdout",
     "output_type": "stream",
     "text": [
      "Error: <urlopen error [WinError 10054] 远程主机强迫关闭了一个现有的连接。>\n",
      "Error: <urlopen error [WinError 10053] 你的主机中的软件中止了一个已建立的连接。>\n",
      "Error: <urlopen error [WinError 10054] 远程主机强迫关闭了一个现有的连接。>\n"
     ]
    },
    {
     "name": "stderr",
     "output_type": "stream",
     "text": [
      "Processing compounds:  45%|█████████████████████████▏                              | 2066/4599 [40:44<03:31, 11.99it/s]"
     ]
    },
    {
     "name": "stdout",
     "output_type": "stream",
     "text": [
      "Error: <urlopen error [WinError 10054] 远程主机强迫关闭了一个现有的连接。>\n",
      "Error: <urlopen error [WinError 10053] 你的主机中的软件中止了一个已建立的连接。>\n",
      "Error: <urlopen error [WinError 10053] 你的主机中的软件中止了一个已建立的连接。>\n"
     ]
    },
    {
     "name": "stderr",
     "output_type": "stream",
     "text": [
      "\r",
      "Processing compounds:  45%|█████████████████████████▏                              | 2068/4599 [40:44<03:30, 12.02it/s]"
     ]
    },
    {
     "name": "stdout",
     "output_type": "stream",
     "text": [
      "Error: <urlopen error [WinError 10054] 远程主机强迫关闭了一个现有的连接。>\n",
      "Error: <urlopen error [WinError 10053] 你的主机中的软件中止了一个已建立的连接。>\n",
      "Error: <urlopen error TLS/SSL connection has been closed (EOF) (_ssl.c:1131)>\n"
     ]
    },
    {
     "name": "stderr",
     "output_type": "stream",
     "text": [
      "Processing compounds:  45%|█████████████████████████▏                              | 2072/4599 [40:45<03:32, 11.87it/s]"
     ]
    },
    {
     "name": "stdout",
     "output_type": "stream",
     "text": [
      "Error: <urlopen error [WinError 10054] 远程主机强迫关闭了一个现有的连接。>\n",
      "Error: <urlopen error [WinError 10053] 你的主机中的软件中止了一个已建立的连接。>\n",
      "Error: <urlopen error [WinError 10053] 你的主机中的软件中止了一个已建立的连接。>\n"
     ]
    },
    {
     "name": "stderr",
     "output_type": "stream",
     "text": [
      "\r",
      "Processing compounds:  45%|█████████████████████████▎                              | 2074/4599 [40:45<03:40, 11.45it/s]"
     ]
    },
    {
     "name": "stdout",
     "output_type": "stream",
     "text": [
      "Error: <urlopen error [WinError 10054] 远程主机强迫关闭了一个现有的连接。>\n",
      "Error: <urlopen error [WinError 10053] 你的主机中的软件中止了一个已建立的连接。>\n",
      "Error: <urlopen error [WinError 10053] 你的主机中的软件中止了一个已建立的连接。>\n"
     ]
    },
    {
     "name": "stderr",
     "output_type": "stream",
     "text": [
      "\r",
      "Processing compounds:  45%|█████████████████████████▎                              | 2076/4599 [40:45<03:49, 10.99it/s]"
     ]
    },
    {
     "name": "stdout",
     "output_type": "stream",
     "text": [
      "Error: <urlopen error [WinError 10054] 远程主机强迫关闭了一个现有的连接。>\n",
      "Error: <urlopen error [WinError 10054] 远程主机强迫关闭了一个现有的连接。>\n"
     ]
    },
    {
     "name": "stderr",
     "output_type": "stream",
     "text": [
      "\r",
      "Processing compounds:  45%|█████████████████████████▎                              | 2078/4599 [40:45<03:52, 10.86it/s]"
     ]
    },
    {
     "name": "stdout",
     "output_type": "stream",
     "text": [
      "Error: <urlopen error [WinError 10053] 你的主机中的软件中止了一个已建立的连接。>\n",
      "Error: <urlopen error [WinError 10053] 你的主机中的软件中止了一个已建立的连接。>\n"
     ]
    },
    {
     "name": "stderr",
     "output_type": "stream",
     "text": [
      "Processing compounds:  45%|█████████████████████████▎                              | 2082/4599 [40:46<04:16,  9.82it/s]"
     ]
    },
    {
     "name": "stdout",
     "output_type": "stream",
     "text": [
      "Error: <urlopen error [WinError 10054] 远程主机强迫关闭了一个现有的连接。>\n",
      "Error: <urlopen error [WinError 10054] 远程主机强迫关闭了一个现有的连接。>\n",
      "Error: <urlopen error [WinError 10054] 远程主机强迫关闭了一个现有的连接。>\n"
     ]
    },
    {
     "name": "stderr",
     "output_type": "stream",
     "text": [
      "Processing compounds:  45%|█████████████████████████▍                              | 2085/4599 [40:46<04:12,  9.94it/s]"
     ]
    },
    {
     "name": "stdout",
     "output_type": "stream",
     "text": [
      "Error: <urlopen error [WinError 10054] 远程主机强迫关闭了一个现有的连接。>\n",
      "Error: <urlopen error [WinError 10054] 远程主机强迫关闭了一个现有的连接。>\n",
      "Error: <urlopen error [WinError 10053] 你的主机中的软件中止了一个已建立的连接。>\n"
     ]
    },
    {
     "name": "stderr",
     "output_type": "stream",
     "text": [
      "\r",
      "Processing compounds:  45%|█████████████████████████▍                              | 2087/4599 [40:46<04:05, 10.25it/s]"
     ]
    },
    {
     "name": "stdout",
     "output_type": "stream",
     "text": [
      "Error: <urlopen error [WinError 10053] 你的主机中的软件中止了一个已建立的连接。>\n",
      "Error: <urlopen error [WinError 10054] 远程主机强迫关闭了一个现有的连接。>\n",
      "Error: <urlopen error [WinError 10053] 你的主机中的软件中止了一个已建立的连接。>\n"
     ]
    },
    {
     "name": "stderr",
     "output_type": "stream",
     "text": [
      "Processing compounds:  45%|█████████████████████████▍                              | 2091/4599 [40:46<03:45, 11.12it/s]"
     ]
    },
    {
     "name": "stdout",
     "output_type": "stream",
     "text": [
      "Error: <urlopen error [WinError 10054] 远程主机强迫关闭了一个现有的连接。>\n",
      "Error: <urlopen error [WinError 10053] 你的主机中的软件中止了一个已建立的连接。>\n",
      "Error: <urlopen error [WinError 10054] 远程主机强迫关闭了一个现有的连接。>\n"
     ]
    },
    {
     "name": "stderr",
     "output_type": "stream",
     "text": [
      "\r",
      "Processing compounds:  46%|█████████████████████████▍                              | 2093/4599 [40:47<03:42, 11.28it/s]"
     ]
    },
    {
     "name": "stdout",
     "output_type": "stream",
     "text": [
      "Error: <urlopen error [WinError 10054] 远程主机强迫关闭了一个现有的连接。>\n",
      "Error: <urlopen error [WinError 10054] 远程主机强迫关闭了一个现有的连接。>\n",
      "Error: <urlopen error [WinError 10054] 远程主机强迫关闭了一个现有的连接。>\n"
     ]
    },
    {
     "name": "stderr",
     "output_type": "stream",
     "text": [
      "Processing compounds:  46%|█████████████████████████▌                              | 2097/4599 [40:47<03:33, 11.73it/s]"
     ]
    },
    {
     "name": "stdout",
     "output_type": "stream",
     "text": [
      "Error: <urlopen error [WinError 10054] 远程主机强迫关闭了一个现有的连接。>\n",
      "Error: <urlopen error [WinError 10053] 你的主机中的软件中止了一个已建立的连接。>\n",
      "Error: <urlopen error [WinError 10053] 你的主机中的软件中止了一个已建立的连接。>\n"
     ]
    },
    {
     "name": "stderr",
     "output_type": "stream",
     "text": [
      "\r",
      "Processing compounds:  46%|█████████████████████████▌                              | 2099/4599 [40:47<03:30, 11.89it/s]"
     ]
    },
    {
     "name": "stdout",
     "output_type": "stream",
     "text": [
      "Error: <urlopen error [WinError 10054] 远程主机强迫关闭了一个现有的连接。>\n",
      "Error: <urlopen error [WinError 10053] 你的主机中的软件中止了一个已建立的连接。>\n",
      "Error: <urlopen error [WinError 10053] 你的主机中的软件中止了一个已建立的连接。>\n"
     ]
    },
    {
     "name": "stderr",
     "output_type": "stream",
     "text": [
      "\r",
      "Processing compounds:  46%|█████████████████████████▌                              | 2101/4599 [40:47<03:28, 11.96it/s]"
     ]
    },
    {
     "name": "stdout",
     "output_type": "stream",
     "text": [
      "Error: <urlopen error [WinError 10054] 远程主机强迫关闭了一个现有的连接。>\n",
      "Error: <urlopen error [WinError 10054] 远程主机强迫关闭了一个现有的连接。>\n"
     ]
    },
    {
     "name": "stderr",
     "output_type": "stream",
     "text": [
      "Processing compounds:  46%|█████████████████████████▋                              | 2105/4599 [40:48<04:02, 10.28it/s]"
     ]
    },
    {
     "name": "stdout",
     "output_type": "stream",
     "text": [
      "Error: <urlopen error [WinError 10054] 远程主机强迫关闭了一个现有的连接。>\n",
      "Error: <urlopen error [WinError 10054] 远程主机强迫关闭了一个现有的连接。>\n",
      "Error: <urlopen error [WinError 10054] 远程主机强迫关闭了一个现有的连接。>\n"
     ]
    },
    {
     "name": "stderr",
     "output_type": "stream",
     "text": [
      "\r",
      "Processing compounds:  46%|█████████████████████████▋                              | 2107/4599 [40:48<03:51, 10.74it/s]"
     ]
    },
    {
     "name": "stdout",
     "output_type": "stream",
     "text": [
      "Error: <urlopen error [WinError 10053] 你的主机中的软件中止了一个已建立的连接。>\n",
      "Error: <urlopen error [WinError 10054] 远程主机强迫关闭了一个现有的连接。>\n",
      "Error: <urlopen error [WinError 10053] 你的主机中的软件中止了一个已建立的连接。>\n"
     ]
    },
    {
     "name": "stderr",
     "output_type": "stream",
     "text": [
      "Processing compounds:  46%|█████████████████████████▋                              | 2111/4599 [40:48<03:36, 11.50it/s]"
     ]
    },
    {
     "name": "stdout",
     "output_type": "stream",
     "text": [
      "Error: <urlopen error [WinError 10054] 远程主机强迫关闭了一个现有的连接。>\n",
      "Error: <urlopen error [WinError 10053] 你的主机中的软件中止了一个已建立的连接。>\n",
      "Error: <urlopen error [WinError 10053] 你的主机中的软件中止了一个已建立的连接。>\n"
     ]
    },
    {
     "name": "stderr",
     "output_type": "stream",
     "text": [
      "\r",
      "Processing compounds:  46%|█████████████████████████▋                              | 2113/4599 [40:48<03:34, 11.60it/s]"
     ]
    },
    {
     "name": "stdout",
     "output_type": "stream",
     "text": [
      "Error: <urlopen error [WinError 10054] 远程主机强迫关闭了一个现有的连接。>\n",
      "Error: <urlopen error [WinError 10054] 远程主机强迫关闭了一个现有的连接。>\n",
      "Error: <urlopen error TLS/SSL connection has been closed (EOF) (_ssl.c:1131)>\n"
     ]
    },
    {
     "name": "stderr",
     "output_type": "stream",
     "text": [
      "Processing compounds:  46%|█████████████████████████▊                              | 2117/4599 [40:49<03:28, 11.91it/s]"
     ]
    },
    {
     "name": "stdout",
     "output_type": "stream",
     "text": [
      "Error: <urlopen error [WinError 10054] 远程主机强迫关闭了一个现有的连接。>\n",
      "Error: <urlopen error [WinError 10053] 你的主机中的软件中止了一个已建立的连接。>\n",
      "Error: <urlopen error [WinError 10053] 你的主机中的软件中止了一个已建立的连接。>\n"
     ]
    },
    {
     "name": "stderr",
     "output_type": "stream",
     "text": [
      "\r",
      "Processing compounds:  46%|█████████████████████████▊                              | 2119/4599 [40:49<03:29, 11.84it/s]"
     ]
    },
    {
     "name": "stdout",
     "output_type": "stream",
     "text": [
      "Error: <urlopen error [WinError 10054] 远程主机强迫关闭了一个现有的连接。>\n",
      "Error: <urlopen error [WinError 10053] 你的主机中的软件中止了一个已建立的连接。>\n",
      "Error: <urlopen error [WinError 10053] 你的主机中的软件中止了一个已建立的连接。>\n"
     ]
    },
    {
     "name": "stderr",
     "output_type": "stream",
     "text": [
      "Processing compounds:  46%|█████████████████████████▊                              | 2123/4599 [40:49<03:25, 12.07it/s]"
     ]
    },
    {
     "name": "stdout",
     "output_type": "stream",
     "text": [
      "Error: <urlopen error [WinError 10054] 远程主机强迫关闭了一个现有的连接。>\n",
      "Error: <urlopen error [WinError 10053] 你的主机中的软件中止了一个已建立的连接。>\n",
      "Error: <urlopen error [WinError 10054] 远程主机强迫关闭了一个现有的连接。>\n"
     ]
    },
    {
     "name": "stderr",
     "output_type": "stream",
     "text": [
      "\r",
      "Processing compounds:  46%|█████████████████████████▉                              | 2125/4599 [40:49<03:25, 12.04it/s]"
     ]
    },
    {
     "name": "stdout",
     "output_type": "stream",
     "text": [
      "Error: <urlopen error [WinError 10054] 远程主机强迫关闭了一个现有的连接。>\n",
      "Error: <urlopen error [WinError 10054] 远程主机强迫关闭了一个现有的连接。>\n",
      "Error: <urlopen error [WinError 10053] 你的主机中的软件中止了一个已建立的连接。>\n"
     ]
    },
    {
     "name": "stderr",
     "output_type": "stream",
     "text": [
      "Processing compounds:  46%|█████████████████████████▉                              | 2129/4599 [40:50<03:33, 11.57it/s]"
     ]
    },
    {
     "name": "stdout",
     "output_type": "stream",
     "text": [
      "Error: <urlopen error [WinError 10054] 远程主机强迫关闭了一个现有的连接。>\n",
      "Error: <urlopen error [WinError 10054] 远程主机强迫关闭了一个现有的连接。>\n",
      "Error: <urlopen error [WinError 10053] 你的主机中的软件中止了一个已建立的连接。>\n"
     ]
    },
    {
     "name": "stderr",
     "output_type": "stream",
     "text": [
      "\r",
      "Processing compounds:  46%|█████████████████████████▉                              | 2131/4599 [40:50<03:29, 11.78it/s]"
     ]
    },
    {
     "name": "stdout",
     "output_type": "stream",
     "text": [
      "Error: <urlopen error [WinError 10053] 你的主机中的软件中止了一个已建立的连接。>\n",
      "Error: <urlopen error [WinError 10053] 你的主机中的软件中止了一个已建立的连接。>\n",
      "Error: <urlopen error [WinError 10053] 你的主机中的软件中止了一个已建立的连接。>\n"
     ]
    },
    {
     "name": "stderr",
     "output_type": "stream",
     "text": [
      "Processing compounds:  46%|█████████████████████████▉                              | 2135/4599 [40:50<03:25, 12.00it/s]"
     ]
    },
    {
     "name": "stdout",
     "output_type": "stream",
     "text": [
      "Error: <urlopen error [WinError 10054] 远程主机强迫关闭了一个现有的连接。>\n",
      "Error: <urlopen error TLS/SSL connection has been closed (EOF) (_ssl.c:1131)>\n",
      "Error: <urlopen error [WinError 10053] 你的主机中的软件中止了一个已建立的连接。>\n"
     ]
    },
    {
     "name": "stderr",
     "output_type": "stream",
     "text": [
      "\r",
      "Processing compounds:  46%|██████████████████████████                              | 2137/4599 [40:50<03:26, 11.95it/s]"
     ]
    },
    {
     "name": "stdout",
     "output_type": "stream",
     "text": [
      "Error: <urlopen error [WinError 10054] 远程主机强迫关闭了一个现有的连接。>\n",
      "Error: <urlopen error [WinError 10054] 远程主机强迫关闭了一个现有的连接。>\n",
      "Error: <urlopen error [WinError 10054] 远程主机强迫关闭了一个现有的连接。>\n"
     ]
    },
    {
     "name": "stderr",
     "output_type": "stream",
     "text": [
      "Processing compounds:  47%|██████████████████████████                              | 2141/4599 [40:51<03:26, 11.92it/s]"
     ]
    },
    {
     "name": "stdout",
     "output_type": "stream",
     "text": [
      "Error: <urlopen error [WinError 10054] 远程主机强迫关闭了一个现有的连接。>\n",
      "Error: <urlopen error [WinError 10053] 你的主机中的软件中止了一个已建立的连接。>\n",
      "Error: <urlopen error [WinError 10054] 远程主机强迫关闭了一个现有的连接。>\n"
     ]
    },
    {
     "name": "stderr",
     "output_type": "stream",
     "text": [
      "\r",
      "Processing compounds:  47%|██████████████████████████                              | 2143/4599 [40:51<03:29, 11.70it/s]"
     ]
    },
    {
     "name": "stdout",
     "output_type": "stream",
     "text": [
      "Error: <urlopen error [WinError 10054] 远程主机强迫关闭了一个现有的连接。>\n",
      "Error: <urlopen error [WinError 10054] 远程主机强迫关闭了一个现有的连接。>\n",
      "Error: <urlopen error [WinError 10054] 远程主机强迫关闭了一个现有的连接。>\n"
     ]
    },
    {
     "name": "stderr",
     "output_type": "stream",
     "text": [
      "Processing compounds:  47%|██████████████████████████▏                             | 2147/4599 [40:51<03:27, 11.80it/s]"
     ]
    },
    {
     "name": "stdout",
     "output_type": "stream",
     "text": [
      "Error: <urlopen error [WinError 10054] 远程主机强迫关闭了一个现有的连接。>\n",
      "Error: <urlopen error [WinError 10053] 你的主机中的软件中止了一个已建立的连接。>\n",
      "Error: <urlopen error [WinError 10053] 你的主机中的软件中止了一个已建立的连接。>\n"
     ]
    },
    {
     "name": "stderr",
     "output_type": "stream",
     "text": [
      "\r",
      "Processing compounds:  47%|██████████████████████████▏                             | 2149/4599 [40:51<03:25, 11.90it/s]"
     ]
    },
    {
     "name": "stdout",
     "output_type": "stream",
     "text": [
      "Error: <urlopen error [WinError 10054] 远程主机强迫关闭了一个现有的连接。>\n",
      "Error: <urlopen error [WinError 10054] 远程主机强迫关闭了一个现有的连接。>\n",
      "Error: <urlopen error [WinError 10053] 你的主机中的软件中止了一个已建立的连接。>\n"
     ]
    },
    {
     "name": "stderr",
     "output_type": "stream",
     "text": [
      "Processing compounds:  47%|██████████████████████████▏                             | 2153/4599 [40:52<03:38, 11.19it/s]"
     ]
    },
    {
     "name": "stdout",
     "output_type": "stream",
     "text": [
      "Error: <urlopen error [WinError 10053] 你的主机中的软件中止了一个已建立的连接。>\n",
      "Error: <urlopen error [WinError 10053] 你的主机中的软件中止了一个已建立的连接。>\n",
      "Error: <urlopen error [WinError 10053] 你的主机中的软件中止了一个已建立的连接。>\n"
     ]
    },
    {
     "name": "stderr",
     "output_type": "stream",
     "text": [
      "\r",
      "Processing compounds:  47%|██████████████████████████▏                             | 2155/4599 [40:52<03:39, 11.14it/s]"
     ]
    },
    {
     "name": "stdout",
     "output_type": "stream",
     "text": [
      "Error: <urlopen error [WinError 10054] 远程主机强迫关闭了一个现有的连接。>\n",
      "Error: <urlopen error TLS/SSL connection has been closed (EOF) (_ssl.c:1131)>\n",
      "Error: <urlopen error [WinError 10054] 远程主机强迫关闭了一个现有的连接。>\n"
     ]
    },
    {
     "name": "stderr",
     "output_type": "stream",
     "text": [
      "Processing compounds:  47%|██████████████████████████▎                             | 2159/4599 [40:52<03:37, 11.23it/s]"
     ]
    },
    {
     "name": "stdout",
     "output_type": "stream",
     "text": [
      "Error: <urlopen error [WinError 10054] 远程主机强迫关闭了一个现有的连接。>\n",
      "Error: <urlopen error [WinError 10053] 你的主机中的软件中止了一个已建立的连接。>\n",
      "Error: <urlopen error [WinError 10054] 远程主机强迫关闭了一个现有的连接。>\n"
     ]
    },
    {
     "name": "stderr",
     "output_type": "stream",
     "text": [
      "\r",
      "Processing compounds:  47%|██████████████████████████▎                             | 2161/4599 [40:53<04:13,  9.63it/s]"
     ]
    },
    {
     "name": "stdout",
     "output_type": "stream",
     "text": [
      "Error: <urlopen error [WinError 10053] 你的主机中的软件中止了一个已建立的连接。>\n",
      "Error: <urlopen error [WinError 10054] 远程主机强迫关闭了一个现有的连接。>\n"
     ]
    },
    {
     "name": "stderr",
     "output_type": "stream",
     "text": [
      "\r",
      "Processing compounds:  47%|██████████████████████████▎                             | 2163/4599 [40:53<04:45,  8.52it/s]"
     ]
    },
    {
     "name": "stdout",
     "output_type": "stream",
     "text": [
      "Error: <urlopen error [WinError 10054] 远程主机强迫关闭了一个现有的连接。>\n",
      "Error: <urlopen error [WinError 10054] 远程主机强迫关闭了一个现有的连接。>\n"
     ]
    },
    {
     "name": "stderr",
     "output_type": "stream",
     "text": [
      "Processing compounds:  47%|██████████████████████████▎                             | 2165/4599 [40:53<05:25,  7.48it/s]"
     ]
    },
    {
     "name": "stdout",
     "output_type": "stream",
     "text": [
      "Error: <urlopen error [WinError 10054] 远程主机强迫关闭了一个现有的连接。>\n",
      "Error: <urlopen error [WinError 10054] 远程主机强迫关闭了一个现有的连接。>\n"
     ]
    },
    {
     "name": "stderr",
     "output_type": "stream",
     "text": [
      "Processing compounds:  47%|██████████████████████████▍                             | 2167/4599 [40:53<04:54,  8.25it/s]"
     ]
    },
    {
     "name": "stdout",
     "output_type": "stream",
     "text": [
      "Error: <urlopen error [WinError 10053] 你的主机中的软件中止了一个已建立的连接。>\n",
      "Error: <urlopen error [WinError 10054] 远程主机强迫关闭了一个现有的连接。>\n",
      "Error: <urlopen error [WinError 10053] 你的主机中的软件中止了一个已建立的连接。>\n"
     ]
    },
    {
     "name": "stderr",
     "output_type": "stream",
     "text": [
      "Processing compounds:  47%|██████████████████████████▍                             | 2171/4599 [40:54<04:04,  9.94it/s]"
     ]
    },
    {
     "name": "stdout",
     "output_type": "stream",
     "text": [
      "Error: <urlopen error [WinError 10054] 远程主机强迫关闭了一个现有的连接。>\n",
      "Error: <urlopen error [WinError 10053] 你的主机中的软件中止了一个已建立的连接。>\n",
      "Error: <urlopen error [WinError 10054] 远程主机强迫关闭了一个现有的连接。>\n"
     ]
    },
    {
     "name": "stderr",
     "output_type": "stream",
     "text": [
      "\r",
      "Processing compounds:  47%|██████████████████████████▍                             | 2173/4599 [40:54<03:52, 10.42it/s]"
     ]
    },
    {
     "name": "stdout",
     "output_type": "stream",
     "text": [
      "Error: <urlopen error [WinError 10053] 你的主机中的软件中止了一个已建立的连接。>\n",
      "Error: <urlopen error [WinError 10054] 远程主机强迫关闭了一个现有的连接。>\n",
      "Error: <urlopen error [WinError 10054] 远程主机强迫关闭了一个现有的连接。>\n"
     ]
    },
    {
     "name": "stderr",
     "output_type": "stream",
     "text": [
      "\r",
      "Processing compounds:  47%|██████████████████████████▍                             | 2175/4599 [40:54<03:43, 10.84it/s]"
     ]
    },
    {
     "name": "stdout",
     "output_type": "stream",
     "text": [
      "Error: <urlopen error [WinError 10054] 远程主机强迫关闭了一个现有的连接。>\n",
      "Error: <urlopen error [WinError 10053] 你的主机中的软件中止了一个已建立的连接。>\n"
     ]
    },
    {
     "name": "stderr",
     "output_type": "stream",
     "text": [
      "Processing compounds:  47%|██████████████████████████▌                             | 2179/4599 [40:55<03:53, 10.37it/s]"
     ]
    },
    {
     "name": "stdout",
     "output_type": "stream",
     "text": [
      "Error: <urlopen error [WinError 10054] 远程主机强迫关闭了一个现有的连接。>\n",
      "Error: <urlopen error [WinError 10054] 远程主机强迫关闭了一个现有的连接。>\n",
      "Error: <urlopen error [WinError 10053] 你的主机中的软件中止了一个已建立的连接。>\n"
     ]
    },
    {
     "name": "stderr",
     "output_type": "stream",
     "text": [
      "\r",
      "Processing compounds:  47%|██████████████████████████▌                             | 2181/4599 [40:55<03:44, 10.77it/s]"
     ]
    },
    {
     "name": "stdout",
     "output_type": "stream",
     "text": [
      "Error: <urlopen error [WinError 10053] 你的主机中的软件中止了一个已建立的连接。>\n",
      "Error: <urlopen error [WinError 10054] 远程主机强迫关闭了一个现有的连接。>\n",
      "Error: <urlopen error [WinError 10054] 远程主机强迫关闭了一个现有的连接。>\n"
     ]
    },
    {
     "name": "stderr",
     "output_type": "stream",
     "text": [
      "Processing compounds:  48%|██████████████████████████▌                             | 2185/4599 [40:55<03:34, 11.26it/s]"
     ]
    },
    {
     "name": "stdout",
     "output_type": "stream",
     "text": [
      "Error: <urlopen error [WinError 10053] 你的主机中的软件中止了一个已建立的连接。>\n",
      "Error: <urlopen error [WinError 10054] 远程主机强迫关闭了一个现有的连接。>\n",
      "Error: <urlopen error [WinError 10054] 远程主机强迫关闭了一个现有的连接。>\n"
     ]
    },
    {
     "name": "stderr",
     "output_type": "stream",
     "text": [
      "\r",
      "Processing compounds:  48%|██████████████████████████▋                             | 2187/4599 [40:55<03:30, 11.44it/s]"
     ]
    },
    {
     "name": "stdout",
     "output_type": "stream",
     "text": [
      "Error: <urlopen error [WinError 10053] 你的主机中的软件中止了一个已建立的连接。>\n",
      "Error: <urlopen error [WinError 10053] 你的主机中的软件中止了一个已建立的连接。>\n",
      "Error: <urlopen error [WinError 10053] 你的主机中的软件中止了一个已建立的连接。>\n"
     ]
    },
    {
     "name": "stderr",
     "output_type": "stream",
     "text": [
      "Processing compounds:  48%|██████████████████████████▋                             | 2191/4599 [40:56<03:27, 11.60it/s]"
     ]
    },
    {
     "name": "stdout",
     "output_type": "stream",
     "text": [
      "Error: <urlopen error [WinError 10054] 远程主机强迫关闭了一个现有的连接。>\n",
      "Error: <urlopen error [WinError 10054] 远程主机强迫关闭了一个现有的连接。>\n",
      "Error: <urlopen error [WinError 10053] 你的主机中的软件中止了一个已建立的连接。>\n"
     ]
    },
    {
     "name": "stderr",
     "output_type": "stream",
     "text": [
      "\r",
      "Processing compounds:  48%|██████████████████████████▋                             | 2193/4599 [40:56<03:29, 11.46it/s]"
     ]
    },
    {
     "name": "stdout",
     "output_type": "stream",
     "text": [
      "Error: <urlopen error [WinError 10054] 远程主机强迫关闭了一个现有的连接。>\n",
      "Error: <urlopen error [WinError 10054] 远程主机强迫关闭了一个现有的连接。>\n",
      "Error: <urlopen error [WinError 10054] 远程主机强迫关闭了一个现有的连接。>\n"
     ]
    },
    {
     "name": "stderr",
     "output_type": "stream",
     "text": [
      "Processing compounds:  48%|██████████████████████████▊                             | 2197/4599 [40:56<03:35, 11.17it/s]"
     ]
    },
    {
     "name": "stdout",
     "output_type": "stream",
     "text": [
      "Error: <urlopen error [WinError 10054] 远程主机强迫关闭了一个现有的连接。>\n",
      "Error: <urlopen error [WinError 10053] 你的主机中的软件中止了一个已建立的连接。>\n",
      "Error: <urlopen error [WinError 10054] 远程主机强迫关闭了一个现有的连接。>\n"
     ]
    },
    {
     "name": "stderr",
     "output_type": "stream",
     "text": [
      "\r",
      "Processing compounds:  48%|██████████████████████████▊                             | 2199/4599 [40:56<03:33, 11.22it/s]"
     ]
    },
    {
     "name": "stdout",
     "output_type": "stream",
     "text": [
      "Error: <urlopen error [WinError 10053] 你的主机中的软件中止了一个已建立的连接。>\n",
      "Error: <urlopen error [WinError 10054] 远程主机强迫关闭了一个现有的连接。>\n",
      "Error: <urlopen error [WinError 10053] 你的主机中的软件中止了一个已建立的连接。>\n"
     ]
    },
    {
     "name": "stderr",
     "output_type": "stream",
     "text": [
      "Processing compounds:  48%|██████████████████████████▊                             | 2203/4599 [40:57<03:28, 11.51it/s]"
     ]
    },
    {
     "name": "stdout",
     "output_type": "stream",
     "text": [
      "Error: <urlopen error [WinError 10054] 远程主机强迫关闭了一个现有的连接。>\n",
      "Error: <urlopen error [WinError 10053] 你的主机中的软件中止了一个已建立的连接。>\n",
      "Error: <urlopen error TLS/SSL connection has been closed (EOF) (_ssl.c:1131)>\n"
     ]
    },
    {
     "name": "stderr",
     "output_type": "stream",
     "text": [
      "\r",
      "Processing compounds:  48%|██████████████████████████▊                             | 2205/4599 [40:57<03:25, 11.66it/s]"
     ]
    },
    {
     "name": "stdout",
     "output_type": "stream",
     "text": [
      "Error: <urlopen error [WinError 10053] 你的主机中的软件中止了一个已建立的连接。>\n",
      "Error: <urlopen error [WinError 10053] 你的主机中的软件中止了一个已建立的连接。>\n",
      "Error: <urlopen error [WinError 10054] 远程主机强迫关闭了一个现有的连接。>\n"
     ]
    },
    {
     "name": "stderr",
     "output_type": "stream",
     "text": [
      "Processing compounds:  48%|██████████████████████████▉                             | 2209/4599 [40:57<03:19, 11.99it/s]"
     ]
    },
    {
     "name": "stdout",
     "output_type": "stream",
     "text": [
      "Error: <urlopen error [WinError 10054] 远程主机强迫关闭了一个现有的连接。>\n",
      "Error: <urlopen error [WinError 10053] 你的主机中的软件中止了一个已建立的连接。>\n",
      "Error: <urlopen error [WinError 10054] 远程主机强迫关闭了一个现有的连接。>\n"
     ]
    },
    {
     "name": "stderr",
     "output_type": "stream",
     "text": [
      "\r",
      "Processing compounds:  48%|██████████████████████████▉                             | 2211/4599 [40:57<03:20, 11.92it/s]"
     ]
    },
    {
     "name": "stdout",
     "output_type": "stream",
     "text": [
      "Error: <urlopen error [WinError 10054] 远程主机强迫关闭了一个现有的连接。>\n",
      "Error: <urlopen error [WinError 10053] 你的主机中的软件中止了一个已建立的连接。>\n",
      "Error: <urlopen error [WinError 10054] 远程主机强迫关闭了一个现有的连接。>\n"
     ]
    },
    {
     "name": "stderr",
     "output_type": "stream",
     "text": [
      "\r",
      "Processing compounds:  48%|██████████████████████████▉                             | 2213/4599 [40:57<03:31, 11.27it/s]"
     ]
    },
    {
     "name": "stdout",
     "output_type": "stream",
     "text": [
      "Error: <urlopen error [WinError 10054] 远程主机强迫关闭了一个现有的连接。>\n",
      "Error: <urlopen error [WinError 10054] 远程主机强迫关闭了一个现有的连接。>\n"
     ]
    },
    {
     "name": "stderr",
     "output_type": "stream",
     "text": [
      "Processing compounds:  48%|██████████████████████████▉                             | 2217/4599 [40:58<03:38, 10.89it/s]"
     ]
    },
    {
     "name": "stdout",
     "output_type": "stream",
     "text": [
      "Error: <urlopen error [WinError 10053] 你的主机中的软件中止了一个已建立的连接。>\n",
      "Error: <urlopen error [WinError 10053] 你的主机中的软件中止了一个已建立的连接。>\n",
      "Error: <urlopen error [WinError 10053] 你的主机中的软件中止了一个已建立的连接。>\n"
     ]
    },
    {
     "name": "stderr",
     "output_type": "stream",
     "text": [
      "\r",
      "Processing compounds:  48%|███████████████████████████                             | 2219/4599 [40:58<03:40, 10.80it/s]"
     ]
    },
    {
     "name": "stdout",
     "output_type": "stream",
     "text": [
      "Error: <urlopen error [WinError 10054] 远程主机强迫关闭了一个现有的连接。>\n",
      "Error: <urlopen error [WinError 10053] 你的主机中的软件中止了一个已建立的连接。>\n",
      "Error: <urlopen error [WinError 10054] 远程主机强迫关闭了一个现有的连接。>\n"
     ]
    },
    {
     "name": "stderr",
     "output_type": "stream",
     "text": [
      "Processing compounds:  48%|███████████████████████████                             | 2223/4599 [40:58<03:26, 11.50it/s]"
     ]
    },
    {
     "name": "stdout",
     "output_type": "stream",
     "text": [
      "Error: <urlopen error [WinError 10053] 你的主机中的软件中止了一个已建立的连接。>\n",
      "Error: <urlopen error [WinError 10054] 远程主机强迫关闭了一个现有的连接。>\n",
      "Error: <urlopen error [WinError 10054] 远程主机强迫关闭了一个现有的连接。>\n"
     ]
    },
    {
     "name": "stderr",
     "output_type": "stream",
     "text": [
      "\r",
      "Processing compounds:  48%|███████████████████████████                             | 2225/4599 [40:59<03:22, 11.70it/s]"
     ]
    },
    {
     "name": "stdout",
     "output_type": "stream",
     "text": [
      "Error: <urlopen error [WinError 10053] 你的主机中的软件中止了一个已建立的连接。>\n",
      "Error: <urlopen error TLS/SSL connection has been closed (EOF) (_ssl.c:1131)>\n",
      "Error: <urlopen error [WinError 10054] 远程主机强迫关闭了一个现有的连接。>\n"
     ]
    },
    {
     "name": "stderr",
     "output_type": "stream",
     "text": [
      "Processing compounds:  48%|███████████████████████████▏                            | 2229/4599 [40:59<03:16, 12.08it/s]"
     ]
    },
    {
     "name": "stdout",
     "output_type": "stream",
     "text": [
      "Error: <urlopen error [WinError 10054] 远程主机强迫关闭了一个现有的连接。>\n",
      "Error: <urlopen error [WinError 10054] 远程主机强迫关闭了一个现有的连接。>\n",
      "Error: <urlopen error [WinError 10053] 你的主机中的软件中止了一个已建立的连接。>\n"
     ]
    },
    {
     "name": "stderr",
     "output_type": "stream",
     "text": [
      "\r",
      "Processing compounds:  49%|███████████████████████████▏                            | 2231/4599 [40:59<03:16, 12.04it/s]"
     ]
    },
    {
     "name": "stdout",
     "output_type": "stream",
     "text": [
      "Error: <urlopen error [WinError 10054] 远程主机强迫关闭了一个现有的连接。>\n",
      "Error: <urlopen error [WinError 10054] 远程主机强迫关闭了一个现有的连接。>\n",
      "Error: <urlopen error [WinError 10053] 你的主机中的软件中止了一个已建立的连接。>\n"
     ]
    },
    {
     "name": "stderr",
     "output_type": "stream",
     "text": [
      "Processing compounds:  49%|███████████████████████████▏                            | 2235/4599 [40:59<03:16, 12.03it/s]"
     ]
    },
    {
     "name": "stdout",
     "output_type": "stream",
     "text": [
      "Error: <urlopen error [WinError 10053] 你的主机中的软件中止了一个已建立的连接。>\n",
      "Error: <urlopen error [WinError 10054] 远程主机强迫关闭了一个现有的连接。>\n",
      "Error: <urlopen error [WinError 10053] 你的主机中的软件中止了一个已建立的连接。>\n"
     ]
    },
    {
     "name": "stderr",
     "output_type": "stream",
     "text": [
      "\r",
      "Processing compounds:  49%|███████████████████████████▏                            | 2237/4599 [41:00<03:31, 11.15it/s]"
     ]
    },
    {
     "name": "stdout",
     "output_type": "stream",
     "text": [
      "Error: <urlopen error [WinError 10054] 远程主机强迫关闭了一个现有的连接。>\n",
      "Error: <urlopen error [WinError 10053] 你的主机中的软件中止了一个已建立的连接。>\n"
     ]
    },
    {
     "name": "stderr",
     "output_type": "stream",
     "text": [
      "\r",
      "Processing compounds:  49%|███████████████████████████▎                            | 2239/4599 [41:00<03:31, 11.14it/s]"
     ]
    },
    {
     "name": "stdout",
     "output_type": "stream",
     "text": [
      "Error: <urlopen error TLS/SSL connection has been closed (EOF) (_ssl.c:1131)>\n",
      "Error: <urlopen error [WinError 10054] 远程主机强迫关闭了一个现有的连接。>\n",
      "Error: <urlopen error [WinError 10053] 你的主机中的软件中止了一个已建立的连接。>\n"
     ]
    },
    {
     "name": "stderr",
     "output_type": "stream",
     "text": [
      "Processing compounds:  49%|███████████████████████████▎                            | 2243/4599 [41:00<03:29, 11.26it/s]"
     ]
    },
    {
     "name": "stdout",
     "output_type": "stream",
     "text": [
      "Error: <urlopen error [WinError 10054] 远程主机强迫关闭了一个现有的连接。>\n",
      "Error: <urlopen error [WinError 10054] 远程主机强迫关闭了一个现有的连接。>\n",
      "Error: <urlopen error [WinError 10054] 远程主机强迫关闭了一个现有的连接。>\n"
     ]
    },
    {
     "name": "stderr",
     "output_type": "stream",
     "text": [
      "\r",
      "Processing compounds:  49%|███████████████████████████▎                            | 2245/4599 [41:00<03:24, 11.53it/s]"
     ]
    },
    {
     "name": "stdout",
     "output_type": "stream",
     "text": [
      "Error: <urlopen error [WinError 10054] 远程主机强迫关闭了一个现有的连接。>\n",
      "Error: <urlopen error [WinError 10053] 你的主机中的软件中止了一个已建立的连接。>\n",
      "Error: <urlopen error [WinError 10054] 远程主机强迫关闭了一个现有的连接。>\n"
     ]
    },
    {
     "name": "stderr",
     "output_type": "stream",
     "text": [
      "Processing compounds:  49%|███████████████████████████▍                            | 2249/4599 [41:01<03:38, 10.76it/s]"
     ]
    },
    {
     "name": "stdout",
     "output_type": "stream",
     "text": [
      "Error: <urlopen error [WinError 10054] 远程主机强迫关闭了一个现有的连接。>\n",
      "Error: <urlopen error [WinError 10054] 远程主机强迫关闭了一个现有的连接。>\n",
      "Error: <urlopen error [WinError 10053] 你的主机中的软件中止了一个已建立的连接。>\n"
     ]
    },
    {
     "name": "stderr",
     "output_type": "stream",
     "text": [
      "\r",
      "Processing compounds:  49%|███████████████████████████▍                            | 2251/4599 [41:01<03:32, 11.07it/s]"
     ]
    },
    {
     "name": "stdout",
     "output_type": "stream",
     "text": [
      "Error: <urlopen error [WinError 10054] 远程主机强迫关闭了一个现有的连接。>\n",
      "Error: <urlopen error [WinError 10054] 远程主机强迫关闭了一个现有的连接。>\n",
      "Error: <urlopen error [WinError 10053] 你的主机中的软件中止了一个已建立的连接。>\n"
     ]
    },
    {
     "name": "stderr",
     "output_type": "stream",
     "text": [
      "Processing compounds:  49%|███████████████████████████▍                            | 2255/4599 [41:01<03:28, 11.24it/s]"
     ]
    },
    {
     "name": "stdout",
     "output_type": "stream",
     "text": [
      "Error: <urlopen error [WinError 10054] 远程主机强迫关闭了一个现有的连接。>\n",
      "Error: <urlopen error [WinError 10053] 你的主机中的软件中止了一个已建立的连接。>\n",
      "Error: <urlopen error [WinError 10053] 你的主机中的软件中止了一个已建立的连接。>\n"
     ]
    },
    {
     "name": "stderr",
     "output_type": "stream",
     "text": [
      "\r",
      "Processing compounds:  49%|███████████████████████████▍                            | 2257/4599 [41:01<03:27, 11.26it/s]"
     ]
    },
    {
     "name": "stdout",
     "output_type": "stream",
     "text": [
      "Error: <urlopen error [WinError 10054] 远程主机强迫关闭了一个现有的连接。>\n",
      "Error: <urlopen error [WinError 10054] 远程主机强迫关闭了一个现有的连接。>\n",
      "Error: <urlopen error [WinError 10054] 远程主机强迫关闭了一个现有的连接。>\n"
     ]
    },
    {
     "name": "stderr",
     "output_type": "stream",
     "text": [
      "Processing compounds:  49%|███████████████████████████▌                            | 2261/4599 [41:02<03:28, 11.22it/s]"
     ]
    },
    {
     "name": "stdout",
     "output_type": "stream",
     "text": [
      "Error: <urlopen error [WinError 10053] 你的主机中的软件中止了一个已建立的连接。>\n",
      "Error: <urlopen error [WinError 10053] 你的主机中的软件中止了一个已建立的连接。>\n",
      "Error: <urlopen error [WinError 10053] 你的主机中的软件中止了一个已建立的连接。>\n"
     ]
    },
    {
     "name": "stderr",
     "output_type": "stream",
     "text": [
      "\r",
      "Processing compounds:  49%|███████████████████████████▌                            | 2263/4599 [41:02<03:24, 11.42it/s]"
     ]
    },
    {
     "name": "stdout",
     "output_type": "stream",
     "text": [
      "Error: <urlopen error [WinError 10054] 远程主机强迫关闭了一个现有的连接。>\n",
      "Error: <urlopen error [WinError 10054] 远程主机强迫关闭了一个现有的连接。>\n",
      "Error: <urlopen error [WinError 10054] 远程主机强迫关闭了一个现有的连接。>\n"
     ]
    },
    {
     "name": "stderr",
     "output_type": "stream",
     "text": [
      "Processing compounds:  49%|███████████████████████████▌                            | 2267/4599 [41:02<03:17, 11.81it/s]"
     ]
    },
    {
     "name": "stdout",
     "output_type": "stream",
     "text": [
      "Error: <urlopen error [WinError 10054] 远程主机强迫关闭了一个现有的连接。>\n",
      "Error: <urlopen error [WinError 10054] 远程主机强迫关闭了一个现有的连接。>\n",
      "Error: <urlopen error [WinError 10054] 远程主机强迫关闭了一个现有的连接。>\n"
     ]
    },
    {
     "name": "stderr",
     "output_type": "stream",
     "text": [
      "\r",
      "Processing compounds:  49%|███████████████████████████▋                            | 2269/4599 [41:02<03:15, 11.94it/s]"
     ]
    },
    {
     "name": "stdout",
     "output_type": "stream",
     "text": [
      "Error: <urlopen error [WinError 10054] 远程主机强迫关闭了一个现有的连接。>\n",
      "Error: <urlopen error [WinError 10053] 你的主机中的软件中止了一个已建立的连接。>\n",
      "Error: <urlopen error [WinError 10053] 你的主机中的软件中止了一个已建立的连接。>\n"
     ]
    },
    {
     "name": "stderr",
     "output_type": "stream",
     "text": [
      "Processing compounds:  49%|███████████████████████████▋                            | 2273/4599 [41:03<03:15, 11.87it/s]"
     ]
    },
    {
     "name": "stdout",
     "output_type": "stream",
     "text": [
      "Error: <urlopen error [WinError 10053] 你的主机中的软件中止了一个已建立的连接。>\n",
      "Error: <urlopen error [WinError 10054] 远程主机强迫关闭了一个现有的连接。>\n",
      "Error: <urlopen error [WinError 10053] 你的主机中的软件中止了一个已建立的连接。>\n"
     ]
    },
    {
     "name": "stderr",
     "output_type": "stream",
     "text": [
      "\r",
      "Processing compounds:  49%|███████████████████████████▋                            | 2275/4599 [41:03<03:13, 12.01it/s]"
     ]
    },
    {
     "name": "stdout",
     "output_type": "stream",
     "text": [
      "Error: <urlopen error [WinError 10054] 远程主机强迫关闭了一个现有的连接。>\n",
      "Error: <urlopen error [WinError 10054] 远程主机强迫关闭了一个现有的连接。>\n",
      "Error: <urlopen error [WinError 10053] 你的主机中的软件中止了一个已建立的连接。>\n"
     ]
    },
    {
     "name": "stderr",
     "output_type": "stream",
     "text": [
      "Processing compounds:  50%|███████████████████████████▊                            | 2279/4599 [41:03<03:10, 12.18it/s]"
     ]
    },
    {
     "name": "stdout",
     "output_type": "stream",
     "text": [
      "Error: <urlopen error [WinError 10054] 远程主机强迫关闭了一个现有的连接。>\n",
      "Error: <urlopen error [WinError 10053] 你的主机中的软件中止了一个已建立的连接。>\n",
      "Error: <urlopen error [WinError 10053] 你的主机中的软件中止了一个已建立的连接。>\n"
     ]
    },
    {
     "name": "stderr",
     "output_type": "stream",
     "text": [
      "\r",
      "Processing compounds:  50%|███████████████████████████▊                            | 2281/4599 [41:03<03:08, 12.29it/s]"
     ]
    },
    {
     "name": "stdout",
     "output_type": "stream",
     "text": [
      "Error: <urlopen error [WinError 10054] 远程主机强迫关闭了一个现有的连接。>\n",
      "Error: <urlopen error [WinError 10053] 你的主机中的软件中止了一个已建立的连接。>\n",
      "Error: <urlopen error [WinError 10053] 你的主机中的软件中止了一个已建立的连接。>\n"
     ]
    },
    {
     "name": "stderr",
     "output_type": "stream",
     "text": [
      "Processing compounds:  50%|███████████████████████████▊                            | 2285/4599 [41:04<03:07, 12.31it/s]"
     ]
    },
    {
     "name": "stdout",
     "output_type": "stream",
     "text": [
      "Error: <urlopen error [WinError 10053] 你的主机中的软件中止了一个已建立的连接。>\n",
      "Error: <urlopen error [WinError 10053] 你的主机中的软件中止了一个已建立的连接。>\n",
      "Error: <urlopen error [WinError 10054] 远程主机强迫关闭了一个现有的连接。>\n"
     ]
    },
    {
     "name": "stderr",
     "output_type": "stream",
     "text": [
      "\r",
      "Processing compounds:  50%|███████████████████████████▊                            | 2287/4599 [41:04<03:09, 12.23it/s]"
     ]
    },
    {
     "name": "stdout",
     "output_type": "stream",
     "text": [
      "Error: <urlopen error [WinError 10054] 远程主机强迫关闭了一个现有的连接。>\n",
      "Error: <urlopen error [WinError 10054] 远程主机强迫关闭了一个现有的连接。>\n",
      "Error: <urlopen error [WinError 10054] 远程主机强迫关闭了一个现有的连接。>\n"
     ]
    },
    {
     "name": "stderr",
     "output_type": "stream",
     "text": [
      "Processing compounds:  50%|███████████████████████████▉                            | 2291/4599 [41:04<03:07, 12.29it/s]"
     ]
    },
    {
     "name": "stdout",
     "output_type": "stream",
     "text": [
      "Error: <urlopen error [WinError 10053] 你的主机中的软件中止了一个已建立的连接。>\n",
      "Error: <urlopen error [WinError 10054] 远程主机强迫关闭了一个现有的连接。>\n",
      "Error: <urlopen error [WinError 10053] 你的主机中的软件中止了一个已建立的连接。>\n"
     ]
    },
    {
     "name": "stderr",
     "output_type": "stream",
     "text": [
      "\r",
      "Processing compounds:  50%|███████████████████████████▉                            | 2293/4599 [41:04<03:08, 12.23it/s]"
     ]
    },
    {
     "name": "stdout",
     "output_type": "stream",
     "text": [
      "Error: <urlopen error [WinError 10054] 远程主机强迫关闭了一个现有的连接。>\n",
      "Error: <urlopen error [WinError 10054] 远程主机强迫关闭了一个现有的连接。>\n",
      "Error: <urlopen error [WinError 10054] 远程主机强迫关闭了一个现有的连接。>\n"
     ]
    },
    {
     "name": "stderr",
     "output_type": "stream",
     "text": [
      "Processing compounds:  50%|███████████████████████████▉                            | 2297/4599 [41:05<03:11, 12.02it/s]"
     ]
    },
    {
     "name": "stdout",
     "output_type": "stream",
     "text": [
      "Error: <urlopen error [WinError 10053] 你的主机中的软件中止了一个已建立的连接。>\n",
      "Error: <urlopen error [WinError 10053] 你的主机中的软件中止了一个已建立的连接。>\n",
      "Error: <urlopen error [WinError 10053] 你的主机中的软件中止了一个已建立的连接。>\n"
     ]
    },
    {
     "name": "stderr",
     "output_type": "stream",
     "text": [
      "\r",
      "Processing compounds:  50%|███████████████████████████▉                            | 2299/4599 [41:05<03:13, 11.86it/s]"
     ]
    },
    {
     "name": "stdout",
     "output_type": "stream",
     "text": [
      "Error: <urlopen error [WinError 10054] 远程主机强迫关闭了一个现有的连接。>\n",
      "Error: <urlopen error TLS/SSL connection has been closed (EOF) (_ssl.c:1131)>\n",
      "Error: <urlopen error [WinError 10053] 你的主机中的软件中止了一个已建立的连接。>\n"
     ]
    },
    {
     "name": "stderr",
     "output_type": "stream",
     "text": [
      "Processing compounds:  50%|████████████████████████████                            | 2303/4599 [41:05<03:09, 12.11it/s]"
     ]
    },
    {
     "name": "stdout",
     "output_type": "stream",
     "text": [
      "Error: <urlopen error [WinError 10053] 你的主机中的软件中止了一个已建立的连接。>\n",
      "Error: <urlopen error [WinError 10053] 你的主机中的软件中止了一个已建立的连接。>\n",
      "Error: <urlopen error [WinError 10053] 你的主机中的软件中止了一个已建立的连接。>\n"
     ]
    },
    {
     "name": "stderr",
     "output_type": "stream",
     "text": [
      "\r",
      "Processing compounds:  50%|████████████████████████████                            | 2305/4599 [41:05<03:09, 12.12it/s]"
     ]
    },
    {
     "name": "stdout",
     "output_type": "stream",
     "text": [
      "Error: <urlopen error [WinError 10054] 远程主机强迫关闭了一个现有的连接。>\n",
      "Error: <urlopen error [WinError 10053] 你的主机中的软件中止了一个已建立的连接。>\n",
      "Error: <urlopen error [WinError 10054] 远程主机强迫关闭了一个现有的连接。>\n"
     ]
    },
    {
     "name": "stderr",
     "output_type": "stream",
     "text": [
      "Processing compounds:  50%|████████████████████████████                            | 2309/4599 [41:06<03:14, 11.75it/s]"
     ]
    },
    {
     "name": "stdout",
     "output_type": "stream",
     "text": [
      "Error: <urlopen error [WinError 10054] 远程主机强迫关闭了一个现有的连接。>\n",
      "Error: <urlopen error [WinError 10054] 远程主机强迫关闭了一个现有的连接。>\n",
      "Error: <urlopen error [WinError 10053] 你的主机中的软件中止了一个已建立的连接。>\n"
     ]
    },
    {
     "name": "stderr",
     "output_type": "stream",
     "text": [
      "\r",
      "Processing compounds:  50%|████████████████████████████▏                           | 2311/4599 [41:06<03:14, 11.79it/s]"
     ]
    },
    {
     "name": "stdout",
     "output_type": "stream",
     "text": [
      "Error: <urlopen error [WinError 10054] 远程主机强迫关闭了一个现有的连接。>\n",
      "Error: <urlopen error [WinError 10053] 你的主机中的软件中止了一个已建立的连接。>\n",
      "Error: <urlopen error [WinError 10053] 你的主机中的软件中止了一个已建立的连接。>\n"
     ]
    },
    {
     "name": "stderr",
     "output_type": "stream",
     "text": [
      "Processing compounds:  50%|████████████████████████████▏                           | 2315/4599 [41:06<03:13, 11.82it/s]"
     ]
    },
    {
     "name": "stdout",
     "output_type": "stream",
     "text": [
      "Error: <urlopen error [WinError 10054] 远程主机强迫关闭了一个现有的连接。>\n",
      "Error: <urlopen error [WinError 10053] 你的主机中的软件中止了一个已建立的连接。>\n",
      "Error: <urlopen error [WinError 10053] 你的主机中的软件中止了一个已建立的连接。>\n"
     ]
    },
    {
     "name": "stderr",
     "output_type": "stream",
     "text": [
      "\r",
      "Processing compounds:  50%|████████████████████████████▏                           | 2317/4599 [41:06<03:18, 11.50it/s]"
     ]
    },
    {
     "name": "stdout",
     "output_type": "stream",
     "text": [
      "Error: <urlopen error [WinError 10053] 你的主机中的软件中止了一个已建立的连接。>\n",
      "Error: <urlopen error [WinError 10054] 远程主机强迫关闭了一个现有的连接。>\n"
     ]
    },
    {
     "name": "stderr",
     "output_type": "stream",
     "text": [
      "\r",
      "Processing compounds:  50%|████████████████████████████▏                           | 2319/4599 [41:07<04:09,  9.15it/s]"
     ]
    },
    {
     "name": "stdout",
     "output_type": "stream",
     "text": [
      "Error: <urlopen error [WinError 10054] 远程主机强迫关闭了一个现有的连接。>\n",
      "Error: <urlopen error [WinError 10054] 远程主机强迫关闭了一个现有的连接。>\n"
     ]
    },
    {
     "name": "stderr",
     "output_type": "stream",
     "text": [
      "Processing compounds:  50%|████████████████████████████▎                           | 2321/4599 [41:07<04:14,  8.94it/s]"
     ]
    },
    {
     "name": "stdout",
     "output_type": "stream",
     "text": [
      "Error: <urlopen error [WinError 10053] 你的主机中的软件中止了一个已建立的连接。>\n",
      "Error: <urlopen error [WinError 10054] 远程主机强迫关闭了一个现有的连接。>\n"
     ]
    },
    {
     "name": "stderr",
     "output_type": "stream",
     "text": [
      "Processing compounds:  51%|████████████████████████████▎                           | 2324/4599 [41:07<03:53,  9.73it/s]"
     ]
    },
    {
     "name": "stdout",
     "output_type": "stream",
     "text": [
      "Error: <urlopen error [WinError 10054] 远程主机强迫关闭了一个现有的连接。>\n",
      "Error: <urlopen error [WinError 10054] 远程主机强迫关闭了一个现有的连接。>\n",
      "Error: <urlopen error [WinError 10053] 你的主机中的软件中止了一个已建立的连接。>\n"
     ]
    },
    {
     "name": "stderr",
     "output_type": "stream",
     "text": [
      "\r",
      "Processing compounds:  51%|████████████████████████████▎                           | 2326/4599 [41:07<03:39, 10.36it/s]"
     ]
    },
    {
     "name": "stdout",
     "output_type": "stream",
     "text": [
      "Error: <urlopen error [WinError 10053] 你的主机中的软件中止了一个已建立的连接。>\n",
      "Error: <urlopen error [WinError 10053] 你的主机中的软件中止了一个已建立的连接。>\n",
      "Error: <urlopen error [WinError 10053] 你的主机中的软件中止了一个已建立的连接。>\n"
     ]
    },
    {
     "name": "stderr",
     "output_type": "stream",
     "text": [
      "Processing compounds:  51%|████████████████████████████▎                           | 2330/4599 [41:08<03:16, 11.53it/s]"
     ]
    },
    {
     "name": "stdout",
     "output_type": "stream",
     "text": [
      "Error: <urlopen error [WinError 10054] 远程主机强迫关闭了一个现有的连接。>\n",
      "Error: 'float' object is not iterable\n",
      "Error: <urlopen error [WinError 10053] 你的主机中的软件中止了一个已建立的连接。>\n"
     ]
    },
    {
     "name": "stderr",
     "output_type": "stream",
     "text": [
      "\r",
      "Processing compounds:  51%|████████████████████████████▍                           | 2332/4599 [41:08<03:12, 11.77it/s]"
     ]
    },
    {
     "name": "stdout",
     "output_type": "stream",
     "text": [
      "Error: <urlopen error [WinError 10053] 你的主机中的软件中止了一个已建立的连接。>\n",
      "Error: <urlopen error [WinError 10053] 你的主机中的软件中止了一个已建立的连接。>\n",
      "Error: <urlopen error [WinError 10053] 你的主机中的软件中止了一个已建立的连接。>\n"
     ]
    },
    {
     "name": "stderr",
     "output_type": "stream",
     "text": [
      "\r",
      "Processing compounds:  51%|████████████████████████████▍                           | 2334/4599 [41:08<03:15, 11.59it/s]"
     ]
    },
    {
     "name": "stdout",
     "output_type": "stream",
     "text": [
      "Error: <urlopen error [WinError 10054] 远程主机强迫关闭了一个现有的连接。>\n",
      "Error: <urlopen error [WinError 10054] 远程主机强迫关闭了一个现有的连接。>\n"
     ]
    },
    {
     "name": "stderr",
     "output_type": "stream",
     "text": [
      "\r",
      "Processing compounds:  51%|████████████████████████████▍                           | 2336/4599 [41:08<03:31, 10.72it/s]"
     ]
    },
    {
     "name": "stdout",
     "output_type": "stream",
     "text": [
      "Error: <urlopen error [WinError 10053] 你的主机中的软件中止了一个已建立的连接。>\n",
      "Error: <urlopen error [WinError 10054] 远程主机强迫关闭了一个现有的连接。>\n"
     ]
    },
    {
     "name": "stderr",
     "output_type": "stream",
     "text": [
      "Processing compounds:  51%|████████████████████████████▍                           | 2339/4599 [41:09<04:16,  8.81it/s]"
     ]
    },
    {
     "name": "stdout",
     "output_type": "stream",
     "text": [
      "Error: <urlopen error [WinError 10054] 远程主机强迫关闭了一个现有的连接。>\n",
      "Error: <urlopen error [WinError 10054] 远程主机强迫关闭了一个现有的连接。>\n"
     ]
    },
    {
     "name": "stderr",
     "output_type": "stream",
     "text": [
      "Processing compounds:  51%|████████████████████████████▌                           | 2341/4599 [41:09<04:24,  8.52it/s]"
     ]
    },
    {
     "name": "stdout",
     "output_type": "stream",
     "text": [
      "Error: <urlopen error [WinError 10054] 远程主机强迫关闭了一个现有的连接。>\n",
      "Error: <urlopen error [WinError 10054] 远程主机强迫关闭了一个现有的连接。>\n"
     ]
    },
    {
     "name": "stderr",
     "output_type": "stream",
     "text": [
      "Processing compounds:  51%|████████████████████████████▌                           | 2344/4599 [41:09<04:01,  9.35it/s]"
     ]
    },
    {
     "name": "stdout",
     "output_type": "stream",
     "text": [
      "Error: <urlopen error [WinError 10054] 远程主机强迫关闭了一个现有的连接。>\n",
      "Error: <urlopen error [WinError 10053] 你的主机中的软件中止了一个已建立的连接。>\n",
      "Error: <urlopen error [WinError 10054] 远程主机强迫关闭了一个现有的连接。>\n"
     ]
    },
    {
     "name": "stderr",
     "output_type": "stream",
     "text": [
      "\r",
      "Processing compounds:  51%|████████████████████████████▌                           | 2346/4599 [41:09<03:39, 10.27it/s]"
     ]
    },
    {
     "name": "stdout",
     "output_type": "stream",
     "text": [
      "Error: <urlopen error [WinError 10054] 远程主机强迫关闭了一个现有的连接。>\n",
      "Error: <urlopen error [WinError 10053] 你的主机中的软件中止了一个已建立的连接。>\n",
      "Error: <urlopen error [WinError 10053] 你的主机中的软件中止了一个已建立的连接。>\n"
     ]
    },
    {
     "name": "stderr",
     "output_type": "stream",
     "text": [
      "Processing compounds:  51%|████████████████████████████▌                           | 2350/4599 [41:10<03:31, 10.65it/s]"
     ]
    },
    {
     "name": "stdout",
     "output_type": "stream",
     "text": [
      "Error: <urlopen error [WinError 10054] 远程主机强迫关闭了一个现有的连接。>\n",
      "Error: <urlopen error [WinError 10053] 你的主机中的软件中止了一个已建立的连接。>\n",
      "Error: <urlopen error [WinError 10053] 你的主机中的软件中止了一个已建立的连接。>\n"
     ]
    },
    {
     "name": "stderr",
     "output_type": "stream",
     "text": [
      "\r",
      "Processing compounds:  51%|████████████████████████████▋                           | 2352/4599 [41:10<03:24, 10.96it/s]"
     ]
    },
    {
     "name": "stdout",
     "output_type": "stream",
     "text": [
      "Error: <urlopen error [WinError 10053] 你的主机中的软件中止了一个已建立的连接。>\n",
      "Error: <urlopen error [WinError 10054] 远程主机强迫关闭了一个现有的连接。>\n",
      "Error: <urlopen error [WinError 10054] 远程主机强迫关闭了一个现有的连接。>\n"
     ]
    },
    {
     "name": "stderr",
     "output_type": "stream",
     "text": [
      "Processing compounds:  51%|████████████████████████████▋                           | 2356/4599 [41:10<03:19, 11.25it/s]"
     ]
    },
    {
     "name": "stdout",
     "output_type": "stream",
     "text": [
      "Error: <urlopen error [WinError 10054] 远程主机强迫关闭了一个现有的连接。>\n",
      "Error: <urlopen error [WinError 10053] 你的主机中的软件中止了一个已建立的连接。>\n",
      "Error: <urlopen error [WinError 10054] 远程主机强迫关闭了一个现有的连接。>\n"
     ]
    },
    {
     "name": "stderr",
     "output_type": "stream",
     "text": [
      "\r",
      "Processing compounds:  51%|████████████████████████████▋                           | 2358/4599 [41:10<03:18, 11.32it/s]"
     ]
    },
    {
     "name": "stdout",
     "output_type": "stream",
     "text": [
      "Error: <urlopen error [WinError 10054] 远程主机强迫关闭了一个现有的连接。>\n",
      "Error: <urlopen error [WinError 10054] 远程主机强迫关闭了一个现有的连接。>\n",
      "Error: <urlopen error [WinError 10053] 你的主机中的软件中止了一个已建立的连接。>\n"
     ]
    },
    {
     "name": "stderr",
     "output_type": "stream",
     "text": [
      "Processing compounds:  51%|████████████████████████████▊                           | 2362/4599 [41:11<03:16, 11.37it/s]"
     ]
    },
    {
     "name": "stdout",
     "output_type": "stream",
     "text": [
      "Error: <urlopen error [WinError 10054] 远程主机强迫关闭了一个现有的连接。>\n",
      "Error: <urlopen error [WinError 10054] 远程主机强迫关闭了一个现有的连接。>\n",
      "Error: <urlopen error [WinError 10053] 你的主机中的软件中止了一个已建立的连接。>\n"
     ]
    },
    {
     "name": "stderr",
     "output_type": "stream",
     "text": [
      "\r",
      "Processing compounds:  51%|████████████████████████████▊                           | 2364/4599 [41:11<03:16, 11.36it/s]"
     ]
    },
    {
     "name": "stdout",
     "output_type": "stream",
     "text": [
      "Error: <urlopen error [WinError 10053] 你的主机中的软件中止了一个已建立的连接。>\n",
      "Error: <urlopen error [WinError 10053] 你的主机中的软件中止了一个已建立的连接。>\n",
      "Error: <urlopen error TLS/SSL connection has been closed (EOF) (_ssl.c:1131)>\n"
     ]
    },
    {
     "name": "stderr",
     "output_type": "stream",
     "text": [
      "Processing compounds:  51%|████████████████████████████▊                           | 2368/4599 [41:11<03:18, 11.25it/s]"
     ]
    },
    {
     "name": "stdout",
     "output_type": "stream",
     "text": [
      "Error: <urlopen error [WinError 10054] 远程主机强迫关闭了一个现有的连接。>\n",
      "Error: <urlopen error [WinError 10053] 你的主机中的软件中止了一个已建立的连接。>\n",
      "Error: <urlopen error [WinError 10054] 远程主机强迫关闭了一个现有的连接。>\n"
     ]
    },
    {
     "name": "stderr",
     "output_type": "stream",
     "text": [
      "\r",
      "Processing compounds:  52%|████████████████████████████▊                           | 2370/4599 [41:12<03:33, 10.46it/s]"
     ]
    },
    {
     "name": "stdout",
     "output_type": "stream",
     "text": [
      "Error: <urlopen error [WinError 10054] 远程主机强迫关闭了一个现有的连接。>\n",
      "Error: <urlopen error [WinError 10054] 远程主机强迫关闭了一个现有的连接。>\n"
     ]
    },
    {
     "name": "stderr",
     "output_type": "stream",
     "text": [
      "\r",
      "Processing compounds:  52%|████████████████████████████▉                           | 2372/4599 [41:12<03:47,  9.81it/s]"
     ]
    },
    {
     "name": "stdout",
     "output_type": "stream",
     "text": [
      "Error: <urlopen error [WinError 10054] 远程主机强迫关闭了一个现有的连接。>\n",
      "Error: <urlopen error [WinError 10053] 你的主机中的软件中止了一个已建立的连接。>\n",
      "Error: <urlopen error [WinError 10054] 远程主机强迫关闭了一个现有的连接。>\n"
     ]
    },
    {
     "name": "stderr",
     "output_type": "stream",
     "text": [
      "Processing compounds:  52%|████████████████████████████▉                           | 2376/4599 [41:12<03:41, 10.02it/s]"
     ]
    },
    {
     "name": "stdout",
     "output_type": "stream",
     "text": [
      "Error: <urlopen error [WinError 10054] 远程主机强迫关闭了一个现有的连接。>\n",
      "Error: <urlopen error [WinError 10054] 远程主机强迫关闭了一个现有的连接。>\n",
      "Error: <urlopen error [WinError 10054] 远程主机强迫关闭了一个现有的连接。>\n"
     ]
    },
    {
     "name": "stderr",
     "output_type": "stream",
     "text": [
      "\r",
      "Processing compounds:  52%|████████████████████████████▉                           | 2378/4599 [41:12<03:32, 10.47it/s]"
     ]
    },
    {
     "name": "stdout",
     "output_type": "stream",
     "text": [
      "Error: <urlopen error [WinError 10053] 你的主机中的软件中止了一个已建立的连接。>\n",
      "Error: <urlopen error [WinError 10054] 远程主机强迫关闭了一个现有的连接。>\n",
      "Error: <urlopen error [WinError 10054] 远程主机强迫关闭了一个现有的连接。>\n"
     ]
    },
    {
     "name": "stderr",
     "output_type": "stream",
     "text": [
      "\r",
      "Processing compounds:  52%|████████████████████████████▉                           | 2380/4599 [41:13<03:24, 10.83it/s]"
     ]
    },
    {
     "name": "stdout",
     "output_type": "stream",
     "text": [
      "Error: <urlopen error [WinError 10053] 你的主机中的软件中止了一个已建立的连接。>\n",
      "Error: <urlopen error [WinError 10054] 远程主机强迫关闭了一个现有的连接。>\n"
     ]
    },
    {
     "name": "stderr",
     "output_type": "stream",
     "text": [
      "Processing compounds:  52%|█████████████████████████████                           | 2384/4599 [41:13<03:29, 10.56it/s]"
     ]
    },
    {
     "name": "stdout",
     "output_type": "stream",
     "text": [
      "Error: <urlopen error [WinError 10053] 你的主机中的软件中止了一个已建立的连接。>\n",
      "Error: <urlopen error [WinError 10053] 你的主机中的软件中止了一个已建立的连接。>\n",
      "Error: <urlopen error [WinError 10054] 远程主机强迫关闭了一个现有的连接。>\n"
     ]
    },
    {
     "name": "stderr",
     "output_type": "stream",
     "text": [
      "\r",
      "Processing compounds:  52%|█████████████████████████████                           | 2386/4599 [41:13<03:24, 10.85it/s]"
     ]
    },
    {
     "name": "stdout",
     "output_type": "stream",
     "text": [
      "Error: <urlopen error [WinError 10054] 远程主机强迫关闭了一个现有的连接。>\n",
      "Error: <urlopen error [WinError 10053] 你的主机中的软件中止了一个已建立的连接。>\n",
      "Error: <urlopen error [WinError 10053] 你的主机中的软件中止了一个已建立的连接。>\n"
     ]
    },
    {
     "name": "stderr",
     "output_type": "stream",
     "text": [
      "Processing compounds:  52%|█████████████████████████████                           | 2390/4599 [41:13<03:22, 10.89it/s]"
     ]
    },
    {
     "name": "stdout",
     "output_type": "stream",
     "text": [
      "Error: <urlopen error [WinError 10054] 远程主机强迫关闭了一个现有的连接。>\n",
      "Error: <urlopen error [WinError 10054] 远程主机强迫关闭了一个现有的连接。>\n",
      "Error: <urlopen error [WinError 10053] 你的主机中的软件中止了一个已建立的连接。>\n"
     ]
    },
    {
     "name": "stderr",
     "output_type": "stream",
     "text": [
      "\r",
      "Processing compounds:  52%|█████████████████████████████▏                          | 2392/4599 [41:14<03:22, 10.91it/s]"
     ]
    },
    {
     "name": "stdout",
     "output_type": "stream",
     "text": [
      "Error: <urlopen error [WinError 10054] 远程主机强迫关闭了一个现有的连接。>\n",
      "Error: <urlopen error [WinError 10054] 远程主机强迫关闭了一个现有的连接。>\n",
      "Error: <urlopen error [WinError 10054] 远程主机强迫关闭了一个现有的连接。>\n"
     ]
    },
    {
     "name": "stderr",
     "output_type": "stream",
     "text": [
      "\r",
      "Processing compounds:  52%|█████████████████████████████▏                          | 2394/4599 [41:14<03:28, 10.56it/s]"
     ]
    },
    {
     "name": "stdout",
     "output_type": "stream",
     "text": [
      "Error: <urlopen error [WinError 10053] 你的主机中的软件中止了一个已建立的连接。>\n",
      "Error: <urlopen error [WinError 10053] 你的主机中的软件中止了一个已建立的连接。>\n"
     ]
    },
    {
     "name": "stderr",
     "output_type": "stream",
     "text": [
      "\r",
      "Processing compounds:  52%|█████████████████████████████▏                          | 2396/4599 [41:14<03:38, 10.08it/s]"
     ]
    },
    {
     "name": "stdout",
     "output_type": "stream",
     "text": [
      "Error: <urlopen error [WinError 10054] 远程主机强迫关闭了一个现有的连接。>\n",
      "Error: <urlopen error [WinError 10053] 你的主机中的软件中止了一个已建立的连接。>\n"
     ]
    },
    {
     "name": "stderr",
     "output_type": "stream",
     "text": [
      "Processing compounds:  52%|█████████████████████████████▏                          | 2399/4599 [41:14<03:58,  9.24it/s]"
     ]
    },
    {
     "name": "stdout",
     "output_type": "stream",
     "text": [
      "Error: <urlopen error [WinError 10054] 远程主机强迫关闭了一个现有的连接。>\n",
      "Error: <urlopen error [WinError 10054] 远程主机强迫关闭了一个现有的连接。>\n"
     ]
    },
    {
     "name": "stderr",
     "output_type": "stream",
     "text": [
      "Processing compounds:  52%|█████████████████████████████▏                          | 2401/4599 [41:15<04:28,  8.20it/s]"
     ]
    },
    {
     "name": "stdout",
     "output_type": "stream",
     "text": [
      "Error: <urlopen error [WinError 10054] 远程主机强迫关闭了一个现有的连接。>\n",
      "Error: <urlopen error [WinError 10054] 远程主机强迫关闭了一个现有的连接。>\n"
     ]
    },
    {
     "name": "stderr",
     "output_type": "stream",
     "text": [
      "Processing compounds:  52%|█████████████████████████████▎                          | 2403/4599 [41:15<04:24,  8.31it/s]"
     ]
    },
    {
     "name": "stdout",
     "output_type": "stream",
     "text": [
      "Error: <urlopen error [WinError 10054] 远程主机强迫关闭了一个现有的连接。>\n",
      "Error: <urlopen error [WinError 10053] 你的主机中的软件中止了一个已建立的连接。>\n"
     ]
    },
    {
     "name": "stderr",
     "output_type": "stream",
     "text": [
      "Processing compounds:  52%|█████████████████████████████▎                          | 2406/4599 [41:15<03:49,  9.57it/s]"
     ]
    },
    {
     "name": "stdout",
     "output_type": "stream",
     "text": [
      "Error: <urlopen error [WinError 10054] 远程主机强迫关闭了一个现有的连接。>\n",
      "Error: <urlopen error [WinError 10053] 你的主机中的软件中止了一个已建立的连接。>\n",
      "Error: <urlopen error [WinError 10053] 你的主机中的软件中止了一个已建立的连接。>\n"
     ]
    },
    {
     "name": "stderr",
     "output_type": "stream",
     "text": [
      "Processing compounds:  52%|█████████████████████████████▎                          | 2409/4599 [41:16<03:31, 10.36it/s]"
     ]
    },
    {
     "name": "stdout",
     "output_type": "stream",
     "text": [
      "Error: <urlopen error [WinError 10054] 远程主机强迫关闭了一个现有的连接。>\n",
      "Error: <urlopen error [WinError 10054] 远程主机强迫关闭了一个现有的连接。>\n",
      "Error: <urlopen error [WinError 10054] 远程主机强迫关闭了一个现有的连接。>\n"
     ]
    },
    {
     "name": "stderr",
     "output_type": "stream",
     "text": [
      "\r",
      "Processing compounds:  52%|█████████████████████████████▎                          | 2411/4599 [41:16<03:21, 10.88it/s]"
     ]
    },
    {
     "name": "stdout",
     "output_type": "stream",
     "text": [
      "Error: <urlopen error [WinError 10054] 远程主机强迫关闭了一个现有的连接。>\n",
      "Error: <urlopen error [WinError 10054] 远程主机强迫关闭了一个现有的连接。>\n",
      "Error: <urlopen error [WinError 10054] 远程主机强迫关闭了一个现有的连接。>\n"
     ]
    },
    {
     "name": "stderr",
     "output_type": "stream",
     "text": [
      "Processing compounds:  53%|█████████████████████████████▍                          | 2415/4599 [41:16<03:12, 11.37it/s]"
     ]
    },
    {
     "name": "stdout",
     "output_type": "stream",
     "text": [
      "Error: <urlopen error [WinError 10054] 远程主机强迫关闭了一个现有的连接。>\n",
      "Error: <urlopen error [WinError 10053] 你的主机中的软件中止了一个已建立的连接。>\n",
      "Error: <urlopen error [WinError 10053] 你的主机中的软件中止了一个已建立的连接。>\n"
     ]
    },
    {
     "name": "stderr",
     "output_type": "stream",
     "text": [
      "\r",
      "Processing compounds:  53%|█████████████████████████████▍                          | 2417/4599 [41:16<03:09, 11.53it/s]"
     ]
    },
    {
     "name": "stdout",
     "output_type": "stream",
     "text": [
      "Error: <urlopen error [WinError 10053] 你的主机中的软件中止了一个已建立的连接。>\n",
      "Error: <urlopen error [WinError 10053] 你的主机中的软件中止了一个已建立的连接。>\n",
      "Error: <urlopen error [WinError 10054] 远程主机强迫关闭了一个现有的连接。>\n"
     ]
    },
    {
     "name": "stderr",
     "output_type": "stream",
     "text": [
      "Processing compounds:  53%|█████████████████████████████▍                          | 2421/4599 [41:17<03:09, 11.51it/s]"
     ]
    },
    {
     "name": "stdout",
     "output_type": "stream",
     "text": [
      "Error: <urlopen error [WinError 10053] 你的主机中的软件中止了一个已建立的连接。>\n",
      "Error: <urlopen error [WinError 10054] 远程主机强迫关闭了一个现有的连接。>\n",
      "Error: <urlopen error [WinError 10054] 远程主机强迫关闭了一个现有的连接。>\n"
     ]
    },
    {
     "name": "stderr",
     "output_type": "stream",
     "text": [
      "\r",
      "Processing compounds:  53%|█████████████████████████████▌                          | 2423/4599 [41:17<03:10, 11.42it/s]"
     ]
    },
    {
     "name": "stdout",
     "output_type": "stream",
     "text": [
      "Error: <urlopen error [WinError 10054] 远程主机强迫关闭了一个现有的连接。>\n",
      "Error: <urlopen error [WinError 10053] 你的主机中的软件中止了一个已建立的连接。>\n",
      "Error: <urlopen error [WinError 10054] 远程主机强迫关闭了一个现有的连接。>\n"
     ]
    },
    {
     "name": "stderr",
     "output_type": "stream",
     "text": [
      "Processing compounds:  53%|█████████████████████████████▌                          | 2427/4599 [41:17<03:07, 11.59it/s]"
     ]
    },
    {
     "name": "stdout",
     "output_type": "stream",
     "text": [
      "Error: <urlopen error [WinError 10054] 远程主机强迫关闭了一个现有的连接。>\n",
      "Error: <urlopen error [WinError 10054] 远程主机强迫关闭了一个现有的连接。>\n",
      "Error: <urlopen error [WinError 10054] 远程主机强迫关闭了一个现有的连接。>\n"
     ]
    },
    {
     "name": "stderr",
     "output_type": "stream",
     "text": [
      "\r",
      "Processing compounds:  53%|█████████████████████████████▌                          | 2429/4599 [41:17<03:06, 11.66it/s]"
     ]
    },
    {
     "name": "stdout",
     "output_type": "stream",
     "text": [
      "Error: <urlopen error [WinError 10054] 远程主机强迫关闭了一个现有的连接。>\n",
      "Error: <urlopen error [WinError 10054] 远程主机强迫关闭了一个现有的连接。>\n",
      "Error: <urlopen error [WinError 10054] 远程主机强迫关闭了一个现有的连接。>\n"
     ]
    },
    {
     "name": "stderr",
     "output_type": "stream",
     "text": [
      "Processing compounds:  53%|█████████████████████████████▋                          | 2433/4599 [41:18<03:16, 11.01it/s]"
     ]
    },
    {
     "name": "stdout",
     "output_type": "stream",
     "text": [
      "Error: <urlopen error [WinError 10054] 远程主机强迫关闭了一个现有的连接。>\n",
      "Error: <urlopen error [WinError 10054] 远程主机强迫关闭了一个现有的连接。>\n",
      "Error: <urlopen error [WinError 10053] 你的主机中的软件中止了一个已建立的连接。>\n"
     ]
    },
    {
     "name": "stderr",
     "output_type": "stream",
     "text": [
      "\r",
      "Processing compounds:  53%|█████████████████████████████▋                          | 2435/4599 [41:18<03:37,  9.93it/s]"
     ]
    },
    {
     "name": "stdout",
     "output_type": "stream",
     "text": [
      "Error: <urlopen error [WinError 10054] 远程主机强迫关闭了一个现有的连接。>\n",
      "Error: <urlopen error [WinError 10053] 你的主机中的软件中止了一个已建立的连接。>\n"
     ]
    },
    {
     "name": "stderr",
     "output_type": "stream",
     "text": [
      "\r",
      "Processing compounds:  53%|█████████████████████████████▋                          | 2437/4599 [41:18<03:26, 10.46it/s]"
     ]
    },
    {
     "name": "stdout",
     "output_type": "stream",
     "text": [
      "Error: <urlopen error [WinError 10054] 远程主机强迫关闭了一个现有的连接。>\n",
      "Error: <urlopen error [WinError 10054] 远程主机强迫关闭了一个现有的连接。>\n",
      "Error: <urlopen error [WinError 10053] 你的主机中的软件中止了一个已建立的连接。>\n"
     ]
    },
    {
     "name": "stderr",
     "output_type": "stream",
     "text": [
      "Processing compounds:  53%|█████████████████████████████▋                          | 2441/4599 [41:18<03:15, 11.03it/s]"
     ]
    },
    {
     "name": "stdout",
     "output_type": "stream",
     "text": [
      "Error: <urlopen error [WinError 10054] 远程主机强迫关闭了一个现有的连接。>\n",
      "Error: <urlopen error [WinError 10053] 你的主机中的软件中止了一个已建立的连接。>\n",
      "Error: <urlopen error [WinError 10053] 你的主机中的软件中止了一个已建立的连接。>\n"
     ]
    },
    {
     "name": "stderr",
     "output_type": "stream",
     "text": [
      "\r",
      "Processing compounds:  53%|█████████████████████████████▋                          | 2443/4599 [41:19<03:12, 11.20it/s]"
     ]
    },
    {
     "name": "stdout",
     "output_type": "stream",
     "text": [
      "Error: <urlopen error [WinError 10054] 远程主机强迫关闭了一个现有的连接。>\n",
      "Error: <urlopen error [WinError 10053] 你的主机中的软件中止了一个已建立的连接。>\n",
      "Error: <urlopen error [WinError 10053] 你的主机中的软件中止了一个已建立的连接。>\n"
     ]
    },
    {
     "name": "stderr",
     "output_type": "stream",
     "text": [
      "Processing compounds:  53%|█████████████████████████████▊                          | 2447/4599 [41:19<03:14, 11.05it/s]"
     ]
    },
    {
     "name": "stdout",
     "output_type": "stream",
     "text": [
      "Error: <urlopen error [WinError 10054] 远程主机强迫关闭了一个现有的连接。>\n",
      "Error: <urlopen error [WinError 10054] 远程主机强迫关闭了一个现有的连接。>\n",
      "Error: <urlopen error [WinError 10053] 你的主机中的软件中止了一个已建立的连接。>\n"
     ]
    },
    {
     "name": "stderr",
     "output_type": "stream",
     "text": [
      "\r",
      "Processing compounds:  53%|█████████████████████████████▊                          | 2449/4599 [41:19<03:11, 11.22it/s]"
     ]
    },
    {
     "name": "stdout",
     "output_type": "stream",
     "text": [
      "Error: <urlopen error [WinError 10053] 你的主机中的软件中止了一个已建立的连接。>\n",
      "Error: <urlopen error [WinError 10053] 你的主机中的软件中止了一个已建立的连接。>\n",
      "Error: <urlopen error [WinError 10053] 你的主机中的软件中止了一个已建立的连接。>\n"
     ]
    },
    {
     "name": "stderr",
     "output_type": "stream",
     "text": [
      "Processing compounds:  53%|█████████████████████████████▊                          | 2453/4599 [41:19<03:16, 10.94it/s]"
     ]
    },
    {
     "name": "stdout",
     "output_type": "stream",
     "text": [
      "Error: <urlopen error [WinError 10054] 远程主机强迫关闭了一个现有的连接。>\n",
      "Error: <urlopen error [WinError 10054] 远程主机强迫关闭了一个现有的连接。>\n",
      "Error: <urlopen error [WinError 10053] 你的主机中的软件中止了一个已建立的连接。>\n"
     ]
    },
    {
     "name": "stderr",
     "output_type": "stream",
     "text": [
      "\r",
      "Processing compounds:  53%|█████████████████████████████▉                          | 2455/4599 [41:20<03:11, 11.21it/s]"
     ]
    },
    {
     "name": "stdout",
     "output_type": "stream",
     "text": [
      "Error: <urlopen error [WinError 10054] 远程主机强迫关闭了一个现有的连接。>\n",
      "Error: <urlopen error [WinError 10053] 你的主机中的软件中止了一个已建立的连接。>\n",
      "Error: <urlopen error [WinError 10053] 你的主机中的软件中止了一个已建立的连接。>\n"
     ]
    },
    {
     "name": "stderr",
     "output_type": "stream",
     "text": [
      "Processing compounds:  53%|█████████████████████████████▉                          | 2459/4599 [41:20<03:04, 11.59it/s]"
     ]
    },
    {
     "name": "stdout",
     "output_type": "stream",
     "text": [
      "Error: <urlopen error [WinError 10054] 远程主机强迫关闭了一个现有的连接。>\n",
      "Error: <urlopen error [WinError 10053] 你的主机中的软件中止了一个已建立的连接。>\n",
      "Error: <urlopen error [WinError 10053] 你的主机中的软件中止了一个已建立的连接。>\n"
     ]
    },
    {
     "name": "stderr",
     "output_type": "stream",
     "text": [
      "\r",
      "Processing compounds:  54%|█████████████████████████████▉                          | 2461/4599 [41:20<03:02, 11.73it/s]"
     ]
    },
    {
     "name": "stdout",
     "output_type": "stream",
     "text": [
      "Error: <urlopen error [WinError 10054] 远程主机强迫关闭了一个现有的连接。>\n",
      "Error: <urlopen error [WinError 10054] 远程主机强迫关闭了一个现有的连接。>\n",
      "Error: <urlopen error [WinError 10054] 远程主机强迫关闭了一个现有的连接。>\n"
     ]
    },
    {
     "name": "stderr",
     "output_type": "stream",
     "text": [
      "Processing compounds:  54%|██████████████████████████████                          | 2465/4599 [41:21<03:00, 11.83it/s]"
     ]
    },
    {
     "name": "stdout",
     "output_type": "stream",
     "text": [
      "Error: <urlopen error [WinError 10054] 远程主机强迫关闭了一个现有的连接。>\n",
      "Error: <urlopen error [WinError 10054] 远程主机强迫关闭了一个现有的连接。>\n",
      "Error: <urlopen error [WinError 10054] 远程主机强迫关闭了一个现有的连接。>\n"
     ]
    },
    {
     "name": "stderr",
     "output_type": "stream",
     "text": [
      "\r",
      "Processing compounds:  54%|██████████████████████████████                          | 2467/4599 [41:21<03:00, 11.82it/s]"
     ]
    },
    {
     "name": "stdout",
     "output_type": "stream",
     "text": [
      "Error: <urlopen error [WinError 10054] 远程主机强迫关闭了一个现有的连接。>\n",
      "Error: <urlopen error [WinError 10053] 你的主机中的软件中止了一个已建立的连接。>\n",
      "Error: <urlopen error TLS/SSL connection has been closed (EOF) (_ssl.c:1131)>\n"
     ]
    },
    {
     "name": "stderr",
     "output_type": "stream",
     "text": [
      "Processing compounds:  54%|██████████████████████████████                          | 2471/4599 [41:21<02:59, 11.83it/s]"
     ]
    },
    {
     "name": "stdout",
     "output_type": "stream",
     "text": [
      "Error: <urlopen error TLS/SSL connection has been closed (EOF) (_ssl.c:1131)>\n",
      "Error: <urlopen error [WinError 10053] 你的主机中的软件中止了一个已建立的连接。>\n",
      "Error: <urlopen error [WinError 10053] 你的主机中的软件中止了一个已建立的连接。>\n"
     ]
    },
    {
     "name": "stderr",
     "output_type": "stream",
     "text": [
      "\r",
      "Processing compounds:  54%|██████████████████████████████                          | 2473/4599 [41:21<03:00, 11.76it/s]"
     ]
    },
    {
     "name": "stdout",
     "output_type": "stream",
     "text": [
      "Error: <urlopen error [WinError 10054] 远程主机强迫关闭了一个现有的连接。>\n",
      "Error: <urlopen error [WinError 10054] 远程主机强迫关闭了一个现有的连接。>\n",
      "Error: <urlopen error [WinError 10054] 远程主机强迫关闭了一个现有的连接。>\n"
     ]
    },
    {
     "name": "stderr",
     "output_type": "stream",
     "text": [
      "Processing compounds:  54%|██████████████████████████████▏                         | 2477/4599 [41:22<02:56, 12.00it/s]"
     ]
    },
    {
     "name": "stdout",
     "output_type": "stream",
     "text": [
      "Error: <urlopen error [WinError 10053] 你的主机中的软件中止了一个已建立的连接。>\n",
      "Error: <urlopen error [WinError 10054] 远程主机强迫关闭了一个现有的连接。>\n",
      "Error: <urlopen error [WinError 10054] 远程主机强迫关闭了一个现有的连接。>\n"
     ]
    },
    {
     "name": "stderr",
     "output_type": "stream",
     "text": [
      "\r",
      "Processing compounds:  54%|██████████████████████████████▏                         | 2479/4599 [41:22<03:04, 11.47it/s]"
     ]
    },
    {
     "name": "stdout",
     "output_type": "stream",
     "text": [
      "Error: <urlopen error [WinError 10054] 远程主机强迫关闭了一个现有的连接。>\n",
      "Error: <urlopen error [WinError 10053] 你的主机中的软件中止了一个已建立的连接。>\n",
      "Error: <urlopen error [WinError 10053] 你的主机中的软件中止了一个已建立的连接。>\n"
     ]
    },
    {
     "name": "stderr",
     "output_type": "stream",
     "text": [
      "Processing compounds:  54%|██████████████████████████████▏                         | 2483/4599 [41:22<03:02, 11.62it/s]"
     ]
    },
    {
     "name": "stdout",
     "output_type": "stream",
     "text": [
      "Error: <urlopen error [WinError 10054] 远程主机强迫关闭了一个现有的连接。>\n",
      "Error: <urlopen error [WinError 10054] 远程主机强迫关闭了一个现有的连接。>\n",
      "Error: <urlopen error [WinError 10053] 你的主机中的软件中止了一个已建立的连接。>\n"
     ]
    },
    {
     "name": "stderr",
     "output_type": "stream",
     "text": [
      "\r",
      "Processing compounds:  54%|██████████████████████████████▎                         | 2485/4599 [41:22<03:00, 11.69it/s]"
     ]
    },
    {
     "name": "stdout",
     "output_type": "stream",
     "text": [
      "Error: <urlopen error [WinError 10054] 远程主机强迫关闭了一个现有的连接。>\n",
      "Error: <urlopen error [WinError 10053] 你的主机中的软件中止了一个已建立的连接。>\n",
      "Error: <urlopen error [WinError 10053] 你的主机中的软件中止了一个已建立的连接。>\n"
     ]
    },
    {
     "name": "stderr",
     "output_type": "stream",
     "text": [
      "Processing compounds:  54%|██████████████████████████████▎                         | 2489/4599 [41:23<02:57, 11.86it/s]"
     ]
    },
    {
     "name": "stdout",
     "output_type": "stream",
     "text": [
      "Error: <urlopen error [WinError 10053] 你的主机中的软件中止了一个已建立的连接。>\n",
      "Error: <urlopen error [WinError 10054] 远程主机强迫关闭了一个现有的连接。>\n",
      "Error: <urlopen error [WinError 10053] 你的主机中的软件中止了一个已建立的连接。>\n"
     ]
    },
    {
     "name": "stderr",
     "output_type": "stream",
     "text": [
      "\r",
      "Processing compounds:  54%|██████████████████████████████▎                         | 2491/4599 [41:23<02:59, 11.77it/s]"
     ]
    },
    {
     "name": "stdout",
     "output_type": "stream",
     "text": [
      "Error: <urlopen error [WinError 10054] 远程主机强迫关闭了一个现有的连接。>\n",
      "Error: <urlopen error [WinError 10054] 远程主机强迫关闭了一个现有的连接。>\n",
      "Error: <urlopen error [WinError 10053] 你的主机中的软件中止了一个已建立的连接。>\n"
     ]
    },
    {
     "name": "stderr",
     "output_type": "stream",
     "text": [
      "Processing compounds:  54%|██████████████████████████████▍                         | 2495/4599 [41:23<02:56, 11.91it/s]"
     ]
    },
    {
     "name": "stdout",
     "output_type": "stream",
     "text": [
      "Error: <urlopen error [WinError 10054] 远程主机强迫关闭了一个现有的连接。>\n",
      "Error: <urlopen error [WinError 10054] 远程主机强迫关闭了一个现有的连接。>\n",
      "Error: <urlopen error [WinError 10053] 你的主机中的软件中止了一个已建立的连接。>\n"
     ]
    },
    {
     "name": "stderr",
     "output_type": "stream",
     "text": [
      "\r",
      "Processing compounds:  54%|██████████████████████████████▍                         | 2497/4599 [41:23<02:58, 11.76it/s]"
     ]
    },
    {
     "name": "stdout",
     "output_type": "stream",
     "text": [
      "Error: <urlopen error [WinError 10054] 远程主机强迫关闭了一个现有的连接。>\n",
      "Error: <urlopen error [WinError 10053] 你的主机中的软件中止了一个已建立的连接。>\n",
      "Error: <urlopen error [WinError 10053] 你的主机中的软件中止了一个已建立的连接。>\n"
     ]
    },
    {
     "name": "stderr",
     "output_type": "stream",
     "text": [
      "Processing compounds:  54%|██████████████████████████████▍                         | 2501/4599 [41:24<02:57, 11.80it/s]"
     ]
    },
    {
     "name": "stdout",
     "output_type": "stream",
     "text": [
      "Error: <urlopen error [WinError 10054] 远程主机强迫关闭了一个现有的连接。>\n",
      "Error: <urlopen error [WinError 10053] 你的主机中的软件中止了一个已建立的连接。>\n",
      "Error: <urlopen error [WinError 10053] 你的主机中的软件中止了一个已建立的连接。>\n"
     ]
    },
    {
     "name": "stderr",
     "output_type": "stream",
     "text": [
      "\r",
      "Processing compounds:  54%|██████████████████████████████▍                         | 2503/4599 [41:24<03:09, 11.07it/s]"
     ]
    },
    {
     "name": "stdout",
     "output_type": "stream",
     "text": [
      "Error: <urlopen error [WinError 10054] 远程主机强迫关闭了一个现有的连接。>\n",
      "Error: <urlopen error [WinError 10053] 你的主机中的软件中止了一个已建立的连接。>\n",
      "Error: <urlopen error [WinError 10054] 远程主机强迫关闭了一个现有的连接。>\n"
     ]
    },
    {
     "name": "stderr",
     "output_type": "stream",
     "text": [
      "Processing compounds:  55%|██████████████████████████████▌                         | 2507/4599 [41:24<03:01, 11.53it/s]"
     ]
    },
    {
     "name": "stdout",
     "output_type": "stream",
     "text": [
      "Error: <urlopen error [WinError 10054] 远程主机强迫关闭了一个现有的连接。>\n",
      "Error: <urlopen error [WinError 10054] 远程主机强迫关闭了一个现有的连接。>\n",
      "Error: <urlopen error [WinError 10053] 你的主机中的软件中止了一个已建立的连接。>\n"
     ]
    },
    {
     "name": "stderr",
     "output_type": "stream",
     "text": [
      "\r",
      "Processing compounds:  55%|██████████████████████████████▌                         | 2509/4599 [41:24<03:00, 11.61it/s]"
     ]
    },
    {
     "name": "stdout",
     "output_type": "stream",
     "text": [
      "Error: <urlopen error [WinError 10053] 你的主机中的软件中止了一个已建立的连接。>\n",
      "Error: <urlopen error [WinError 10054] 远程主机强迫关闭了一个现有的连接。>\n",
      "Error: <urlopen error [WinError 10053] 你的主机中的软件中止了一个已建立的连接。>\n"
     ]
    },
    {
     "name": "stderr",
     "output_type": "stream",
     "text": [
      "Processing compounds:  55%|██████████████████████████████▌                         | 2513/4599 [41:25<02:55, 11.91it/s]"
     ]
    },
    {
     "name": "stdout",
     "output_type": "stream",
     "text": [
      "Error: <urlopen error [WinError 10053] 你的主机中的软件中止了一个已建立的连接。>\n",
      "Error: <urlopen error [WinError 10053] 你的主机中的软件中止了一个已建立的连接。>\n",
      "Error: <urlopen error [WinError 10053] 你的主机中的软件中止了一个已建立的连接。>\n"
     ]
    },
    {
     "name": "stderr",
     "output_type": "stream",
     "text": [
      "\r",
      "Processing compounds:  55%|██████████████████████████████▌                         | 2515/4599 [41:25<02:55, 11.85it/s]"
     ]
    },
    {
     "name": "stdout",
     "output_type": "stream",
     "text": [
      "Error: <urlopen error [WinError 10054] 远程主机强迫关闭了一个现有的连接。>\n",
      "Error: <urlopen error [WinError 10054] 远程主机强迫关闭了一个现有的连接。>\n",
      "Error: <urlopen error [WinError 10054] 远程主机强迫关闭了一个现有的连接。>\n"
     ]
    },
    {
     "name": "stderr",
     "output_type": "stream",
     "text": [
      "Processing compounds:  55%|██████████████████████████████▋                         | 2519/4599 [41:25<02:53, 12.00it/s]"
     ]
    },
    {
     "name": "stdout",
     "output_type": "stream",
     "text": [
      "Error: <urlopen error [WinError 10054] 远程主机强迫关闭了一个现有的连接。>\n",
      "Error: <urlopen error [WinError 10053] 你的主机中的软件中止了一个已建立的连接。>\n",
      "Error: <urlopen error [WinError 10053] 你的主机中的软件中止了一个已建立的连接。>\n"
     ]
    },
    {
     "name": "stderr",
     "output_type": "stream",
     "text": [
      "\r",
      "Processing compounds:  55%|██████████████████████████████▋                         | 2521/4599 [41:25<02:53, 11.97it/s]"
     ]
    },
    {
     "name": "stdout",
     "output_type": "stream",
     "text": [
      "Error: <urlopen error [WinError 10054] 远程主机强迫关闭了一个现有的连接。>\n",
      "Error: <urlopen error [WinError 10054] 远程主机强迫关闭了一个现有的连接。>\n",
      "Error: <urlopen error [WinError 10053] 你的主机中的软件中止了一个已建立的连接。>\n"
     ]
    },
    {
     "name": "stderr",
     "output_type": "stream",
     "text": [
      "Processing compounds:  55%|██████████████████████████████▋                         | 2525/4599 [41:26<02:55, 11.83it/s]"
     ]
    },
    {
     "name": "stdout",
     "output_type": "stream",
     "text": [
      "Error: <urlopen error [WinError 10053] 你的主机中的软件中止了一个已建立的连接。>\n",
      "Error: <urlopen error TLS/SSL connection has been closed (EOF) (_ssl.c:1131)>\n",
      "Error: <urlopen error [WinError 10053] 你的主机中的软件中止了一个已建立的连接。>\n"
     ]
    },
    {
     "name": "stderr",
     "output_type": "stream",
     "text": [
      "\r",
      "Processing compounds:  55%|██████████████████████████████▊                         | 2527/4599 [41:26<03:00, 11.51it/s]"
     ]
    },
    {
     "name": "stdout",
     "output_type": "stream",
     "text": [
      "Error: <urlopen error [WinError 10054] 远程主机强迫关闭了一个现有的连接。>\n",
      "Error: <urlopen error [WinError 10054] 远程主机强迫关闭了一个现有的连接。>\n",
      "Error: <urlopen error [WinError 10054] 远程主机强迫关闭了一个现有的连接。>\n"
     ]
    },
    {
     "name": "stderr",
     "output_type": "stream",
     "text": [
      "Processing compounds:  55%|██████████████████████████████▊                         | 2531/4599 [41:26<02:56, 11.73it/s]"
     ]
    },
    {
     "name": "stdout",
     "output_type": "stream",
     "text": [
      "Error: <urlopen error [WinError 10054] 远程主机强迫关闭了一个现有的连接。>\n",
      "Error: <urlopen error [WinError 10054] 远程主机强迫关闭了一个现有的连接。>\n",
      "Error: <urlopen error [WinError 10053] 你的主机中的软件中止了一个已建立的连接。>\n"
     ]
    },
    {
     "name": "stderr",
     "output_type": "stream",
     "text": [
      "\r",
      "Processing compounds:  55%|██████████████████████████████▊                         | 2533/4599 [41:26<02:55, 11.77it/s]"
     ]
    },
    {
     "name": "stdout",
     "output_type": "stream",
     "text": [
      "Error: <urlopen error [WinError 10053] 你的主机中的软件中止了一个已建立的连接。>\n",
      "Error: <urlopen error [WinError 10053] 你的主机中的软件中止了一个已建立的连接。>\n",
      "Error: <urlopen error [WinError 10054] 远程主机强迫关闭了一个现有的连接。>\n"
     ]
    },
    {
     "name": "stderr",
     "output_type": "stream",
     "text": [
      "Processing compounds:  55%|██████████████████████████████▉                         | 2537/4599 [41:27<02:51, 12.00it/s]"
     ]
    },
    {
     "name": "stdout",
     "output_type": "stream",
     "text": [
      "Error: <urlopen error [WinError 10054] 远程主机强迫关闭了一个现有的连接。>\n",
      "Error: <urlopen error [WinError 10054] 远程主机强迫关闭了一个现有的连接。>\n",
      "Error: <urlopen error [WinError 10054] 远程主机强迫关闭了一个现有的连接。>\n"
     ]
    },
    {
     "name": "stderr",
     "output_type": "stream",
     "text": [
      "\r",
      "Processing compounds:  55%|██████████████████████████████▉                         | 2539/4599 [41:27<02:54, 11.79it/s]"
     ]
    },
    {
     "name": "stdout",
     "output_type": "stream",
     "text": [
      "Error: <urlopen error [WinError 10054] 远程主机强迫关闭了一个现有的连接。>\n",
      "Error: <urlopen error [WinError 10054] 远程主机强迫关闭了一个现有的连接。>\n",
      "Error: <urlopen error [WinError 10054] 远程主机强迫关闭了一个现有的连接。>\n"
     ]
    },
    {
     "name": "stderr",
     "output_type": "stream",
     "text": [
      "Processing compounds:  55%|██████████████████████████████▉                         | 2543/4599 [41:27<03:04, 11.13it/s]"
     ]
    },
    {
     "name": "stdout",
     "output_type": "stream",
     "text": [
      "Error: <urlopen error [WinError 10053] 你的主机中的软件中止了一个已建立的连接。>\n",
      "Error: <urlopen error [WinError 10054] 远程主机强迫关闭了一个现有的连接。>\n",
      "Error: <urlopen error [WinError 10053] 你的主机中的软件中止了一个已建立的连接。>\n"
     ]
    },
    {
     "name": "stderr",
     "output_type": "stream",
     "text": [
      "\r",
      "Processing compounds:  55%|██████████████████████████████▉                         | 2545/4599 [41:27<03:00, 11.36it/s]"
     ]
    },
    {
     "name": "stdout",
     "output_type": "stream",
     "text": [
      "Error: <urlopen error [WinError 10053] 你的主机中的软件中止了一个已建立的连接。>\n",
      "Error: <urlopen error [WinError 10054] 远程主机强迫关闭了一个现有的连接。>\n",
      "Error: <urlopen error [WinError 10054] 远程主机强迫关闭了一个现有的连接。>\n"
     ]
    },
    {
     "name": "stderr",
     "output_type": "stream",
     "text": [
      "\r",
      "Processing compounds:  55%|███████████████████████████████                         | 2547/4599 [41:28<03:07, 10.94it/s]"
     ]
    },
    {
     "name": "stdout",
     "output_type": "stream",
     "text": [
      "Error: <urlopen error [WinError 10054] 远程主机强迫关闭了一个现有的连接。>\n",
      "Error: <urlopen error [WinError 10054] 远程主机强迫关闭了一个现有的连接。>\n"
     ]
    },
    {
     "name": "stderr",
     "output_type": "stream",
     "text": [
      "\r",
      "Processing compounds:  55%|███████████████████████████████                         | 2549/4599 [41:28<03:16, 10.42it/s]"
     ]
    },
    {
     "name": "stdout",
     "output_type": "stream",
     "text": [
      "Error: <urlopen error [WinError 10054] 远程主机强迫关闭了一个现有的连接。>\n",
      "Error: <urlopen error [WinError 10053] 你的主机中的软件中止了一个已建立的连接。>\n"
     ]
    },
    {
     "name": "stderr",
     "output_type": "stream",
     "text": [
      "Processing compounds:  55%|███████████████████████████████                         | 2552/4599 [41:28<03:30,  9.73it/s]"
     ]
    },
    {
     "name": "stdout",
     "output_type": "stream",
     "text": [
      "Error: <urlopen error [WinError 10054] 远程主机强迫关闭了一个现有的连接。>\n",
      "Error: <urlopen error [WinError 10054] 远程主机强迫关闭了一个现有的连接。>\n",
      "Error: <urlopen error [WinError 10054] 远程主机强迫关闭了一个现有的连接。>\n"
     ]
    },
    {
     "name": "stderr",
     "output_type": "stream",
     "text": [
      "Processing compounds:  56%|███████████████████████████████                         | 2556/4599 [41:28<03:12, 10.59it/s]"
     ]
    },
    {
     "name": "stdout",
     "output_type": "stream",
     "text": [
      "Error: <urlopen error [WinError 10053] 你的主机中的软件中止了一个已建立的连接。>\n",
      "Error: <urlopen error [WinError 10054] 远程主机强迫关闭了一个现有的连接。>\n",
      "Error: <urlopen error [WinError 10053] 你的主机中的软件中止了一个已建立的连接。>\n"
     ]
    },
    {
     "name": "stderr",
     "output_type": "stream",
     "text": [
      "\r",
      "Processing compounds:  56%|███████████████████████████████▏                        | 2558/4599 [41:29<03:08, 10.85it/s]"
     ]
    },
    {
     "name": "stdout",
     "output_type": "stream",
     "text": [
      "Error: <urlopen error [WinError 10054] 远程主机强迫关闭了一个现有的连接。>\n",
      "Error: <urlopen error [WinError 10053] 你的主机中的软件中止了一个已建立的连接。>\n",
      "Error: <urlopen error [WinError 10054] 远程主机强迫关闭了一个现有的连接。>\n"
     ]
    },
    {
     "name": "stderr",
     "output_type": "stream",
     "text": [
      "Processing compounds:  56%|███████████████████████████████▏                        | 2562/4599 [41:29<03:07, 10.87it/s]"
     ]
    },
    {
     "name": "stdout",
     "output_type": "stream",
     "text": [
      "Error: <urlopen error [WinError 10053] 你的主机中的软件中止了一个已建立的连接。>\n",
      "Error: <urlopen error [WinError 10054] 远程主机强迫关闭了一个现有的连接。>\n",
      "Error: <urlopen error [WinError 10053] 你的主机中的软件中止了一个已建立的连接。>\n"
     ]
    },
    {
     "name": "stderr",
     "output_type": "stream",
     "text": [
      "\r",
      "Processing compounds:  56%|███████████████████████████████▏                        | 2564/4599 [41:29<03:06, 10.91it/s]"
     ]
    },
    {
     "name": "stdout",
     "output_type": "stream",
     "text": [
      "Error: <urlopen error [WinError 10053] 你的主机中的软件中止了一个已建立的连接。>\n",
      "Error: <urlopen error [WinError 10053] 你的主机中的软件中止了一个已建立的连接。>\n",
      "Error: <urlopen error [WinError 10054] 远程主机强迫关闭了一个现有的连接。>\n"
     ]
    },
    {
     "name": "stderr",
     "output_type": "stream",
     "text": [
      "Processing compounds:  56%|███████████████████████████████▎                        | 2568/4599 [41:30<03:01, 11.17it/s]"
     ]
    },
    {
     "name": "stdout",
     "output_type": "stream",
     "text": [
      "Error: <urlopen error [WinError 10053] 你的主机中的软件中止了一个已建立的连接。>\n",
      "Error: <urlopen error [WinError 10054] 远程主机强迫关闭了一个现有的连接。>\n",
      "Error: <urlopen error [WinError 10054] 远程主机强迫关闭了一个现有的连接。>\n"
     ]
    },
    {
     "name": "stderr",
     "output_type": "stream",
     "text": [
      "\r",
      "Processing compounds:  56%|███████████████████████████████▎                        | 2570/4599 [41:30<03:00, 11.21it/s]"
     ]
    },
    {
     "name": "stdout",
     "output_type": "stream",
     "text": [
      "Error: <urlopen error [WinError 10054] 远程主机强迫关闭了一个现有的连接。>\n",
      "Error: <urlopen error [WinError 10054] 远程主机强迫关闭了一个现有的连接。>\n",
      "Error: <urlopen error [WinError 10054] 远程主机强迫关闭了一个现有的连接。>\n"
     ]
    },
    {
     "name": "stderr",
     "output_type": "stream",
     "text": [
      "Processing compounds:  56%|███████████████████████████████▎                        | 2574/4599 [41:30<03:11, 10.60it/s]"
     ]
    },
    {
     "name": "stdout",
     "output_type": "stream",
     "text": [
      "Error: <urlopen error [WinError 10054] 远程主机强迫关闭了一个现有的连接。>\n",
      "Error: <urlopen error [WinError 10054] 远程主机强迫关闭了一个现有的连接。>\n",
      "Error: <urlopen error [WinError 10054] 远程主机强迫关闭了一个现有的连接。>\n"
     ]
    },
    {
     "name": "stderr",
     "output_type": "stream",
     "text": [
      "\r",
      "Processing compounds:  56%|███████████████████████████████▎                        | 2576/4599 [41:30<03:23,  9.93it/s]"
     ]
    },
    {
     "name": "stdout",
     "output_type": "stream",
     "text": [
      "Error: <urlopen error [WinError 10054] 远程主机强迫关闭了一个现有的连接。>\n",
      "Error: <urlopen error [WinError 10054] 远程主机强迫关闭了一个现有的连接。>\n"
     ]
    },
    {
     "name": "stderr",
     "output_type": "stream",
     "text": [
      "\r",
      "Processing compounds:  56%|███████████████████████████████▍                        | 2578/4599 [41:31<03:34,  9.42it/s]"
     ]
    },
    {
     "name": "stdout",
     "output_type": "stream",
     "text": [
      "Error: <urlopen error [WinError 10054] 远程主机强迫关闭了一个现有的连接。>\n",
      "Error: <urlopen error [WinError 10054] 远程主机强迫关闭了一个现有的连接。>\n",
      "Error: <urlopen error [WinError 10054] 远程主机强迫关闭了一个现有的连接。>\n"
     ]
    },
    {
     "name": "stderr",
     "output_type": "stream",
     "text": [
      "\r",
      "Processing compounds:  56%|███████████████████████████████▍                        | 2580/4599 [41:31<03:23,  9.94it/s]"
     ]
    },
    {
     "name": "stdout",
     "output_type": "stream",
     "text": [
      "Error: <urlopen error [WinError 10054] 远程主机强迫关闭了一个现有的连接。>\n",
      "Error: <urlopen error [WinError 10053] 你的主机中的软件中止了一个已建立的连接。>\n"
     ]
    },
    {
     "name": "stderr",
     "output_type": "stream",
     "text": [
      "Processing compounds:  56%|███████████████████████████████▍                        | 2583/4599 [41:31<03:29,  9.62it/s]"
     ]
    },
    {
     "name": "stdout",
     "output_type": "stream",
     "text": [
      "Error: <urlopen error [WinError 10053] 你的主机中的软件中止了一个已建立的连接。>\n",
      "Error: <urlopen error [WinError 10053] 你的主机中的软件中止了一个已建立的连接。>\n",
      "Error: <urlopen error [WinError 10054] 远程主机强迫关闭了一个现有的连接。>\n"
     ]
    },
    {
     "name": "stderr",
     "output_type": "stream",
     "text": [
      "Processing compounds:  56%|███████████████████████████████▍                        | 2586/4599 [41:31<32:19,  1.04it/s]"
     ]
    },
    {
     "name": "stdout",
     "output_type": "stream",
     "text": [
      "Error: <urlopen error [WinError 10053] 你的主机中的软件中止了一个已建立的连接。>\n",
      "Error: <urlopen error [WinError 10053] 你的主机中的软件中止了一个已建立的连接。>\n"
     ]
    },
    {
     "name": "stderr",
     "output_type": "stream",
     "text": [
      "\n",
      "D:\\Miniconda\\envs\\bittersweet\\lib\\site-packages\\pubchempy.py:563: SyntaxWarning: \"is not\" with a literal. Did you mean \"!=\"?\n",
      "  if self.charge is not 0:\n",
      "D:\\Miniconda\\envs\\bittersweet\\lib\\site-packages\\pubchempy.py:563: SyntaxWarning: \"is not\" with a literal. Did you mean \"!=\"?\n",
      "  if self.charge is not 0:\n",
      "D:\\Miniconda\\envs\\bittersweet\\lib\\site-packages\\pubchempy.py:563: SyntaxWarning: \"is not\" with a literal. Did you mean \"!=\"?\n",
      "  if self.charge is not 0:\n",
      "D:\\Miniconda\\envs\\bittersweet\\lib\\site-packages\\pubchempy.py:563: SyntaxWarning: \"is not\" with a literal. Did you mean \"!=\"?\n",
      "  if self.charge is not 0:\n",
      "D:\\Miniconda\\envs\\bittersweet\\lib\\site-packages\\pubchempy.py:563: SyntaxWarning: \"is not\" with a literal. Did you mean \"!=\"?\n",
      "  if self.charge is not 0:\n"
     ]
    },
    {
     "ename": "KeyboardInterrupt",
     "evalue": "",
     "output_type": "error",
     "traceback": [
      "\u001b[1;31m---------------------------------------------------------------------------\u001b[0m",
      "\u001b[1;31mKeyboardInterrupt\u001b[0m                         Traceback (most recent call last)",
      "Cell \u001b[1;32mIn[8], line 4\u001b[0m\n\u001b[0;32m      1\u001b[0m \u001b[38;5;66;03m# Iterate through each compound name\u001b[39;00m\n\u001b[0;32m      2\u001b[0m \u001b[38;5;28;01mfor\u001b[39;00m name \u001b[38;5;129;01min\u001b[39;00m tqdm(compound_names, desc\u001b[38;5;241m=\u001b[39m\u001b[38;5;124m\"\u001b[39m\u001b[38;5;124mProcessing compounds\u001b[39m\u001b[38;5;124m\"\u001b[39m):\n\u001b[0;32m      3\u001b[0m     \u001b[38;5;66;03m# Get the canonical SMILES for the current compound\u001b[39;00m\n\u001b[1;32m----> 4\u001b[0m     canonical_smiles \u001b[38;5;241m=\u001b[39m \u001b[43mget_canonical_smiles\u001b[49m\u001b[43m(\u001b[49m\u001b[43mname\u001b[49m\u001b[43m)\u001b[49m\n\u001b[0;32m      5\u001b[0m     \u001b[38;5;66;03m# Append the compound name and its SMILES to the list\u001b[39;00m\n\u001b[0;32m      6\u001b[0m     plant\u001b[38;5;241m.\u001b[39mappend((name, canonical_smiles))\n",
      "Cell \u001b[1;32mIn[1], line 8\u001b[0m, in \u001b[0;36mget_canonical_smiles\u001b[1;34m(compound_name)\u001b[0m\n\u001b[0;32m      5\u001b[0m \u001b[38;5;28;01mdef\u001b[39;00m \u001b[38;5;21mget_canonical_smiles\u001b[39m(compound_name):\n\u001b[0;32m      6\u001b[0m     \u001b[38;5;28;01mtry\u001b[39;00m:\n\u001b[0;32m      7\u001b[0m         \u001b[38;5;66;03m# Query PubChem database for compounds with the provided name\u001b[39;00m\n\u001b[1;32m----> 8\u001b[0m         results \u001b[38;5;241m=\u001b[39m \u001b[43mpcp\u001b[49m\u001b[38;5;241;43m.\u001b[39;49m\u001b[43mget_compounds\u001b[49m\u001b[43m(\u001b[49m\u001b[43mcompound_name\u001b[49m\u001b[43m,\u001b[49m\u001b[43m \u001b[49m\u001b[38;5;124;43m'\u001b[39;49m\u001b[38;5;124;43mname\u001b[39;49m\u001b[38;5;124;43m'\u001b[39;49m\u001b[43m)\u001b[49m\n\u001b[0;32m      9\u001b[0m         \u001b[38;5;28;01mif\u001b[39;00m results:\n\u001b[0;32m     10\u001b[0m             compound \u001b[38;5;241m=\u001b[39m results[\u001b[38;5;241m0\u001b[39m]  \u001b[38;5;66;03m# Take the first result (if available)\u001b[39;00m\n",
      "File \u001b[1;32mD:\\Miniconda\\envs\\bittersweet\\lib\\site-packages\\pubchempy.py:321\u001b[0m, in \u001b[0;36mget_compounds\u001b[1;34m(identifier, namespace, searchtype, as_dataframe, **kwargs)\u001b[0m\n\u001b[0;32m    312\u001b[0m \u001b[38;5;28;01mdef\u001b[39;00m \u001b[38;5;21mget_compounds\u001b[39m(identifier, namespace\u001b[38;5;241m=\u001b[39m\u001b[38;5;124m'\u001b[39m\u001b[38;5;124mcid\u001b[39m\u001b[38;5;124m'\u001b[39m, searchtype\u001b[38;5;241m=\u001b[39m\u001b[38;5;28;01mNone\u001b[39;00m, as_dataframe\u001b[38;5;241m=\u001b[39m\u001b[38;5;28;01mFalse\u001b[39;00m, \u001b[38;5;241m*\u001b[39m\u001b[38;5;241m*\u001b[39mkwargs):\n\u001b[0;32m    313\u001b[0m \u001b[38;5;250m    \u001b[39m\u001b[38;5;124;03m\"\"\"Retrieve the specified compound records from PubChem.\u001b[39;00m\n\u001b[0;32m    314\u001b[0m \n\u001b[0;32m    315\u001b[0m \u001b[38;5;124;03m    :param identifier: The compound identifier to use as a search query.\u001b[39;00m\n\u001b[1;32m   (...)\u001b[0m\n\u001b[0;32m    319\u001b[0m \u001b[38;5;124;03m                         :class:`~pandas.DataFrame` and return that.\u001b[39;00m\n\u001b[0;32m    320\u001b[0m \u001b[38;5;124;03m    \"\"\"\u001b[39;00m\n\u001b[1;32m--> 321\u001b[0m     results \u001b[38;5;241m=\u001b[39m \u001b[43mget_json\u001b[49m\u001b[43m(\u001b[49m\u001b[43midentifier\u001b[49m\u001b[43m,\u001b[49m\u001b[43m \u001b[49m\u001b[43mnamespace\u001b[49m\u001b[43m,\u001b[49m\u001b[43m \u001b[49m\u001b[43msearchtype\u001b[49m\u001b[38;5;241;43m=\u001b[39;49m\u001b[43msearchtype\u001b[49m\u001b[43m,\u001b[49m\u001b[43m \u001b[49m\u001b[38;5;241;43m*\u001b[39;49m\u001b[38;5;241;43m*\u001b[39;49m\u001b[43mkwargs\u001b[49m\u001b[43m)\u001b[49m\n\u001b[0;32m    322\u001b[0m     compounds \u001b[38;5;241m=\u001b[39m [Compound(r) \u001b[38;5;28;01mfor\u001b[39;00m r \u001b[38;5;129;01min\u001b[39;00m results[\u001b[38;5;124m'\u001b[39m\u001b[38;5;124mPC_Compounds\u001b[39m\u001b[38;5;124m'\u001b[39m]] \u001b[38;5;28;01mif\u001b[39;00m results \u001b[38;5;28;01melse\u001b[39;00m []\n\u001b[0;32m    323\u001b[0m     \u001b[38;5;28;01mif\u001b[39;00m as_dataframe:\n",
      "File \u001b[1;32mD:\\Miniconda\\envs\\bittersweet\\lib\\site-packages\\pubchempy.py:299\u001b[0m, in \u001b[0;36mget_json\u001b[1;34m(identifier, namespace, domain, operation, searchtype, **kwargs)\u001b[0m\n\u001b[0;32m    297\u001b[0m \u001b[38;5;250m\u001b[39m\u001b[38;5;124;03m\"\"\"Request wrapper that automatically parses JSON response and supresses NotFoundError.\"\"\"\u001b[39;00m\n\u001b[0;32m    298\u001b[0m \u001b[38;5;28;01mtry\u001b[39;00m:\n\u001b[1;32m--> 299\u001b[0m     \u001b[38;5;28;01mreturn\u001b[39;00m json\u001b[38;5;241m.\u001b[39mloads(\u001b[43mget\u001b[49m\u001b[43m(\u001b[49m\u001b[43midentifier\u001b[49m\u001b[43m,\u001b[49m\u001b[43m \u001b[49m\u001b[43mnamespace\u001b[49m\u001b[43m,\u001b[49m\u001b[43m \u001b[49m\u001b[43mdomain\u001b[49m\u001b[43m,\u001b[49m\u001b[43m \u001b[49m\u001b[43moperation\u001b[49m\u001b[43m,\u001b[49m\u001b[43m \u001b[49m\u001b[38;5;124;43m'\u001b[39;49m\u001b[38;5;124;43mJSON\u001b[39;49m\u001b[38;5;124;43m'\u001b[39;49m\u001b[43m,\u001b[49m\u001b[43m \u001b[49m\u001b[43msearchtype\u001b[49m\u001b[43m,\u001b[49m\u001b[43m \u001b[49m\u001b[38;5;241;43m*\u001b[39;49m\u001b[38;5;241;43m*\u001b[39;49m\u001b[43mkwargs\u001b[49m\u001b[43m)\u001b[49m\u001b[38;5;241m.\u001b[39mdecode())\n\u001b[0;32m    300\u001b[0m \u001b[38;5;28;01mexcept\u001b[39;00m NotFoundError \u001b[38;5;28;01mas\u001b[39;00m e:\n\u001b[0;32m    301\u001b[0m     log\u001b[38;5;241m.\u001b[39minfo(e)\n",
      "File \u001b[1;32mD:\\Miniconda\\envs\\bittersweet\\lib\\site-packages\\pubchempy.py:292\u001b[0m, in \u001b[0;36mget\u001b[1;34m(identifier, namespace, domain, operation, output, searchtype, **kwargs)\u001b[0m\n\u001b[0;32m    290\u001b[0m             response \u001b[38;5;241m=\u001b[39m request(identifier, namespace, domain, operation, output, searchtype, \u001b[38;5;241m*\u001b[39m\u001b[38;5;241m*\u001b[39mkwargs)\u001b[38;5;241m.\u001b[39mread()\n\u001b[0;32m    291\u001b[0m \u001b[38;5;28;01melse\u001b[39;00m:\n\u001b[1;32m--> 292\u001b[0m     response \u001b[38;5;241m=\u001b[39m \u001b[43mrequest\u001b[49m\u001b[43m(\u001b[49m\u001b[43midentifier\u001b[49m\u001b[43m,\u001b[49m\u001b[43m \u001b[49m\u001b[43mnamespace\u001b[49m\u001b[43m,\u001b[49m\u001b[43m \u001b[49m\u001b[43mdomain\u001b[49m\u001b[43m,\u001b[49m\u001b[43m \u001b[49m\u001b[43moperation\u001b[49m\u001b[43m,\u001b[49m\u001b[43m \u001b[49m\u001b[43moutput\u001b[49m\u001b[43m,\u001b[49m\u001b[43m \u001b[49m\u001b[43msearchtype\u001b[49m\u001b[43m,\u001b[49m\u001b[43m \u001b[49m\u001b[38;5;241;43m*\u001b[39;49m\u001b[38;5;241;43m*\u001b[39;49m\u001b[43mkwargs\u001b[49m\u001b[43m)\u001b[49m\u001b[38;5;241m.\u001b[39mread()\n\u001b[0;32m    293\u001b[0m \u001b[38;5;28;01mreturn\u001b[39;00m response\n",
      "File \u001b[1;32mD:\\Miniconda\\envs\\bittersweet\\lib\\site-packages\\pubchempy.py:271\u001b[0m, in \u001b[0;36mrequest\u001b[1;34m(identifier, namespace, domain, operation, output, searchtype, **kwargs)\u001b[0m\n\u001b[0;32m    269\u001b[0m     log\u001b[38;5;241m.\u001b[39mdebug(\u001b[38;5;124m'\u001b[39m\u001b[38;5;124mRequest URL: \u001b[39m\u001b[38;5;132;01m%s\u001b[39;00m\u001b[38;5;124m'\u001b[39m, apiurl)\n\u001b[0;32m    270\u001b[0m     log\u001b[38;5;241m.\u001b[39mdebug(\u001b[38;5;124m'\u001b[39m\u001b[38;5;124mRequest data: \u001b[39m\u001b[38;5;132;01m%s\u001b[39;00m\u001b[38;5;124m'\u001b[39m, postdata)\n\u001b[1;32m--> 271\u001b[0m     response \u001b[38;5;241m=\u001b[39m \u001b[43murlopen\u001b[49m\u001b[43m(\u001b[49m\u001b[43mapiurl\u001b[49m\u001b[43m,\u001b[49m\u001b[43m \u001b[49m\u001b[43mpostdata\u001b[49m\u001b[43m)\u001b[49m\n\u001b[0;32m    272\u001b[0m     \u001b[38;5;28;01mreturn\u001b[39;00m response\n\u001b[0;32m    273\u001b[0m \u001b[38;5;28;01mexcept\u001b[39;00m HTTPError \u001b[38;5;28;01mas\u001b[39;00m e:\n",
      "File \u001b[1;32mD:\\Miniconda\\envs\\bittersweet\\lib\\urllib\\request.py:222\u001b[0m, in \u001b[0;36murlopen\u001b[1;34m(url, data, timeout, cafile, capath, cadefault, context)\u001b[0m\n\u001b[0;32m    220\u001b[0m \u001b[38;5;28;01melse\u001b[39;00m:\n\u001b[0;32m    221\u001b[0m     opener \u001b[38;5;241m=\u001b[39m _opener\n\u001b[1;32m--> 222\u001b[0m \u001b[38;5;28;01mreturn\u001b[39;00m \u001b[43mopener\u001b[49m\u001b[38;5;241;43m.\u001b[39;49m\u001b[43mopen\u001b[49m\u001b[43m(\u001b[49m\u001b[43murl\u001b[49m\u001b[43m,\u001b[49m\u001b[43m \u001b[49m\u001b[43mdata\u001b[49m\u001b[43m,\u001b[49m\u001b[43m \u001b[49m\u001b[43mtimeout\u001b[49m\u001b[43m)\u001b[49m\n",
      "File \u001b[1;32mD:\\Miniconda\\envs\\bittersweet\\lib\\urllib\\request.py:525\u001b[0m, in \u001b[0;36mOpenerDirector.open\u001b[1;34m(self, fullurl, data, timeout)\u001b[0m\n\u001b[0;32m    522\u001b[0m     req \u001b[38;5;241m=\u001b[39m meth(req)\n\u001b[0;32m    524\u001b[0m sys\u001b[38;5;241m.\u001b[39maudit(\u001b[38;5;124m'\u001b[39m\u001b[38;5;124murllib.Request\u001b[39m\u001b[38;5;124m'\u001b[39m, req\u001b[38;5;241m.\u001b[39mfull_url, req\u001b[38;5;241m.\u001b[39mdata, req\u001b[38;5;241m.\u001b[39mheaders, req\u001b[38;5;241m.\u001b[39mget_method())\n\u001b[1;32m--> 525\u001b[0m response \u001b[38;5;241m=\u001b[39m \u001b[38;5;28;43mself\u001b[39;49m\u001b[38;5;241;43m.\u001b[39;49m\u001b[43m_open\u001b[49m\u001b[43m(\u001b[49m\u001b[43mreq\u001b[49m\u001b[43m,\u001b[49m\u001b[43m \u001b[49m\u001b[43mdata\u001b[49m\u001b[43m)\u001b[49m\n\u001b[0;32m    527\u001b[0m \u001b[38;5;66;03m# post-process response\u001b[39;00m\n\u001b[0;32m    528\u001b[0m meth_name \u001b[38;5;241m=\u001b[39m protocol\u001b[38;5;241m+\u001b[39m\u001b[38;5;124m\"\u001b[39m\u001b[38;5;124m_response\u001b[39m\u001b[38;5;124m\"\u001b[39m\n",
      "File \u001b[1;32mD:\\Miniconda\\envs\\bittersweet\\lib\\urllib\\request.py:542\u001b[0m, in \u001b[0;36mOpenerDirector._open\u001b[1;34m(self, req, data)\u001b[0m\n\u001b[0;32m    539\u001b[0m     \u001b[38;5;28;01mreturn\u001b[39;00m result\n\u001b[0;32m    541\u001b[0m protocol \u001b[38;5;241m=\u001b[39m req\u001b[38;5;241m.\u001b[39mtype\n\u001b[1;32m--> 542\u001b[0m result \u001b[38;5;241m=\u001b[39m \u001b[38;5;28;43mself\u001b[39;49m\u001b[38;5;241;43m.\u001b[39;49m\u001b[43m_call_chain\u001b[49m\u001b[43m(\u001b[49m\u001b[38;5;28;43mself\u001b[39;49m\u001b[38;5;241;43m.\u001b[39;49m\u001b[43mhandle_open\u001b[49m\u001b[43m,\u001b[49m\u001b[43m \u001b[49m\u001b[43mprotocol\u001b[49m\u001b[43m,\u001b[49m\u001b[43m \u001b[49m\u001b[43mprotocol\u001b[49m\u001b[43m \u001b[49m\u001b[38;5;241;43m+\u001b[39;49m\n\u001b[0;32m    543\u001b[0m \u001b[43m                          \u001b[49m\u001b[38;5;124;43m'\u001b[39;49m\u001b[38;5;124;43m_open\u001b[39;49m\u001b[38;5;124;43m'\u001b[39;49m\u001b[43m,\u001b[49m\u001b[43m \u001b[49m\u001b[43mreq\u001b[49m\u001b[43m)\u001b[49m\n\u001b[0;32m    544\u001b[0m \u001b[38;5;28;01mif\u001b[39;00m result:\n\u001b[0;32m    545\u001b[0m     \u001b[38;5;28;01mreturn\u001b[39;00m result\n",
      "File \u001b[1;32mD:\\Miniconda\\envs\\bittersweet\\lib\\urllib\\request.py:502\u001b[0m, in \u001b[0;36mOpenerDirector._call_chain\u001b[1;34m(self, chain, kind, meth_name, *args)\u001b[0m\n\u001b[0;32m    500\u001b[0m \u001b[38;5;28;01mfor\u001b[39;00m handler \u001b[38;5;129;01min\u001b[39;00m handlers:\n\u001b[0;32m    501\u001b[0m     func \u001b[38;5;241m=\u001b[39m \u001b[38;5;28mgetattr\u001b[39m(handler, meth_name)\n\u001b[1;32m--> 502\u001b[0m     result \u001b[38;5;241m=\u001b[39m \u001b[43mfunc\u001b[49m\u001b[43m(\u001b[49m\u001b[38;5;241;43m*\u001b[39;49m\u001b[43margs\u001b[49m\u001b[43m)\u001b[49m\n\u001b[0;32m    503\u001b[0m     \u001b[38;5;28;01mif\u001b[39;00m result \u001b[38;5;129;01mis\u001b[39;00m \u001b[38;5;129;01mnot\u001b[39;00m \u001b[38;5;28;01mNone\u001b[39;00m:\n\u001b[0;32m    504\u001b[0m         \u001b[38;5;28;01mreturn\u001b[39;00m result\n",
      "File \u001b[1;32mD:\\Miniconda\\envs\\bittersweet\\lib\\urllib\\request.py:1397\u001b[0m, in \u001b[0;36mHTTPSHandler.https_open\u001b[1;34m(self, req)\u001b[0m\n\u001b[0;32m   1396\u001b[0m \u001b[38;5;28;01mdef\u001b[39;00m \u001b[38;5;21mhttps_open\u001b[39m(\u001b[38;5;28mself\u001b[39m, req):\n\u001b[1;32m-> 1397\u001b[0m     \u001b[38;5;28;01mreturn\u001b[39;00m \u001b[38;5;28;43mself\u001b[39;49m\u001b[38;5;241;43m.\u001b[39;49m\u001b[43mdo_open\u001b[49m\u001b[43m(\u001b[49m\u001b[43mhttp\u001b[49m\u001b[38;5;241;43m.\u001b[39;49m\u001b[43mclient\u001b[49m\u001b[38;5;241;43m.\u001b[39;49m\u001b[43mHTTPSConnection\u001b[49m\u001b[43m,\u001b[49m\u001b[43m \u001b[49m\u001b[43mreq\u001b[49m\u001b[43m,\u001b[49m\n\u001b[0;32m   1398\u001b[0m \u001b[43m        \u001b[49m\u001b[43mcontext\u001b[49m\u001b[38;5;241;43m=\u001b[39;49m\u001b[38;5;28;43mself\u001b[39;49m\u001b[38;5;241;43m.\u001b[39;49m\u001b[43m_context\u001b[49m\u001b[43m,\u001b[49m\u001b[43m \u001b[49m\u001b[43mcheck_hostname\u001b[49m\u001b[38;5;241;43m=\u001b[39;49m\u001b[38;5;28;43mself\u001b[39;49m\u001b[38;5;241;43m.\u001b[39;49m\u001b[43m_check_hostname\u001b[49m\u001b[43m)\u001b[49m\n",
      "File \u001b[1;32mD:\\Miniconda\\envs\\bittersweet\\lib\\urllib\\request.py:1323\u001b[0m, in \u001b[0;36mAbstractHTTPHandler.do_open\u001b[1;34m(self, http_class, req, **http_conn_args)\u001b[0m\n\u001b[0;32m   1320\u001b[0m     \u001b[38;5;28;01mraise\u001b[39;00m URLError(\u001b[38;5;124m'\u001b[39m\u001b[38;5;124mno host given\u001b[39m\u001b[38;5;124m'\u001b[39m)\n\u001b[0;32m   1322\u001b[0m \u001b[38;5;66;03m# will parse host:port\u001b[39;00m\n\u001b[1;32m-> 1323\u001b[0m h \u001b[38;5;241m=\u001b[39m \u001b[43mhttp_class\u001b[49m\u001b[43m(\u001b[49m\u001b[43mhost\u001b[49m\u001b[43m,\u001b[49m\u001b[43m \u001b[49m\u001b[43mtimeout\u001b[49m\u001b[38;5;241;43m=\u001b[39;49m\u001b[43mreq\u001b[49m\u001b[38;5;241;43m.\u001b[39;49m\u001b[43mtimeout\u001b[49m\u001b[43m,\u001b[49m\u001b[43m \u001b[49m\u001b[38;5;241;43m*\u001b[39;49m\u001b[38;5;241;43m*\u001b[39;49m\u001b[43mhttp_conn_args\u001b[49m\u001b[43m)\u001b[49m\n\u001b[0;32m   1324\u001b[0m h\u001b[38;5;241m.\u001b[39mset_debuglevel(\u001b[38;5;28mself\u001b[39m\u001b[38;5;241m.\u001b[39m_debuglevel)\n\u001b[0;32m   1326\u001b[0m headers \u001b[38;5;241m=\u001b[39m \u001b[38;5;28mdict\u001b[39m(req\u001b[38;5;241m.\u001b[39munredirected_hdrs)\n",
      "File \u001b[1;32mD:\\Miniconda\\envs\\bittersweet\\lib\\http\\client.py:1395\u001b[0m, in \u001b[0;36mHTTPSConnection.__init__\u001b[1;34m(self, host, port, key_file, cert_file, timeout, source_address, context, check_hostname, blocksize)\u001b[0m\n\u001b[0;32m   1393\u001b[0m \u001b[38;5;28mself\u001b[39m\u001b[38;5;241m.\u001b[39mcert_file \u001b[38;5;241m=\u001b[39m cert_file\n\u001b[0;32m   1394\u001b[0m \u001b[38;5;28;01mif\u001b[39;00m context \u001b[38;5;129;01mis\u001b[39;00m \u001b[38;5;28;01mNone\u001b[39;00m:\n\u001b[1;32m-> 1395\u001b[0m     context \u001b[38;5;241m=\u001b[39m \u001b[43mssl\u001b[49m\u001b[38;5;241;43m.\u001b[39;49m\u001b[43m_create_default_https_context\u001b[49m\u001b[43m(\u001b[49m\u001b[43m)\u001b[49m\n\u001b[0;32m   1396\u001b[0m     \u001b[38;5;66;03m# enable PHA for TLS 1.3 connections if available\u001b[39;00m\n\u001b[0;32m   1397\u001b[0m     \u001b[38;5;28;01mif\u001b[39;00m context\u001b[38;5;241m.\u001b[39mpost_handshake_auth \u001b[38;5;129;01mis\u001b[39;00m \u001b[38;5;129;01mnot\u001b[39;00m \u001b[38;5;28;01mNone\u001b[39;00m:\n",
      "File \u001b[1;32mD:\\Miniconda\\envs\\bittersweet\\lib\\ssl.py:750\u001b[0m, in \u001b[0;36mcreate_default_context\u001b[1;34m(purpose, cafile, capath, cadata)\u001b[0m\n\u001b[0;32m    745\u001b[0m     context\u001b[38;5;241m.\u001b[39mload_verify_locations(cafile, capath, cadata)\n\u001b[0;32m    746\u001b[0m \u001b[38;5;28;01melif\u001b[39;00m context\u001b[38;5;241m.\u001b[39mverify_mode \u001b[38;5;241m!=\u001b[39m CERT_NONE:\n\u001b[0;32m    747\u001b[0m     \u001b[38;5;66;03m# no explicit cafile, capath or cadata but the verify mode is\u001b[39;00m\n\u001b[0;32m    748\u001b[0m     \u001b[38;5;66;03m# CERT_OPTIONAL or CERT_REQUIRED. Let's try to load default system\u001b[39;00m\n\u001b[0;32m    749\u001b[0m     \u001b[38;5;66;03m# root CA certificates for the given purpose. This may fail silently.\u001b[39;00m\n\u001b[1;32m--> 750\u001b[0m     \u001b[43mcontext\u001b[49m\u001b[38;5;241;43m.\u001b[39;49m\u001b[43mload_default_certs\u001b[49m\u001b[43m(\u001b[49m\u001b[43mpurpose\u001b[49m\u001b[43m)\u001b[49m\n\u001b[0;32m    751\u001b[0m \u001b[38;5;66;03m# OpenSSL 1.1.1 keylog file\u001b[39;00m\n\u001b[0;32m    752\u001b[0m \u001b[38;5;28;01mif\u001b[39;00m \u001b[38;5;28mhasattr\u001b[39m(context, \u001b[38;5;124m'\u001b[39m\u001b[38;5;124mkeylog_filename\u001b[39m\u001b[38;5;124m'\u001b[39m):\n",
      "File \u001b[1;32mD:\\Miniconda\\envs\\bittersweet\\lib\\ssl.py:574\u001b[0m, in \u001b[0;36mSSLContext.load_default_certs\u001b[1;34m(self, purpose)\u001b[0m\n\u001b[0;32m    572\u001b[0m \u001b[38;5;28;01mif\u001b[39;00m sys\u001b[38;5;241m.\u001b[39mplatform \u001b[38;5;241m==\u001b[39m \u001b[38;5;124m\"\u001b[39m\u001b[38;5;124mwin32\u001b[39m\u001b[38;5;124m\"\u001b[39m:\n\u001b[0;32m    573\u001b[0m     \u001b[38;5;28;01mfor\u001b[39;00m storename \u001b[38;5;129;01min\u001b[39;00m \u001b[38;5;28mself\u001b[39m\u001b[38;5;241m.\u001b[39m_windows_cert_stores:\n\u001b[1;32m--> 574\u001b[0m         \u001b[38;5;28;43mself\u001b[39;49m\u001b[38;5;241;43m.\u001b[39;49m\u001b[43m_load_windows_store_certs\u001b[49m\u001b[43m(\u001b[49m\u001b[43mstorename\u001b[49m\u001b[43m,\u001b[49m\u001b[43m \u001b[49m\u001b[43mpurpose\u001b[49m\u001b[43m)\u001b[49m\n\u001b[0;32m    575\u001b[0m \u001b[38;5;28mself\u001b[39m\u001b[38;5;241m.\u001b[39mset_default_verify_paths()\n",
      "\u001b[1;31mKeyboardInterrupt\u001b[0m: "
     ]
    }
   ],
   "source": [
    "# Iterate through each compound name\n",
    "for name in tqdm(compound_names, desc=\"Processing compounds\"):\n",
    "    # Get the canonical SMILES for the current compound\n",
    "    canonical_smiles = get_canonical_smiles(name)\n",
    "    # Append the compound name and its SMILES to the list\n",
    "    plant.append((name, canonical_smiles))\n",
    "     # Print the compound name and its SMILES"
   ]
  },
  {
   "cell_type": "code",
   "execution_count": null,
   "id": "474a134c",
   "metadata": {},
   "outputs": [],
   "source": []
  },
  {
   "cell_type": "code",
   "execution_count": 13,
   "id": "eea48e5f",
   "metadata": {},
   "outputs": [],
   "source": [
    "# Create a DataFrame with compound names and their corresponding SMILES\n",
    "df = pd.DataFrame(plant, columns=['Name', 'SMILES'])"
   ]
  },
  {
   "cell_type": "code",
   "execution_count": 14,
   "id": "d79cd62e",
   "metadata": {},
   "outputs": [
    {
     "data": {
      "text/html": [
       "<div>\n",
       "<style scoped>\n",
       "    .dataframe tbody tr th:only-of-type {\n",
       "        vertical-align: middle;\n",
       "    }\n",
       "\n",
       "    .dataframe tbody tr th {\n",
       "        vertical-align: top;\n",
       "    }\n",
       "\n",
       "    .dataframe thead th {\n",
       "        text-align: right;\n",
       "    }\n",
       "</style>\n",
       "<table border=\"1\" class=\"dataframe\">\n",
       "  <thead>\n",
       "    <tr style=\"text-align: right;\">\n",
       "      <th></th>\n",
       "      <th>Name</th>\n",
       "      <th>SMILES</th>\n",
       "    </tr>\n",
       "  </thead>\n",
       "  <tbody>\n",
       "    <tr>\n",
       "      <th>0</th>\n",
       "      <td>6,10,14-Trimethylpentadecan-2-one</td>\n",
       "      <td>CC(C)CCCC(C)CCCC(C)CCCC(=O)C</td>\n",
       "    </tr>\n",
       "    <tr>\n",
       "      <th>1</th>\n",
       "      <td>Diacetone alcohol</td>\n",
       "      <td>CC(=O)CC(C)(C)O</td>\n",
       "    </tr>\n",
       "    <tr>\n",
       "      <th>2</th>\n",
       "      <td>1-Pentanol</td>\n",
       "      <td>CCCCCO</td>\n",
       "    </tr>\n",
       "    <tr>\n",
       "      <th>3</th>\n",
       "      <td>Tetracosane</td>\n",
       "      <td>CCCCCCCCCCCCCCCCCCCCCCCC</td>\n",
       "    </tr>\n",
       "    <tr>\n",
       "      <th>4</th>\n",
       "      <td>Tricosane</td>\n",
       "      <td>CCCCCCCCCCCCCCCCCCCCCCC</td>\n",
       "    </tr>\n",
       "    <tr>\n",
       "      <th>...</th>\n",
       "      <td>...</td>\n",
       "      <td>...</td>\n",
       "    </tr>\n",
       "    <tr>\n",
       "      <th>4617</th>\n",
       "      <td>6,6-Dimethylbicyclo[3.1.1]heptan-2-one</td>\n",
       "      <td>CC1(C2CCC(=O)C1C2)C</td>\n",
       "    </tr>\n",
       "    <tr>\n",
       "      <th>4618</th>\n",
       "      <td>4a, trans-4b,cis-8a, trans-10a-Perhydro-cis-2,...</td>\n",
       "      <td>Null</td>\n",
       "    </tr>\n",
       "    <tr>\n",
       "      <th>4619</th>\n",
       "      <td>3,5,5-Trimethylbicyclo[2.2.1]heptan-2-one</td>\n",
       "      <td>CC1C2CC(C1=O)CC2(C)C</td>\n",
       "    </tr>\n",
       "    <tr>\n",
       "      <th>4620</th>\n",
       "      <td>Pinocamphone</td>\n",
       "      <td>CC1C2CC(C2(C)C)CC1=O</td>\n",
       "    </tr>\n",
       "    <tr>\n",
       "      <th>4621</th>\n",
       "      <td>cis-Pinonic acid</td>\n",
       "      <td>CC(=O)C1CC(C1(C)C)CC(=O)O</td>\n",
       "    </tr>\n",
       "  </tbody>\n",
       "</table>\n",
       "<p>4622 rows × 2 columns</p>\n",
       "</div>"
      ],
      "text/plain": [
       "                                                   Name  \\\n",
       "0                     6,10,14-Trimethylpentadecan-2-one   \n",
       "1                                     Diacetone alcohol   \n",
       "2                                            1-Pentanol   \n",
       "3                                           Tetracosane   \n",
       "4                                             Tricosane   \n",
       "...                                                 ...   \n",
       "4617             6,6-Dimethylbicyclo[3.1.1]heptan-2-one   \n",
       "4618  4a, trans-4b,cis-8a, trans-10a-Perhydro-cis-2,...   \n",
       "4619          3,5,5-Trimethylbicyclo[2.2.1]heptan-2-one   \n",
       "4620                                       Pinocamphone   \n",
       "4621                                   cis-Pinonic acid   \n",
       "\n",
       "                            SMILES  \n",
       "0     CC(C)CCCC(C)CCCC(C)CCCC(=O)C  \n",
       "1                  CC(=O)CC(C)(C)O  \n",
       "2                           CCCCCO  \n",
       "3         CCCCCCCCCCCCCCCCCCCCCCCC  \n",
       "4          CCCCCCCCCCCCCCCCCCCCCCC  \n",
       "...                            ...  \n",
       "4617           CC1(C2CCC(=O)C1C2)C  \n",
       "4618                          Null  \n",
       "4619          CC1C2CC(C1=O)CC2(C)C  \n",
       "4620          CC1C2CC(C2(C)C)CC1=O  \n",
       "4621     CC(=O)C1CC(C1(C)C)CC(=O)O  \n",
       "\n",
       "[4622 rows x 2 columns]"
      ]
     },
     "execution_count": 14,
     "metadata": {},
     "output_type": "execute_result"
    }
   ],
   "source": [
    "df"
   ]
  },
  {
   "cell_type": "code",
   "execution_count": 15,
   "id": "15de5822",
   "metadata": {},
   "outputs": [],
   "source": [
    "df.to_csv('compounds.csv', index=False)"
   ]
  },
  {
   "cell_type": "code",
   "execution_count": null,
   "id": "b09fcf85",
   "metadata": {},
   "outputs": [],
   "source": []
  }
 ],
 "metadata": {
  "kernelspec": {
   "display_name": "bittersweet",
   "language": "python",
   "name": "bittersweet"
  },
  "language_info": {
   "codemirror_mode": {
    "name": "ipython",
    "version": 3
   },
   "file_extension": ".py",
   "mimetype": "text/x-python",
   "name": "python",
   "nbconvert_exporter": "python",
   "pygments_lexer": "ipython3",
   "version": "3.8.16"
  }
 },
 "nbformat": 4,
 "nbformat_minor": 5
}
